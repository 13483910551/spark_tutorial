{
 "cells": [
  {
   "cell_type": "markdown",
   "metadata": {},
   "source": [
    "# 3小时Java入门"
   ]
  },
  {
   "cell_type": "markdown",
   "metadata": {},
   "source": [
    "### 〇，编程环境"
   ]
  },
  {
   "cell_type": "markdown",
   "metadata": {},
   "source": [
    "工程项目推荐使用IDEA.\n",
    "\n",
    "入门学习推荐使用Jupyter notebook.\n",
    "\n",
    "安装jupyter notebook的java插件 scijava-jupyter-kernel的方法如下:\n"
   ]
  },
  {
   "cell_type": "code",
   "execution_count": null,
   "metadata": {},
   "outputs": [],
   "source": [
    "%%bash\n",
    "# Add the conda-forge channel\n",
    "conda config --add channels conda-forge\n",
    "\n",
    "# Create an isolated environment called `java_env` and install the kernel\n",
    "conda create --name java_env scijava-jupyter-kernel\n",
    "\n",
    "# Activate the `java_env` environment\n",
    "source activate java_env\n",
    "\n",
    "# Check the kernel has been installed\n",
    "jupyter kernelspec list\n",
    "\n",
    "# Launch your favorite Jupyter client\n",
    "jupyter notebook"
   ]
  },
  {
   "cell_type": "markdown",
   "metadata": {},
   "source": [
    "详细参见： https://github.com/scijava/scijava-jupyter-kernel\n",
    "\n",
    "也可以在以下网页链接中直接尝试scijava-jupyter-kernel：\n",
    "\n",
    "https://mybinder.org/v2/gh/4QuantOSS/scijava-jupyter-kernel/master?filepath=notebooks%2FImageJ.ipynb"
   ]
  },
  {
   "cell_type": "code",
   "execution_count": 1,
   "metadata": {
    "ExecuteTime": {
     "end_time": "2019-09-08T03:49+0000",
     "start_time": "2019-09-08T03:49+0000"
    }
   },
   "outputs": [
    {
     "name": "stdout",
     "output_type": "stream",
     "text": [
      "Hello World\n"
     ]
    }
   ],
   "source": [
    "//环境测试代码\n",
    "public class HelloWorld {\n",
    "    public static void main(String []args) {\n",
    "        System.out.println(\"Hello World\");\n",
    "    }\n",
    "}"
   ]
  },
  {
   "cell_type": "markdown",
   "metadata": {},
   "source": [
    "### 一，算数运算"
   ]
  },
  {
   "cell_type": "code",
   "execution_count": 2,
   "metadata": {
    "ExecuteTime": {
     "end_time": "2019-09-08T03:49+0000",
     "start_time": "2019-09-08T03:49+0000"
    }
   },
   "outputs": [
    {
     "data": {
      "text/html": [
       "31"
      ]
     },
     "execution_count": 2,
     "metadata": {},
     "output_type": "execute_result"
    }
   ],
   "source": [
    "//四则运算\n",
    "1+(100-20)/4+5*2 "
   ]
  },
  {
   "cell_type": "code",
   "execution_count": 3,
   "metadata": {
    "ExecuteTime": {
     "end_time": "2019-09-08T03:49+0000",
     "start_time": "2019-09-08T03:49+0000"
    }
   },
   "outputs": [
    {
     "data": {
      "text/html": [
       "1"
      ]
     },
     "execution_count": 3,
     "metadata": {},
     "output_type": "execute_result"
    }
   ],
   "source": [
    "//求模运算\n",
    "5%2"
   ]
  },
  {
   "cell_type": "code",
   "execution_count": null,
   "metadata": {
    "ExecuteTime": {
     "end_time": "2019-08-31T03:57+0000",
     "start_time": "2019-08-31T03:57+0000"
    }
   },
   "outputs": [],
   "source": [
    "//乘方运算\n",
    "Math.pow(2,3)"
   ]
  },
  {
   "cell_type": "code",
   "execution_count": null,
   "metadata": {
    "ExecuteTime": {
     "end_time": "2019-08-31T03:57+0000",
     "start_time": "2019-08-31T03:57+0000"
    }
   },
   "outputs": [],
   "source": [
    "//绝对值\n",
    "Math.abs(-2)"
   ]
  },
  {
   "cell_type": "code",
   "execution_count": null,
   "metadata": {
    "ExecuteTime": {
     "end_time": "2019-08-31T03:58+0000",
     "start_time": "2019-08-31T03:58+0000"
    }
   },
   "outputs": [],
   "source": [
    "//三角函数\n",
    "Math.tan(1)"
   ]
  },
  {
   "cell_type": "code",
   "execution_count": null,
   "metadata": {
    "ExecuteTime": {
     "end_time": "2019-08-31T03:59+0000",
     "start_time": "2019-08-31T03:59+0000"
    }
   },
   "outputs": [],
   "source": [
    "//对数函数\n",
    "Math.log(100)"
   ]
  },
  {
   "cell_type": "code",
   "execution_count": null,
   "metadata": {
    "ExecuteTime": {
     "end_time": "2019-08-31T03:59+0000",
     "start_time": "2019-08-31T03:59+0000"
    }
   },
   "outputs": [],
   "source": [
    "//指数函数\n",
    "Math.exp(3)"
   ]
  },
  {
   "cell_type": "code",
   "execution_count": 65,
   "metadata": {
    "ExecuteTime": {
     "end_time": "2019-09-01T02:01+0000",
     "start_time": "2019-09-01T02:01+0000"
    }
   },
   "outputs": [
    {
     "name": "stdout",
     "output_type": "stream",
     "text": [
      "Infinity\n"
     ]
    }
   ],
   "source": [
    "import java.math.BigInteger;\n",
    "public class Main {\n",
    "    public static void main(String[] args) {\n",
    "        BigInteger n = new BigInteger(\"999999\").pow(99);\n",
    "        float f = n.floatValue();\n",
    "        System.out.println(f);\n",
    "    }\n",
    "}"
   ]
  },
  {
   "cell_type": "code",
   "execution_count": 4,
   "metadata": {
    "ExecuteTime": {
     "end_time": "2019-09-08T03:49+0000",
     "start_time": "2019-09-08T03:49+0000"
    }
   },
   "outputs": [
    {
     "data": {
      "text/html": [
       "true"
      ]
     },
     "execution_count": 4,
     "metadata": {},
     "output_type": "execute_result"
    }
   ],
   "source": [
    "Integer i = 10\n",
    "i.getClass()\n",
    "i instanceof Integer"
   ]
  },
  {
   "cell_type": "code",
   "execution_count": 258,
   "metadata": {
    "ExecuteTime": {
     "end_time": "2019-09-08T12:20+0000",
     "start_time": "2019-09-08T12:20+0000"
    }
   },
   "outputs": [
    {
     "data": {
      "text/html": [
       "0&#8203;.8564363878982669"
      ]
     },
     "execution_count": 258,
     "metadata": {},
     "output_type": "execute_result"
    }
   ],
   "source": [
    "//生成随机数\n",
    "Random r = new Random();\n",
    "r.nextInt(); // 2071575453,每次都不一样\n",
    "r.nextInt(10); // 5,生成一个[0,10)之间的int\n",
    "r.nextLong(); // 8811649292570369305,每次都不一样\n",
    "r.nextFloat(); // 0.54335...生成一个[0,1)之间的float\n",
    "r.nextDouble(); // 0.3716...生成一个[0,1)之间的double"
   ]
  },
  {
   "cell_type": "markdown",
   "metadata": {},
   "source": [
    "### 二，输入输出"
   ]
  },
  {
   "cell_type": "markdown",
   "metadata": {},
   "source": [
    "输入：System.in, java.io.InputStreamReader, java.util.Scanner \n",
    "\n",
    "输出：System.out.println,  System.out.printf,  System.out.print\n",
    "\n",
    "读文件：java.io.FileInputStream\n",
    "\n",
    "写文件：java.io.FileOutputStream\n"
   ]
  },
  {
   "cell_type": "markdown",
   "metadata": {},
   "source": [
    "**1, 输入**"
   ]
  },
  {
   "cell_type": "markdown",
   "metadata": {},
   "source": [
    "Scanner扫描输入，遇到\\n结束\n",
    "\n",
    "BufferedReader.read() 逐字符读取\n",
    "\n",
    "BufferedReader.readLine() 逐行读取"
   ]
  },
  {
   "cell_type": "code",
   "execution_count": null,
   "metadata": {
    "ExecuteTime": {
     "end_time": "2019-08-31T06:31+0000",
     "start_time": "2019-08-31T06:31+0000"
    }
   },
   "outputs": [],
   "source": [
    "//Scanner扫描输入，遇到\\n结束\n",
    "\n",
    "import java.util.Scanner;\n",
    "\n",
    "public class Main {\n",
    "    public static void main(String[] args) {\n",
    "        Scanner scanner = new Scanner(System.in); // 创建Scanner对象\n",
    "        System.out.print(\"Input your name: \"); // 打印提示\n",
    "        String name = scanner.nextLine(); // 读取一行输入并获取字符串\n",
    "        System.out.print(\"Input your age: \"); // 打印提示\n",
    "        int age = scanner.nextInt(); // 读取一行输入并获取整数\n",
    "        System.out.printf(\"Hi, %s, you are %d\\n\", name, age); // 格式化输出\n",
    "    }\n",
    "}"
   ]
  },
  {
   "cell_type": "code",
   "execution_count": null,
   "metadata": {
    "ExecuteTime": {
     "end_time": "2019-08-31T07:10+0000",
     "start_time": "2019-08-31T07:10+0000"
    }
   },
   "outputs": [],
   "source": [
    "// BufferedReader.read() 逐字符读取\n",
    "import java.io.*;\n",
    " \n",
    "public class BRRead {\n",
    "    public static void main(String args[]) throws IOException {\n",
    "        char c;\n",
    "        // 使用 System.in 创建 BufferedReader\n",
    "        BufferedReader br = new BufferedReader(new InputStreamReader(System.in));\n",
    "        System.out.println(\"输入字符, 按下 'q' 键退出。\");\n",
    "        // 读取字符\n",
    "        do {\n",
    "            c = (char) br.read();\n",
    "            System.out.println(c);\n",
    "        } while (c != 'q');\n",
    "    }\n",
    "}"
   ]
  },
  {
   "cell_type": "code",
   "execution_count": null,
   "metadata": {
    "ExecuteTime": {
     "end_time": "2019-08-31T07:27+0000",
     "start_time": "2019-08-31T07:27+0000"
    }
   },
   "outputs": [],
   "source": [
    "// BufferedReader.readLine() 逐行读取\n",
    "import java.io.*;\n",
    " \n",
    "public class BRReadLines {\n",
    "    public static void main(String args[]) throws IOException {\n",
    "        // 使用 System.in 创建 BufferedReader\n",
    "        BufferedReader br = new BufferedReader(new InputStreamReader(System.in));\n",
    "        String str;\n",
    "        System.out.println(\"Enter lines of text.\");\n",
    "        System.out.println(\"Enter 'end' to quit.\");\n",
    "        do {\n",
    "            str = br.readLine();\n",
    "            System.out.println(str);\n",
    "        } while (!str.equals(\"end\"));\n",
    "    }\n",
    "}"
   ]
  },
  {
   "cell_type": "markdown",
   "metadata": {},
   "source": [
    "**2，输出**"
   ]
  },
  {
   "cell_type": "markdown",
   "metadata": {},
   "source": [
    "print不换行，println换行，printf格式化输出"
   ]
  },
  {
   "cell_type": "code",
   "execution_count": null,
   "metadata": {
    "ExecuteTime": {
     "end_time": "2019-08-31T07:20+0000",
     "start_time": "2019-08-31T07:20+0000"
    }
   },
   "outputs": [],
   "source": [
    "System.out.print(\"hello\")\n",
    "System.out.print(\"world\")"
   ]
  },
  {
   "cell_type": "code",
   "execution_count": null,
   "metadata": {
    "ExecuteTime": {
     "end_time": "2019-08-31T07:20+0000",
     "start_time": "2019-08-31T07:20+0000"
    }
   },
   "outputs": [],
   "source": [
    "System.out.println(\"hello world\")\n",
    "System.out.println(\"hello java\")"
   ]
  },
  {
   "cell_type": "code",
   "execution_count": 55,
   "metadata": {
    "ExecuteTime": {
     "end_time": "2019-08-31T08:11+0000",
     "start_time": "2019-08-31T08:11+0000"
    }
   },
   "outputs": [
    {
     "name": "stdout",
     "output_type": "stream",
     "text": [
      "name = LiLei, age = 18, weight = 34.0"
     ]
    },
    {
     "data": {
      "text/html": [
       "java&#8203;.io&#8203;.PrintStream&#8203;@6f248d7f"
      ]
     },
     "execution_count": 55,
     "metadata": {},
     "output_type": "execute_result"
    }
   ],
   "source": [
    "String name = \"LiLei\"\n",
    "int age = 18\n",
    "double weight = 34.0\n",
    "System.out.printf(\"name = %s, age = %d, weight = %s\",name,age,weight)"
   ]
  },
  {
   "cell_type": "markdown",
   "metadata": {},
   "source": [
    "**3，读文件**"
   ]
  },
  {
   "cell_type": "code",
   "execution_count": 50,
   "metadata": {
    "ExecuteTime": {
     "end_time": "2019-08-31T07:56+0000",
     "start_time": "2019-08-31T07:56+0000"
    }
   },
   "outputs": [
    {
     "name": "stdout",
     "output_type": "stream",
     "text": [
      "1\n",
      "2\n",
      "3\n",
      "4\n",
      "5\n",
      "\n"
     ]
    }
   ],
   "source": [
    "import java.io.*;\n",
    " \n",
    "public class ReadFileTest {\n",
    "    public static void main(String[] args) throws IOException {\n",
    "        File f = new File(\"data.txt\");\n",
    "        FileInputStream stream = new FileInputStream(f);\n",
    "        InputStreamReader reader = new InputStreamReader(stream, \"UTF-8\");\n",
    "        StringBuffer buffer = new StringBuffer();\n",
    "        while (reader.ready()) {\n",
    "            buffer.append((char) reader.read());\n",
    "        }\n",
    "        System.out.println(buffer.toString());\n",
    "        reader.close();\n",
    "        stream.close(); \n",
    "    }\n",
    "}"
   ]
  },
  {
   "cell_type": "code",
   "execution_count": null,
   "metadata": {},
   "outputs": [],
   "source": []
  },
  {
   "cell_type": "markdown",
   "metadata": {},
   "source": [
    "**4，写文件**"
   ]
  },
  {
   "cell_type": "code",
   "execution_count": 49,
   "metadata": {
    "ExecuteTime": {
     "end_time": "2019-08-31T07:56+0000",
     "start_time": "2019-08-31T07:56+0000"
    }
   },
   "outputs": [],
   "source": [
    "import java.io.*;\n",
    " \n",
    "public class WriteFileTest {\n",
    "    public static void main(String[] args) throws IOException {\n",
    " \n",
    "        File f = new File(\"test.txt\");\n",
    "        FileOutputStream stream = new FileOutputStream(f);\n",
    "        OutputStreamWriter writer = new OutputStreamWriter(stream, \"UTF-8\");\n",
    "        writer.append(\"中文输入\");\n",
    "        writer.append(\"\\r\\n\");\n",
    "        writer.append(\"English\");\n",
    "        writer.write()\n",
    "        writer.close();\n",
    "        stream.close();\n",
    "    }\n",
    "}"
   ]
  },
  {
   "cell_type": "markdown",
   "metadata": {},
   "source": [
    "### 三，导入包package"
   ]
  },
  {
   "cell_type": "markdown",
   "metadata": {},
   "source": [
    "java有以下一些导入包的方式：\n",
    "\n",
    "1，导入包中某个对象： import java.text.SimpleDateFormat\n",
    "\n",
    "2，导入包中全部对象: import java.util.*\n",
    "\n",
    "3，导入包中的静态字段和方法(较少使用): import static java.lang.System.*\n",
    "\n",
    "4，隐式导入: java默认导入了java.lang.* \n",
    "\n"
   ]
  },
  {
   "cell_type": "code",
   "execution_count": 133,
   "metadata": {
    "ExecuteTime": {
     "end_time": "2019-09-01T08:41+0000",
     "start_time": "2019-09-01T08:41+0000"
    }
   },
   "outputs": [
    {
     "name": "stdout",
     "output_type": "stream",
     "text": [
      "2019-09-01 04:41:06\n",
      "24%\n",
      "1,232,323.232\n"
     ]
    }
   ],
   "source": [
    "//不导入，直接使用全名\n",
    "\n",
    "\n",
    "java.util.Date dt = new java.util.Date()\n",
    "java.text.SimpleDateFormat ft = new java.text.SimpleDateFormat (\"yyyy-MM-dd hh:mm:ss\")\n",
    "System.out.println(ft.format(dt))\n"
   ]
  },
  {
   "cell_type": "code",
   "execution_count": 134,
   "metadata": {
    "ExecuteTime": {
     "end_time": "2019-09-01T08:43+0000",
     "start_time": "2019-09-01T08:43+0000"
    }
   },
   "outputs": [
    {
     "name": "stdout",
     "output_type": "stream",
     "text": [
      "2019-09-01 04:43:05\n",
      "24%\n"
     ]
    }
   ],
   "source": [
    "//导入包中某个对象\n",
    "import java.util.Date;\n",
    "import java.text.SimpleDateFormat\n",
    "import java.text.NumberFormat\n",
    "\n",
    "Date dt = new Date()\n",
    "SimpleDateFormat ft = new SimpleDateFormat(\"yyyy-MM-dd hh:mm:ss\")\n",
    "System.out.println(ft.format(dt))\n",
    "\n",
    "String s = java.text.NumberFormat.getPercentInstance().format(0.2393)\n",
    "System.out.println(s)\n"
   ]
  },
  {
   "cell_type": "code",
   "execution_count": 145,
   "metadata": {
    "ExecuteTime": {
     "end_time": "2019-09-01T08:50+0000",
     "start_time": "2019-09-01T08:50+0000"
    }
   },
   "outputs": [
    {
     "name": "stdout",
     "output_type": "stream",
     "text": [
      "2019-09-01 04:50:53\n",
      "24%\n"
     ]
    }
   ],
   "source": [
    "//导入包中全部对象\n",
    "import java.util.*;\n",
    "import java.text.*;\n",
    "    \n",
    "Date dt = new Date()\n",
    "SimpleDateFormat ft = new SimpleDateFormat(\"yyyy-MM-dd hh:mm:ss\")\n",
    "System.out.println(ft.format(dt))\n",
    "String s = NumberFormat.getPercentInstance().format(0.2393)\n",
    "\n",
    "System.out.println(s)"
   ]
  },
  {
   "cell_type": "code",
   "execution_count": 140,
   "metadata": {
    "ExecuteTime": {
     "end_time": "2019-09-01T08:49+0000",
     "start_time": "2019-09-01T08:49+0000"
    }
   },
   "outputs": [
    {
     "name": "stdout",
     "output_type": "stream",
     "text": [
      "hello world\n"
     ]
    }
   ],
   "source": [
    "//导入包中的静态字段和方法\n",
    "import static java.lang.System.* \n",
    "out.println(\"hello world\")\n"
   ]
  },
  {
   "cell_type": "code",
   "execution_count": 143,
   "metadata": {
    "ExecuteTime": {
     "end_time": "2019-09-01T08:50+0000",
     "start_time": "2019-09-01T08:50+0000"
    }
   },
   "outputs": [
    {
     "name": "stdout",
     "output_type": "stream",
     "text": [
      "hello world\n"
     ]
    }
   ],
   "source": [
    "//java默认导入了java.lang.*\n",
    "System.out.println(\"hello world\");\n",
    "\n",
    "//等价于java.lang.System.out.println(\"hello world\")"
   ]
  },
  {
   "cell_type": "code",
   "execution_count": null,
   "metadata": {},
   "outputs": [],
   "source": []
  },
  {
   "cell_type": "code",
   "execution_count": null,
   "metadata": {},
   "outputs": [],
   "source": []
  },
  {
   "cell_type": "markdown",
   "metadata": {},
   "source": [
    "### 四，语法规则"
   ]
  },
  {
   "cell_type": "markdown",
   "metadata": {},
   "source": [
    "1,标识符\n",
    "\n",
    "标识符由字母和数字组成，遵循驼峰命名规则。\n",
    "\n",
    "类和对象的名称以大写字母开头\n",
    "\n",
    "方法的名称以小写字母开头\n"
   ]
  },
  {
   "cell_type": "code",
   "execution_count": 164,
   "metadata": {
    "ExecuteTime": {
     "end_time": "2019-09-01T09:17+0000",
     "start_time": "2019-09-01T09:17+0000"
    }
   },
   "outputs": [
    {
     "name": "stdout",
     "output_type": "stream",
     "text": [
      "Hello, world!\n"
     ]
    }
   ],
   "source": [
    "\n",
    "public class Greeting{\n",
    "    public static void main(String[] args){\n",
    "        System.out.println(\"Hello, world!\")\n",
    "    }\n",
    "}"
   ]
  },
  {
   "cell_type": "code",
   "execution_count": null,
   "metadata": {},
   "outputs": [],
   "source": []
  },
  {
   "cell_type": "raw",
   "metadata": {},
   "source": [
    "2，注释\n",
    "\n",
    "单行注释用//开头\n",
    "多行注释用/*开头，以*/结尾包括\n",
    "\n",
    "特殊多行注释，以/**开头，以*/结束，如果有多行，每行通常以星号开头\n",
    "这种特殊的多行注释需要写在类和方法的定义处，可以用于自动创建文档。\n"
   ]
  },
  {
   "cell_type": "code",
   "execution_count": 163,
   "metadata": {
    "ExecuteTime": {
     "end_time": "2019-09-01T09:16+0000",
     "start_time": "2019-09-01T09:16+0000"
    }
   },
   "outputs": [
    {
     "name": "stdout",
     "output_type": "stream",
     "text": [
      "Hello, java!\n"
     ]
    }
   ],
   "source": [
    "/*\n",
    "多行注释\n",
    "author: Python与算法之美\n",
    "*/\n",
    "\n",
    "public class Greeting{\n",
    "    public void say(String towho){\n",
    "        System.out.println(\"Hello, \"+ towho + \"!\")\n",
    "    }\n",
    "}\n",
    "\n",
    "Greeting greet = new Greeting() //实例化一个对象 \n",
    "greet.say(\"java\") //调用对象的方法"
   ]
  },
  {
   "cell_type": "code",
   "execution_count": 162,
   "metadata": {
    "ExecuteTime": {
     "end_time": "2019-09-01T09:16+0000",
     "start_time": "2019-09-01T09:16+0000"
    }
   },
   "outputs": [
    {
     "name": "stdout",
     "output_type": "stream",
     "text": [
      "Hello, world!\n"
     ]
    }
   ],
   "source": [
    "/**\n",
    " * 特殊多行注释\n",
    " * 可以用来自动创建文档的注释\n",
    " * author:Python与算法之美\n",
    " */\n",
    "\n",
    "public class Greeting{\n",
    "    public static void main(String[] args){\n",
    "        System.out.println(\"Hello, world!\")\n",
    "    }\n",
    "}\n"
   ]
  },
  {
   "cell_type": "code",
   "execution_count": null,
   "metadata": {},
   "outputs": [],
   "source": []
  },
  {
   "cell_type": "markdown",
   "metadata": {},
   "source": [
    "3，数据类型"
   ]
  },
  {
   "cell_type": "markdown",
   "metadata": {},
   "source": [
    "Java 的数据类型有两大类，基本数据类型和引用数据类型。\n",
    "\n",
    "基本数据类型相对非常底层，基本类型相同值得对象占有同样的存储单元，判断是否相等可以用 ==。\n",
    "\n",
    "引用数据类型本质上都是Class，相对抽象，引用类型相同值得对象占用不同的存储单元，判断是否相等应该用 equals方法。\n",
    "\n",
    "基本数据类型包括：整型(byte,short,int,long),浮点型(float,double),布尔类型(boolean),字符类型(char)\n",
    "\n",
    "引用数据类型包括：包装类型(Integer,Double,Char,Boolean,……)，字符串(String),数组(Array),以及各种容器类(List,Map,Set,Queue)。\n",
    "\n",
    "用户自定义的任何Class都可以看成是一种引用数据类型。"
   ]
  },
  {
   "cell_type": "code",
   "execution_count": 237,
   "metadata": {
    "ExecuteTime": {
     "end_time": "2019-09-01T12:29+0000",
     "start_time": "2019-09-01T12:29+0000"
    }
   },
   "outputs": [
    {
     "data": {
      "text/html": [
       "h"
      ]
     },
     "execution_count": 237,
     "metadata": {},
     "output_type": "execute_result"
    }
   ],
   "source": [
    "//基本数据类型\n",
    "byte i = 2\n",
    "int j = 134\n",
    "long k = 12342323123\n",
    "float x = 2232.23\n",
    "double y =2332112.2332\n",
    "char c = 'h'\n",
    "\n"
   ]
  },
  {
   "cell_type": "code",
   "execution_count": 244,
   "metadata": {
    "ExecuteTime": {
     "end_time": "2019-09-01T12:33+0000",
     "start_time": "2019-09-01T12:33+0000"
    }
   },
   "outputs": [
    {
     "name": "stdout",
     "output_type": "stream",
     "text": [
      "Integer\n",
      "100\n",
      "Character\n"
     ]
    },
    {
     "data": {
      "text/plain": [
       "Integer"
      ]
     },
     "execution_count": 244,
     "metadata": {},
     "output_type": "execute_result"
    }
   ],
   "source": [
    "//包装类型 \n",
    "\n",
    "//包装类型只是在基本类型基础上做了一个Wrapper增加了一些方法，使得其成为一个引用类型。\n",
    "//\n",
    "\n",
    "Integer i = 100;\n",
    "int a = i.value //转换成基本类型\n",
    "System.out.println(i.getClass().getSimpleName())\n",
    "\n",
    "Character c = 'A'\n",
    "char z = c.value //转换成基本类型\n",
    "System.out.println(a.toString())\n",
    "\n",
    "c instanceof Object\n",
    "\n",
    "Class cls = c.getClass()\n",
    "System.out.println(cls.getSimpleName())\n",
    "\n",
    "\n",
    "//包装类型和基本类型可以通过自动拆箱和自动装箱相互转换\n",
    "\n",
    "Integer m = Integer.valueOf(5) //自动装箱\n",
    "int n = m //自动拆箱\n",
    "\n",
    "n.getClass().getSimpleName()  //自动装箱\n"
   ]
  },
  {
   "cell_type": "code",
   "execution_count": 1,
   "metadata": {
    "ExecuteTime": {
     "end_time": "2019-09-01T12:40+0000",
     "start_time": "2019-09-01T12:40+0000"
    }
   },
   "outputs": [
    {
     "name": "stdout",
     "output_type": "stream",
     "text": [
      "String\n",
      "l\n"
     ]
    }
   ],
   "source": [
    "// String 字符串\n",
    "//字符串是一种引用类型, 并且是不可变的\n",
    "\n",
    "String  s = \"hello\\tworld\"\n",
    "System.out.println(s.getClass().getSimpleName())\n",
    "\n",
    "System.out.println(s[2])\n",
    "\n",
    "//s[2] = '3'将会报错"
   ]
  },
  {
   "cell_type": "code",
   "execution_count": null,
   "metadata": {},
   "outputs": [],
   "source": []
  },
  {
   "cell_type": "code",
   "execution_count": 44,
   "metadata": {
    "ExecuteTime": {
     "end_time": "2019-09-01T12:53+0000",
     "start_time": "2019-09-01T12:53+0000"
    }
   },
   "outputs": [
    {
     "name": "stdout",
     "output_type": "stream",
     "text": [
      "snoopy\n"
     ]
    }
   ],
   "source": [
    "// Array  数组\n",
    "// 数组是一种引用类型，其元素是可变的，但是其长度是不可变的\n",
    "String[] dogs = new String[2];\n",
    "dogs[0] = \"snoopy\";\n",
    "dogs[1] = \"ahuang\";\n",
    "\n",
    "dogs.length;\n",
    "\n",
    "System.out.println(dogs[0]);"
   ]
  },
  {
   "cell_type": "code",
   "execution_count": null,
   "metadata": {},
   "outputs": [],
   "source": []
  },
  {
   "cell_type": "code",
   "execution_count": 14,
   "metadata": {
    "ExecuteTime": {
     "end_time": "2019-09-01T13:05+0000",
     "start_time": "2019-09-01T13:05+0000"
    }
   },
   "outputs": [
    {
     "name": "stdout",
     "output_type": "stream",
     "text": [
      "true\n",
      "true\n",
      "true\n"
     ]
    }
   ],
   "source": [
    "//基本类型和引用类型的对比\n",
    "\n",
    "int i = 100823\n",
    "int j = 100823\n",
    "\n",
    "System.out.println(i==j)\n",
    "\n",
    "\n",
    "String p = \"123\"\n",
    "String q = \"123\"\n",
    "\n",
    "System.out.println(Objects.equals(p,q))\n",
    "System.out.println(p.equals(q))\n",
    "\n",
    "//System.out.println(Objects.equals(a,b))"
   ]
  },
  {
   "cell_type": "code",
   "execution_count": null,
   "metadata": {},
   "outputs": [],
   "source": []
  },
  {
   "cell_type": "markdown",
   "metadata": {},
   "source": [
    "4，变量声明"
   ]
  },
  {
   "cell_type": "code",
   "execution_count": 39,
   "metadata": {
    "ExecuteTime": {
     "end_time": "2019-09-01T13:14+0000",
     "start_time": "2019-09-01T13:14+0000"
    }
   },
   "outputs": [
    {
     "name": "stdout",
     "output_type": "stream",
     "text": [
      "xyz\n",
      "null\n"
     ]
    }
   ],
   "source": [
    "//变量声明时可以先声明，后赋值。\n",
    "//也可以声明的同时初始化\n",
    "\n",
    "String a,b,c ; //声明三个变量a,b,c,不初始化，默认初始化为null\n",
    "\n",
    "a = \"xyz\"\n",
    "b = \"123\"\n",
    "\n",
    "System.out.println(a)\n",
    "System.out.println(c)\n"
   ]
  },
  {
   "cell_type": "code",
   "execution_count": 40,
   "metadata": {
    "ExecuteTime": {
     "end_time": "2019-09-01T13:14+0000",
     "start_time": "2019-09-01T13:14+0000"
    }
   },
   "outputs": [
    {
     "name": "stdout",
     "output_type": "stream",
     "text": [
      "0\n"
     ]
    }
   ],
   "source": [
    "//变量声明的同时初始化\n",
    "\n",
    "int i,j,k = 0\n",
    "\n",
    "System.out.println(k)"
   ]
  },
  {
   "cell_type": "code",
   "execution_count": 46,
   "metadata": {
    "ExecuteTime": {
     "end_time": "2019-09-01T13:15+0000",
     "start_time": "2019-09-01T13:15+0000"
    }
   },
   "outputs": [
    {
     "name": "stdout",
     "output_type": "stream",
     "text": [
      "3.14\n"
     ]
    }
   ],
   "source": [
    "//使用final关键字声明为常量\n",
    "\n",
    "final double z = 3.14\n",
    "\n",
    "System.out.println(z)\n",
    "\n",
    "//z = 5.12  不可以被修改"
   ]
  },
  {
   "cell_type": "markdown",
   "metadata": {},
   "source": [
    "5，标点符号"
   ]
  },
  {
   "cell_type": "markdown",
   "metadata": {},
   "source": [
    "Java 中常用的标点符号用法总结如下\n",
    "\n",
    "()表示优先级或者函数参数列表\n",
    "\n",
    "[]用于索引\n",
    "\n",
    "{}用于作用域\n",
    "\n",
    "<>用于泛型\n",
    "\n",
    "@用于注解\n"
   ]
  },
  {
   "cell_type": "code",
   "execution_count": null,
   "metadata": {},
   "outputs": [],
   "source": []
  },
  {
   "cell_type": "markdown",
   "metadata": {},
   "source": [
    "### 五，编译执行"
   ]
  },
  {
   "cell_type": "markdown",
   "metadata": {},
   "source": [
    "1, 程序结构\n",
    "\n"
   ]
  },
  {
   "cell_type": "markdown",
   "metadata": {},
   "source": [
    "一个.java程序文件中必须有且只有一个public类，该类必须有一个声明为main函数作为程序入口。\n",
    "\n",
    "并且这个main函数需要声明为 public static void 类型，即静态的，公开的，返回值为空的函数类型。\n",
    "\n",
    "并且这个java程序的文件名必须和这个public类名保持一致。\n",
    "\n",
    "下面是一个范例。"
   ]
  },
  {
   "cell_type": "code",
   "execution_count": 139,
   "metadata": {
    "ExecuteTime": {
     "end_time": "2019-09-08T09:32+0000",
     "start_time": "2019-09-08T09:32+0000"
    }
   },
   "outputs": [
    {
     "name": "stdout",
     "output_type": "stream",
     "text": [
      "Hello, LiLei\n"
     ]
    }
   ],
   "source": [
    "public class Demo {\n",
    "    public static void main(String[] args) {\n",
    "        Person lilei = new Person(\"LiLei\",18);\n",
    "        System.out.println(\"Hello, \" + lilei.getName());\n",
    "    }\n",
    "}\n",
    "\n",
    "class Person {\n",
    "    private String name;\n",
    "    private int age;\n",
    "\n",
    "    public Person(String name,Integer age){\n",
    "        this.name = name;\n",
    "        this.age = age;\n",
    "    }\n",
    "\n",
    "    public String getName() {\n",
    "        return this.name;\n",
    "    }\n",
    "\n",
    "    public int getAge() {\n",
    "        return this.age;\n",
    "    }\n",
    "}\n"
   ]
  },
  {
   "cell_type": "markdown",
   "metadata": {},
   "source": [
    "将以上代码拷贝到文本文件中，命名为 Main.java。"
   ]
  },
  {
   "cell_type": "code",
   "execution_count": null,
   "metadata": {},
   "outputs": [],
   "source": []
  },
  {
   "cell_type": "markdown",
   "metadata": {},
   "source": [
    "2，编译执行"
   ]
  },
  {
   "cell_type": "markdown",
   "metadata": {},
   "source": [
    "Java是一种解释型语言，其java源码需要被编译成class字节码运行在Java虚拟机上。\n",
    "\n",
    "因此，执行Java程序分两步：\n",
    "\n",
    "(1)，使用javac编译命令将以.java结束的程序文件编译成以class结尾的字节码程序文件。\n",
    "\n",
    "javac Main.java 编译后得到 Main.class文件\n",
    "\n",
    "(2)，使用java 命令运行字节码程序。\n",
    "\n",
    "java -classpath ./ Main 在JVM上执行Main.class文件"
   ]
  },
  {
   "cell_type": "markdown",
   "metadata": {},
   "source": [
    "![](java解释型.png)"
   ]
  },
  {
   "cell_type": "markdown",
   "metadata": {},
   "source": [
    "编译时，按下面的顺序依次查找类：\n",
    "\n",
    "（1）查找当前package是否存在这个class；\n",
    "\n",
    "（2）查找import的包是否包含这个class；\n",
    "\n",
    "（3）查找java.lang包是否包含这个class。\n",
    "\n",
    "如果按照上面的规则还无法确定类名，则编译报错。"
   ]
  },
  {
   "cell_type": "code",
   "execution_count": null,
   "metadata": {},
   "outputs": [],
   "source": []
  },
  {
   "cell_type": "markdown",
   "metadata": {},
   "source": [
    "3，classpath和jar包"
   ]
  },
  {
   "cell_type": "markdown",
   "metadata": {},
   "source": [
    "（1） classpath \n",
    "\n",
    "classpath是JVM用到的一个环境变量，它用来指示JVM如何搜索class。\n",
    "\n",
    "它其实就是一组目录的集合，它设置的搜索路径与操作系统相关。\n",
    "\n",
    "例如，在Windows系统上，用;分隔，可能长这样。\n",
    "\n",
    "C:\\work\\project1\\bin;C:\\shared;\"D:\\My Documents\\project1\\bin\"\n",
    "\n",
    "在Linux系统上，用:分隔，可能长这样。\n",
    "\n",
    "/usr/shared:/usr/local/bin:/home/liaoxuefeng/bin\n",
    "\n",
    "如果JVM在某个路径下找到了对应的class文件，就不再往后继续搜索。如果所有路径下都没有找到，就报错。"
   ]
  },
  {
   "cell_type": "markdown",
   "metadata": {},
   "source": [
    "classpath的设定方法有两种：\n",
    "\n",
    "在系统环境变量中设置classpath环境变量，不推荐；\n",
    "\n",
    "在启动JVM时设置classpath变量，推荐。\n",
    "\n",
    "\n",
    "我们强烈不推荐在系统环境变量中设置classpath，那样会污染整个系统环境。\n",
    "\n",
    "在启动JVM时设置classpath才是推荐的做法。实际上就是给java命令传入-classpath或-cp参数：\n",
    "\n",
    "java -classpath .;C:\\work\\project1\\bin;C:\\shared abc.xyz.Hello\n",
    "\n",
    "但通常classpath这个参数不需要配置，其默认值为当前目录 ./一般就够用了。\n"
   ]
  },
  {
   "cell_type": "markdown",
   "metadata": {},
   "source": [
    "（2） jar包\n"
   ]
  },
  {
   "cell_type": "markdown",
   "metadata": {},
   "source": [
    "设想一下，如果有很多.class文件，散落在各层目录中，肯定不便于管理。\n",
    "\n",
    "如果能把目录打一个包，变成一个文件，就方便多了。\n",
    "\n",
    "jar包就是用来干这个事的，它可以把package组织的目录层级，以及各个目录下的所有文件\n",
    "\n",
    "（包括.class文件和其他文件）都打成一个jar文件，这样一来，无论是备份，还是发给客户，就简单多了。"
   ]
  },
  {
   "cell_type": "markdown",
   "metadata": {},
   "source": [
    "jar包实际上就是一个zip格式的压缩文件，而jar包相当于目录。\n",
    "\n",
    "如果我们要执行一个jar包的class，就可以把jar包放到classpath中：\n",
    "\n",
    "java -cp ./hello.jar abc.xyz.Hello"
   ]
  },
  {
   "cell_type": "markdown",
   "metadata": {},
   "source": [
    "jar包还可以包含一个特殊的/META-INF/MANIFEST.MF文件，\n",
    "\n",
    "MANIFEST.MF是纯文本，可以指定Main-Class和其它信息。\n",
    "\n",
    "JVM会自动读取这个MANIFEST.MF文件。\n",
    "\n",
    "如果存在Main-Class，我们就不必在命令行指定启动的类名，而是用更方便的命令：\n",
    "\n",
    "java -jar hello.jar\n",
    "\n",
    "jar包还可以包含其它jar包，这个时候，就需要在MANIFEST.MF文件里配置classpath了"
   ]
  },
  {
   "cell_type": "code",
   "execution_count": null,
   "metadata": {},
   "outputs": [],
   "source": []
  },
  {
   "cell_type": "markdown",
   "metadata": {},
   "source": [
    "4，maven项目管理工具"
   ]
  },
  {
   "cell_type": "markdown",
   "metadata": {},
   "source": [
    "实际项目开发中，通常使用maven管理项目，并打成jar包。\n",
    "\n",
    "maven使用POM文件POM.xml指定项目的依赖和打包方式。\n",
    "\n",
    "maven安装后，将会在本地创建~/.m2/repository目录，集中存放jar包作为本地仓库。\n",
    "\n",
    "maven搜索并载入依赖的顺序如下：本地仓库->私人远程仓库->中央仓库\n",
    "\n",
    "常见的maven 命令如下：\n",
    "\n",
    "mvn clean\n",
    "\n",
    "mvn compile       编译 \n",
    "\n",
    "mvn package       根据build中的plugin进行打包\n",
    "\n",
    "mvn install       安装本地仓库\n",
    "\n",
    "mvn test          单元测试\n"
   ]
  },
  {
   "cell_type": "code",
   "execution_count": null,
   "metadata": {},
   "outputs": [],
   "source": []
  },
  {
   "cell_type": "markdown",
   "metadata": {},
   "source": [
    "### 六，Java数据结构概述"
   ]
  },
  {
   "cell_type": "markdown",
   "metadata": {},
   "source": [
    "Java中常用的数据结构主要包括字符串(String),数组(Array),枚举(enum), 以及java.util中的各种容器类（通常被称做集合）。\n",
    "\n",
    "java.util中的这些容器类分成两大类，一类是实现了Collection接口,另外一类实现了Map接口。\n",
    "\n",
    "容器类中常用的数据结构包括:列表(List),映射(Map),集合(Set),队列(Quene),堆栈(Stack)。\n",
    "\n",
    "当然这些数据结构也都是接口，通过API封装了特定的功能，下面还会有多种不同的实现。\n",
    "\n",
    "可以用统一的Iterator方式对大多数容器类进行遍历，这种更加抽象的方式优于使用下标的方式进行遍历。\n"
   ]
  },
  {
   "cell_type": "markdown",
   "metadata": {},
   "source": [
    "![](Java容器.gif)"
   ]
  },
  {
   "cell_type": "code",
   "execution_count": null,
   "metadata": {},
   "outputs": [],
   "source": []
  },
  {
   "cell_type": "code",
   "execution_count": null,
   "metadata": {},
   "outputs": [],
   "source": []
  },
  {
   "cell_type": "markdown",
   "metadata": {},
   "source": [
    "### 七，字符串"
   ]
  },
  {
   "cell_type": "code",
   "execution_count": 37,
   "metadata": {
    "ExecuteTime": {
     "end_time": "2019-09-08T04:06+0000",
     "start_time": "2019-09-08T04:06+0000"
    }
   },
   "outputs": [],
   "source": [
    "import java.lang.String"
   ]
  },
  {
   "cell_type": "markdown",
   "metadata": {},
   "source": [
    "Java 中的字符串和Scala中的字符串来源于同一个包，java.lang.String，两者具有完全相同的方法。"
   ]
  },
  {
   "cell_type": "markdown",
   "metadata": {},
   "source": [
    "**1，创建字符串**"
   ]
  },
  {
   "cell_type": "code",
   "execution_count": 8,
   "metadata": {
    "ExecuteTime": {
     "end_time": "2019-09-08T03:54+0000",
     "start_time": "2019-09-08T03:54+0000"
    }
   },
   "outputs": [
    {
     "data": {
      "text/plain": [
       "\n",
       "hello world\n",
       "hello China\n",
       "hello Beijing\n"
      ]
     },
     "execution_count": 8,
     "metadata": {},
     "output_type": "execute_result"
    }
   ],
   "source": [
    "String s1= \"hello world\";\n",
    "String s2 = \"hello China\";\n",
    "String s3 = \n",
    "\"\"\"\n",
    "hello world\n",
    "hello China\n",
    "hello Beijing\n",
    "\"\"\";"
   ]
  },
  {
   "cell_type": "markdown",
   "metadata": {},
   "source": [
    "**2，字符串常用操作**"
   ]
  },
  {
   "cell_type": "code",
   "execution_count": 9,
   "metadata": {
    "ExecuteTime": {
     "end_time": "2019-09-08T03:54+0000",
     "start_time": "2019-09-08T03:54+0000"
    }
   },
   "outputs": [
    {
     "data": {
      "text/plain": [
       "hello world\thello China"
      ]
     },
     "execution_count": 9,
     "metadata": {},
     "output_type": "execute_result"
    }
   ],
   "source": [
    "//+号字符串连接\n",
    "String s1 = \"hello world\"\n",
    "String s2 = \"hello China\"\n",
    "\n",
    "s1+\"\\t\"+s2"
   ]
  },
  {
   "cell_type": "code",
   "execution_count": 38,
   "metadata": {
    "ExecuteTime": {
     "end_time": "2019-09-08T04:07+0000",
     "start_time": "2019-09-08T04:07+0000"
    }
   },
   "outputs": [
    {
     "data": {
      "text/plain": [
       "**************************************************"
      ]
     },
     "execution_count": 38,
     "metadata": {},
     "output_type": "execute_result"
    }
   ],
   "source": [
    "//*号字符串拷贝\n",
    "String s = \"*****\"\n",
    "s*10"
   ]
  },
  {
   "cell_type": "code",
   "execution_count": 10,
   "metadata": {
    "ExecuteTime": {
     "end_time": "2019-09-08T03:55+0000",
     "start_time": "2019-09-08T03:55+0000"
    }
   },
   "outputs": [
    {
     "data": {
      "text/plain": [
       "hello world hello Beijing"
      ]
     },
     "execution_count": 10,
     "metadata": {},
     "output_type": "execute_result"
    }
   ],
   "source": [
    "//concat字符串连接\n",
    "String s1 = \"hello world\"\n",
    "s1.concat(\" hello Beijing\")"
   ]
  },
  {
   "cell_type": "code",
   "execution_count": 20,
   "metadata": {
    "ExecuteTime": {
     "end_time": "2019-09-08T03:57+0000",
     "start_time": "2019-09-08T03:57+0000"
    }
   },
   "outputs": [
    {
     "data": {
      "text/html": [
       "11"
      ]
     },
     "execution_count": 20,
     "metadata": {},
     "output_type": "execute_result"
    }
   ],
   "source": [
    "//字符串长度\n",
    "String s1 = \"hello world\"\n",
    "s1.length()  //注意length（）是个方法\n"
   ]
  },
  {
   "cell_type": "code",
   "execution_count": 23,
   "metadata": {
    "ExecuteTime": {
     "end_time": "2019-09-08T03:58+0000",
     "start_time": "2019-09-08T03:58+0000"
    }
   },
   "outputs": [
    {
     "data": {
      "text/plain": [
       "w"
      ]
     },
     "execution_count": 23,
     "metadata": {},
     "output_type": "execute_result"
    }
   ],
   "source": [
    "//取某个字符\n",
    "String s1 = \"hello world\";\n",
    "s1[6]; //注意是java索引用方括号，scala索引用圆括号\n"
   ]
  },
  {
   "cell_type": "code",
   "execution_count": 34,
   "metadata": {
    "ExecuteTime": {
     "end_time": "2019-09-08T04:05+0000",
     "start_time": "2019-09-08T04:05+0000"
    }
   },
   "outputs": [
    {
     "data": {
      "text/html": [
       "5"
      ]
     },
     "execution_count": 34,
     "metadata": {},
     "output_type": "execute_result"
    }
   ],
   "source": [
    "//取某个字符的下标\n",
    "String s1 = \"hello world\";\n",
    "s1.indexOf(\" \");"
   ]
  },
  {
   "cell_type": "code",
   "execution_count": 29,
   "metadata": {
    "ExecuteTime": {
     "end_time": "2019-09-08T04:01+0000",
     "start_time": "2019-09-08T04:01+0000"
    }
   },
   "outputs": [
    {
     "data": {
      "text/plain": [
       "llo "
      ]
     },
     "execution_count": 29,
     "metadata": {},
     "output_type": "execute_result"
    }
   ],
   "source": [
    "//取某个子串\n",
    "String s1 = \"hello world\"\n",
    "s1.substring(2,6)\n"
   ]
  },
  {
   "cell_type": "code",
   "execution_count": 140,
   "metadata": {
    "ExecuteTime": {
     "end_time": "2019-09-08T09:33+0000",
     "start_time": "2019-09-08T09:33+0000"
    }
   },
   "outputs": [
    {
     "data": {
      "text/plain": [
       "hello China"
      ]
     },
     "execution_count": 140,
     "metadata": {},
     "output_type": "execute_result"
    }
   ],
   "source": [
    "//字符串替换\n",
    "String s1 = \"hello world\";\n",
    "s1.replace(\"world\",\"China\");\n"
   ]
  },
  {
   "cell_type": "code",
   "execution_count": 32,
   "metadata": {
    "ExecuteTime": {
     "end_time": "2019-09-08T04:03+0000",
     "start_time": "2019-09-08T04:03+0000"
    }
   },
   "outputs": [
    {
     "name": "stdout",
     "output_type": "stream",
     "text": [
      "[hello, world]\n"
     ]
    }
   ],
   "source": [
    "//字符串分割\n",
    "String s1 = \"hello world\";\n",
    "System.out.println(s1.split(\" \"));"
   ]
  },
  {
   "cell_type": "code",
   "execution_count": null,
   "metadata": {},
   "outputs": [],
   "source": []
  },
  {
   "cell_type": "markdown",
   "metadata": {},
   "source": [
    "### 八，数组"
   ]
  },
  {
   "cell_type": "markdown",
   "metadata": {},
   "source": [
    "Java 中的数组和 C++中的数组很像，其长度是不可变的，但是数组中的元素内容是可以改变的。\n",
    "\n",
    "数组是引用类型。\n",
    "\n",
    "在大多数版本的Java中，数组是用花括号{}作为数组范围标识的。\n",
    "\n",
    "不过在SciJava中数组是用方括号[]作为数组范围标识的。\n",
    "\n",
    "java.util.Arrays 类能方便地操作数组，它提供的所有方法都是静态的。\n"
   ]
  },
  {
   "cell_type": "markdown",
   "metadata": {},
   "source": [
    "**1,创建数组**"
   ]
  },
  {
   "cell_type": "code",
   "execution_count": 70,
   "metadata": {
    "ExecuteTime": {
     "end_time": "2019-09-08T04:24+0000",
     "start_time": "2019-09-08T04:24+0000"
    }
   },
   "outputs": [
    {
     "name": "stdout",
     "output_type": "stream",
     "text": [
      "[1, 2, 3, 4, 5]\n"
     ]
    }
   ],
   "source": [
    "int[] arr = new int[5]\n",
    "for(int i=0;i<arr.length;i++){\n",
    "    arr[i]=i+1\n",
    "}\n",
    "System.out.println(arr)"
   ]
  },
  {
   "cell_type": "code",
   "execution_count": 69,
   "metadata": {
    "ExecuteTime": {
     "end_time": "2019-09-08T04:24+0000",
     "start_time": "2019-09-08T04:24+0000"
    }
   },
   "outputs": [
    {
     "name": "stdout",
     "output_type": "stream",
     "text": [
      "[Java, C, C++, Python, JavaScript]\n"
     ]
    }
   ],
   "source": [
    "String[] arr = new String[5]\n",
    "arr = [\"Java\",\"C\",\"C++\",\"Python\",\"JavaScript\"]\n",
    "System.out.println(arr)"
   ]
  },
  {
   "cell_type": "code",
   "execution_count": 72,
   "metadata": {
    "ExecuteTime": {
     "end_time": "2019-09-08T04:25+0000",
     "start_time": "2019-09-08T04:25+0000"
    }
   },
   "outputs": [
    {
     "name": "stdout",
     "output_type": "stream",
     "text": [
      "[hello, world, hello, China]\n"
     ]
    }
   ],
   "source": [
    "String[] arr = [\"hello\",\"world\",\"hello\",\"China\"]\n",
    "System.out.println(arr)"
   ]
  },
  {
   "cell_type": "code",
   "execution_count": 160,
   "metadata": {
    "ExecuteTime": {
     "end_time": "2019-09-08T09:42+0000",
     "start_time": "2019-09-08T09:42+0000"
    }
   },
   "outputs": [
    {
     "name": "stdout",
     "output_type": "stream",
     "text": [
      "[1.0, 1.0, 1.0, 1.0, 1.0, 1.0, 1.0, 1.0, 1.0, 1.0]\n"
     ]
    }
   ],
   "source": [
    "import java.util.Arrays;\n",
    "double[] arr = new double[10];\n",
    "Arrays.fill(arr,1.0);\n",
    "System.out.println(arr);\n"
   ]
  },
  {
   "cell_type": "code",
   "execution_count": 108,
   "metadata": {
    "ExecuteTime": {
     "end_time": "2019-09-08T04:36+0000",
     "start_time": "2019-09-08T04:36+0000"
    }
   },
   "outputs": [
    {
     "name": "stdout",
     "output_type": "stream",
     "text": [
      "[[1.0, 2.0], [3.0, 4.0], [5.0, 6.0]]\n"
     ]
    }
   ],
   "source": [
    "//多维数组\n",
    "double[][] arr = [[1.0,2.0],[3.0,4.0],[5.0,6.0]]\n",
    "System.out.println(arr)\n"
   ]
  },
  {
   "cell_type": "markdown",
   "metadata": {},
   "source": [
    "**2，数组的常用操作**"
   ]
  },
  {
   "cell_type": "code",
   "execution_count": 100,
   "metadata": {
    "ExecuteTime": {
     "end_time": "2019-09-08T04:32+0000",
     "start_time": "2019-09-08T04:32+0000"
    }
   },
   "outputs": [
    {
     "name": "stdout",
     "output_type": "stream",
     "text": [
      "helloChina\n"
     ]
    }
   ],
   "source": [
    "//数组的取值和赋值\n",
    "\n",
    "String[] arr = [\"hello\",\"world\"]\n",
    "arr[1] = \"China\"\n",
    "System.out.println(arr[0]+arr[1])"
   ]
  },
  {
   "cell_type": "code",
   "execution_count": 157,
   "metadata": {
    "ExecuteTime": {
     "end_time": "2019-09-08T09:40+0000",
     "start_time": "2019-09-08T09:40+0000"
    }
   },
   "outputs": [
    {
     "name": "stdout",
     "output_type": "stream",
     "text": [
      "Java\n",
      "C++\n",
      "Python\n",
      "JavaScript\n"
     ]
    }
   ],
   "source": [
    "//数组的遍历\n",
    "String[] arr = [\"Java\",\"C++\",\"Python\",\"JavaScript\"];\n",
    "//使用foreach语法\n",
    "for(String x: arr){\n",
    "    System.out.println(x);\n",
    "}\n"
   ]
  },
  {
   "cell_type": "code",
   "execution_count": 164,
   "metadata": {
    "ExecuteTime": {
     "end_time": "2019-09-08T09:43+0000",
     "start_time": "2019-09-08T09:43+0000"
    }
   },
   "outputs": [
    {
     "name": "stdout",
     "output_type": "stream",
     "text": [
      "[0.618, 1.0, 1.414, 3.14]\n"
     ]
    }
   ],
   "source": [
    "//数组排序\n",
    "import java.util.Arrays;\n",
    "Double[] arr = [1.00,3.14,0.618,1.414]\n",
    "Arrays.sort(arr)\n",
    "System.out.println(arr)\n"
   ]
  },
  {
   "cell_type": "code",
   "execution_count": 165,
   "metadata": {
    "ExecuteTime": {
     "end_time": "2019-09-08T09:44+0000",
     "start_time": "2019-09-08T09:44+0000"
    }
   },
   "outputs": [
    {
     "data": {
      "text/html": [
       "false"
      ]
     },
     "execution_count": 165,
     "metadata": {},
     "output_type": "execute_result"
    }
   ],
   "source": [
    "//判断两个数组是否相等\n",
    "import java.util.Arrays;\n",
    "String[] arr1 = [\"hello\",\"world\"]\n",
    "String[] arr2 = [\"hello\",\"China\"]\n",
    "Arrays.equals(arr1,arr2)\n"
   ]
  },
  {
   "cell_type": "code",
   "execution_count": null,
   "metadata": {},
   "outputs": [],
   "source": []
  },
  {
   "cell_type": "code",
   "execution_count": null,
   "metadata": {},
   "outputs": [],
   "source": []
  },
  {
   "cell_type": "markdown",
   "metadata": {},
   "source": [
    "### 九，列表List"
   ]
  },
  {
   "cell_type": "markdown",
   "metadata": {},
   "source": [
    "Java中的列表List是一种有序数据结构的接口。\n",
    "\n",
    "它有两种实现,一种是ArrayList,另外一种是LinkedList.\n",
    "\n",
    "前者是顺序存储，方便查询和修改特定元素。后者是链表存储，方便插入和删除元素。\n",
    "\n",
    "通常情况下我们使用ArrayList更多一些。\n",
    "\n",
    "和数组Array不同，List的大小是可以改变的。"
   ]
  },
  {
   "cell_type": "markdown",
   "metadata": {},
   "source": [
    "List的主要方法如下：（E是元素 e的类型）\n",
    "\n",
    "在末尾添加一个元素：void add(E e)\n",
    "\n",
    "在指定索引添加一个元素：void add(int index, E e)\n",
    "\n",
    "删除指定索引的元素：int remove(int index)\n",
    "\n",
    "删除某个元素：int remove(Object e)\n",
    "\n",
    "获取指定索引的元素：E get(int index)\n",
    "\n",
    "获取链表大小（包含元素的个数）：int size()"
   ]
  },
  {
   "cell_type": "markdown",
   "metadata": {},
   "source": [
    "**1,创建List**"
   ]
  },
  {
   "cell_type": "code",
   "execution_count": 180,
   "metadata": {
    "ExecuteTime": {
     "end_time": "2019-09-08T09:56+0000",
     "start_time": "2019-09-08T09:56+0000"
    }
   },
   "outputs": [
    {
     "data": {
      "text/html": [
       "<style>table.converted {color: #333; font-family: Helvetica, Arial, sans-serif; border-collapse: collapse; border-spacing: 0;}table.converted td, table.converted th {border: 1px solid #C9C7C7;}table.converted th, table.converted td.rowLabel {background: #626262; color: #FFFFFF; font-weight: bold; text-align: left;}table.converted td {text-align: left;}table.converted tr:nth-child(even) {background: #F3F3F3;}table.converted tr:nth-child(odd) {background: #FFFFFF;}table.converted tbody tr:hover {background: #BDF4B5;}table.converted td.rowLabel, table.converted th.rowLabel {display: none;}</style><table class=\"converted\"><tbody><tr><td>1&#8203;.0</td></tr><tr><td>2&#8203;.0</td></tr><tr><td>3&#8203;.0</td></tr></tbody></table>"
      ]
     },
     "execution_count": 180,
     "metadata": {},
     "output_type": "execute_result"
    }
   ],
   "source": [
    "import java.util.ArrayList;\n",
    "import java.util.List;\n",
    "\n",
    "List<Double> list = new ArrayList<>()\n",
    "list.add(1.0)\n",
    "list.add(2.0)\n",
    "list.add(3.0)\n",
    "list"
   ]
  },
  {
   "cell_type": "code",
   "execution_count": 182,
   "metadata": {
    "ExecuteTime": {
     "end_time": "2019-09-08T09:57+0000",
     "start_time": "2019-09-08T09:57+0000"
    }
   },
   "outputs": [
    {
     "data": {
      "text/html": [
       "class java&#8203;.util&#8203;.ArrayList"
      ]
     },
     "execution_count": 182,
     "metadata": {},
     "output_type": "execute_result"
    }
   ],
   "source": [
    "import java.util.ArrayList;\n",
    "import java.util.List;\n",
    "\n",
    "//List<String> list = List.of(\"apple\", \"pear\", \"banana\"); 标准的Java是这种语法\n",
    "List<String> list = [\"apple\", \"pear\", \"banana\"]\n",
    "list.getClass()\n",
    "\n"
   ]
  },
  {
   "cell_type": "markdown",
   "metadata": {},
   "source": [
    "**2，List常用操作**"
   ]
  },
  {
   "cell_type": "code",
   "execution_count": 192,
   "metadata": {
    "ExecuteTime": {
     "end_time": "2019-09-08T10:05+0000",
     "start_time": "2019-09-08T10:05+0000"
    }
   },
   "outputs": [
    {
     "data": {
      "text/html": [
       "<style>table.converted {color: #333; font-family: Helvetica, Arial, sans-serif; border-collapse: collapse; border-spacing: 0;}table.converted td, table.converted th {border: 1px solid #C9C7C7;}table.converted th, table.converted td.rowLabel {background: #626262; color: #FFFFFF; font-weight: bold; text-align: left;}table.converted td {text-align: left;}table.converted tr:nth-child(even) {background: #F3F3F3;}table.converted tr:nth-child(odd) {background: #FFFFFF;}table.converted tbody tr:hover {background: #BDF4B5;}table.converted td.rowLabel, table.converted th.rowLabel {display: none;}</style><table class=\"converted\"><tbody><tr><td>1&#8203;.0</td></tr><tr><td>2&#8203;.0</td></tr><tr><td>1&#8203;.0</td></tr></tbody></table>"
      ]
     },
     "execution_count": 192,
     "metadata": {},
     "output_type": "execute_result"
    }
   ],
   "source": [
    "//增加元素\n",
    "\n",
    "import java.util.ArrayList;\n",
    "import java.util.List;\n",
    "\n",
    "List<Double> list = [1.0,2.0]\n",
    "list.add(1.0)\n",
    "list"
   ]
  },
  {
   "cell_type": "code",
   "execution_count": 197,
   "metadata": {
    "ExecuteTime": {
     "end_time": "2019-09-08T10:07+0000",
     "start_time": "2019-09-08T10:07+0000"
    }
   },
   "outputs": [
    {
     "data": {
      "text/html": [
       "<style>table.converted {color: #333; font-family: Helvetica, Arial, sans-serif; border-collapse: collapse; border-spacing: 0;}table.converted td, table.converted th {border: 1px solid #C9C7C7;}table.converted th, table.converted td.rowLabel {background: #626262; color: #FFFFFF; font-weight: bold; text-align: left;}table.converted td {text-align: left;}table.converted tr:nth-child(even) {background: #F3F3F3;}table.converted tr:nth-child(odd) {background: #FFFFFF;}table.converted tbody tr:hover {background: #BDF4B5;}table.converted td.rowLabel, table.converted th.rowLabel {display: none;}</style><table class=\"converted\"><tbody><tr><td>2&#8203;.0</td></tr></tbody></table>"
      ]
     },
     "execution_count": 197,
     "metadata": {},
     "output_type": "execute_result"
    }
   ],
   "source": [
    "//删除指定索引位置的元素\n",
    "\n",
    "import java.util.ArrayList;\n",
    "import java.util.List;\n",
    "\n",
    "List<Double> list = [1.0,2.0]\n",
    "list.remove(1.0)\n",
    "list"
   ]
  },
  {
   "cell_type": "code",
   "execution_count": 194,
   "metadata": {
    "ExecuteTime": {
     "end_time": "2019-09-08T10:06+0000",
     "start_time": "2019-09-08T10:06+0000"
    }
   },
   "outputs": [
    {
     "data": {
      "text/html": [
       "<style>table.converted {color: #333; font-family: Helvetica, Arial, sans-serif; border-collapse: collapse; border-spacing: 0;}table.converted td, table.converted th {border: 1px solid #C9C7C7;}table.converted th, table.converted td.rowLabel {background: #626262; color: #FFFFFF; font-weight: bold; text-align: left;}table.converted td {text-align: left;}table.converted tr:nth-child(even) {background: #F3F3F3;}table.converted tr:nth-child(odd) {background: #FFFFFF;}table.converted tbody tr:hover {background: #BDF4B5;}table.converted td.rowLabel, table.converted th.rowLabel {display: none;}</style><table class=\"converted\"><tbody><tr><td>1&#8203;.0</td></tr></tbody></table>"
      ]
     },
     "execution_count": 194,
     "metadata": {},
     "output_type": "execute_result"
    }
   ],
   "source": [
    "//删除元素\n",
    "\n",
    "import java.util.ArrayList;\n",
    "import java.util.List;\n",
    "\n",
    "List<Double> list = [1.0,2.0]\n",
    "list.remove(1)\n",
    "list"
   ]
  },
  {
   "cell_type": "code",
   "execution_count": 196,
   "metadata": {
    "ExecuteTime": {
     "end_time": "2019-09-08T10:07+0000",
     "start_time": "2019-09-08T10:07+0000"
    }
   },
   "outputs": [
    {
     "data": {
      "text/html": [
       "2&#8203;.0"
      ]
     },
     "execution_count": 196,
     "metadata": {},
     "output_type": "execute_result"
    }
   ],
   "source": [
    "//获取元素\n",
    "\n",
    "import java.util.ArrayList;\n",
    "import java.util.List;\n",
    "\n",
    "List<Double> list = [1.0,2.0]\n",
    "list.get(1)\n"
   ]
  },
  {
   "cell_type": "code",
   "execution_count": 198,
   "metadata": {
    "ExecuteTime": {
     "end_time": "2019-09-08T10:08+0000",
     "start_time": "2019-09-08T10:08+0000"
    }
   },
   "outputs": [
    {
     "data": {
      "text/html": [
       "true"
      ]
     },
     "execution_count": 198,
     "metadata": {},
     "output_type": "execute_result"
    }
   ],
   "source": [
    "//是否包含某个元素\n",
    "import java.util.ArrayList;\n",
    "import java.util.List;\n",
    "\n",
    "List<Double> list = [1.0,2.0]\n",
    "list.contains(1.0)\n"
   ]
  },
  {
   "cell_type": "code",
   "execution_count": 200,
   "metadata": {
    "ExecuteTime": {
     "end_time": "2019-09-08T10:09+0000",
     "start_time": "2019-09-08T10:09+0000"
    }
   },
   "outputs": [
    {
     "data": {
      "text/html": [
       "1"
      ]
     },
     "execution_count": 200,
     "metadata": {},
     "output_type": "execute_result"
    }
   ],
   "source": [
    "//查找某个元素下标\n",
    "import java.util.ArrayList;\n",
    "import java.util.List;\n",
    "\n",
    "List<Double> list = [1.0,2.0]\n",
    "list.indexOf(2.0)"
   ]
  },
  {
   "cell_type": "code",
   "execution_count": 202,
   "metadata": {
    "ExecuteTime": {
     "end_time": "2019-09-08T10:09+0000",
     "start_time": "2019-09-08T10:09+0000"
    }
   },
   "outputs": [
    {
     "data": {
      "text/html": [
       "2"
      ]
     },
     "execution_count": 202,
     "metadata": {},
     "output_type": "execute_result"
    }
   ],
   "source": [
    "//列表长度\n",
    "import java.util.ArrayList;\n",
    "import java.util.List;\n",
    "\n",
    "List<Double> list = [1.0,2.0]\n",
    "list.size()"
   ]
  },
  {
   "cell_type": "code",
   "execution_count": null,
   "metadata": {},
   "outputs": [],
   "source": []
  },
  {
   "cell_type": "code",
   "execution_count": null,
   "metadata": {},
   "outputs": [],
   "source": []
  },
  {
   "cell_type": "markdown",
   "metadata": {},
   "source": [
    "### 十，映射Map"
   ]
  },
  {
   "cell_type": "markdown",
   "metadata": {},
   "source": [
    "Map是一种无序数据结构的接口，存储键值对(key,value)。\n",
    "\n",
    "Map的常用实现是HashMap, LinkedHashMap, TreeMap.\n",
    "\n",
    "其中TreeMap是一种有序的Map.\n",
    "\n",
    "Map的常用方法是put和get.\n",
    "\n",
    "如果想查询某个key是否存在，可以调用containsKey.\n",
    "\n",
    "Map中的key是唯一的，作为key的对象必须实现equals和hashCode方法。\n",
    "\n",
    "使用TreeMap时，放入的Key必须实现Comparable接口。\n",
    "\n",
    "Map通常用来高效地进行查找。\n"
   ]
  },
  {
   "cell_type": "markdown",
   "metadata": {},
   "source": [
    "**1，创建Map** "
   ]
  },
  {
   "cell_type": "code",
   "execution_count": 205,
   "metadata": {
    "ExecuteTime": {
     "end_time": "2019-09-08T11:36+0000",
     "start_time": "2019-09-08T11:36+0000"
    }
   },
   "outputs": [
    {
     "name": "stdout",
     "output_type": "stream",
     "text": [
      "[banana:789, apple:123, pear:456]\n"
     ]
    }
   ],
   "source": [
    "import java.util.HashMap;\n",
    "import java.util.Map;\n",
    "\n",
    "Map<String, Integer> map = new HashMap<>();\n",
    "map.put(\"apple\", 123);\n",
    "map.put(\"pear\", 456);\n",
    "map.put(\"banana\", 789);\n",
    "\n",
    "System.out.println(map)"
   ]
  },
  {
   "cell_type": "code",
   "execution_count": 206,
   "metadata": {
    "ExecuteTime": {
     "end_time": "2019-09-08T11:37+0000",
     "start_time": "2019-09-08T11:37+0000"
    }
   },
   "outputs": [
    {
     "name": "stdout",
     "output_type": "stream",
     "text": [
      "[banana:789, apple:123, pear:456]\n"
     ]
    }
   ],
   "source": [
    "import java.util.HashMap;\n",
    "import java.util.Map;\n",
    "\n",
    "Map<String, Integer> map = [\"banana\":3,\"apple\":5,\"pear\":2]\n",
    "\n",
    "System.out.println(map)"
   ]
  },
  {
   "cell_type": "code",
   "execution_count": 223,
   "metadata": {
    "ExecuteTime": {
     "end_time": "2019-09-08T11:48+0000",
     "start_time": "2019-09-08T11:48+0000"
    }
   },
   "outputs": [
    {
     "name": "stdout",
     "output_type": "stream",
     "text": [
      "apple\n",
      "orange\n",
      "pear\n"
     ]
    }
   ],
   "source": [
    "//TreeMap是一种有序的Map，会对Key进行排序\n",
    "Map<String, Integer> map = new TreeMap<>();\n",
    "map.put(\"orange\", 1);\n",
    "map.put(\"apple\", 2);\n",
    "map.put(\"pear\", 3);\n",
    "for (String key : map.keySet()) {\n",
    "    System.out.println(key);\n",
    "}"
   ]
  },
  {
   "cell_type": "markdown",
   "metadata": {},
   "source": [
    "**2，Map常用操作** "
   ]
  },
  {
   "cell_type": "code",
   "execution_count": 226,
   "metadata": {
    "ExecuteTime": {
     "end_time": "2019-09-08T11:48+0000",
     "start_time": "2019-09-08T11:48+0000"
    }
   },
   "outputs": [
    {
     "name": "stdout",
     "output_type": "stream",
     "text": [
      "[banana:3, apple:5, pear:6, pineapple:8]\n",
      "5\n",
      "null\n",
      "false\n",
      "null\n",
      "class java.util.LinkedHashMap\n"
     ]
    }
   ],
   "source": [
    "import java.util.HashMap;\n",
    "import java.util.Map;\n",
    "\n",
    "Map<String, Integer> map = [\"banana\":3,\"apple\":5,\"pear\":6]\n",
    "\n",
    "map.put(\"pineapple\",8) //增加key,value对\n",
    "System.out.println(map)\n",
    "\n",
    "System.out.println(map.get(\"apple\")) //取元素\n",
    "\n",
    "System.out.println(map.get(\"watermelon\")) //不存在的元素将返回null\n",
    "\n",
    "System.out.println(map.containsKey(\"watermelon\")) //测试是否包括元素\n",
    "\n",
    "System.out.println(map.getClass())\n"
   ]
  },
  {
   "cell_type": "code",
   "execution_count": 246,
   "metadata": {
    "ExecuteTime": {
     "end_time": "2019-09-08T12:05+0000",
     "start_time": "2019-09-08T12:05+0000"
    }
   },
   "outputs": [
    {
     "name": "stdout",
     "output_type": "stream",
     "text": [
      "banana=3\n",
      "apple=5\n",
      "pear=6\n"
     ]
    }
   ],
   "source": [
    "//Map的遍历，直接遍历\n",
    "Map<String, Integer> map = [\"banana\":3,\"apple\":5,\"pear\":6]\n",
    "for (String kv : map) {\n",
    "    System.out.println(kv);\n",
    "}"
   ]
  },
  {
   "cell_type": "code",
   "execution_count": 232,
   "metadata": {
    "ExecuteTime": {
     "end_time": "2019-09-08T11:54+0000",
     "start_time": "2019-09-08T11:54+0000"
    }
   },
   "outputs": [
    {
     "name": "stdout",
     "output_type": "stream",
     "text": [
      "banana\n",
      "apple\n",
      "pear\n"
     ]
    }
   ],
   "source": [
    "//Map的遍历，使用keyset()\n",
    "Map<String, Integer> map = [\"banana\":3,\"apple\":5,\"pear\":6]\n",
    "for (String key : map.keySet()) {\n",
    "    System.out.println(key);\n",
    "}"
   ]
  },
  {
   "cell_type": "code",
   "execution_count": 233,
   "metadata": {
    "ExecuteTime": {
     "end_time": "2019-09-08T11:55+0000",
     "start_time": "2019-09-08T11:55+0000"
    }
   },
   "outputs": [
    {
     "name": "stdout",
     "output_type": "stream",
     "text": [
      "banana = 789\n",
      "apple = 123\n",
      "pear = 456\n"
     ]
    }
   ],
   "source": [
    "//Map的遍历，使用entrySet()，同时遍历key和value\n",
    "import java.util.HashMap;\n",
    "import java.util.Map;\n",
    "Map<String, Integer> map = new HashMap<>();\n",
    "map.put(\"apple\", 123);\n",
    "map.put(\"pear\", 456);\n",
    "map.put(\"banana\", 789);\n",
    "for (Map.Entry<String, Integer> entry : map.entrySet()) {\n",
    "    String key = entry.getKey();\n",
    "    Integer value = entry.getValue();\n",
    "    System.out.println(key + \" = \" + value);\n",
    "}"
   ]
  },
  {
   "cell_type": "markdown",
   "metadata": {},
   "source": [
    "### 十一，集合Set"
   ]
  },
  {
   "cell_type": "markdown",
   "metadata": {},
   "source": [
    "Set用于存储不重复的元素集合，它主要提供以下几个方法：\n",
    "\n",
    "将元素添加进Set<E>：boolean add(E e)\n",
    "    \n",
    "将元素从Set<E>删除：boolean remove(Object e)\n",
    "    \n",
    "判断是否包含元素：boolean contains(Object e)"
   ]
  },
  {
   "cell_type": "code",
   "execution_count": 234,
   "metadata": {
    "ExecuteTime": {
     "end_time": "2019-09-08T11:57+0000",
     "start_time": "2019-09-08T11:57+0000"
    }
   },
   "outputs": [
    {
     "name": "stdout",
     "output_type": "stream",
     "text": [
      "true\n",
      "true\n",
      "false\n",
      "true\n",
      "false\n",
      "false\n",
      "2\n"
     ]
    }
   ],
   "source": [
    "import java.util.Set;\n",
    "import java.util.HashSet;\n",
    "public class Main {\n",
    "    public static void main(String[] args) {\n",
    "        Set<String> set = new HashSet<>();\n",
    "        System.out.println(set.add(\"abc\")); // true\n",
    "        System.out.println(set.add(\"xyz\")); // true\n",
    "        System.out.println(set.add(\"xyz\")); // false，添加失败，因为元素已存在\n",
    "        System.out.println(set.contains(\"xyz\")); // true，元素存在\n",
    "        System.out.println(set.contains(\"XYZ\")); // false，元素不存在\n",
    "        System.out.println(set.remove(\"hello\")); // false，删除失败，因为元素不存在\n",
    "        System.out.println(set.size()); // 2，一共两个元素\n",
    "    }\n",
    "}"
   ]
  },
  {
   "cell_type": "code",
   "execution_count": null,
   "metadata": {},
   "outputs": [],
   "source": []
  },
  {
   "cell_type": "markdown",
   "metadata": {},
   "source": [
    "### 十二，迭代器"
   ]
  },
  {
   "cell_type": "markdown",
   "metadata": {},
   "source": [
    "Java的容器类都可以使用for each循环，List、Set和Queue会迭代每个元素，Map会迭代每个key。\n",
    "\n",
    "下面以List和Set的for each遍历为例。"
   ]
  },
  {
   "cell_type": "code",
   "execution_count": 236,
   "metadata": {
    "ExecuteTime": {
     "end_time": "2019-09-08T12:02+0000",
     "start_time": "2019-09-08T12:02+0000"
    }
   },
   "outputs": [
    {
     "name": "stdout",
     "output_type": "stream",
     "text": [
      "Apple\n",
      "Orange\n",
      "Pear\n"
     ]
    }
   ],
   "source": [
    "import java.util.List\n",
    "List<String> list = [\"Apple\", \"Orange\", \"Pear\"];\n",
    "for (String s : list) {\n",
    "    System.out.println(s);\n",
    "}"
   ]
  },
  {
   "cell_type": "code",
   "execution_count": 251,
   "metadata": {
    "ExecuteTime": {
     "end_time": "2019-09-08T12:07+0000",
     "start_time": "2019-09-08T12:07+0000"
    }
   },
   "outputs": [
    {
     "name": "stdout",
     "output_type": "stream",
     "text": [
      "Apple\n",
      "Orange\n",
      "Pear\n"
     ]
    }
   ],
   "source": [
    "import java.util.Set\n",
    "Set<String> set = [\"Apple\", \"Orange\", \"Pear\"];\n",
    "for (String s : set) {\n",
    "    System.out.println(s);\n",
    "}\n",
    "\n"
   ]
  },
  {
   "cell_type": "markdown",
   "metadata": {},
   "source": [
    "实际上，Java编译器并不知道如何遍历List和Set。\n",
    "\n",
    "上述代码能够编译通过，只是因为编译器把for each循环通过Iterator改写为了普通的for循环："
   ]
  },
  {
   "cell_type": "code",
   "execution_count": 256,
   "metadata": {
    "ExecuteTime": {
     "end_time": "2019-09-08T12:09+0000",
     "start_time": "2019-09-08T12:09+0000"
    }
   },
   "outputs": [
    {
     "name": "stdout",
     "output_type": "stream",
     "text": [
      "Apple\n",
      "Orange\n",
      "Pear\n"
     ]
    }
   ],
   "source": [
    "import java.util.Set\n",
    "Set<String> set = [\"Apple\", \"Orange\", \"Pear\"];\n",
    "for (Iterator<String> it = set.iterator(); it.hasNext(); ) {\n",
    "     String s = it.next();\n",
    "     System.out.println(s);\n",
    "}"
   ]
  },
  {
   "cell_type": "markdown",
   "metadata": {},
   "source": [
    "Iterator是一种抽象的数据访问模型。使用Iterator模式进行迭代的好处有：\n",
    "\n",
    "对任何容器都采用同一种访问模型；\n",
    "\n",
    "调用者对容器内部结构一无所知；\n",
    "\n",
    "容器类返回的Iterator对象知道如何迭代。\n"
   ]
  },
  {
   "cell_type": "markdown",
   "metadata": {},
   "source": [
    "如果我们自己编写了一个集合类，想要使用for each循环，则该集合类实现Iterable接口，并返回一个Iterator对象；\n",
    "\n",
    "下面是一个范例。"
   ]
  },
  {
   "cell_type": "code",
   "execution_count": 257,
   "metadata": {
    "ExecuteTime": {
     "end_time": "2019-09-08T12:12+0000",
     "start_time": "2019-09-08T12:12+0000"
    }
   },
   "outputs": [
    {
     "name": "stdout",
     "output_type": "stream",
     "text": [
      "Pear\n",
      "Orange\n",
      "Apple\n"
     ]
    }
   ],
   "source": [
    "public class Main {\n",
    "    public static void main(String[] args) {\n",
    "        ReverseList<String> rlist = new ReverseList<>();\n",
    "        rlist.add(\"Apple\");\n",
    "        rlist.add(\"Orange\");\n",
    "        rlist.add(\"Pear\");\n",
    "        for (String s : rlist) {\n",
    "            System.out.println(s);\n",
    "        }\n",
    "    }\n",
    "}\n",
    "\n",
    "class ReverseList<T> implements Iterable<T> {\n",
    "\n",
    "    List<T> list = new ArrayList<>();\n",
    "\n",
    "    public void add(T t) {\n",
    "        list.add(t);\n",
    "    }\n",
    "\n",
    "    @Override\n",
    "    public Iterator<T> iterator() {\n",
    "        return new ReverseIterator(list.size());\n",
    "    }\n",
    "\n",
    "    class ReverseIterator implements Iterator<T> {\n",
    "        int index;\n",
    "\n",
    "        ReverseIterator(int index) {\n",
    "            this.index = index;\n",
    "        }\n",
    "\n",
    "        @Override\n",
    "        public boolean hasNext() {\n",
    "            return index > 0;\n",
    "        }\n",
    "\n",
    "        @Override\n",
    "        public T next() {\n",
    "            index--;\n",
    "            return ReverseList.this.list.get(index);\n",
    "        }\n",
    "    }\n",
    "}\n"
   ]
  },
  {
   "cell_type": "markdown",
   "metadata": {},
   "source": [
    "### 十三，枚举类enum"
   ]
  },
  {
   "cell_type": "markdown",
   "metadata": {},
   "source": [
    "如果有一些相关的常量，如星期，月份，颜色，可以将其它们定义为枚举类型。\n",
    "\n",
    "枚举类型常用的方法有name和ordinal。\n",
    "\n",
    "name():查看枚举常量值的名字。\n",
    "\n",
    "ordinal():查看枚举常量值的序号。\n"
   ]
  },
  {
   "cell_type": "code",
   "execution_count": 266,
   "metadata": {
    "ExecuteTime": {
     "end_time": "2019-09-08T13:43+0000",
     "start_time": "2019-09-08T13:43+0000"
    }
   },
   "outputs": [
    {
     "name": "stdout",
     "output_type": "stream",
     "text": [
      "Work at home!\n",
      "SUN\n",
      "0\n"
     ]
    }
   ],
   "source": [
    "enum Weekday {\n",
    "    SUN, MON, TUE, WED, THU, FRI, SAT;\n",
    "}\n",
    "\n",
    "Weekday day = Weekday.SUN;\n",
    "if (day == Weekday.SAT || day == Weekday.SUN) {\n",
    "    System.out.println(\"Work at home!\");\n",
    "} else {\n",
    "    System.out.println(\"Work at office!\");\n",
    "}\n",
    "\n",
    "System.out.println(day.name())\n",
    "\n",
    "System.out.println(day.ordinal())"
   ]
  },
  {
   "cell_type": "markdown",
   "metadata": {},
   "source": [
    "通过enum定义的枚举类，其实也是一个class，只不过它有以下几个特点：\n",
    "\n",
    "* 定义的enum类型总是继承自java.lang.Enum，且无法被继承；\n",
    "\n",
    "* 只能定义出enum的实例，而无法通过new操作符创建enum的实例；\n",
    "\n",
    "* 定义的每个实例都是引用类型的唯一实例；\n",
    "\n",
    "* 可以将enum类型用于switch语句。\n",
    "\n",
    "\n",
    "因为枚举类也是class,所以我们可以定义private的构造方法，并且，给每个枚举常量添加字段。"
   ]
  },
  {
   "cell_type": "code",
   "execution_count": 268,
   "metadata": {
    "ExecuteTime": {
     "end_time": "2019-09-08T13:45+0000",
     "start_time": "2019-09-08T13:45+0000"
    }
   },
   "outputs": [
    {
     "name": "stdout",
     "output_type": "stream",
     "text": [
      "Work at home!\n"
     ]
    },
    {
     "data": {
      "text/html": [
       "6"
      ]
     },
     "execution_count": 268,
     "metadata": {},
     "output_type": "execute_result"
    }
   ],
   "source": [
    "enum Weekday {\n",
    "    MON(1), TUE(2), WED(3), THU(4), FRI(5), SAT(6), SUN(0);\n",
    "\n",
    "    public final int dayValue;\n",
    "\n",
    "    private Weekday(int dayValue) {\n",
    "        this.dayValue = dayValue;\n",
    "    }\n",
    "}\n",
    "\n",
    "Weekday day = Weekday.SUN;\n",
    "if (day.dayValue == 6 || day.dayValue == 0) {\n",
    "    System.out.println(\"Work at home!\");\n",
    "} else {\n",
    "    System.out.println(\"Work at office!\");\n",
    "}\n",
    "\n",
    "\n",
    "day.ordinal()"
   ]
  },
  {
   "cell_type": "code",
   "execution_count": null,
   "metadata": {},
   "outputs": [],
   "source": []
  },
  {
   "cell_type": "markdown",
   "metadata": {},
   "source": [
    "### 十四，选择结构"
   ]
  },
  {
   "cell_type": "markdown",
   "metadata": {},
   "source": [
    "Java的选择结构主要有 if 语句和 switch语句。 switch语句是多分支结构。\n"
   ]
  },
  {
   "cell_type": "markdown",
   "metadata": {},
   "source": [
    "**1，if选择语句**"
   ]
  },
  {
   "cell_type": "code",
   "execution_count": 269,
   "metadata": {
    "ExecuteTime": {
     "end_time": "2019-09-08T13:51+0000",
     "start_time": "2019-09-08T13:51+0000"
    }
   },
   "outputs": [
    {
     "data": {
      "text/html": [
       "3"
      ]
     },
     "execution_count": 269,
     "metadata": {},
     "output_type": "execute_result"
    }
   ],
   "source": [
    "//if...else...语句\n",
    "int a = 2\n",
    "int b = 3\n",
    "int m = a\n",
    "if(a>b){\n",
    "    m = a\n",
    "}else{\n",
    "    m = b}"
   ]
  },
  {
   "cell_type": "code",
   "execution_count": 274,
   "metadata": {
    "ExecuteTime": {
     "end_time": "2019-09-08T13:54+0000",
     "start_time": "2019-09-08T13:54+0000"
    }
   },
   "outputs": [
    {
     "data": {
      "text/html": [
       "3"
      ]
     },
     "execution_count": 274,
     "metadata": {},
     "output_type": "execute_result"
    }
   ],
   "source": [
    "//三目运算符\n",
    "int a = 2\n",
    "int b = 3\n",
    "int m = (a>b)?a:b  //相当于Python和scala的单行if语句，但可读性更差。\n"
   ]
  },
  {
   "cell_type": "markdown",
   "metadata": {},
   "source": [
    "**2，switch多分支结构**"
   ]
  },
  {
   "cell_type": "markdown",
   "metadata": {},
   "source": [
    "使用switch语句时不要忘记break，不要忘记default."
   ]
  },
  {
   "cell_type": "code",
   "execution_count": 301,
   "metadata": {
    "ExecuteTime": {
     "end_time": "2019-09-08T14:16+0000",
     "start_time": "2019-09-08T14:16+0000"
    }
   },
   "outputs": [
    {
     "name": "stdout",
     "output_type": "stream",
     "text": [
      "one\n",
      "two\n",
      "many\n"
     ]
    }
   ],
   "source": [
    "class Test{\n",
    "    public void main(String[] args){\n",
    "        System.out.println(testSwitch(1))\n",
    "        System.out.println(testSwitch(2))\n",
    "        System.out.println(testSwitch(100))\n",
    "    }\n",
    "    String testSwitch(int option){\n",
    "        String x = null\n",
    "        switch(option){\n",
    "            case 1:\n",
    "                x = \"one\"\n",
    "                break    \n",
    "            case 2:\n",
    "                x = \"two\"\n",
    "                break\n",
    "            default:  //当没有匹配到任何case时，执行default：\n",
    "                x = \"many\"\n",
    "        } \n",
    "        return x\n",
    "    }\n",
    "}"
   ]
  },
  {
   "cell_type": "markdown",
   "metadata": {},
   "source": [
    "### 十五，循环结构"
   ]
  },
  {
   "cell_type": "markdown",
   "metadata": {},
   "source": [
    "Java中的循环结构包括for循环，for each循环，while循环。\n"
   ]
  },
  {
   "cell_type": "markdown",
   "metadata": {},
   "source": [
    "**1，for循环**"
   ]
  },
  {
   "cell_type": "code",
   "execution_count": 303,
   "metadata": {
    "ExecuteTime": {
     "end_time": "2019-09-08T14:21+0000",
     "start_time": "2019-09-08T14:21+0000"
    }
   },
   "outputs": [
    {
     "name": "stdout",
     "output_type": "stream",
     "text": [
      "5050\n"
     ]
    }
   ],
   "source": [
    "int sum = 0;\n",
    "for (int i=1; i<=100; i++) {\n",
    "    sum = sum + i;\n",
    "}\n",
    "System.out.println(sum);"
   ]
  },
  {
   "cell_type": "markdown",
   "metadata": {},
   "source": [
    "**2，for each循环**"
   ]
  },
  {
   "cell_type": "markdown",
   "metadata": {},
   "source": [
    "//for each循环可以对数组，字符串，各种容器类型进行遍历，其背后依赖于Iteratable接口。"
   ]
  },
  {
   "cell_type": "code",
   "execution_count": 306,
   "metadata": {
    "ExecuteTime": {
     "end_time": "2019-09-08T14:23+0000",
     "start_time": "2019-09-08T14:23+0000"
    }
   },
   "outputs": [
    {
     "name": "stdout",
     "output_type": "stream",
     "text": [
      "55\n"
     ]
    }
   ],
   "source": [
    "int[] arr = [1,2,3,4,5,6,7,8,9,10];\n",
    "int sum = 0\n",
    "//for each循环可以对数组，字符串，各种容器类型进行遍历，其背后依赖于Iteratable接口。\n",
    "for (int i:arr) {  \n",
    "    sum = sum + i;\n",
    "}\n",
    "System.out.println(sum);"
   ]
  },
  {
   "cell_type": "code",
   "execution_count": 310,
   "metadata": {
    "ExecuteTime": {
     "end_time": "2019-09-08T14:24+0000",
     "start_time": "2019-09-08T14:24+0000"
    }
   },
   "outputs": [
    {
     "name": "stdout",
     "output_type": "stream",
     "text": [
      "h\n",
      "e\n",
      "l\n",
      "l\n",
      "o\n",
      " \n",
      "w\n",
      "o\n",
      "r\n",
      "l\n",
      "d\n"
     ]
    }
   ],
   "source": [
    "String s = \"hello world\"\n",
    "for (char c:s) {  \n",
    "    System.out.println(c)\n",
    "}"
   ]
  },
  {
   "cell_type": "code",
   "execution_count": null,
   "metadata": {},
   "outputs": [],
   "source": []
  },
  {
   "cell_type": "markdown",
   "metadata": {},
   "source": [
    "**3，while循环**"
   ]
  },
  {
   "cell_type": "code",
   "execution_count": 311,
   "metadata": {
    "ExecuteTime": {
     "end_time": "2019-09-08T14:28+0000",
     "start_time": "2019-09-08T14:28+0000"
    }
   },
   "outputs": [
    {
     "name": "stdout",
     "output_type": "stream",
     "text": [
      "5050\n"
     ]
    }
   ],
   "source": [
    "//求1+2+3+...+100\n",
    "int i = 1;\n",
    "int s = 0;\n",
    "while(i<=100){\n",
    "    s = s + i;\n",
    "    i = i + 1;\n",
    "}\n",
    "System.out.println(s)"
   ]
  },
  {
   "cell_type": "code",
   "execution_count": null,
   "metadata": {},
   "outputs": [],
   "source": []
  },
  {
   "cell_type": "markdown",
   "metadata": {},
   "source": [
    "**4，流程控制continue,break** "
   ]
  },
  {
   "cell_type": "code",
   "execution_count": 322,
   "metadata": {
    "ExecuteTime": {
     "end_time": "2019-09-08T14:35+0000",
     "start_time": "2019-09-08T14:35+0000"
    }
   },
   "outputs": [
    {
     "name": "stdout",
     "output_type": "stream",
     "text": [
      "hello\n",
      "\n",
      "helloworld"
     ]
    }
   ],
   "source": [
    "String s = 'hello world'\n",
    "\n",
    "//break跳出本层循环\n",
    "for(char c:s){\n",
    "    if(c ==' '){\n",
    "        break\n",
    "    }\n",
    "    System.out.print(c)\n",
    "    \n",
    "}\n",
    "\n",
    "System.out.println(\"\\n\")\n",
    "\n",
    "//continue跳过本次循环\n",
    "for(char c:s){\n",
    "    if(c ==' '){\n",
    "        continue\n",
    "    }\n",
    "    System.out.print(c)\n",
    "}\n",
    "\n"
   ]
  },
  {
   "cell_type": "code",
   "execution_count": null,
   "metadata": {},
   "outputs": [],
   "source": []
  },
  {
   "cell_type": "markdown",
   "metadata": {},
   "source": [
    "### 十六，异常处理"
   ]
  },
  {
   "cell_type": "markdown",
   "metadata": {},
   "source": [
    "![](Java异常体系.png)"
   ]
  },
  {
   "cell_type": "markdown",
   "metadata": {},
   "source": [
    "Java中的异常包括两种体系：Error和Exception.\n",
    "\n",
    "Error指的是严重的错误，程序一般对此无能为力。如：\n",
    "\n",
    "* OutOfMemoryError：内存耗尽\n",
    "* NoClassDefFoundError：无法加载某个Class\n",
    "* StackOverflowError：栈溢出\n",
    "\n",
    "而Exception则是运行时的错误，它可以被捕获并处理。\n",
    "\n",
    "某些异常是应用程序逻辑处理的一部分，应该捕获并处理。例如：\n",
    "\n",
    "* NumberFormatException：数值类型的格式错误\n",
    "* FileNotFoundException：未找到文件\n",
    "* SocketException：读取网络失败\n",
    "\n",
    "还有一些异常是程序逻辑编写不对造成的，应该修复程序本身。例如：\n",
    "\n",
    "* NullPointerException：对某个null的对象调用方法或字段\n",
    "* IndexOutOfBoundsException：数组索引越界\n",
    "\n",
    "Exception又分为两大类：\n",
    "\n",
    "* RuntimeException以及它的子类；\n",
    "* 非RuntimeException（包括IOException、ReflectiveOperationException等等）\n",
    "\n",
    "Java规定：\n",
    "\n",
    "必须捕获的异常，包括Exception及其子类，但不包括RuntimeException及其子类，这种类型的异常称为Checked Exception。\n",
    "\n",
    "不需要捕获的异常，包括Error及其子类，RuntimeException及其子类。\n",
    "\n",
    "\n",
    "异常捕获的语句是 try...catch...finally...此外还可以用throw抛出异常\n",
    "如：throw new IllegalArgumentException"
   ]
  },
  {
   "cell_type": "code",
   "execution_count": 328,
   "metadata": {
    "ExecuteTime": {
     "end_time": "2019-09-08T15:00+0000",
     "start_time": "2019-09-08T15:00+0000"
    }
   },
   "outputs": [
    {
     "name": "stdout",
     "output_type": "stream",
     "text": [
      "[104, 101, 108, 108, 111]\n"
     ]
    }
   ],
   "source": [
    "import java.io.UnsupportedEncodingException;\n",
    "import java.util.Arrays;\n",
    "\n",
    "public class Main {\n",
    "    public static void main(String[] args) {\n",
    "        try {\n",
    "            byte[] bs = toGBK(\"中文编码\");\n",
    "            System.out.println(Arrays.toString(bs));\n",
    "        } catch (UnsupportedEncodingException e) {\n",
    "            System.out.println(e);\n",
    "        }\n",
    "    }\n",
    "\n",
    "    static byte[] toGBK(String s) throws UnsupportedEncodingException {\n",
    "        // 用指定编码转换String为byte[]:\n",
    "        return s.getBytes(\"GBK\");\n",
    "    }\n",
    "}"
   ]
  },
  {
   "cell_type": "code",
   "execution_count": null,
   "metadata": {},
   "outputs": [],
   "source": []
  },
  {
   "cell_type": "markdown",
   "metadata": {},
   "source": [
    "### 十七，类的定义"
   ]
  },
  {
   "cell_type": "code",
   "execution_count": null,
   "metadata": {},
   "outputs": [],
   "source": []
  },
  {
   "cell_type": "code",
   "execution_count": null,
   "metadata": {},
   "outputs": [],
   "source": []
  },
  {
   "cell_type": "code",
   "execution_count": null,
   "metadata": {},
   "outputs": [],
   "source": []
  },
  {
   "cell_type": "code",
   "execution_count": null,
   "metadata": {},
   "outputs": [],
   "source": []
  },
  {
   "cell_type": "code",
   "execution_count": null,
   "metadata": {},
   "outputs": [],
   "source": []
  },
  {
   "cell_type": "markdown",
   "metadata": {},
   "source": [
    "### 十八，构造方法"
   ]
  },
  {
   "cell_type": "code",
   "execution_count": null,
   "metadata": {},
   "outputs": [],
   "source": []
  },
  {
   "cell_type": "code",
   "execution_count": null,
   "metadata": {},
   "outputs": [],
   "source": []
  },
  {
   "cell_type": "code",
   "execution_count": null,
   "metadata": {},
   "outputs": [],
   "source": []
  },
  {
   "cell_type": "markdown",
   "metadata": {},
   "source": [
    "### 十九，静态字段和方法"
   ]
  },
  {
   "cell_type": "code",
   "execution_count": null,
   "metadata": {},
   "outputs": [],
   "source": []
  },
  {
   "cell_type": "code",
   "execution_count": null,
   "metadata": {},
   "outputs": [],
   "source": []
  },
  {
   "cell_type": "code",
   "execution_count": null,
   "metadata": {},
   "outputs": [],
   "source": []
  },
  {
   "cell_type": "code",
   "execution_count": null,
   "metadata": {},
   "outputs": [],
   "source": []
  },
  {
   "cell_type": "code",
   "execution_count": null,
   "metadata": {},
   "outputs": [],
   "source": []
  },
  {
   "cell_type": "markdown",
   "metadata": {},
   "source": [
    "### 二十，继承和多态"
   ]
  },
  {
   "cell_type": "code",
   "execution_count": null,
   "metadata": {},
   "outputs": [],
   "source": []
  },
  {
   "cell_type": "code",
   "execution_count": null,
   "metadata": {},
   "outputs": [],
   "source": []
  },
  {
   "cell_type": "code",
   "execution_count": null,
   "metadata": {},
   "outputs": [],
   "source": []
  },
  {
   "cell_type": "code",
   "execution_count": null,
   "metadata": {},
   "outputs": [],
   "source": []
  },
  {
   "cell_type": "markdown",
   "metadata": {},
   "source": [
    "### 二十一，抽象类"
   ]
  },
  {
   "cell_type": "code",
   "execution_count": null,
   "metadata": {},
   "outputs": [],
   "source": []
  },
  {
   "cell_type": "code",
   "execution_count": null,
   "metadata": {},
   "outputs": [],
   "source": []
  },
  {
   "cell_type": "code",
   "execution_count": null,
   "metadata": {},
   "outputs": [],
   "source": []
  },
  {
   "cell_type": "markdown",
   "metadata": {},
   "source": [
    "### 二十二，接口"
   ]
  },
  {
   "cell_type": "code",
   "execution_count": null,
   "metadata": {},
   "outputs": [],
   "source": []
  },
  {
   "cell_type": "code",
   "execution_count": null,
   "metadata": {},
   "outputs": [],
   "source": []
  },
  {
   "cell_type": "code",
   "execution_count": null,
   "metadata": {},
   "outputs": [],
   "source": []
  },
  {
   "cell_type": "code",
   "execution_count": null,
   "metadata": {},
   "outputs": [],
   "source": []
  },
  {
   "cell_type": "markdown",
   "metadata": {},
   "source": [
    "### 二十三，反射"
   ]
  },
  {
   "cell_type": "code",
   "execution_count": null,
   "metadata": {},
   "outputs": [],
   "source": []
  },
  {
   "cell_type": "code",
   "execution_count": null,
   "metadata": {},
   "outputs": [],
   "source": []
  },
  {
   "cell_type": "code",
   "execution_count": null,
   "metadata": {},
   "outputs": [],
   "source": []
  },
  {
   "cell_type": "code",
   "execution_count": null,
   "metadata": {},
   "outputs": [],
   "source": []
  },
  {
   "cell_type": "code",
   "execution_count": null,
   "metadata": {},
   "outputs": [],
   "source": []
  },
  {
   "cell_type": "markdown",
   "metadata": {},
   "source": [
    "### 二十四，泛型"
   ]
  },
  {
   "cell_type": "code",
   "execution_count": null,
   "metadata": {},
   "outputs": [],
   "source": []
  },
  {
   "cell_type": "code",
   "execution_count": null,
   "metadata": {},
   "outputs": [],
   "source": []
  },
  {
   "cell_type": "code",
   "execution_count": null,
   "metadata": {},
   "outputs": [],
   "source": []
  },
  {
   "cell_type": "code",
   "execution_count": null,
   "metadata": {},
   "outputs": [],
   "source": []
  },
  {
   "cell_type": "code",
   "execution_count": null,
   "metadata": {},
   "outputs": [],
   "source": []
  },
  {
   "cell_type": "markdown",
   "metadata": {},
   "source": [
    "### 二十五，注解"
   ]
  },
  {
   "cell_type": "code",
   "execution_count": null,
   "metadata": {},
   "outputs": [],
   "source": []
  },
  {
   "cell_type": "code",
   "execution_count": null,
   "metadata": {},
   "outputs": [],
   "source": []
  },
  {
   "cell_type": "code",
   "execution_count": null,
   "metadata": {},
   "outputs": [],
   "source": []
  },
  {
   "cell_type": "code",
   "execution_count": null,
   "metadata": {},
   "outputs": [],
   "source": []
  },
  {
   "cell_type": "markdown",
   "metadata": {},
   "source": [
    "### 二十六，Java和Scala的对比"
   ]
  },
  {
   "cell_type": "code",
   "execution_count": null,
   "metadata": {},
   "outputs": [],
   "source": []
  },
  {
   "cell_type": "code",
   "execution_count": null,
   "metadata": {},
   "outputs": [],
   "source": []
  },
  {
   "cell_type": "code",
   "execution_count": null,
   "metadata": {},
   "outputs": [],
   "source": []
  },
  {
   "cell_type": "code",
   "execution_count": null,
   "metadata": {},
   "outputs": [],
   "source": []
  },
  {
   "cell_type": "markdown",
   "metadata": {},
   "source": [
    "### 二十七，Java和C++的对比"
   ]
  },
  {
   "cell_type": "code",
   "execution_count": null,
   "metadata": {},
   "outputs": [],
   "source": []
  },
  {
   "cell_type": "code",
   "execution_count": null,
   "metadata": {},
   "outputs": [],
   "source": []
  },
  {
   "cell_type": "code",
   "execution_count": null,
   "metadata": {},
   "outputs": [],
   "source": []
  },
  {
   "cell_type": "code",
   "execution_count": null,
   "metadata": {},
   "outputs": [],
   "source": []
  },
  {
   "cell_type": "code",
   "execution_count": null,
   "metadata": {},
   "outputs": [],
   "source": []
  },
  {
   "cell_type": "code",
   "execution_count": null,
   "metadata": {},
   "outputs": [],
   "source": []
  },
  {
   "cell_type": "code",
   "execution_count": null,
   "metadata": {},
   "outputs": [],
   "source": []
  }
 ],
 "metadata": {
  "kernelspec": {
   "display_name": "SciJava",
   "language": "groovy",
   "name": "scijava"
  },
  "language_info": {
   "codemirror_mode": "groovy",
   "file_extension": "",
   "mimetype": "",
   "name": "scijava",
   "nbconverter_exporter": "",
   "pygments_lexer": "groovy",
   "version": "1.0"
  }
 },
 "nbformat": 4,
 "nbformat_minor": 2
}
