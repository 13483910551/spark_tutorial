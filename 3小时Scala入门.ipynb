{
 "cells": [
  {
   "cell_type": "markdown",
   "metadata": {
    "slideshow": {
     "slide_type": "-"
    }
   },
   "source": [
    "### 〇，编程环境"
   ]
  },
  {
   "cell_type": "markdown",
   "metadata": {
    "slideshow": {
     "slide_type": "-"
    }
   },
   "source": [
    "1,安装Java\n",
    "\n",
    "2,配置Java环境变量\n",
    "\n",
    "3,安装Scala\n",
    "\n",
    "4,配置Scala环境变量\n",
    "\n",
    "参考菜鸟教程： https://www.runoob.com/scala/scala-install.html\n",
    "\n",
    "5，配置jupyter-scala环境\n",
    "\n",
    "下载以下kernel文件，解压缩后根据readme.txt中的指引操作即可\n",
    "\n",
    "https://github.com/rvilla87/Big-Data/raw/master/other/jupyter-Scala_2.11.11_kernel_Windows.zip"
   ]
  },
  {
   "cell_type": "markdown",
   "metadata": {},
   "source": [
    "### 一，算数运算"
   ]
  },
  {
   "cell_type": "code",
   "execution_count": 1,
   "metadata": {},
   "outputs": [
    {
     "data": {
      "text/plain": [
       "\u001b[36mres0\u001b[39m: \u001b[32mInt\u001b[39m = \u001b[32m31\u001b[39m"
      ]
     },
     "execution_count": 1,
     "metadata": {},
     "output_type": "execute_result"
    }
   ],
   "source": [
    "//四则运算\n",
    "1+(100-20)/4+5*2 "
   ]
  },
  {
   "cell_type": "code",
   "execution_count": 2,
   "metadata": {},
   "outputs": [
    {
     "data": {
      "text/plain": [
       "\u001b[36mres1\u001b[39m: \u001b[32mInt\u001b[39m = \u001b[32m1\u001b[39m"
      ]
     },
     "execution_count": 2,
     "metadata": {},
     "output_type": "execute_result"
    }
   ],
   "source": [
    "//求模运算\n",
    "5%2"
   ]
  },
  {
   "cell_type": "code",
   "execution_count": 3,
   "metadata": {},
   "outputs": [
    {
     "data": {
      "text/plain": [
       "\u001b[36mres2\u001b[39m: \u001b[32mDouble\u001b[39m = \u001b[32m8.0\u001b[39m"
      ]
     },
     "execution_count": 3,
     "metadata": {},
     "output_type": "execute_result"
    }
   ],
   "source": [
    "//乘方运算\n",
    "math.pow(2,3)"
   ]
  },
  {
   "cell_type": "code",
   "execution_count": 4,
   "metadata": {},
   "outputs": [
    {
     "data": {
      "text/plain": [
       "\u001b[36mres3\u001b[39m: \u001b[32mInt\u001b[39m = \u001b[32m1\u001b[39m"
      ]
     },
     "execution_count": 4,
     "metadata": {},
     "output_type": "execute_result"
    }
   ],
   "source": [
    "//绝对值\n",
    "math.abs(-1)"
   ]
  },
  {
   "cell_type": "code",
   "execution_count": 5,
   "metadata": {},
   "outputs": [
    {
     "data": {
      "text/plain": [
       "\u001b[36mres4\u001b[39m: \u001b[32mDouble\u001b[39m = \u001b[32m-1.0\u001b[39m"
      ]
     },
     "execution_count": 5,
     "metadata": {},
     "output_type": "execute_result"
    }
   ],
   "source": [
    "//三角函数\n",
    "math.cos(math.Pi)"
   ]
  },
  {
   "cell_type": "code",
   "execution_count": 6,
   "metadata": {},
   "outputs": [
    {
     "data": {
      "text/plain": [
       "\u001b[36mres5\u001b[39m: \u001b[32mDouble\u001b[39m = \u001b[32m4.605170185988092\u001b[39m"
      ]
     },
     "execution_count": 6,
     "metadata": {},
     "output_type": "execute_result"
    }
   ],
   "source": [
    "//对数函数\n",
    "math.log(100)"
   ]
  },
  {
   "cell_type": "code",
   "execution_count": 7,
   "metadata": {},
   "outputs": [
    {
     "data": {
      "text/plain": [
       "\u001b[36mres6\u001b[39m: \u001b[32mDouble\u001b[39m = \u001b[32m22026.465794806718\u001b[39m"
      ]
     },
     "execution_count": 7,
     "metadata": {},
     "output_type": "execute_result"
    }
   ],
   "source": [
    "//指数函数\n",
    "math.exp(10)"
   ]
  },
  {
   "cell_type": "markdown",
   "metadata": {},
   "source": [
    "### 二，输入输出"
   ]
  },
  {
   "cell_type": "markdown",
   "metadata": {},
   "source": [
    "输出：println,print,printf\n",
    "\n",
    "输入：scala.io.StdIn\n",
    "\n",
    "读文件：scala.io.Source\n",
    "\n",
    "写文件：java.io.PrintWriter"
   ]
  },
  {
   "cell_type": "markdown",
   "metadata": {},
   "source": [
    "**1，输出**"
   ]
  },
  {
   "cell_type": "code",
   "execution_count": 13,
   "metadata": {},
   "outputs": [
    {
     "name": "stdout",
     "output_type": "stream",
     "text": [
      "hello world\n",
      "hello China \n",
      "I'm Jimmy,I'm 17,my weight is 46.50 kg"
     ]
    }
   ],
   "source": [
    "//println换行，print不换行，printf格式化字符串\n",
    "println(\"hello world\")\n",
    "print(\"hello \")\n",
    "print(\"China \\n\")\n",
    "printf(\"I'm %s,I'm %d,my weight is %.2f kg\",\"Jimmy\",17,46.5)"
   ]
  },
  {
   "cell_type": "markdown",
   "metadata": {},
   "source": [
    "**2，输入**"
   ]
  },
  {
   "cell_type": "code",
   "execution_count": 14,
   "metadata": {},
   "outputs": [
    {
     "name": "stdout",
     "output_type": "stream",
     "text": [
      "input a sentencenull\n"
     ]
    },
    {
     "data": {
      "text/plain": [
       "\u001b[32mimport \u001b[39m\u001b[36mscala.io.StdIn\r\n",
       "\u001b[39m\r\n",
       "\u001b[36ms\u001b[39m: \u001b[32mString\u001b[39m = null"
      ]
     },
     "execution_count": 14,
     "metadata": {},
     "output_type": "execute_result"
    }
   ],
   "source": [
    "//readLine读入行，readInt读入整数\n",
    "//readDouble读入浮点数，readBoolean读入布尔值\n",
    "import scala.io.StdIn\n",
    "val s = StdIn.readLine(\"input a sentence\")\n",
    "println(s)"
   ]
  },
  {
   "cell_type": "markdown",
   "metadata": {},
   "source": [
    "**3，读文件** "
   ]
  },
  {
   "cell_type": "code",
   "execution_count": null,
   "metadata": {},
   "outputs": [],
   "source": []
  },
  {
   "cell_type": "code",
   "execution_count": 44,
   "metadata": {},
   "outputs": [
    {
     "name": "stdout",
     "output_type": "stream",
     "text": [
      "1\n",
      "2\n",
      "3\n",
      "4\n",
      "5\n"
     ]
    },
    {
     "data": {
      "text/plain": [
       "\u001b[32mimport \u001b[39m\u001b[36mscala.io.Source\r\n",
       "\u001b[39m\r\n",
       "\u001b[36mf\u001b[39m: \u001b[32mio\u001b[39m.\u001b[32mBufferedSource\u001b[39m = empty iterator"
      ]
     },
     "execution_count": 44,
     "metadata": {},
     "output_type": "execute_result"
    }
   ],
   "source": [
    "//读文件\n",
    "import scala.io.Source\n",
    "val f = Source.fromFile(\"data.txt\")\n",
    "f.foreach(print)\n",
    "f.close"
   ]
  },
  {
   "cell_type": "code",
   "execution_count": 48,
   "metadata": {},
   "outputs": [
    {
     "name": "stdout",
     "output_type": "stream",
     "text": [
      "1\n",
      "2\n",
      "3\n",
      "4\n",
      "5\n"
     ]
    },
    {
     "data": {
      "text/plain": [
       "\u001b[32mimport \u001b[39m\u001b[36mscala.io.Source\r\n",
       "\u001b[39m\r\n",
       "\u001b[36mf\u001b[39m: \u001b[32mio\u001b[39m.\u001b[32mBufferedSource\u001b[39m = empty iterator"
      ]
     },
     "execution_count": 48,
     "metadata": {},
     "output_type": "execute_result"
    }
   ],
   "source": [
    "//读文件\n",
    "import scala.io.Source\n",
    "val f=Source.fromFile(\"data.txt\")\n",
    "for(line <- f.getLines)\n",
    "{\n",
    "  println(line)\n",
    "}"
   ]
  },
  {
   "cell_type": "code",
   "execution_count": 49,
   "metadata": {},
   "outputs": [
    {
     "name": "stdout",
     "output_type": "stream",
     "text": [
      "hello world\n",
      "hello China\n"
     ]
    },
    {
     "data": {
      "text/plain": [
       "\u001b[32mimport \u001b[39m\u001b[36mscala.io.Source\r\n",
       "\u001b[39m\r\n",
       "\u001b[36mf\u001b[39m: \u001b[32mio\u001b[39m.\u001b[32mBufferedSource\u001b[39m = empty iterator"
      ]
     },
     "execution_count": 49,
     "metadata": {},
     "output_type": "execute_result"
    }
   ],
   "source": [
    "//读文件\n",
    "import scala.io.Source\n",
    "val f = Source.fromFile(\"text.txt\")\n",
    "println(f.mkString)"
   ]
  },
  {
   "cell_type": "code",
   "execution_count": 50,
   "metadata": {},
   "outputs": [
    {
     "name": "stdout",
     "output_type": "stream",
     "text": [
      "List(hello world, hello China)\r\n"
     ]
    },
    {
     "data": {
      "text/plain": [
       "\u001b[32mimport \u001b[39m\u001b[36mscala.io.Source\r\n",
       "\u001b[39m\r\n",
       "\u001b[36mf\u001b[39m: \u001b[32mio\u001b[39m.\u001b[32mBufferedSource\u001b[39m = empty iterator\r\n",
       "\u001b[36ms\u001b[39m: \u001b[32mList\u001b[39m[\u001b[32mString\u001b[39m] = \u001b[33mList\u001b[39m(\u001b[32m\"hello world\"\u001b[39m, \u001b[32m\"hello China\"\u001b[39m)"
      ]
     },
     "execution_count": 50,
     "metadata": {},
     "output_type": "execute_result"
    }
   ],
   "source": [
    "//读文件\n",
    "import scala.io.Source\n",
    "val f = Source.fromFile(\"text.txt\")\n",
    "val s = f.getLines.toList\n",
    "println(s)"
   ]
  },
  {
   "cell_type": "code",
   "execution_count": 38,
   "metadata": {},
   "outputs": [
    {
     "name": "stdout",
     "output_type": "stream",
     "text": [
      "hello worldhello China\r\n"
     ]
    },
    {
     "data": {
      "text/plain": [
       "\u001b[36mf\u001b[39m: \u001b[32mio\u001b[39m.\u001b[32mBufferedSource\u001b[39m = empty iterator\r\n",
       "\u001b[36ms\u001b[39m: \u001b[32mString\u001b[39m = \u001b[32m\"hello worldhello China\"\u001b[39m"
      ]
     },
     "execution_count": 38,
     "metadata": {},
     "output_type": "execute_result"
    }
   ],
   "source": [
    "//读文件\n",
    "import scala.io.Source\n",
    "val f = Source.fromFile(\"text.txt\")\n",
    "val s = f.getLines.mkString\n",
    "println(s)"
   ]
  },
  {
   "cell_type": "code",
   "execution_count": null,
   "metadata": {},
   "outputs": [],
   "source": [
    "f.close"
   ]
  },
  {
   "cell_type": "markdown",
   "metadata": {},
   "source": [
    "**4，写文件**"
   ]
  },
  {
   "cell_type": "code",
   "execution_count": 27,
   "metadata": {},
   "outputs": [
    {
     "data": {
      "text/plain": [
       "\u001b[32mimport \u001b[39m\u001b[36mjava.io._\r\n",
       "\u001b[39m\r\n",
       "\u001b[36mout\u001b[39m: \u001b[32mPrintWriter\u001b[39m = java.io.PrintWriter@5b778f9b"
      ]
     },
     "execution_count": 27,
     "metadata": {},
     "output_type": "execute_result"
    }
   ],
   "source": [
    "import java.io._\n",
    "val out = new PrintWriter(\"data.txt\")\n",
    "for (i<- 1 to 5) out.println(i)\n",
    "out.close()"
   ]
  },
  {
   "cell_type": "code",
   "execution_count": 32,
   "metadata": {},
   "outputs": [
    {
     "data": {
      "text/plain": [
       "\u001b[32mimport \u001b[39m\u001b[36mjava.io._\r\n",
       "\u001b[39m\r\n",
       "\u001b[36mwriter\u001b[39m: \u001b[32mPrintWriter\u001b[39m = java.io.PrintWriter@77de0ba9"
      ]
     },
     "execution_count": 32,
     "metadata": {},
     "output_type": "execute_result"
    }
   ],
   "source": [
    "import java.io._\n",
    "val writer = new PrintWriter(new File(\"text.txt\" ))\n",
    "writer.write(\"hello world\\n\")\n",
    "writer.write(\"hello China\")\n",
    "writer.close()\n"
   ]
  },
  {
   "cell_type": "code",
   "execution_count": null,
   "metadata": {},
   "outputs": [],
   "source": []
  },
  {
   "cell_type": "markdown",
   "metadata": {},
   "source": [
    "### 三，导入包Package"
   ]
  },
  {
   "cell_type": "markdown",
   "metadata": {},
   "source": [
    "scala有以下一些常见的导入package的方式\n",
    "\n",
    "1,引入包中全部对象 (import scala.io._)\n",
    "\n",
    "2,引入某个对象 (import scala.io.StdIn)\n",
    "\n",
    "3,引入某些对象 (import scala.io.{StdIn,Source})\n",
    "\n",
    "4,引入后重命名 (import scala.io.{Source => Src,StdIn})\n",
    "\n",
    "5,隐藏某些对象 (import scala.io.{Source => _,StdIn})\n",
    "\n",
    "6,隐式引入 (java.lang_,scala._,Predef._默认被引入)"
   ]
  },
  {
   "cell_type": "code",
   "execution_count": 57,
   "metadata": {},
   "outputs": [
    {
     "name": "stdout",
     "output_type": "stream",
     "text": [
      "hello world\n",
      "hello China\n"
     ]
    },
    {
     "data": {
      "text/plain": [
       "\u001b[36mf\u001b[39m: \u001b[32mio\u001b[39m.\u001b[32mBufferedSource\u001b[39m = empty iterator"
      ]
     },
     "execution_count": 57,
     "metadata": {},
     "output_type": "execute_result"
    }
   ],
   "source": [
    "//不引入，直接用全名使用\n",
    "val f = scala.io.Source.fromFile(\"text.txt\")\n",
    "f.getLines.foreach(println)"
   ]
  },
  {
   "cell_type": "code",
   "execution_count": 58,
   "metadata": {},
   "outputs": [
    {
     "name": "stdout",
     "output_type": "stream",
     "text": [
      "hello world\n",
      "hello China\n",
      "input a sentencenull\n"
     ]
    },
    {
     "data": {
      "text/plain": [
       "\u001b[32mimport \u001b[39m\u001b[36mscala.io._\r\n",
       "\u001b[39m"
      ]
     },
     "execution_count": 58,
     "metadata": {},
     "output_type": "execute_result"
    }
   ],
   "source": [
    "//引入全部\n",
    "import scala.io._\n",
    "println(Source.fromFile(\"text.txt\").mkString)\n",
    "println(StdIn.readLine(\"input a sentence\"))"
   ]
  },
  {
   "cell_type": "code",
   "execution_count": 63,
   "metadata": {},
   "outputs": [
    {
     "name": "stdout",
     "output_type": "stream",
     "text": [
      "hello world\n",
      "hello China\n",
      "input a sentencenull\n"
     ]
    },
    {
     "data": {
      "text/plain": [
       "\u001b[32mimport \u001b[39m\u001b[36mscala.io.{Source,StdIn,BufferedSource}\r\n",
       "\u001b[39m"
      ]
     },
     "execution_count": 63,
     "metadata": {},
     "output_type": "execute_result"
    }
   ],
   "source": [
    "//引入某些类\n",
    "import scala.io.{Source,StdIn,BufferedSource}\n",
    "println(Source.fromFile(\"text.txt\").mkString)\n",
    "println(StdIn.readLine(\"input a sentence\"))"
   ]
  },
  {
   "cell_type": "code",
   "execution_count": 64,
   "metadata": {},
   "outputs": [
    {
     "name": "stdout",
     "output_type": "stream",
     "text": [
      "hello world\n",
      "hello China\n"
     ]
    },
    {
     "data": {
      "text/plain": [
       "\u001b[32mimport \u001b[39m\u001b[36mscala.io.{Source => Src,StdIn}\r\n",
       "\u001b[39m"
      ]
     },
     "execution_count": 64,
     "metadata": {},
     "output_type": "execute_result"
    }
   ],
   "source": [
    "//引入后重命名\n",
    "import scala.io.{Source => Src,StdIn}\n",
    "println(Src.fromFile(\"text.txt\").mkString)"
   ]
  },
  {
   "cell_type": "code",
   "execution_count": 69,
   "metadata": {},
   "outputs": [
    {
     "data": {
      "text/plain": [
       "\u001b[32mimport \u001b[39m\u001b[36mscala.io.{Source => _,StdIn}\r\n",
       "\u001b[39m\r\n",
       "\u001b[36mres68_1\u001b[39m: \u001b[32mSource\u001b[39m.type = scala.io.Source$@16693f6e"
      ]
     },
     "execution_count": 69,
     "metadata": {},
     "output_type": "execute_result"
    }
   ],
   "source": [
    "//隐藏Source\n",
    "import scala.io.{Source => _,StdIn}"
   ]
  },
  {
   "cell_type": "code",
   "execution_count": 73,
   "metadata": {},
   "outputs": [
    {
     "name": "stdout",
     "output_type": "stream",
     "text": [
      "hello world\r\n"
     ]
    },
    {
     "data": {
      "text/plain": [
       "\u001b[36mres72_1\u001b[39m: \u001b[32mString\u001b[39m = \u001b[32m\"23123\"\u001b[39m"
      ]
     },
     "execution_count": 73,
     "metadata": {},
     "output_type": "execute_result"
    }
   ],
   "source": [
    "//隐式导入\n",
    "//java.lang包，scala包以及Predef对象是所有scala程序默认导入的\n",
    "//其中Predef对象中有println,断言assert以及一些隐式类型转换方法\n",
    "Predef.println(\"hello world\")\n",
    "23 + \"123\""
   ]
  },
  {
   "cell_type": "code",
   "execution_count": null,
   "metadata": {},
   "outputs": [],
   "source": [
    "//import java.lang._ // in JVM projects, or system namespace in .NET\n",
    "//import scala._     // everything in the scala package\n",
    "//import Predef._    // everything in the Predef object"
   ]
  },
  {
   "cell_type": "code",
   "execution_count": null,
   "metadata": {},
   "outputs": [],
   "source": []
  },
  {
   "cell_type": "markdown",
   "metadata": {},
   "source": [
    "### 四，语法规则"
   ]
  },
  {
   "cell_type": "raw",
   "metadata": {},
   "source": [
    "1,标识符\n",
    "\n",
    "标识符由字母和数字组成，遵循驼峰命名规则。\n",
    "\n",
    "类和对象的名称以大写字母开头\n",
    "方法的名称以小写字母开头\n",
    "\n",
    "$可以被用作字母，但要慎重使用。\n",
    "因为有些特殊符号如 + 的内部表示为 $plus\n",
    "\n",
    "当存在标志符和关键字冲突时，可以加上``来避免冲突"
   ]
  },
  {
   "cell_type": "code",
   "execution_count": 85,
   "metadata": {},
   "outputs": [
    {
     "data": {
      "text/plain": [
       "\u001b[36mres84\u001b[39m: \u001b[32mInt\u001b[39m = \u001b[32m2\u001b[39m"
      ]
     },
     "execution_count": 85,
     "metadata": {},
     "output_type": "execute_result"
    }
   ],
   "source": [
    "1+1"
   ]
  },
  {
   "cell_type": "code",
   "execution_count": 86,
   "metadata": {},
   "outputs": [
    {
     "data": {
      "text/plain": [
       "\u001b[36mres85\u001b[39m: \u001b[32mInt\u001b[39m = \u001b[32m2\u001b[39m"
      ]
     },
     "execution_count": 86,
     "metadata": {},
     "output_type": "execute_result"
    }
   ],
   "source": [
    "//和1+1等价\n",
    "1.$plus(1)"
   ]
  },
  {
   "cell_type": "code",
   "execution_count": 87,
   "metadata": {},
   "outputs": [
    {
     "data": {
      "text/plain": [
       "\u001b[36mvec\u001b[39m: \u001b[32mcollection\u001b[39m.\u001b[32mimmutable\u001b[39m.\u001b[32mIndexedSeq\u001b[39m[\u001b[32mInt\u001b[39m] = \u001b[33mVector\u001b[39m(\u001b[32m0\u001b[39m, \u001b[32m1\u001b[39m, \u001b[32m4\u001b[39m, \u001b[32m9\u001b[39m)\r\n",
       "\u001b[36m`yield`\u001b[39m: \u001b[32mInt\u001b[39m = \u001b[32m123\u001b[39m"
      ]
     },
     "execution_count": 87,
     "metadata": {},
     "output_type": "execute_result"
    }
   ],
   "source": [
    "//yield为生成器保留关键字，加上``避免冲突\n",
    "val vec = for(i<- 0 to 3)yield i*i\n",
    "val `yield` = 123"
   ]
  },
  {
   "cell_type": "raw",
   "metadata": {},
   "source": [
    "2，注释\n",
    "多行注释用/*开头，以*/结尾包括\n",
    "单行注释用//开头"
   ]
  },
  {
   "cell_type": "code",
   "execution_count": null,
   "metadata": {},
   "outputs": [],
   "source": []
  },
  {
   "cell_type": "code",
   "execution_count": 89,
   "metadata": {},
   "outputs": [
    {
     "name": "stdout",
     "output_type": "stream",
     "text": [
      "Hello, world!\r\n"
     ]
    },
    {
     "data": {
      "text/plain": [
       "defined \u001b[32mfunction\u001b[39m \u001b[36mhello\u001b[39m"
      ]
     },
     "execution_count": 89,
     "metadata": {},
     "output_type": "execute_result"
    }
   ],
   "source": [
    "/* multiline comment\n",
    "some description\n",
    "more description\n",
    "*/\n",
    "def hello() {\n",
    "  // oneline comment\n",
    "  println(\"Hello, world!\");\n",
    "}\n",
    "\n",
    "hello()"
   ]
  },
  {
   "cell_type": "markdown",
   "metadata": {},
   "source": [
    "3，数据类型\n",
    "\n",
    "scala中的数据类型有Byte,Short,Int,Long,Float,Double,Char,String,Boolean.\n",
    "\n",
    "以及\n",
    "\n",
    "Unit(表示无值与C语言void等同,用作无返回值的方法的返回类型),\n",
    "Null(AnyRef的子类，null是它的唯一对象),\n",
    "Nothing(所有类型的子类，它没有对象),\n",
    "Any(所有其他类的超类),\n",
    "AnyRef(所有引用类reference class的超类)\n",
    "\n",
    "等等\n"
   ]
  },
  {
   "cell_type": "markdown",
   "metadata": {},
   "source": [
    "![](scala数据类型.png)"
   ]
  },
  {
   "cell_type": "code",
   "execution_count": null,
   "metadata": {},
   "outputs": [],
   "source": []
  },
  {
   "cell_type": "code",
   "execution_count": 90,
   "metadata": {},
   "outputs": [
    {
     "data": {
      "text/plain": [
       "\u001b[36mres89_0\u001b[39m: \u001b[32mInt\u001b[39m = \u001b[32m23\u001b[39m\r\n",
       "\u001b[36mres89_1\u001b[39m: \u001b[32mLong\u001b[39m = \u001b[32m12L\u001b[39m\r\n",
       "\u001b[36mres89_2\u001b[39m: \u001b[32mFloat\u001b[39m = \u001b[32m1.1F\u001b[39m\r\n",
       "\u001b[36mres89_3\u001b[39m: \u001b[32mDouble\u001b[39m = \u001b[32m2.17\u001b[39m"
      ]
     },
     "execution_count": 90,
     "metadata": {},
     "output_type": "execute_result"
    }
   ],
   "source": [
    "//数值类型\n",
    "23\n",
    "12L\n",
    "1.1F\n",
    "2.17D"
   ]
  },
  {
   "cell_type": "code",
   "execution_count": 96,
   "metadata": {},
   "outputs": [
    {
     "name": "stdout",
     "output_type": "stream",
     "text": [
      "\n",
      "hello world\n",
      "hello China\n",
      "\r\n"
     ]
    },
    {
     "data": {
      "text/plain": [
       "\u001b[36mchar\u001b[39m: \u001b[32mChar\u001b[39m = \u001b[32m'a'\u001b[39m\r\n",
       "\u001b[36mstr\u001b[39m: \u001b[32mString\u001b[39m = \u001b[32m\"hello world\"\u001b[39m\r\n",
       "\u001b[36mlongstr\u001b[39m: \u001b[32mString\u001b[39m = \u001b[32m\"\"\"\n",
       "\n",
       "hello world\n",
       "hello China\n",
       "\n",
       "\"\"\"\u001b[39m"
      ]
     },
     "execution_count": 96,
     "metadata": {},
     "output_type": "execute_result"
    }
   ],
   "source": [
    "//字符和字符串\n",
    "val char = 'a'\n",
    "val str = \"hello world\"\n",
    "\n",
    "val longstr = \n",
    "\"\"\"\n",
    "hello world\n",
    "hello China\n",
    "\"\"\"\n",
    "println(longstr)"
   ]
  },
  {
   "cell_type": "code",
   "execution_count": 99,
   "metadata": {},
   "outputs": [
    {
     "data": {
      "text/plain": [
       "\u001b[36mres98_0\u001b[39m: \u001b[32mBoolean\u001b[39m = \u001b[32mtrue\u001b[39m\r\n",
       "\u001b[36mres98_1\u001b[39m: \u001b[32mString\u001b[39m = \u001b[32m\"String\"\u001b[39m\r\n",
       "\u001b[36mres98_2\u001b[39m: \u001b[32mBoolean\u001b[39m = \u001b[32mtrue\u001b[39m"
      ]
     },
     "execution_count": 99,
     "metadata": {},
     "output_type": "execute_result"
    }
   ],
   "source": [
    "//判断数据类型\n",
    "str.getClass ==  classOf[String]\n",
    "str.getClass.getSimpleName\n",
    "str.isInstanceOf[Any]"
   ]
  },
  {
   "cell_type": "code",
   "execution_count": 98,
   "metadata": {},
   "outputs": [
    {
     "data": {
      "text/plain": [
       "\u001b[36mres97_0\u001b[39m: \u001b[32mString\u001b[39m = \u001b[32m\"1\"\u001b[39m\r\n",
       "\u001b[36mres97_1\u001b[39m: \u001b[32mInt\u001b[39m = \u001b[32m123\u001b[39m\r\n",
       "\u001b[36mres97_2\u001b[39m: \u001b[32mString\u001b[39m = \u001b[32m\"123\"\u001b[39m"
      ]
     },
     "execution_count": 98,
     "metadata": {},
     "output_type": "execute_result"
    }
   ],
   "source": [
    "//强制类型转换,\n",
    "//可以用句点符号或者空格调用方法\n",
    "1.toString\n",
    "\"123\".toInt\n",
    "123 toString"
   ]
  },
  {
   "cell_type": "code",
   "execution_count": 100,
   "metadata": {},
   "outputs": [
    {
     "data": {
      "text/plain": [
       "\u001b[36mres99_0\u001b[39m: \u001b[32mDouble\u001b[39m = \u001b[32m7.3\u001b[39m\r\n",
       "\u001b[36mres99_1\u001b[39m: \u001b[32mString\u001b[39m = \u001b[32m\"1 world\"\u001b[39m"
      ]
     },
     "execution_count": 100,
     "metadata": {},
     "output_type": "execute_result"
    }
   ],
   "source": [
    "//自动类型转换\n",
    "2.3 + 5\n",
    "1 + \" world\""
   ]
  },
  {
   "cell_type": "raw",
   "metadata": {},
   "source": [
    "4, 变量\n",
    "\n",
    "scala支持两种类型的变量，即常量val和变量var。\n",
    "常量在程序中不可以被重新指向，变量可以被重新指向新的对象。\n",
    "声明变量时可以指定类型，也可以由程序根据初始值自动推断。\n"
   ]
  },
  {
   "cell_type": "code",
   "execution_count": 103,
   "metadata": {},
   "outputs": [
    {
     "data": {
      "text/plain": [
       "\u001b[36ma\u001b[39m: \u001b[32mInt\u001b[39m = \u001b[32m10\u001b[39m\r\n",
       "\u001b[36mb\u001b[39m: \u001b[32mInt\u001b[39m = \u001b[32m10\u001b[39m"
      ]
     },
     "execution_count": 103,
     "metadata": {},
     "output_type": "execute_result"
    }
   ],
   "source": [
    "val a = 10\n",
    "val b:Int = 10\n",
    "// a = 15 error!"
   ]
  },
  {
   "cell_type": "code",
   "execution_count": 104,
   "metadata": {},
   "outputs": [
    {
     "data": {
      "text/plain": [
       "\u001b[36mx\u001b[39m: \u001b[32mString\u001b[39m = \u001b[32m\"abcedf\"\u001b[39m"
      ]
     },
     "execution_count": 104,
     "metadata": {},
     "output_type": "execute_result"
    }
   ],
   "source": [
    "var x = \"abc\"\n",
    "x = x + \"edf\""
   ]
  },
  {
   "cell_type": "code",
   "execution_count": 105,
   "metadata": {},
   "outputs": [
    {
     "data": {
      "text/plain": [
       "\u001b[36mm\u001b[39m: \u001b[32mInt\u001b[39m = \u001b[32m0\u001b[39m\r\n",
       "\u001b[36mn\u001b[39m: \u001b[32mInt\u001b[39m = \u001b[32m0\u001b[39m"
      ]
     },
     "execution_count": 105,
     "metadata": {},
     "output_type": "execute_result"
    }
   ],
   "source": [
    "//同时对多个变量进行声明\n",
    "val m,n = 0"
   ]
  },
  {
   "cell_type": "markdown",
   "metadata": {},
   "source": [
    "5，编译执行\n",
    "\n",
    "scala代码有以下几种执行方式：\n",
    "\n",
    "(1)进入scala解释器交互式执行\n",
    "\n",
    "(2)保存成后缀名为HelloWorld.scala的脚本，然后在cmd中输入 scala HelloWorld.scala\n",
    "\n",
    "(3)使用scalac进行编译 scalac HelloWorld.scala，然后生成HelloWorld.$class和HelloWorld.class的JVM文件，再用 scala -classpath . HelloWorld 执行。\n",
    "\n",
    "(4)使用sbt或者maven等项目管理工具将项目及其依赖编译成jar包，\n",
    "使用java -jar HelloWorld.jar执行\n",
    "\n",
    "\n",
    "注意当使用第3种方法scalac把代码编译时，脚本中必须要定义object单例对象。\n",
    "并且在object对象中实现main方法作为程序入口。\n",
    "\n",
    "Appendix：\n",
    "可以使用javap HelloWorld 将反编译成java。"
   ]
  },
  {
   "cell_type": "code",
   "execution_count": 106,
   "metadata": {},
   "outputs": [
    {
     "data": {
      "text/plain": [
       "defined \u001b[32mobject\u001b[39m \u001b[36mHelloWorld\u001b[39m"
      ]
     },
     "execution_count": 106,
     "metadata": {},
     "output_type": "execute_result"
    }
   ],
   "source": [
    "object HelloWorld {\n",
    "   def main(args: Array[String]):Unit={\n",
    "      println(\"Hello, world!\") \n",
    "   }\n",
    "}\n"
   ]
  },
  {
   "cell_type": "code",
   "execution_count": 106,
   "metadata": {},
   "outputs": [],
   "source": [
    "//另存为HelloWorld.scala\n",
    "//scalac HelloWorld.scala 进行编译\n",
    "//scala -classpath . HelloWorld 执行"
   ]
  },
  {
   "cell_type": "raw",
   "metadata": {},
   "source": [
    "6,scala中的标点括号用法汇总\n",
    "\n",
    "(1)小括号()用来表示优先级，传入函数参数序列，以及传入容器的下标或key\n",
    "(2)中括号[]用来表示容器的元素的数值类型\n",
    "(3)大括号{}用来划分作用域，{}的返回值为最后一个语句的值。\n",
    "\n",
    "(4)句点符号.表示方法，可以用空格代替\n",
    "(5)冒号:用来说明变量的数据类型\n",
    "(6)=>用来表示匿名函数的映射关系\n",
    "(7)->用来指定映射Map中的键值关系\n",
    "(8)<-用来指定for表达式的迭代器\n",
    "(9)下划线_在scala中被用作占位符表示函数参数或作为引入package的通配符\n"
   ]
  },
  {
   "cell_type": "markdown",
   "metadata": {},
   "source": [
    "### 五，Scala数据结构概述"
   ]
  },
  {
   "cell_type": "markdown",
   "metadata": {},
   "source": [
    "Scala中最常用的数据结构为数组Array以及collection包中的各种容器类。\n",
    "按照两个角度进行划分，容器类可以分为可变或者不可变类型，有序或者无序类型。\n",
    "\n",
    "有序的数据类型封装在 scala.collection.mutable包中，\n",
    "无序的数据类型封装在 scala.collection.immutable包中。\n",
    "\n",
    "常用的数据结构有以下一些：\n",
    "\n",
    "Array 定长数组： 有序，可变类型，长度不可变。\n",
    "\n",
    "List 列表：有序，不可变类型。\n",
    "\n",
    "ArrayBuffer 不定长数组：有序，可变类型，长度可以扩展。\n",
    "\n",
    "Set 集合：无序，不可变类型。\n",
    "\n",
    "Map 映射：无序，不可变类型。\n",
    "\n",
    "Tuple 元组：有序，不可变类型，可以存放不同数据类型元素。\n",
    "\n",
    "Option 选项：表示有可能包含值的容器，也可能不包含值。\n",
    "\n",
    "Iterator 迭代器：不属于容器，但是提供了遍历容器的方法。\n",
    "\n",
    "除了Array和ArrayBuffer默认引入的是可变类型外,其它数据结构默认引入的都是不可变的，可以显式地从scala.collection.mutable引入对应可变容器。"
   ]
  },
  {
   "cell_type": "code",
   "execution_count": 108,
   "metadata": {},
   "outputs": [
    {
     "data": {
      "text/plain": [
       "\u001b[32mimport \u001b[39m\u001b[36mscala.collection.mutable\r\n",
       "\u001b[39m\r\n",
       "\u001b[32mimport \u001b[39m\u001b[36mscala.collection.immutable\u001b[39m"
      ]
     },
     "execution_count": 108,
     "metadata": {},
     "output_type": "execute_result"
    }
   ],
   "source": [
    "import scala.collection.mutable\n",
    "import scala.collection.immutable"
   ]
  },
  {
   "cell_type": "code",
   "execution_count": 131,
   "metadata": {},
   "outputs": [
    {
     "data": {
      "text/plain": [
       "\u001b[36marr\u001b[39m: \u001b[32mArray\u001b[39m[\u001b[32mInt\u001b[39m] = \u001b[33mArray\u001b[39m(\u001b[32m1\u001b[39m, \u001b[32m2\u001b[39m, \u001b[32m0\u001b[39m)"
      ]
     },
     "execution_count": 131,
     "metadata": {},
     "output_type": "execute_result"
    }
   ],
   "source": [
    "//Array可变\n",
    "val arr = Array(1,2,3)\n",
    "arr(2) = 0"
   ]
  },
  {
   "cell_type": "code",
   "execution_count": 132,
   "metadata": {},
   "outputs": [
    {
     "data": {
      "text/plain": [
       "\u001b[36mlist\u001b[39m: \u001b[32mList\u001b[39m[\u001b[32mInt\u001b[39m] = \u001b[33mList\u001b[39m(\u001b[32m1\u001b[39m, \u001b[32m2\u001b[39m, \u001b[32m3\u001b[39m)\r\n",
       "\u001b[36mres131_1\u001b[39m: \u001b[32mBoolean\u001b[39m = \u001b[32mtrue\u001b[39m"
      ]
     },
     "execution_count": 132,
     "metadata": {},
     "output_type": "execute_result"
    }
   ],
   "source": [
    "//List不可变\n",
    "val list = List(1,2,3)\n",
    "list.isInstanceOf[Immutable]\n",
    "//list(2) = 0 //error"
   ]
  },
  {
   "cell_type": "code",
   "execution_count": 134,
   "metadata": {},
   "outputs": [
    {
     "data": {
      "text/plain": [
       "\u001b[32mimport \u001b[39m\u001b[36mscala.collection.mutable.ListBuffer\r\n",
       "\u001b[39m\r\n",
       "\u001b[36ml\u001b[39m: \u001b[32mListBuffer\u001b[39m[\u001b[32mInt\u001b[39m] = \u001b[33mListBuffer\u001b[39m(\u001b[32m1\u001b[39m, \u001b[32m2\u001b[39m, \u001b[32m3\u001b[39m)\r\n",
       "\u001b[36mres133_2\u001b[39m: \u001b[32mBoolean\u001b[39m = \u001b[32mtrue\u001b[39m"
      ]
     },
     "execution_count": 134,
     "metadata": {},
     "output_type": "execute_result"
    }
   ],
   "source": [
    "import scala.collection.mutable.ListBuffer\n",
    "val l = ListBuffer(1,2,3)\n",
    "l.isInstanceOf[Mutable]"
   ]
  },
  {
   "cell_type": "markdown",
   "metadata": {},
   "source": [
    "### 六，String 字符串"
   ]
  },
  {
   "cell_type": "markdown",
   "metadata": {},
   "source": [
    "字符串的操作主要包括创建，连接，分割，替换，格式化字符串等。"
   ]
  },
  {
   "cell_type": "markdown",
   "metadata": {},
   "source": [
    "**1，创建字符串**"
   ]
  },
  {
   "cell_type": "code",
   "execution_count": 135,
   "metadata": {},
   "outputs": [
    {
     "data": {
      "text/plain": [
       "\u001b[36ms1\u001b[39m: \u001b[32mString\u001b[39m = \u001b[32m\"hello world\"\u001b[39m\r\n",
       "\u001b[36ms2\u001b[39m: \u001b[32mString\u001b[39m = \u001b[32m\"hello China\"\u001b[39m\r\n",
       "\u001b[36ms3\u001b[39m: \u001b[32mString\u001b[39m = \u001b[32m\"\"\"\n",
       "\n",
       "hello world\n",
       "hello China\n",
       "hello Beijing\n",
       "\n",
       "\"\"\"\u001b[39m"
      ]
     },
     "execution_count": 135,
     "metadata": {},
     "output_type": "execute_result"
    }
   ],
   "source": [
    "val s1 = \"hello world\"\n",
    "val s2 = \"hello China\"\n",
    "val s3 = \n",
    "\"\"\"\n",
    "hello world\n",
    "hello China\n",
    "hello Beijing\n",
    "\"\"\""
   ]
  },
  {
   "cell_type": "markdown",
   "metadata": {},
   "source": [
    "** 2，字符串常用操作 **"
   ]
  },
  {
   "cell_type": "code",
   "execution_count": 136,
   "metadata": {},
   "outputs": [
    {
     "data": {
      "text/plain": [
       "\u001b[36mres135\u001b[39m: \u001b[32mString\u001b[39m = \u001b[32m\"\"\"\n",
       "hello world\n",
       "hello China\n",
       "\"\"\"\u001b[39m"
      ]
     },
     "execution_count": 136,
     "metadata": {},
     "output_type": "execute_result"
    }
   ],
   "source": [
    "//+号字符串连接\n",
    "s1 +\"\\n\"+s2"
   ]
  },
  {
   "cell_type": "code",
   "execution_count": 137,
   "metadata": {},
   "outputs": [
    {
     "data": {
      "text/plain": [
       "\u001b[36mres136\u001b[39m: \u001b[32mString\u001b[39m = \u001b[32m\"hello world hello Beijing\"\u001b[39m"
      ]
     },
     "execution_count": 137,
     "metadata": {},
     "output_type": "execute_result"
    }
   ],
   "source": [
    "//concat字符串连接\n",
    "s1.concat(\" hello Beijing\")"
   ]
  },
  {
   "cell_type": "code",
   "execution_count": 138,
   "metadata": {},
   "outputs": [
    {
     "data": {
      "text/plain": [
       "\u001b[36mres137\u001b[39m: \u001b[32mString\u001b[39m = \u001b[32m\"hello Beijing\"\u001b[39m"
      ]
     },
     "execution_count": 138,
     "metadata": {},
     "output_type": "execute_result"
    }
   ],
   "source": [
    "\"hello\" concat \" \" concat \"Beijing\""
   ]
  },
  {
   "cell_type": "code",
   "execution_count": 139,
   "metadata": {},
   "outputs": [
    {
     "data": {
      "text/plain": [
       "\u001b[36mres138\u001b[39m: \u001b[32mInt\u001b[39m = \u001b[32m11\u001b[39m"
      ]
     },
     "execution_count": 139,
     "metadata": {},
     "output_type": "execute_result"
    }
   ],
   "source": [
    "//字符串长度\n",
    "s1.length"
   ]
  },
  {
   "cell_type": "code",
   "execution_count": 140,
   "metadata": {},
   "outputs": [
    {
     "data": {
      "text/plain": [
       "\u001b[36mres139\u001b[39m: \u001b[32mChar\u001b[39m = \u001b[32m'e'\u001b[39m"
      ]
     },
     "execution_count": 140,
     "metadata": {},
     "output_type": "execute_result"
    }
   ],
   "source": [
    "//取某个字符\n",
    "s1(1)"
   ]
  },
  {
   "cell_type": "code",
   "execution_count": 141,
   "metadata": {},
   "outputs": [
    {
     "data": {
      "text/plain": [
       "\u001b[36mres140\u001b[39m: \u001b[32mBoolean\u001b[39m = \u001b[32mtrue\u001b[39m"
      ]
     },
     "execution_count": 141,
     "metadata": {},
     "output_type": "execute_result"
    }
   ],
   "source": [
    "//字符串比较\n",
    "s1>s2"
   ]
  },
  {
   "cell_type": "code",
   "execution_count": 142,
   "metadata": {},
   "outputs": [
    {
     "data": {
      "text/plain": [
       "\u001b[36mres141\u001b[39m: \u001b[32mString\u001b[39m = \u001b[32m\"hello_world\"\u001b[39m"
      ]
     },
     "execution_count": 142,
     "metadata": {},
     "output_type": "execute_result"
    }
   ],
   "source": [
    "//字符串替换\n",
    "s1.replace(\" \",\"_\")"
   ]
  },
  {
   "cell_type": "code",
   "execution_count": 143,
   "metadata": {},
   "outputs": [
    {
     "data": {
      "text/plain": [
       "\u001b[36mres142\u001b[39m: \u001b[32mArray\u001b[39m[\u001b[32mString\u001b[39m] = \u001b[33mArray\u001b[39m(\u001b[32m\"hello\"\u001b[39m, \u001b[32m\"world\"\u001b[39m)"
      ]
     },
     "execution_count": 143,
     "metadata": {},
     "output_type": "execute_result"
    }
   ],
   "source": [
    "//字符串分割\n",
    "s1.split(\" \")"
   ]
  },
  {
   "cell_type": "code",
   "execution_count": 144,
   "metadata": {},
   "outputs": [
    {
     "data": {
      "text/plain": [
       "\u001b[36mname\u001b[39m: \u001b[32mString\u001b[39m = \u001b[32m\"Jim\"\u001b[39m\r\n",
       "\u001b[36mage\u001b[39m: \u001b[32mInt\u001b[39m = \u001b[32m18\u001b[39m\r\n",
       "\u001b[36mweight\u001b[39m: \u001b[32mDouble\u001b[39m = \u001b[32m48.5\u001b[39m\r\n",
       "\u001b[36ms_str\u001b[39m: \u001b[32mString\u001b[39m = \u001b[32m\"I'm Jim, 18 years old, my weight is 48.5.\"\u001b[39m"
      ]
     },
     "execution_count": 144,
     "metadata": {},
     "output_type": "execute_result"
    }
   ],
   "source": [
    "//s插值器\n",
    "val name = \"Jim\"\n",
    "val age = 18\n",
    "val weight = 48.5 \n",
    "\n",
    "val s_str = s\"I'm $name, $age years old, my weight is $weight.\""
   ]
  },
  {
   "cell_type": "code",
   "execution_count": 145,
   "metadata": {},
   "outputs": [
    {
     "data": {
      "text/plain": [
       "\u001b[36mf_str\u001b[39m: \u001b[32mString\u001b[39m = \u001b[32m\"Jim's weight is 48.50\"\u001b[39m"
      ]
     },
     "execution_count": 145,
     "metadata": {},
     "output_type": "execute_result"
    }
   ],
   "source": [
    "//f插值器\n",
    "val f_str = f\"$name%s's weight is $weight%2.2f\""
   ]
  },
  {
   "cell_type": "code",
   "execution_count": 146,
   "metadata": {},
   "outputs": [
    {
     "data": {
      "text/plain": [
       "\u001b[36mraw_str\u001b[39m: \u001b[32mString\u001b[39m = \u001b[32m\"\"\"\n",
       "hello\\tworld\\n\n",
       "\"\"\"\u001b[39m"
      ]
     },
     "execution_count": 146,
     "metadata": {},
     "output_type": "execute_result"
    }
   ],
   "source": [
    "//raw插值器\n",
    "val raw_str = raw\"hello\\tworld\\n\""
   ]
  },
  {
   "cell_type": "markdown",
   "metadata": {},
   "source": [
    "### 七，Array 数组"
   ]
  },
  {
   "cell_type": "markdown",
   "metadata": {},
   "source": [
    "数组Array是一种可变的有序数据结构，其长度创建后是不可变的，如果要使用长度可变的数组，可以引入ArrayBuffer。"
   ]
  },
  {
   "cell_type": "markdown",
   "metadata": {},
   "source": [
    "** 1，定义数组 **"
   ]
  },
  {
   "cell_type": "code",
   "execution_count": 162,
   "metadata": {},
   "outputs": [
    {
     "data": {
      "text/plain": [
       "\u001b[36ma\u001b[39m: \u001b[32mArray\u001b[39m[\u001b[32mAny\u001b[39m] = \u001b[33mArray\u001b[39m(1, hello, 2.12)"
      ]
     },
     "execution_count": 162,
     "metadata": {},
     "output_type": "execute_result"
    }
   ],
   "source": [
    "//使用new进行初始化后赋值\n",
    "val a:Array[Any] = new Array[Any](3)\n",
    "a(0) = 1\n",
    "a(1) = \"hello\"\n",
    "a(2) = 2.12"
   ]
  },
  {
   "cell_type": "code",
   "execution_count": 163,
   "metadata": {},
   "outputs": [
    {
     "data": {
      "text/plain": [
       "\u001b[36ma\u001b[39m: \u001b[32mArray\u001b[39m[\u001b[32mString\u001b[39m] = \u001b[33mArray\u001b[39m(\u001b[32m\"hello\"\u001b[39m, \u001b[32m\"world\"\u001b[39m, \u001b[32m\"hello\"\u001b[39m, \u001b[32m\"China\"\u001b[39m)"
      ]
     },
     "execution_count": 163,
     "metadata": {},
     "output_type": "execute_result"
    }
   ],
   "source": [
    "// 隐式调用apply方法实现初始化\n",
    "val a = Array(\"hello\",\"world\",\"hello\",\"China\")"
   ]
  },
  {
   "cell_type": "code",
   "execution_count": 164,
   "metadata": {},
   "outputs": [
    {
     "data": {
      "text/plain": [
       "\u001b[36ma\u001b[39m: \u001b[32mArray\u001b[39m[\u001b[32mString\u001b[39m] = \u001b[33mArray\u001b[39m(\u001b[32m\"hello\"\u001b[39m, \u001b[32m\"world\"\u001b[39m, \u001b[32m\"hello\"\u001b[39m, \u001b[32m\"China\"\u001b[39m)"
      ]
     },
     "execution_count": 164,
     "metadata": {},
     "output_type": "execute_result"
    }
   ],
   "source": [
    "// 直接调用apply方法实现初始化\n",
    "val a = Array.apply(\"hello\",\"world\",\"hello\",\"China\")"
   ]
  },
  {
   "cell_type": "code",
   "execution_count": 165,
   "metadata": {},
   "outputs": [
    {
     "data": {
      "text/plain": [
       "\u001b[36ma\u001b[39m: \u001b[32mArray\u001b[39m[\u001b[32mInt\u001b[39m] = \u001b[33mArray\u001b[39m(\u001b[32m0\u001b[39m, \u001b[32m2\u001b[39m, \u001b[32m4\u001b[39m, \u001b[32m6\u001b[39m, \u001b[32m8\u001b[39m)"
      ]
     },
     "execution_count": 165,
     "metadata": {},
     "output_type": "execute_result"
    }
   ],
   "source": [
    "// 使用range方法\n",
    "val a = Array.range(0,10,2)"
   ]
  },
  {
   "cell_type": "code",
   "execution_count": 166,
   "metadata": {},
   "outputs": [
    {
     "data": {
      "text/plain": [
       "\u001b[36ma\u001b[39m: \u001b[32mArray\u001b[39m[\u001b[32mInt\u001b[39m] = \u001b[33mArray\u001b[39m(\u001b[32m5\u001b[39m, \u001b[32m6\u001b[39m, \u001b[32m7\u001b[39m, \u001b[32m8\u001b[39m, \u001b[32m9\u001b[39m, \u001b[32m10\u001b[39m)"
      ]
     },
     "execution_count": 166,
     "metadata": {},
     "output_type": "execute_result"
    }
   ],
   "source": [
    "// 使用tabulate方法\n",
    "val a = Array.tabulate(6)(i => i + 5)"
   ]
  },
  {
   "cell_type": "code",
   "execution_count": 167,
   "metadata": {},
   "outputs": [
    {
     "data": {
      "text/plain": [
       "\u001b[36mb\u001b[39m: \u001b[32mArray\u001b[39m[\u001b[32mArray\u001b[39m[\u001b[32mString\u001b[39m]] = \u001b[33mArray\u001b[39m(\u001b[33mArray\u001b[39m(\u001b[32m\"0\"\u001b[39m, \u001b[32m\"1\"\u001b[39m), \u001b[33mArray\u001b[39m(\u001b[32m\"1\"\u001b[39m, \u001b[32m\"2\"\u001b[39m))"
      ]
     },
     "execution_count": 167,
     "metadata": {},
     "output_type": "execute_result"
    }
   ],
   "source": [
    "//多维数组\n",
    "val b = Array.ofDim[String](2,2)\n",
    "for(i<-0 to 1){\n",
    "    for(j<-0 to 1){\n",
    "        b(i)(j) = (i+j).toString\n",
    "    }\n",
    "}"
   ]
  },
  {
   "cell_type": "code",
   "execution_count": 169,
   "metadata": {},
   "outputs": [
    {
     "data": {
      "text/plain": [
       "\u001b[36mc\u001b[39m: \u001b[32mArray\u001b[39m[\u001b[32mArray\u001b[39m[\u001b[32mInt\u001b[39m]] = \u001b[33mArray\u001b[39m(\u001b[33mArray\u001b[39m(\u001b[32m1\u001b[39m, \u001b[32m2\u001b[39m), \u001b[33mArray\u001b[39m(\u001b[32m3\u001b[39m, \u001b[32m4\u001b[39m))"
      ]
     },
     "execution_count": 169,
     "metadata": {},
     "output_type": "execute_result"
    }
   ],
   "source": [
    "//多维数组\n",
    "val c = Array(Array(1,2),Array(3,4))"
   ]
  },
  {
   "cell_type": "code",
   "execution_count": 170,
   "metadata": {},
   "outputs": [
    {
     "data": {
      "text/plain": [
       "\u001b[36ma\u001b[39m: \u001b[32mArray\u001b[39m[\u001b[32mArray\u001b[39m[\u001b[32mInt\u001b[39m]] = \u001b[33mArray\u001b[39m(\u001b[33mArray\u001b[39m(\u001b[32m3\u001b[39m, \u001b[32m3\u001b[39m), \u001b[33mArray\u001b[39m(\u001b[32m3\u001b[39m, \u001b[32m3\u001b[39m))"
      ]
     },
     "execution_count": 170,
     "metadata": {},
     "output_type": "execute_result"
    }
   ],
   "source": [
    "//多维数组\n",
    "val a = Array.fill(2,2)(3)"
   ]
  },
  {
   "cell_type": "code",
   "execution_count": 171,
   "metadata": {},
   "outputs": [
    {
     "data": {
      "text/plain": [
       "\u001b[36ma\u001b[39m: \u001b[32mArray\u001b[39m[\u001b[32mArray\u001b[39m[\u001b[32mInt\u001b[39m]] = \u001b[33mArray\u001b[39m(\u001b[33mArray\u001b[39m(\u001b[32m0\u001b[39m, \u001b[32m1\u001b[39m), \u001b[33mArray\u001b[39m(\u001b[32m1\u001b[39m, \u001b[32m2\u001b[39m))"
      ]
     },
     "execution_count": 171,
     "metadata": {},
     "output_type": "execute_result"
    }
   ],
   "source": [
    "// 使用tabulate方法\n",
    "val a = Array.tabulate(2,2)(_+_)"
   ]
  },
  {
   "cell_type": "markdown",
   "metadata": {},
   "source": [
    "**2，数组常用操作**"
   ]
  },
  {
   "cell_type": "markdown",
   "metadata": {},
   "source": [
    "数组的常用操作包括遍历，修改某些元素值，取极值，求和，排序等操作\n",
    "\n",
    "如果要增加和删除元素，需要使用 ArrayBuffer可变长数组。\n"
   ]
  },
  {
   "cell_type": "code",
   "execution_count": 172,
   "metadata": {},
   "outputs": [
    {
     "data": {
      "text/plain": [
       "\u001b[36mx\u001b[39m: \u001b[32mArray\u001b[39m[\u001b[32mInt\u001b[39m] = \u001b[33mArray\u001b[39m(\u001b[32m1\u001b[39m, \u001b[32m2\u001b[39m, \u001b[32m1\u001b[39m, \u001b[32m4\u001b[39m, \u001b[32m3\u001b[39m, \u001b[32m6\u001b[39m, \u001b[32m7\u001b[39m, \u001b[32m10\u001b[39m, \u001b[32m5\u001b[39m)"
      ]
     },
     "execution_count": 172,
     "metadata": {},
     "output_type": "execute_result"
    }
   ],
   "source": [
    "//修改元素值\n",
    "val x = Array(1,2,6,4,3,6,7,10,9)\n",
    "x(8) = 5\n",
    "x.update(2,1) "
   ]
  },
  {
   "cell_type": "code",
   "execution_count": 173,
   "metadata": {},
   "outputs": [
    {
     "data": {
      "text/plain": [
       "\u001b[36mres172\u001b[39m: \u001b[32mArray\u001b[39m[\u001b[32mInt\u001b[39m] = \u001b[33mArray\u001b[39m(\u001b[32m1\u001b[39m, \u001b[32m4\u001b[39m, \u001b[32m3\u001b[39m, \u001b[32m6\u001b[39m, \u001b[32m7\u001b[39m)"
      ]
     },
     "execution_count": 173,
     "metadata": {},
     "output_type": "execute_result"
    }
   ],
   "source": [
    "//切片\n",
    "x.slice(2,7)"
   ]
  },
  {
   "cell_type": "code",
   "execution_count": 174,
   "metadata": {},
   "outputs": [
    {
     "data": {
      "text/plain": [
       "\u001b[36mres173_0\u001b[39m: \u001b[32mInt\u001b[39m = \u001b[32m10\u001b[39m\r\n",
       "\u001b[36mres173_1\u001b[39m: \u001b[32mInt\u001b[39m = \u001b[32m1\u001b[39m\r\n",
       "\u001b[36msortedx\u001b[39m: \u001b[32mArray\u001b[39m[\u001b[32mInt\u001b[39m] = \u001b[33mArray\u001b[39m(\u001b[32m1\u001b[39m, \u001b[32m1\u001b[39m, \u001b[32m2\u001b[39m, \u001b[32m3\u001b[39m, \u001b[32m4\u001b[39m, \u001b[32m5\u001b[39m, \u001b[32m6\u001b[39m, \u001b[32m7\u001b[39m, \u001b[32m10\u001b[39m)"
      ]
     },
     "execution_count": 174,
     "metadata": {},
     "output_type": "execute_result"
    }
   ],
   "source": [
    "//最大值,最小值,排序\n",
    "x.max\n",
    "x.min\n",
    "val sortedx = x.sorted"
   ]
  },
  {
   "cell_type": "code",
   "execution_count": 188,
   "metadata": {},
   "outputs": [
    {
     "data": {
      "text/plain": [
       "\u001b[32mimport \u001b[39m\u001b[36mscala.collection.mutable.ArrayBuffer\r\n",
       "\u001b[39m\r\n",
       "\u001b[36mx_buffer\u001b[39m: \u001b[32mmutable\u001b[39m.\u001b[32mBuffer\u001b[39m[\u001b[32mInt\u001b[39m] = \u001b[33mArrayBuffer\u001b[39m(\u001b[32m1\u001b[39m, \u001b[32m2\u001b[39m, \u001b[32m3\u001b[39m)"
      ]
     },
     "execution_count": 188,
     "metadata": {},
     "output_type": "execute_result"
    }
   ],
   "source": [
    "//转换成ArrayBuffer\n",
    "import scala.collection.mutable.ArrayBuffer\n",
    "val x_buffer = Array(1,2,3).toBuffer"
   ]
  },
  {
   "cell_type": "code",
   "execution_count": 189,
   "metadata": {},
   "outputs": [
    {
     "data": {
      "text/plain": [
       "\u001b[36mres188_2\u001b[39m: \u001b[32mmutable\u001b[39m.\u001b[32mBuffer\u001b[39m[\u001b[32mInt\u001b[39m] = \u001b[33mArrayBuffer\u001b[39m(\u001b[32m1\u001b[39m, \u001b[32m2\u001b[39m, \u001b[32m3\u001b[39m, \u001b[32m4\u001b[39m, \u001b[32m5\u001b[39m, \u001b[32m6\u001b[39m)"
      ]
     },
     "execution_count": 189,
     "metadata": {},
     "output_type": "execute_result"
    }
   ],
   "source": [
    "//增加元素\n",
    "x_buffer.append(4)\n",
    "x_buffer.appendAll(Array(5,6))\n",
    "x_buffer"
   ]
  },
  {
   "cell_type": "code",
   "execution_count": 190,
   "metadata": {},
   "outputs": [
    {
     "data": {
      "text/plain": [
       "\u001b[36mx_buffer_drop\u001b[39m: \u001b[32mmutable\u001b[39m.\u001b[32mBuffer\u001b[39m[\u001b[32mInt\u001b[39m] = \u001b[33mArrayBuffer\u001b[39m(\u001b[32m1\u001b[39m, \u001b[32m2\u001b[39m, \u001b[32m3\u001b[39m)"
      ]
     },
     "execution_count": 190,
     "metadata": {},
     "output_type": "execute_result"
    }
   ],
   "source": [
    "//删除元素\n",
    "val x_buffer_drop = x_buffer.dropRight(3)"
   ]
  },
  {
   "cell_type": "code",
   "execution_count": 191,
   "metadata": {},
   "outputs": [
    {
     "name": "stdout",
     "output_type": "stream",
     "text": [
      "ArrayBuffer(1, 0, 2, 3, 4, 5, 6)\r\n"
     ]
    }
   ],
   "source": [
    "//插入元素\n",
    "x_buffer.insert(1,0)\n",
    "println(x_buffer)"
   ]
  },
  {
   "cell_type": "code",
   "execution_count": 194,
   "metadata": {},
   "outputs": [
    {
     "name": "stdout",
     "output_type": "stream",
     "text": [
      "1\n",
      "2\n",
      "4\n",
      "5\n"
     ]
    },
    {
     "data": {
      "text/plain": [
       "\u001b[36mc\u001b[39m: \u001b[32mArray\u001b[39m[\u001b[32mArray\u001b[39m[\u001b[32mInt\u001b[39m]] = \u001b[33mArray\u001b[39m(\u001b[33mArray\u001b[39m(\u001b[32m1\u001b[39m, \u001b[32m2\u001b[39m), \u001b[33mArray\u001b[39m(\u001b[32m4\u001b[39m, \u001b[32m5\u001b[39m))\r\n",
       "\u001b[36mres193_2\u001b[39m: \u001b[32mArray\u001b[39m[\u001b[32mArray\u001b[39m[\u001b[32mInt\u001b[39m]] = \u001b[33mArray\u001b[39m(\u001b[33mArray\u001b[39m(\u001b[32m2\u001b[39m, \u001b[32m3\u001b[39m), \u001b[33mArray\u001b[39m(\u001b[32m5\u001b[39m, \u001b[32m6\u001b[39m))"
      ]
     },
     "execution_count": 194,
     "metadata": {},
     "output_type": "execute_result"
    }
   ],
   "source": [
    "//多维数组遍历\n",
    "val c = Array(Array(1,2),Array(4,5))\n",
    "c.foreach(arr => arr.foreach(println))\n",
    "c.map(arr => arr.map(_+1))"
   ]
  },
  {
   "cell_type": "markdown",
   "metadata": {},
   "source": [
    "### 八，列表List"
   ]
  },
  {
   "cell_type": "markdown",
   "metadata": {},
   "source": [
    "列表和数组相似，都是有序的结构，但列表中的元素是不可变的。\n",
    "\n",
    "并且列表的存储结构为递推的链表结构，和数组不同。"
   ]
  },
  {
   "cell_type": "markdown",
   "metadata": {},
   "source": [
    "**1，创建列表**"
   ]
  },
  {
   "cell_type": "code",
   "execution_count": 199,
   "metadata": {},
   "outputs": [
    {
     "data": {
      "text/plain": [
       "\u001b[36ml\u001b[39m: \u001b[32mList\u001b[39m[\u001b[32mInt\u001b[39m] = \u001b[33mList\u001b[39m(\u001b[32m5\u001b[39m, \u001b[32m7\u001b[39m, \u001b[32m9\u001b[39m, \u001b[32m11\u001b[39m, \u001b[32m13\u001b[39m, \u001b[32m15\u001b[39m)"
      ]
     },
     "execution_count": 199,
     "metadata": {},
     "output_type": "execute_result"
    }
   ],
   "source": [
    "//指定递推关系创建\n",
    "val l = List.iterate(5,6)(x=>x+2)"
   ]
  },
  {
   "cell_type": "code",
   "execution_count": 200,
   "metadata": {},
   "outputs": [
    {
     "data": {
      "text/plain": [
       "\u001b[36ml\u001b[39m: \u001b[32mList\u001b[39m[\u001b[32mDouble\u001b[39m] = \u001b[33mList\u001b[39m(\u001b[32m0.1\u001b[39m, \u001b[32m0.2\u001b[39m, \u001b[32m0.3\u001b[39m, \u001b[32m0.4\u001b[39m)"
      ]
     },
     "execution_count": 200,
     "metadata": {},
     "output_type": "execute_result"
    }
   ],
   "source": [
    "val l = List(0.1,0.2,0.3,0.4)"
   ]
  },
  {
   "cell_type": "code",
   "execution_count": 201,
   "metadata": {},
   "outputs": [
    {
     "data": {
      "text/plain": [
       "\u001b[36ml\u001b[39m: \u001b[32mList\u001b[39m[\u001b[32mDouble\u001b[39m] = \u001b[33mList\u001b[39m(\u001b[32m0.01\u001b[39m, \u001b[32m0.03\u001b[39m, \u001b[32m0.05\u001b[39m)"
      ]
     },
     "execution_count": 201,
     "metadata": {},
     "output_type": "execute_result"
    }
   ],
   "source": [
    "//Nil为空列表\n",
    "val l:List[Double] = 0.01::0.03::0.05::Nil"
   ]
  },
  {
   "cell_type": "code",
   "execution_count": 202,
   "metadata": {},
   "outputs": [
    {
     "data": {
      "text/plain": [
       "\u001b[36ml\u001b[39m: \u001b[32mList\u001b[39m[\u001b[32mList\u001b[39m[\u001b[32mInt\u001b[39m]] = \u001b[33mList\u001b[39m(\u001b[33mList\u001b[39m(\u001b[32m0\u001b[39m, \u001b[32m1\u001b[39m), \u001b[33mList\u001b[39m(\u001b[32m1\u001b[39m, \u001b[32m2\u001b[39m))"
      ]
     },
     "execution_count": 202,
     "metadata": {},
     "output_type": "execute_result"
    }
   ],
   "source": [
    "val l = List.tabulate(2,2)(_+_)"
   ]
  },
  {
   "cell_type": "code",
   "execution_count": 203,
   "metadata": {},
   "outputs": [
    {
     "data": {
      "text/plain": [
       "\u001b[36ml\u001b[39m: \u001b[32mList\u001b[39m[\u001b[32mInt\u001b[39m] = \u001b[33mList\u001b[39m(\u001b[32m1\u001b[39m, \u001b[32m3\u001b[39m, \u001b[32m5\u001b[39m, \u001b[32m7\u001b[39m, \u001b[32m9\u001b[39m)"
      ]
     },
     "execution_count": 203,
     "metadata": {},
     "output_type": "execute_result"
    }
   ],
   "source": [
    "val l = List.range(1,10,2)"
   ]
  },
  {
   "cell_type": "markdown",
   "metadata": {},
   "source": [
    "** 2，列表常用操作**"
   ]
  },
  {
   "cell_type": "code",
   "execution_count": 204,
   "metadata": {},
   "outputs": [
    {
     "data": {
      "text/plain": [
       "\u001b[36mlist\u001b[39m: \u001b[32mList\u001b[39m[\u001b[32mInt\u001b[39m] = \u001b[33mList\u001b[39m(\u001b[32m1\u001b[39m, \u001b[32m2\u001b[39m, \u001b[32m3\u001b[39m)"
      ]
     },
     "execution_count": 204,
     "metadata": {},
     "output_type": "execute_result"
    }
   ],
   "source": [
    "var list = List(1,2,3)"
   ]
  },
  {
   "cell_type": "code",
   "execution_count": 205,
   "metadata": {},
   "outputs": [
    {
     "data": {
      "text/plain": [
       "\u001b[36mres204\u001b[39m: \u001b[32mInt\u001b[39m = \u001b[32m3\u001b[39m"
      ]
     },
     "execution_count": 205,
     "metadata": {},
     "output_type": "execute_result"
    }
   ],
   "source": [
    "list.length"
   ]
  },
  {
   "cell_type": "code",
   "execution_count": 206,
   "metadata": {},
   "outputs": [
    {
     "data": {
      "text/plain": [
       "\u001b[36mres205\u001b[39m: \u001b[32mList\u001b[39m[\u001b[32mInt\u001b[39m] = \u001b[33mList\u001b[39m(\u001b[32m4\u001b[39m, \u001b[32m1\u001b[39m, \u001b[32m2\u001b[39m, \u001b[32m3\u001b[39m)"
      ]
     },
     "execution_count": 206,
     "metadata": {},
     "output_type": "execute_result"
    }
   ],
   "source": [
    "//在列表前和某个元素拼接\n",
    "4::list"
   ]
  },
  {
   "cell_type": "code",
   "execution_count": 207,
   "metadata": {},
   "outputs": [
    {
     "data": {
      "text/plain": [
       "\u001b[36mres206\u001b[39m: \u001b[32mInt\u001b[39m = \u001b[32m1\u001b[39m"
      ]
     },
     "execution_count": 207,
     "metadata": {},
     "output_type": "execute_result"
    }
   ],
   "source": [
    "//列表头\n",
    "list.head"
   ]
  },
  {
   "cell_type": "code",
   "execution_count": 208,
   "metadata": {},
   "outputs": [
    {
     "data": {
      "text/plain": [
       "\u001b[36mres207\u001b[39m: \u001b[32mList\u001b[39m[\u001b[32mInt\u001b[39m] = \u001b[33mList\u001b[39m(\u001b[32m2\u001b[39m, \u001b[32m3\u001b[39m)"
      ]
     },
     "execution_count": 208,
     "metadata": {},
     "output_type": "execute_result"
    }
   ],
   "source": [
    "//列表其余部分\n",
    "list.tail"
   ]
  },
  {
   "cell_type": "code",
   "execution_count": 209,
   "metadata": {},
   "outputs": [
    {
     "data": {
      "text/plain": [
       "\u001b[36mlist_new\u001b[39m: \u001b[32mList\u001b[39m[\u001b[32mInt\u001b[39m] = \u001b[33mList\u001b[39m(\u001b[32m1\u001b[39m, \u001b[32m2\u001b[39m, \u001b[32m3\u001b[39m, \u001b[32m1\u001b[39m, \u001b[32m2\u001b[39m, \u001b[32m3\u001b[39m)"
      ]
     },
     "execution_count": 209,
     "metadata": {},
     "output_type": "execute_result"
    }
   ],
   "source": [
    "//列表连接\n",
    "val list_new = list:::list"
   ]
  },
  {
   "cell_type": "code",
   "execution_count": 210,
   "metadata": {},
   "outputs": [
    {
     "data": {
      "text/plain": [
       "\u001b[36mres209_0\u001b[39m: \u001b[32mList\u001b[39m[\u001b[32mInt\u001b[39m] = \u001b[33mList\u001b[39m(\u001b[32m1\u001b[39m, \u001b[32m2\u001b[39m, \u001b[32m3\u001b[39m)\r\n",
       "\u001b[36mres209_1\u001b[39m: \u001b[32mList\u001b[39m[\u001b[32mInt\u001b[39m] = \u001b[33mList\u001b[39m(\u001b[32m1\u001b[39m, \u001b[32m2\u001b[39m, \u001b[32m3\u001b[39m)"
      ]
     },
     "execution_count": 210,
     "metadata": {},
     "output_type": "execute_result"
    }
   ],
   "source": [
    "//提取前4个元素与后四个元素\n",
    "list.take(4)\n",
    "list.takeRight(4)"
   ]
  },
  {
   "cell_type": "code",
   "execution_count": 211,
   "metadata": {},
   "outputs": [
    {
     "data": {
      "text/plain": [
       "\u001b[36mres210\u001b[39m: \u001b[32mList\u001b[39m[\u001b[32mInt\u001b[39m] = \u001b[33mList\u001b[39m(\u001b[32m3\u001b[39m, \u001b[32m2\u001b[39m, \u001b[32m1\u001b[39m)"
      ]
     },
     "execution_count": 211,
     "metadata": {},
     "output_type": "execute_result"
    }
   ],
   "source": [
    "//列表反转\n",
    "list.reverse"
   ]
  },
  {
   "cell_type": "code",
   "execution_count": 212,
   "metadata": {},
   "outputs": [
    {
     "data": {
      "text/plain": [
       "\u001b[36mlist2\u001b[39m: \u001b[32mList\u001b[39m[\u001b[32mInt\u001b[39m] = \u001b[33mList\u001b[39m(\u001b[32m1\u001b[39m, \u001b[32m2\u001b[39m, \u001b[32m3\u001b[39m, \u001b[32m3\u001b[39m)\r\n",
       "\u001b[36mlist3\u001b[39m: \u001b[32mList\u001b[39m[\u001b[32mInt\u001b[39m] = \u001b[33mList\u001b[39m(\u001b[32m3\u001b[39m, \u001b[32m1\u001b[39m, \u001b[32m2\u001b[39m, \u001b[32m3\u001b[39m)"
      ]
     },
     "execution_count": 212,
     "metadata": {},
     "output_type": "execute_result"
    }
   ],
   "source": [
    "val list2 = list:+3\n",
    "val list3 = 3+:list"
   ]
  },
  {
   "cell_type": "code",
   "execution_count": 213,
   "metadata": {},
   "outputs": [
    {
     "data": {
      "text/plain": [
       "\u001b[36mres212\u001b[39m: \u001b[32mList\u001b[39m[\u001b[32mInt\u001b[39m] = \u001b[33mList\u001b[39m(\u001b[32m3\u001b[39m, \u001b[32m1\u001b[39m, \u001b[32m2\u001b[39m)"
      ]
     },
     "execution_count": 213,
     "metadata": {},
     "output_type": "execute_result"
    }
   ],
   "source": [
    "//去除重复元素\n",
    "list3.distinct"
   ]
  },
  {
   "cell_type": "code",
   "execution_count": 214,
   "metadata": {},
   "outputs": [
    {
     "data": {
      "text/plain": [
       "\u001b[36mres213\u001b[39m: \u001b[32mList\u001b[39m[\u001b[32mInt\u001b[39m] = \u001b[33mList\u001b[39m()"
      ]
     },
     "execution_count": 214,
     "metadata": {},
     "output_type": "execute_result"
    }
   ],
   "source": [
    "//过滤\n",
    "list3.filter(_>5)"
   ]
  },
  {
   "cell_type": "code",
   "execution_count": 215,
   "metadata": {},
   "outputs": [
    {
     "data": {
      "text/plain": [
       "\u001b[36mres214\u001b[39m: \u001b[32mBoolean\u001b[39m = \u001b[32mtrue\u001b[39m"
      ]
     },
     "execution_count": 215,
     "metadata": {},
     "output_type": "execute_result"
    }
   ],
   "source": [
    "//测试是否每个元素都满足条件，返回Boolean\n",
    "list2.forall(_>0)"
   ]
  },
  {
   "cell_type": "markdown",
   "metadata": {},
   "source": [
    "### 九，集合"
   ]
  },
  {
   "cell_type": "markdown",
   "metadata": {},
   "source": [
    "集合是一种不可变的类型，并且是无顺序的，适合查找某个元素是否在集合中。"
   ]
  },
  {
   "cell_type": "code",
   "execution_count": 217,
   "metadata": {},
   "outputs": [
    {
     "data": {
      "text/plain": [
       "\u001b[36ms\u001b[39m: \u001b[32mSet\u001b[39m[\u001b[32mInt\u001b[39m] = \u001b[33mSet\u001b[39m(\u001b[32m1\u001b[39m, \u001b[32m2\u001b[39m, \u001b[32m3\u001b[39m)"
      ]
     },
     "execution_count": 217,
     "metadata": {},
     "output_type": "execute_result"
    }
   ],
   "source": [
    "var s = Set(1,2,3)"
   ]
  },
  {
   "cell_type": "code",
   "execution_count": 218,
   "metadata": {},
   "outputs": [
    {
     "data": {
      "text/plain": [
       "\u001b[36mres217_1\u001b[39m: \u001b[32mSet\u001b[39m[\u001b[32mInt\u001b[39m] = \u001b[33mSet\u001b[39m(\u001b[32m1\u001b[39m, \u001b[32m2\u001b[39m, \u001b[32m3\u001b[39m, \u001b[32m5\u001b[39m)"
      ]
     },
     "execution_count": 218,
     "metadata": {},
     "output_type": "execute_result"
    }
   ],
   "source": [
    "//虽然集合不可变，但是s可变，添加元素5得到新的集合并将s指向它\n",
    "s += 5\n",
    "s"
   ]
  },
  {
   "cell_type": "code",
   "execution_count": 219,
   "metadata": {},
   "outputs": [
    {
     "data": {
      "text/plain": [
       "\u001b[36mres218\u001b[39m: \u001b[32mSet\u001b[39m[\u001b[32mInt\u001b[39m] = \u001b[33mSet\u001b[39m(\u001b[32m1\u001b[39m, \u001b[32m2\u001b[39m, \u001b[32m3\u001b[39m)"
      ]
     },
     "execution_count": 219,
     "metadata": {},
     "output_type": "execute_result"
    }
   ],
   "source": [
    "//删除元素\n",
    "s - 5"
   ]
  },
  {
   "cell_type": "code",
   "execution_count": 220,
   "metadata": {},
   "outputs": [
    {
     "data": {
      "text/plain": [
       "\u001b[36mres219\u001b[39m: \u001b[32mBoolean\u001b[39m = \u001b[32mtrue\u001b[39m"
      ]
     },
     "execution_count": 220,
     "metadata": {},
     "output_type": "execute_result"
    }
   ],
   "source": [
    "s.contains(3)"
   ]
  },
  {
   "cell_type": "code",
   "execution_count": 221,
   "metadata": {},
   "outputs": [
    {
     "data": {
      "text/plain": [
       "\u001b[36mres220\u001b[39m: \u001b[32mSet\u001b[39m[\u001b[32mInt\u001b[39m] = \u001b[33mSet\u001b[39m(\u001b[32m5\u001b[39m, \u001b[32m1\u001b[39m, \u001b[32m2\u001b[39m, \u001b[32m3\u001b[39m, \u001b[32m4\u001b[39m)"
      ]
     },
     "execution_count": 221,
     "metadata": {},
     "output_type": "execute_result"
    }
   ],
   "source": [
    "s.union(Set(3,4,5))"
   ]
  },
  {
   "cell_type": "code",
   "execution_count": 222,
   "metadata": {},
   "outputs": [
    {
     "data": {
      "text/plain": [
       "\u001b[36mres221\u001b[39m: \u001b[32mSet\u001b[39m[\u001b[32mInt\u001b[39m] = \u001b[33mSet\u001b[39m(\u001b[32m2\u001b[39m, \u001b[32m3\u001b[39m)"
      ]
     },
     "execution_count": 222,
     "metadata": {},
     "output_type": "execute_result"
    }
   ],
   "source": [
    "s intersect Set(2,3,4)"
   ]
  },
  {
   "cell_type": "code",
   "execution_count": 223,
   "metadata": {},
   "outputs": [
    {
     "data": {
      "text/plain": [
       "\u001b[36mres222\u001b[39m: \u001b[32mSet\u001b[39m[\u001b[32mInt\u001b[39m] = \u001b[33mSet\u001b[39m(\u001b[32m2\u001b[39m, \u001b[32m3\u001b[39m)"
      ]
     },
     "execution_count": 223,
     "metadata": {},
     "output_type": "execute_result"
    }
   ],
   "source": [
    "s & Set(2,3,4)"
   ]
  },
  {
   "cell_type": "code",
   "execution_count": 224,
   "metadata": {},
   "outputs": [
    {
     "data": {
      "text/plain": [
       "\u001b[36mres223\u001b[39m: \u001b[32mSet\u001b[39m[\u001b[32mInt\u001b[39m] = \u001b[33mSet\u001b[39m(\u001b[32m5\u001b[39m, \u001b[32m1\u001b[39m, \u001b[32m2\u001b[39m, \u001b[32m3\u001b[39m, \u001b[32m4\u001b[39m)"
      ]
     },
     "execution_count": 224,
     "metadata": {},
     "output_type": "execute_result"
    }
   ],
   "source": [
    "s | Set(2,3,4)"
   ]
  },
  {
   "cell_type": "code",
   "execution_count": null,
   "metadata": {},
   "outputs": [],
   "source": []
  },
  {
   "cell_type": "markdown",
   "metadata": {},
   "source": [
    "### 十，Map 映射"
   ]
  },
  {
   "cell_type": "markdown",
   "metadata": {},
   "source": [
    "映射和python中的字典很像，但是scala中的Map是一种不可变类型。\n",
    "\n",
    "如果需要使用可变的Map,需要从scala.collection.mutable引入。"
   ]
  },
  {
   "cell_type": "markdown",
   "metadata": {},
   "source": [
    "**1，创建Map**"
   ]
  },
  {
   "cell_type": "code",
   "execution_count": 229,
   "metadata": {},
   "outputs": [
    {
     "data": {
      "text/plain": [
       "\u001b[36mcity\u001b[39m: \u001b[32mMap\u001b[39m[\u001b[32mString\u001b[39m, \u001b[32mString\u001b[39m] = \u001b[33mMap\u001b[39m(\u001b[32m\"WUHAN\"\u001b[39m -> \u001b[32m\"WH\"\u001b[39m, \u001b[32m\"XIAMEN\"\u001b[39m -> \u001b[32m\"XM\"\u001b[39m)"
      ]
     },
     "execution_count": 229,
     "metadata": {},
     "output_type": "execute_result"
    }
   ],
   "source": [
    "//创建空列表，尽管Map不可变但city是可变的\n",
    "//添加元素得到新的Map并指向它\n",
    "var city:Map[String,String] = Map()\n",
    "city += (\"WUHAN\"->\"WH\")\n",
    "city += (\"XIAMEN\"->\"XM\")\n"
   ]
  },
  {
   "cell_type": "code",
   "execution_count": 230,
   "metadata": {},
   "outputs": [
    {
     "data": {
      "text/plain": [
       "\u001b[36mcity\u001b[39m: \u001b[32mMap\u001b[39m[\u001b[32mString\u001b[39m, \u001b[32mString\u001b[39m] = \u001b[33mMap\u001b[39m(\u001b[32m\"WUHAN\"\u001b[39m -> \u001b[32m\"WH\"\u001b[39m, \u001b[32m\"XIAMEN\"\u001b[39m -> \u001b[32m\"XM\"\u001b[39m)"
      ]
     },
     "execution_count": 230,
     "metadata": {},
     "output_type": "execute_result"
    }
   ],
   "source": [
    "//隐式使用apply\n",
    "var city = Map(\"WUHAN\"->\"WH\",\"XIAMEN\"->\"XM\")"
   ]
  },
  {
   "cell_type": "code",
   "execution_count": null,
   "metadata": {},
   "outputs": [],
   "source": []
  },
  {
   "cell_type": "markdown",
   "metadata": {},
   "source": [
    "**2，Map常用操作**"
   ]
  },
  {
   "cell_type": "markdown",
   "metadata": {},
   "source": [
    "Map常用操作包括查找，合并，遍历等操作。"
   ]
  },
  {
   "cell_type": "code",
   "execution_count": 231,
   "metadata": {},
   "outputs": [
    {
     "data": {
      "text/plain": [
       "\u001b[36mcity\u001b[39m: \u001b[32mMap\u001b[39m[\u001b[32mString\u001b[39m, \u001b[32mString\u001b[39m] = \u001b[33mMap\u001b[39m(\u001b[32m\"WUHAN\"\u001b[39m -> \u001b[32m\"WH\"\u001b[39m, \u001b[32m\"XIAMEN\"\u001b[39m -> \u001b[32m\"XM\"\u001b[39m)\r\n",
       "\u001b[36mres230_1\u001b[39m: \u001b[32mString\u001b[39m = \u001b[32m\"WH\"\u001b[39m"
      ]
     },
     "execution_count": 231,
     "metadata": {},
     "output_type": "execute_result"
    }
   ],
   "source": [
    "var city = Map(\"WUHAN\"->\"WH\",\"XIAMEN\"->\"XM\")\n",
    "city(\"WUHAN\")"
   ]
  },
  {
   "cell_type": "code",
   "execution_count": 234,
   "metadata": {},
   "outputs": [
    {
     "data": {
      "text/plain": [
       "\u001b[36mresult\u001b[39m: \u001b[32mString\u001b[39m = \u001b[32m\"NOTFOUND\"\u001b[39m"
      ]
     },
     "execution_count": 234,
     "metadata": {},
     "output_type": "execute_result"
    }
   ],
   "source": [
    "//查找\n",
    "val result = if (city.contains(\"SHANGHAI\")) city(\"WUHAN\") \n",
    "else \"NOTFOUND\""
   ]
  },
  {
   "cell_type": "code",
   "execution_count": 235,
   "metadata": {},
   "outputs": [
    {
     "data": {
      "text/plain": [
       "\u001b[36mresult\u001b[39m: \u001b[32mString\u001b[39m = \u001b[32m\"NOTFOUND\"\u001b[39m"
      ]
     },
     "execution_count": 235,
     "metadata": {},
     "output_type": "execute_result"
    }
   ],
   "source": [
    "//用get去查找\n",
    "val result = city.get(\"BEIJING\").getOrElse(\"NOTFOUND\")"
   ]
  },
  {
   "cell_type": "code",
   "execution_count": 237,
   "metadata": {},
   "outputs": [
    {
     "name": "stdout",
     "output_type": "stream",
     "text": [
      "Map(WUHAN -> WH, XIAMEN -> XM, SHANGHAI -> SH)\r\n"
     ]
    }
   ],
   "source": [
    "//合并\n",
    "println(city ++ Map(\"SHANGHAI\"->\"SH\"))"
   ]
  },
  {
   "cell_type": "code",
   "execution_count": 238,
   "metadata": {},
   "outputs": [
    {
     "name": "stdout",
     "output_type": "stream",
     "text": [
      "(WUHAN,WH)\n",
      "(XIAMEN,XM)\n"
     ]
    }
   ],
   "source": [
    "//遍历\n",
    "for((k,v)<-city) println(k,v)"
   ]
  },
  {
   "cell_type": "code",
   "execution_count": 239,
   "metadata": {},
   "outputs": [
    {
     "name": "stdout",
     "output_type": "stream",
     "text": [
      "WUHAN\n",
      "XIAMEN\n"
     ]
    }
   ],
   "source": [
    "//遍历key\n",
    "for(k<-city.keys) println(k)"
   ]
  },
  {
   "cell_type": "code",
   "execution_count": 243,
   "metadata": {},
   "outputs": [
    {
     "name": "stdout",
     "output_type": "stream",
     "text": [
      "Map(WUHAN -> WC, SHANGHAI -> MD)\r\n"
     ]
    },
    {
     "data": {
      "text/plain": [
       "\u001b[32mimport \u001b[39m\u001b[36mscala.collection.mutable.Map\r\n",
       "\r\n",
       "\u001b[39m\r\n",
       "\u001b[36mcity\u001b[39m: \u001b[32mMap\u001b[39m[\u001b[32mString\u001b[39m, \u001b[32mString\u001b[39m] = \u001b[33mMap\u001b[39m(\u001b[32m\"WUHAN\"\u001b[39m -> \u001b[32m\"WC\"\u001b[39m, \u001b[32m\"SHANGHAI\"\u001b[39m -> \u001b[32m\"MD\"\u001b[39m)"
      ]
     },
     "execution_count": 243,
     "metadata": {},
     "output_type": "execute_result"
    }
   ],
   "source": [
    "//导入可变对象后可以增加和修改键值对\n",
    "import scala.collection.mutable.Map\n",
    "\n",
    "val city = Map(\"WUHAN\"->\"WH\")\n",
    "city(\"WUHAN\") = \"WC\"\n",
    "city(\"SHANGHAI\") = \"MD\"\n",
    "println(city)"
   ]
  },
  {
   "cell_type": "code",
   "execution_count": null,
   "metadata": {},
   "outputs": [],
   "source": []
  },
  {
   "cell_type": "markdown",
   "metadata": {},
   "source": [
    "### 十一，元组Tuple\n"
   ]
  },
  {
   "cell_type": "markdown",
   "metadata": {},
   "source": [
    "元组也是一种不可变的数据结构，其特点是可以存储类型不同的对象。\n",
    "\n",
    "默认情况下元组的最长长度为22。\n",
    "\n",
    "使用圆括号括号括起来的几个对象就构成了元组。"
   ]
  },
  {
   "cell_type": "code",
   "execution_count": null,
   "metadata": {},
   "outputs": [],
   "source": []
  },
  {
   "cell_type": "markdown",
   "metadata": {},
   "source": [
    "**1，创建元组**"
   ]
  },
  {
   "cell_type": "code",
   "execution_count": 244,
   "metadata": {},
   "outputs": [
    {
     "data": {
      "text/plain": [
       "\u001b[36mt\u001b[39m: (\u001b[32mInt\u001b[39m, \u001b[32mString\u001b[39m, \u001b[32mFloat\u001b[39m, \u001b[32mBoolean\u001b[39m) = (\u001b[32m123\u001b[39m, \u001b[32m\"hello\"\u001b[39m, \u001b[32m123.2F\u001b[39m, \u001b[32mtrue\u001b[39m)"
      ]
     },
     "execution_count": 244,
     "metadata": {},
     "output_type": "execute_result"
    }
   ],
   "source": [
    "val t = (123,\"hello\",123.2f,true)"
   ]
  },
  {
   "cell_type": "code",
   "execution_count": 245,
   "metadata": {},
   "outputs": [
    {
     "data": {
      "text/plain": [
       "\u001b[36mt\u001b[39m: (\u001b[32mInt\u001b[39m, \u001b[32mDouble\u001b[39m, \u001b[32mString\u001b[39m) = (\u001b[32m1\u001b[39m, \u001b[32m3.14\u001b[39m, \u001b[32m\"hello\"\u001b[39m)"
      ]
     },
     "execution_count": 245,
     "metadata": {},
     "output_type": "execute_result"
    }
   ],
   "source": [
    "val t = new Tuple3(1, 3.14, \"hello\")"
   ]
  },
  {
   "cell_type": "code",
   "execution_count": null,
   "metadata": {},
   "outputs": [],
   "source": []
  },
  {
   "cell_type": "markdown",
   "metadata": {},
   "source": [
    "**2，使用元组**"
   ]
  },
  {
   "cell_type": "code",
   "execution_count": 246,
   "metadata": {},
   "outputs": [
    {
     "data": {
      "text/plain": [
       "\u001b[36mt\u001b[39m: (\u001b[32mInt\u001b[39m, \u001b[32mString\u001b[39m, \u001b[32mFloat\u001b[39m, \u001b[32mBoolean\u001b[39m) = (\u001b[32m123\u001b[39m, \u001b[32m\"hello\"\u001b[39m, \u001b[32m123.2F\u001b[39m, \u001b[32mtrue\u001b[39m)\r\n",
       "\u001b[36mres245_1\u001b[39m: \u001b[32mInt\u001b[39m = \u001b[32m123\u001b[39m\r\n",
       "\u001b[36mres245_2\u001b[39m: \u001b[32mString\u001b[39m = \u001b[32m\"hello\"\u001b[39m\r\n",
       "\u001b[36mres245_3\u001b[39m: \u001b[32mFloat\u001b[39m = \u001b[32m123.2F\u001b[39m"
      ]
     },
     "execution_count": 246,
     "metadata": {},
     "output_type": "execute_result"
    }
   ],
   "source": [
    "val t = (123,\"hello\",123.2f,true)\n",
    "t._1\n",
    "t._2\n",
    "t._3"
   ]
  },
  {
   "cell_type": "code",
   "execution_count": 247,
   "metadata": {},
   "outputs": [
    {
     "data": {
      "text/plain": [
       "\u001b[36mres246\u001b[39m: \u001b[32mString\u001b[39m = \u001b[32m\"(123,hello,123.2,true)\"\u001b[39m"
      ]
     },
     "execution_count": 247,
     "metadata": {},
     "output_type": "execute_result"
    }
   ],
   "source": []
  },
  {
   "cell_type": "code",
   "execution_count": null,
   "metadata": {},
   "outputs": [],
   "source": []
  },
  {
   "cell_type": "code",
   "execution_count": null,
   "metadata": {},
   "outputs": [],
   "source": []
  },
  {
   "cell_type": "markdown",
   "metadata": {},
   "source": [
    "### 十二，迭代器 Iterator"
   ]
  },
  {
   "cell_type": "markdown",
   "metadata": {},
   "source": [
    "迭代器不是一种容器，但是它提供了一种访问容器的方法。\n",
    "迭代器主要有hasNext和next两个常用方法。"
   ]
  },
  {
   "cell_type": "markdown",
   "metadata": {},
   "source": [
    "**1，创建迭代器**"
   ]
  },
  {
   "cell_type": "code",
   "execution_count": 248,
   "metadata": {},
   "outputs": [
    {
     "data": {
      "text/plain": [
       "\u001b[36miter\u001b[39m: \u001b[32mIterator\u001b[39m[\u001b[32mString\u001b[39m] = non-empty iterator"
      ]
     },
     "execution_count": 248,
     "metadata": {},
     "output_type": "execute_result"
    }
   ],
   "source": [
    "//直接创建迭代器\n",
    "val iter = Iterator(\"baidu\",\"alibaba\",\"tencent\",\"huawei\")"
   ]
  },
  {
   "cell_type": "code",
   "execution_count": 249,
   "metadata": {},
   "outputs": [
    {
     "data": {
      "text/plain": [
       "\u001b[36mset\u001b[39m: \u001b[32mSet\u001b[39m[\u001b[32mAny\u001b[39m] = \u001b[33mSet\u001b[39m(hello, 123, true, 3.14)\r\n",
       "\u001b[36miter\u001b[39m: \u001b[32mIterator\u001b[39m[\u001b[32mAny\u001b[39m] = non-empty iterator"
      ]
     },
     "execution_count": 249,
     "metadata": {},
     "output_type": "execute_result"
    }
   ],
   "source": [
    "//容器转换成迭代器\n",
    "val set = Set(\"hello\",123,true,3.14)\n",
    "val iter = set.toIterator"
   ]
  },
  {
   "cell_type": "code",
   "execution_count": 250,
   "metadata": {},
   "outputs": [
    {
     "data": {
      "text/plain": [
       "\u001b[36mgroup\u001b[39m: \u001b[32mIterator\u001b[39m[\u001b[32mSet\u001b[39m[\u001b[32mAny\u001b[39m]] = non-empty iterator\r\n",
       "\u001b[36mslide\u001b[39m: \u001b[32mIterator\u001b[39m[\u001b[32mSet\u001b[39m[\u001b[32mAny\u001b[39m]] = non-empty iterator"
      ]
     },
     "execution_count": 250,
     "metadata": {},
     "output_type": "execute_result"
    }
   ],
   "source": [
    "//容器通过分组和滑动窗口得到迭代器\n",
    "val group = set.grouped(3)\n",
    "val slide = set.sliding(2)"
   ]
  },
  {
   "cell_type": "code",
   "execution_count": null,
   "metadata": {},
   "outputs": [],
   "source": []
  },
  {
   "cell_type": "markdown",
   "metadata": {},
   "source": [
    "**2，使用迭代器**"
   ]
  },
  {
   "cell_type": "code",
   "execution_count": 251,
   "metadata": {},
   "outputs": [
    {
     "name": "stdout",
     "output_type": "stream",
     "text": [
      "baidu\n",
      "alibaba\n",
      "tencent\n",
      "huawei\n"
     ]
    },
    {
     "data": {
      "text/plain": [
       "\u001b[36miter\u001b[39m: \u001b[32mIterator\u001b[39m[\u001b[32mString\u001b[39m] = empty iterator\r\n",
       "\u001b[36mres250_5\u001b[39m: \u001b[32mBoolean\u001b[39m = \u001b[32mfalse\u001b[39m"
      ]
     },
     "execution_count": 251,
     "metadata": {},
     "output_type": "execute_result"
    }
   ],
   "source": [
    "val iter = Iterator(\"baidu\",\"alibaba\",\"tencent\",\"huawei\")\n",
    "println(iter.next)\n",
    "println(iter.next)\n",
    "println(iter.next)\n",
    "println(iter.next)\n",
    "iter.hasNext"
   ]
  },
  {
   "cell_type": "code",
   "execution_count": 252,
   "metadata": {},
   "outputs": [
    {
     "name": "stdout",
     "output_type": "stream",
     "text": [
      "hello\n",
      "123\n",
      "true\n",
      "3.14\n"
     ]
    },
    {
     "data": {
      "text/plain": [
       "\u001b[36mset\u001b[39m: \u001b[32mSet\u001b[39m[\u001b[32mAny\u001b[39m] = \u001b[33mSet\u001b[39m(hello, 123, true, 3.14)\r\n",
       "\u001b[36miter\u001b[39m: \u001b[32mIterator\u001b[39m[\u001b[32mAny\u001b[39m] = empty iterator"
      ]
     },
     "execution_count": 252,
     "metadata": {},
     "output_type": "execute_result"
    }
   ],
   "source": [
    "//for表达式遍历Iterator\n",
    "val set = Set(\"hello\",123,true,3.14)\n",
    "val iter = set.toIterator\n",
    "for(x<-iter) println(x)"
   ]
  },
  {
   "cell_type": "code",
   "execution_count": 253,
   "metadata": {},
   "outputs": [
    {
     "name": "stdout",
     "output_type": "stream",
     "text": [
      "hello\n",
      "123\n",
      "true\n",
      "3.14\n"
     ]
    },
    {
     "data": {
      "text/plain": [
       "\u001b[36mset\u001b[39m: \u001b[32mSet\u001b[39m[\u001b[32mAny\u001b[39m] = \u001b[33mSet\u001b[39m(hello, 123, true, 3.14)\r\n",
       "\u001b[36miter\u001b[39m: \u001b[32mIterator\u001b[39m[\u001b[32mAny\u001b[39m] = empty iterator"
      ]
     },
     "execution_count": 253,
     "metadata": {},
     "output_type": "execute_result"
    }
   ],
   "source": [
    "//while语句遍历Iterator\n",
    "val set = Set(\"hello\",123,true,3.14)\n",
    "val iter = set.toIterator\n",
    "while(iter.hasNext) println(iter.next)"
   ]
  },
  {
   "cell_type": "code",
   "execution_count": 258,
   "metadata": {},
   "outputs": [
    {
     "name": "stdout",
     "output_type": "stream",
     "text": [
      "1\n",
      "2\n",
      "3\n",
      "hello\n",
      "world\n"
     ]
    },
    {
     "data": {
      "text/plain": [
       "\u001b[36miter1\u001b[39m: \u001b[32mIterator\u001b[39m[\u001b[32mInt\u001b[39m] = empty iterator\r\n",
       "\u001b[36miter2\u001b[39m: \u001b[32mIterator\u001b[39m[\u001b[32mString\u001b[39m] = empty iterator\r\n",
       "\u001b[36miter\u001b[39m: \u001b[32mIterator\u001b[39m[\u001b[32mAny\u001b[39m] = empty iterator"
      ]
     },
     "execution_count": 258,
     "metadata": {},
     "output_type": "execute_result"
    }
   ],
   "source": [
    "//迭代器合并\n",
    "val iter1 = Iterator(1,2,3)\n",
    "val iter2 = Iterator(\"hello\",\"world\")\n",
    "val iter = iter1 ++ iter2\n",
    "for(x<-iter)println(x)"
   ]
  },
  {
   "cell_type": "code",
   "execution_count": null,
   "metadata": {},
   "outputs": [],
   "source": []
  },
  {
   "cell_type": "code",
   "execution_count": null,
   "metadata": {},
   "outputs": [],
   "source": []
  },
  {
   "cell_type": "markdown",
   "metadata": {},
   "source": [
    "### 十三，Option 选项"
   ]
  },
  {
   "cell_type": "markdown",
   "metadata": {},
   "source": [
    "Option表示有可能包含值，也可能不包含值的容器。\n",
    "它有两个子类，一个是Some，一个是对象None。\n",
    "它的主要方法是getOrElse 和isEmpty。\n"
   ]
  },
  {
   "cell_type": "code",
   "execution_count": 259,
   "metadata": {},
   "outputs": [
    {
     "data": {
      "text/plain": [
       "\u001b[36mopt1\u001b[39m: \u001b[32mOption\u001b[39m[\u001b[32mString\u001b[39m] = \u001b[33mSome\u001b[39m(\u001b[32m\"hello\"\u001b[39m)\r\n",
       "\u001b[36mopt2\u001b[39m: \u001b[32mOption\u001b[39m[\u001b[32mString\u001b[39m] = None\r\n",
       "\u001b[36mres258_2\u001b[39m: \u001b[32mClass\u001b[39m[\u001b[32m?0\u001b[39m] = class scala.Some\r\n",
       "\u001b[36mres258_3\u001b[39m: \u001b[32mClass\u001b[39m[\u001b[32m?0\u001b[39m] = class scala.None$"
      ]
     },
     "execution_count": 259,
     "metadata": {},
     "output_type": "execute_result"
    }
   ],
   "source": [
    "val opt1:Option[String] = Some(\"hello\")\n",
    "val opt2:Option[String] = None\n",
    "\n",
    "opt1.getClass\n",
    "opt2.getClass"
   ]
  },
  {
   "cell_type": "code",
   "execution_count": 260,
   "metadata": {},
   "outputs": [
    {
     "data": {
      "text/plain": [
       "\u001b[36md\u001b[39m: \u001b[32mMap\u001b[39m[\u001b[32mString\u001b[39m, \u001b[32mString\u001b[39m] = \u001b[33mMap\u001b[39m(\u001b[32m\"NANCHANG\"\u001b[39m -> \u001b[32m\"NC\"\u001b[39m, \u001b[32m\"BEIJING\"\u001b[39m -> \u001b[32m\"BJ\"\u001b[39m)\r\n",
       "\u001b[36mopt\u001b[39m: \u001b[32mOption\u001b[39m[\u001b[32mString\u001b[39m] = None\r\n",
       "\u001b[36mres259_2\u001b[39m: \u001b[32mString\u001b[39m = \u001b[32m\"NOTFOUND\"\u001b[39m\r\n",
       "\u001b[36mres259_3\u001b[39m: \u001b[32mBoolean\u001b[39m = \u001b[32mtrue\u001b[39m"
      ]
     },
     "execution_count": 260,
     "metadata": {},
     "output_type": "execute_result"
    }
   ],
   "source": [
    "val d = Map(\"BEIJING\"->\"BJ\",\"NANCHANG\"->\"NC\")\n",
    "val opt = d.get(\"SHANGHAI\")\n",
    "opt.getOrElse(\"NOTFOUND\")\n",
    "opt.isEmpty"
   ]
  },
  {
   "cell_type": "code",
   "execution_count": null,
   "metadata": {},
   "outputs": [],
   "source": []
  },
  {
   "cell_type": "markdown",
   "metadata": {},
   "source": [
    "### 十四，选择结构\n",
    "\n"
   ]
  },
  {
   "cell_type": "markdown",
   "metadata": {},
   "source": [
    "scala的选择结构主要通过if语句以及match语句实现。\n",
    "match 语句相当于多分支结构，可以使用模式匹配。\n",
    "\n"
   ]
  },
  {
   "cell_type": "markdown",
   "metadata": {},
   "source": [
    "**1，if选择语句**"
   ]
  },
  {
   "cell_type": "code",
   "execution_count": 271,
   "metadata": {},
   "outputs": [
    {
     "data": {
      "text/plain": [
       "\u001b[36ma\u001b[39m: \u001b[32mInt\u001b[39m = \u001b[32m2\u001b[39m\r\n",
       "\u001b[36mb\u001b[39m: \u001b[32mInt\u001b[39m = \u001b[32m3\u001b[39m\r\n",
       "\u001b[36mm\u001b[39m: \u001b[32mInt\u001b[39m = \u001b[32m3\u001b[39m"
      ]
     },
     "execution_count": 271,
     "metadata": {},
     "output_type": "execute_result"
    }
   ],
   "source": [
    "//if...else...语句\n",
    "val a = 2\n",
    "val b = 3\n",
    "var m = a\n",
    "if(a>b){\n",
    "    m = a\n",
    "}else{\n",
    "    m = b}"
   ]
  },
  {
   "cell_type": "code",
   "execution_count": 272,
   "metadata": {},
   "outputs": [
    {
     "data": {
      "text/plain": [
       "\u001b[36ma\u001b[39m: \u001b[32mInt\u001b[39m = \u001b[32m2\u001b[39m\r\n",
       "\u001b[36mb\u001b[39m: \u001b[32mInt\u001b[39m = \u001b[32m3\u001b[39m\r\n",
       "\u001b[36mm\u001b[39m: \u001b[32mInt\u001b[39m = \u001b[32m3\u001b[39m"
      ]
     },
     "execution_count": 272,
     "metadata": {},
     "output_type": "execute_result"
    }
   ],
   "source": [
    "//单行if语句\n",
    "val a = 2\n",
    "val b = 3\n",
    "var m =  if(a>b) a else b"
   ]
  },
  {
   "cell_type": "code",
   "execution_count": 273,
   "metadata": {},
   "outputs": [
    {
     "data": {
      "text/plain": [
       "\u001b[36ma\u001b[39m: \u001b[32mInt\u001b[39m = \u001b[32m2\u001b[39m\r\n",
       "\u001b[36mb\u001b[39m: \u001b[32mInt\u001b[39m = \u001b[32m3\u001b[39m\r\n",
       "\u001b[36mc\u001b[39m: \u001b[32mInt\u001b[39m = \u001b[32m1\u001b[39m\r\n",
       "\u001b[36mm\u001b[39m: \u001b[32mInt\u001b[39m = \u001b[32m3\u001b[39m"
      ]
     },
     "execution_count": 273,
     "metadata": {},
     "output_type": "execute_result"
    }
   ],
   "source": [
    "//if...else if...else if...else...\n",
    "val a = 2\n",
    "val b = 3\n",
    "val c = 1\n",
    "\n",
    "var m = 0\n",
    "if(a>b&&a>c){\n",
    "    m = a\n",
    "}else if(b>a&&b>c){\n",
    "    m = b\n",
    "}else{\n",
    "    m = c\n",
    "}"
   ]
  },
  {
   "cell_type": "code",
   "execution_count": 274,
   "metadata": {},
   "outputs": [
    {
     "data": {
      "text/plain": [
       "\u001b[36mres273_0\u001b[39m: \u001b[32mBoolean\u001b[39m = \u001b[32mtrue\u001b[39m\r\n",
       "\u001b[36mres273_1\u001b[39m: \u001b[32mBoolean\u001b[39m = \u001b[32mfalse\u001b[39m\r\n",
       "\u001b[36mres273_2\u001b[39m: \u001b[32mBoolean\u001b[39m = \u001b[32mtrue\u001b[39m"
      ]
     },
     "execution_count": 274,
     "metadata": {},
     "output_type": "execute_result"
    }
   ],
   "source": [
    "//逻辑运算符\n",
    "true || false\n",
    "true && false\n",
    "!false"
   ]
  },
  {
   "cell_type": "markdown",
   "metadata": {},
   "source": [
    "**2，match模式匹配**"
   ]
  },
  {
   "cell_type": "code",
   "execution_count": 275,
   "metadata": {},
   "outputs": [
    {
     "name": "stdout",
     "output_type": "stream",
     "text": [
      "one\r\n"
     ]
    },
    {
     "data": {
      "text/plain": [
       "\u001b[36ma\u001b[39m: \u001b[32mInt\u001b[39m = \u001b[32m1\u001b[39m\r\n",
       "\u001b[36mx\u001b[39m: \u001b[32mString\u001b[39m = \u001b[32m\"one\"\u001b[39m"
      ]
     },
     "execution_count": 275,
     "metadata": {},
     "output_type": "execute_result"
    }
   ],
   "source": [
    "//match多分支结构\n",
    "val a = 1\n",
    "val x = a match{\n",
    "    case 1 => \"one\"\n",
    "    case 2 => \"two\"\n",
    "    case _ => \"many\"   \n",
    "} \n",
    "println(x)"
   ]
  },
  {
   "cell_type": "code",
   "execution_count": 276,
   "metadata": {},
   "outputs": [
    {
     "data": {
      "text/plain": [
       "\u001b[36melem\u001b[39m: \u001b[32mAny\u001b[39m = hello\r\n",
       "\u001b[36mx\u001b[39m: \u001b[32mString\u001b[39m = \u001b[32m\"hello is a string value\"\u001b[39m"
      ]
     },
     "execution_count": 276,
     "metadata": {},
     "output_type": "execute_result"
    }
   ],
   "source": [
    "//match类型匹配\n",
    "//注意将选择器声明为Any类型\n",
    "\n",
    "val elem:Any = \"hello\"\n",
    "val x = elem match{\n",
    "    case i:Int => i + \" is a int value\"\n",
    "    case d:Double => d + \" is a double value\"\n",
    "    case \"spark\" => \"spark is found\"\n",
    "    case s:String => s + \" is a string value\"\n",
    "}"
   ]
  },
  {
   "cell_type": "code",
   "execution_count": 267,
   "metadata": {},
   "outputs": [
    {
     "name": "stdout",
     "output_type": "stream",
     "text": [
      "1 is even\n",
      "2 is odd\n",
      "3 is even\n",
      "4 is odd\n"
     ]
    }
   ],
   "source": [
    "//match添加guard语句\n",
    "for(elem <- List(1,2,3,4)){\n",
    "    elem match{\n",
    "        case _ if (elem%2 ==0) => println(elem + \" is odd\")\n",
    "        case _ => println(elem + \" is even\")\n",
    "    }\n",
    "}"
   ]
  },
  {
   "cell_type": "code",
   "execution_count": 277,
   "metadata": {},
   "outputs": [
    {
     "name": "stdout",
     "output_type": "stream",
     "text": [
      "Hi Alice!\n",
      "Hi,Bob!\n",
      "Age: 20 year, name: charlie?\n"
     ]
    },
    {
     "data": {
      "text/plain": [
       "defined \u001b[32mclass\u001b[39m \u001b[36mPerson\u001b[39m\r\n",
       "\u001b[36malice\u001b[39m: \u001b[32mwrapper\u001b[39m.\u001b[32mwrapper\u001b[39m.\u001b[32mPerson\u001b[39m = \u001b[33mPerson\u001b[39m(\u001b[32m\"Alice\"\u001b[39m, \u001b[32m17\u001b[39m)\r\n",
       "\u001b[36mbob\u001b[39m: \u001b[32mwrapper\u001b[39m.\u001b[32mwrapper\u001b[39m.\u001b[32mPerson\u001b[39m = \u001b[33mPerson\u001b[39m(\u001b[32m\"Bob\"\u001b[39m, \u001b[32m19\u001b[39m)\r\n",
       "\u001b[36mcharlie\u001b[39m: \u001b[32mwrapper\u001b[39m.\u001b[32mwrapper\u001b[39m.\u001b[32mPerson\u001b[39m = \u001b[33mPerson\u001b[39m(\u001b[32m\"charlie\"\u001b[39m, \u001b[32m20\u001b[39m)"
      ]
     },
     "execution_count": 277,
     "metadata": {},
     "output_type": "execute_result"
    }
   ],
   "source": [
    "//match使用case类进行模式匹配\n",
    "//case例是一种特殊的类，经过了优化以用于模式匹配\n",
    "\n",
    "//声明case例\n",
    "case class Person(name: String, age: Int)\n",
    "val alice = new Person(\"Alice\",17)\n",
    "val bob = Person(\"Bob\",19)\n",
    "val charlie = Person(\"charlie\",20)\n",
    "\n",
    "for (person <- List(alice, bob, charlie)) {\n",
    "    person match {\n",
    "        case Person(\"Alice\", 17) => println(\"Hi Alice!\")\n",
    "        case p:Person if(p.name ==\"Bob\") => \n",
    "        println(s\"Hi,${p.name}!\")\n",
    "        case Person(name, age) =>\n",
    "        println(\"Age: \" + age + \" year, name: \" + name + \"?\")\n",
    "        }\n",
    " }\n"
   ]
  },
  {
   "cell_type": "code",
   "execution_count": null,
   "metadata": {},
   "outputs": [],
   "source": []
  },
  {
   "cell_type": "code",
   "execution_count": null,
   "metadata": {},
   "outputs": [],
   "source": []
  },
  {
   "cell_type": "markdown",
   "metadata": {},
   "source": [
    "### 十五，循环结构"
   ]
  },
  {
   "cell_type": "markdown",
   "metadata": {},
   "source": [
    "循环结构主要是 for循环和while循环,此外还可以使用for推导式。"
   ]
  },
  {
   "cell_type": "markdown",
   "metadata": {},
   "source": [
    "**1，for循环**"
   ]
  },
  {
   "cell_type": "code",
   "execution_count": 281,
   "metadata": {},
   "outputs": [
    {
     "name": "stdout",
     "output_type": "stream",
     "text": [
      "8\r\n"
     ]
    },
    {
     "data": {
      "text/plain": [
       "\u001b[36ml\u001b[39m: \u001b[32mList\u001b[39m[\u001b[32mInt\u001b[39m] = \u001b[33mList\u001b[39m(\u001b[32m1\u001b[39m, \u001b[32m2\u001b[39m, \u001b[32m8\u001b[39m, \u001b[32m6\u001b[39m, \u001b[32m4\u001b[39m)\r\n",
       "\u001b[36mmax_l\u001b[39m: \u001b[32mInt\u001b[39m = \u001b[32m8\u001b[39m"
      ]
     },
     "execution_count": 281,
     "metadata": {},
     "output_type": "execute_result"
    }
   ],
   "source": [
    "//求一个列表中的最大元素\n",
    "val l = List(1,2,8,6,4)\n",
    "var max_l = l(0)\n",
    "for(i <- l){\n",
    "    max_l = if(max_l<i) i else max_l\n",
    "}\n",
    "println(max_l)"
   ]
  },
  {
   "cell_type": "markdown",
   "metadata": {},
   "source": [
    "**2, while循环**"
   ]
  },
  {
   "cell_type": "code",
   "execution_count": 280,
   "metadata": {},
   "outputs": [
    {
     "name": "stdout",
     "output_type": "stream",
     "text": [
      "(5050,101)\n"
     ]
    },
    {
     "data": {
      "text/plain": [
       "\u001b[36ms\u001b[39m: \u001b[32mInt\u001b[39m = \u001b[32m5050\u001b[39m\r\n",
       "\u001b[36mi\u001b[39m: \u001b[32mInt\u001b[39m = \u001b[32m101\u001b[39m"
      ]
     },
     "execution_count": 280,
     "metadata": {},
     "output_type": "execute_result"
    }
   ],
   "source": [
    "//1到100求和\n",
    "var s = 0\n",
    "var i = 1\n",
    "while(i<=100){\n",
    "    s += i\n",
    "    i += 1\n",
    "}\n",
    "println(s,i)\n"
   ]
  },
  {
   "cell_type": "markdown",
   "metadata": {},
   "source": [
    "**3,循环控制**"
   ]
  },
  {
   "cell_type": "code",
   "execution_count": 291,
   "metadata": {},
   "outputs": [
    {
     "name": "stdout",
     "output_type": "stream",
     "text": [
      "helloworld\n",
      "hello"
     ]
    },
    {
     "data": {
      "text/plain": [
       "\u001b[36ms\u001b[39m: \u001b[32mString\u001b[39m = \u001b[32m\"hello world\"\u001b[39m\r\n",
       "defined \u001b[32mfunction\u001b[39m \u001b[36mloop\u001b[39m"
      ]
     },
     "execution_count": 291,
     "metadata": {},
     "output_type": "execute_result"
    }
   ],
   "source": [
    "//scala中默认没有breaks和continue关键字\n",
    "//可以用return和带if的循环生成器实现对应功能\n",
    "val s = \"hello world\"\n",
    "\n",
    "//replace continue by if guard\n",
    "for(i<-s if i!=' ') print(i)\n",
    "print('\\n')\n",
    "\n",
    "//replace break by return\n",
    "def loop():Unit = {\n",
    "    for(i<-s){\n",
    "        if(i==' ') return\n",
    "        print(i)\n",
    "    }\n",
    "}\n",
    "loop()\n"
   ]
  },
  {
   "cell_type": "markdown",
   "metadata": {},
   "source": [
    "**4，for表达式的高级用法**"
   ]
  },
  {
   "cell_type": "code",
   "execution_count": 281,
   "metadata": {},
   "outputs": [],
   "source": [
    "//在Scala里，一个for表达式可以包含1个或多个「生成器」(Generator)，\n",
    "//其中，每个生成器可以包含0个或多个「守卫」(Guard)，\n",
    "//以及0个或多个「定义」(Definition)。\n",
    "//以及一个可选的yield子句。\n",
    "\n",
    "//不带yield子句的for表达式叫做for循环，带有yield子句的 for表达式叫做推导式,"
   ]
  },
  {
   "cell_type": "code",
   "execution_count": 292,
   "metadata": {},
   "outputs": [
    {
     "name": "stdout",
     "output_type": "stream",
     "text": [
      "3\n",
      "4\n",
      "5\n"
     ]
    }
   ],
   "source": [
    "// 双重for循环带1个if守卫\n",
    "for(i <- 1 to 3; j<- i to 3 if i!=j) println(i+j)"
   ]
  },
  {
   "cell_type": "code",
   "execution_count": 293,
   "metadata": {},
   "outputs": [
    {
     "name": "stdout",
     "output_type": "stream",
     "text": [
      "3 4 5 6 7 8 9 10 8 10 12 14 16 18 20 15 18 21 24 27 30 "
     ]
    }
   ],
   "source": [
    "// 双重for循环带1个if守卫带1个定义\n",
    "for(i <- 1 to 3; a = i+2;j <-a to 10 if i!= j) print(i*j+\" \") "
   ]
  },
  {
   "cell_type": "code",
   "execution_count": 294,
   "metadata": {},
   "outputs": [
    {
     "data": {
      "text/plain": [
       "\u001b[36mvec\u001b[39m: \u001b[32mArray\u001b[39m[\u001b[32mInt\u001b[39m] = \u001b[33mArray\u001b[39m(\u001b[32m1\u001b[39m, \u001b[32m2\u001b[39m, \u001b[32m0\u001b[39m, \u001b[32m1\u001b[39m)"
      ]
     },
     "execution_count": 294,
     "metadata": {},
     "output_type": "execute_result"
    }
   ],
   "source": [
    "// for推导式 1个生成器\n",
    "val vec = for(i<- Array.range(1,5)) yield i%3"
   ]
  },
  {
   "cell_type": "code",
   "execution_count": 295,
   "metadata": {},
   "outputs": [
    {
     "data": {
      "text/plain": [
       "\u001b[36mboys\u001b[39m: \u001b[32mArray\u001b[39m[\u001b[32mString\u001b[39m] = \u001b[33mArray\u001b[39m(\u001b[32m\"Jim\"\u001b[39m, \u001b[32m\"LiLei\"\u001b[39m)\r\n",
       "\u001b[36mgirls\u001b[39m: \u001b[32mArray\u001b[39m[\u001b[32mString\u001b[39m] = \u001b[33mArray\u001b[39m(\u001b[32m\"Ann\"\u001b[39m, \u001b[32m\"XiaoHong\"\u001b[39m)\r\n",
       "\u001b[36mpairs\u001b[39m: \u001b[32mArray\u001b[39m[(\u001b[32mString\u001b[39m, \u001b[32mString\u001b[39m)] = \u001b[33mArray\u001b[39m(\n",
       "  (\u001b[32m\"Jim\"\u001b[39m, \u001b[32m\"Ann\"\u001b[39m),\n",
       "  (\u001b[32m\"Jim\"\u001b[39m, \u001b[32m\"XiaoHong\"\u001b[39m),\n",
       "  (\u001b[32m\"LiLei\"\u001b[39m, \u001b[32m\"Ann\"\u001b[39m),\n",
       "  (\u001b[32m\"LiLei\"\u001b[39m, \u001b[32m\"XiaoHong\"\u001b[39m)\n",
       ")"
      ]
     },
     "execution_count": 295,
     "metadata": {},
     "output_type": "execute_result"
    }
   ],
   "source": [
    "//for推导式 2个生成器\n",
    "val boys = Array(\"Jim\",\"LiLei\")\n",
    "val girls = Array(\"Ann\",\"XiaoHong\")\n",
    "val pairs = for(b <- boys;g <- girls;pair = (b,g)) yield pair"
   ]
  },
  {
   "cell_type": "code",
   "execution_count": 289,
   "metadata": {},
   "outputs": [
    {
     "data": {
      "text/plain": [
       "\u001b[36mboys\u001b[39m: \u001b[32mArray\u001b[39m[\u001b[32mString\u001b[39m] = \u001b[33mArray\u001b[39m(\u001b[32m\"Jim\"\u001b[39m, \u001b[32m\"LiLei\"\u001b[39m)\r\n",
       "\u001b[36mgirls\u001b[39m: \u001b[32mArray\u001b[39m[\u001b[32mString\u001b[39m] = \u001b[33mArray\u001b[39m(\u001b[32m\"Ann\"\u001b[39m, \u001b[32m\"XiaoHong\"\u001b[39m)\r\n",
       "\u001b[36mpairs\u001b[39m: \u001b[32mArray\u001b[39m[(\u001b[32mString\u001b[39m, \u001b[32mString\u001b[39m)] = \u001b[33mArray\u001b[39m(\n",
       "  (\u001b[32m\"Jim\"\u001b[39m, \u001b[32m\"Ann\"\u001b[39m),\n",
       "  (\u001b[32m\"Jim\"\u001b[39m, \u001b[32m\"XiaoHong\"\u001b[39m),\n",
       "  (\u001b[32m\"LiLei\"\u001b[39m, \u001b[32m\"Ann\"\u001b[39m),\n",
       "  (\u001b[32m\"LiLei\"\u001b[39m, \u001b[32m\"XiaoHong\"\u001b[39m)\n",
       ")"
      ]
     },
     "execution_count": 289,
     "metadata": {},
     "output_type": "execute_result"
    }
   ],
   "source": [
    "//for推导式 \n",
    "//可以将生成器放在花括号中\n",
    "val boys = Array(\"Jim\",\"LiLei\")\n",
    "val girls = Array(\"Ann\",\"XiaoHong\")\n",
    "val pairs = for{\n",
    "    b<-boys\n",
    "    g<-girls\n",
    "    pair = (b,g)\n",
    "} yield pair\n"
   ]
  },
  {
   "cell_type": "markdown",
   "metadata": {},
   "source": [
    "### 十六，异常捕获"
   ]
  },
  {
   "cell_type": "markdown",
   "metadata": {},
   "source": [
    "异常捕获的语句是 try...catch...finally...\n",
    "此外还可以用throw抛出异常\n",
    "如：throw new IllegalArgumentException"
   ]
  },
  {
   "cell_type": "code",
   "execution_count": 296,
   "metadata": {},
   "outputs": [
    {
     "name": "stdout",
     "output_type": "stream",
     "text": [
      "Missing file exception\n",
      "Exiting finally...\n"
     ]
    },
    {
     "data": {
      "text/plain": [
       "\u001b[32mimport \u001b[39m\u001b[36mjava.io.FileReader\r\n",
       "\u001b[39m\r\n",
       "\u001b[32mimport \u001b[39m\u001b[36mjava.io.FileNotFoundException\r\n",
       "\u001b[39m\r\n",
       "\u001b[32mimport \u001b[39m\u001b[36mjava.io.IOException\r\n",
       "\r\n",
       "\u001b[39m\r\n",
       "defined \u001b[32mobject\u001b[39m \u001b[36mTest\u001b[39m"
      ]
     },
     "execution_count": 296,
     "metadata": {},
     "output_type": "execute_result"
    }
   ],
   "source": [
    "import java.io.FileReader\n",
    "import java.io.FileNotFoundException\n",
    "import java.io.IOException\n",
    "\n",
    "object Test {\n",
    "   def main() {\n",
    "      try {\n",
    "         val f = new FileReader(\"input.txt\")\n",
    "      } catch {\n",
    "         case ex: FileNotFoundException => {\n",
    "            println(\"Missing file exception\")\n",
    "         }\n",
    "         case ex: IOException => {\n",
    "            println(\"IO Exception\")\n",
    "         }\n",
    "      } finally {\n",
    "         println(\"Exiting finally...\")\n",
    "      }\n",
    "   }\n",
    "}\n",
    "\n",
    "Test.main()"
   ]
  },
  {
   "cell_type": "code",
   "execution_count": null,
   "metadata": {},
   "outputs": [],
   "source": []
  },
  {
   "cell_type": "markdown",
   "metadata": {},
   "source": [
    "### 十七，函数定义"
   ]
  },
  {
   "cell_type": "markdown",
   "metadata": {},
   "source": [
    "scala中的函数可以通过关键字def定义或者使用匿名函数。\n",
    "此处介绍def定义函数的语法。\n",
    "\n",
    "def functionName(args list):[return type] = {\n",
    "   function body\n",
    "   return expr\n",
    "}\n",
    "\n",
    "当函数的输出类型可以推断时，可以省去“:[return type]= ”。"
   ]
  },
  {
   "cell_type": "code",
   "execution_count": 297,
   "metadata": {},
   "outputs": [
    {
     "data": {
      "text/plain": [
       "defined \u001b[32mfunction\u001b[39m \u001b[36mmy_abs\u001b[39m\r\n",
       "\u001b[36mres296_1\u001b[39m: \u001b[32mDouble\u001b[39m = \u001b[32m2.0\u001b[39m"
      ]
     },
     "execution_count": 297,
     "metadata": {},
     "output_type": "execute_result"
    }
   ],
   "source": [
    "//完整定义的函数\n",
    "def my_abs(arg:Double):Double = {\n",
    "    if(arg>0) arg else -arg\n",
    "}\n",
    "my_abs(-2.0)"
   ]
  },
  {
   "cell_type": "code",
   "execution_count": 298,
   "metadata": {},
   "outputs": [
    {
     "data": {
      "text/plain": [
       "defined \u001b[32mfunction\u001b[39m \u001b[36mmy_abs\u001b[39m"
      ]
     },
     "execution_count": 298,
     "metadata": {},
     "output_type": "execute_result"
    }
   ],
   "source": [
    "//当函数的输出类型可以推断时，可以省去“:[return type]=”\n",
    "def my_abs(arg:Double) {\n",
    "    if(arg>0) arg else -arg\n",
    "}\n",
    "my_abs(-2.0)"
   ]
  },
  {
   "cell_type": "code",
   "execution_count": 299,
   "metadata": {},
   "outputs": [
    {
     "name": "stdout",
     "output_type": "stream",
     "text": [
      "Hello, Scala!\r\n"
     ]
    },
    {
     "data": {
      "text/plain": [
       "defined \u001b[32mfunction\u001b[39m \u001b[36mprintMe\u001b[39m"
      ]
     },
     "execution_count": 299,
     "metadata": {},
     "output_type": "execute_result"
    }
   ],
   "source": [
    "//没有返回值的函数,可以用Unit作为返回值类型\n",
    "def printMe():Unit = {\n",
    "  println(\"Hello, Scala!\")\n",
    "}\n",
    "printMe"
   ]
  },
  {
   "cell_type": "code",
   "execution_count": 300,
   "metadata": {},
   "outputs": [
    {
     "data": {
      "text/plain": [
       "defined \u001b[32mfunction\u001b[39m \u001b[36maddInt\u001b[39m\r\n",
       "\u001b[36mres299_1\u001b[39m: \u001b[32mInt\u001b[39m = \u001b[32m12\u001b[39m"
      ]
     },
     "execution_count": 300,
     "metadata": {},
     "output_type": "execute_result"
    }
   ],
   "source": [
    "//使用默认参数\n",
    "def addInt( a:Int=5, b:Int=7 ):Int = {\n",
    "      var sum:Int = a + b\n",
    "      return sum\n",
    "}\n",
    "addInt()"
   ]
  },
  {
   "cell_type": "code",
   "execution_count": 301,
   "metadata": {},
   "outputs": [
    {
     "name": "stdout",
     "output_type": "stream",
     "text": [
      "hello\n",
      "world\n",
      "scala\n"
     ]
    },
    {
     "data": {
      "text/plain": [
       "defined \u001b[32mfunction\u001b[39m \u001b[36mprintStrings\u001b[39m"
      ]
     },
     "execution_count": 301,
     "metadata": {},
     "output_type": "execute_result"
    }
   ],
   "source": [
    "//使用可变参数\n",
    "def printStrings(args:String* ) {\n",
    "      for( arg <- args )println(arg )\n",
    "      }\n",
    "printStrings(\"hello\",\"world\",\"scala\")"
   ]
  },
  {
   "cell_type": "code",
   "execution_count": 302,
   "metadata": {},
   "outputs": [
    {
     "name": "stdout",
     "output_type": "stream",
     "text": [
      "Value of a : 7\n",
      "Value of b : 5\n"
     ]
    },
    {
     "data": {
      "text/plain": [
       "defined \u001b[32mobject\u001b[39m \u001b[36mTest\u001b[39m"
      ]
     },
     "execution_count": 302,
     "metadata": {},
     "output_type": "execute_result"
    }
   ],
   "source": [
    "//调用函数时指定参数名\n",
    "object Test {\n",
    "   def main(){\n",
    "        printInt(b=5, a=7);\n",
    "   }\n",
    "   def printInt( a:Int, b:Int ) = {\n",
    "      println(\"Value of a : \" + a );\n",
    "      println(\"Value of b : \" + b );\n",
    "   }\n",
    "}\n",
    "Test.main()"
   ]
  },
  {
   "cell_type": "code",
   "execution_count": 303,
   "metadata": {},
   "outputs": [
    {
     "data": {
      "text/plain": [
       "defined \u001b[32mfunction\u001b[39m \u001b[36mfactorial\u001b[39m\r\n",
       "\u001b[36mres302_1\u001b[39m: \u001b[32mBigInt\u001b[39m = 2432902008176640000"
      ]
     },
     "execution_count": 303,
     "metadata": {},
     "output_type": "execute_result"
    }
   ],
   "source": [
    "//递归函数\n",
    "def factorial(n: BigInt):BigInt = {  \n",
    "      if (n <= 1) 1  else n * factorial(n - 1)\n",
    "   }\n",
    "factorial(20)"
   ]
  },
  {
   "cell_type": "code",
   "execution_count": null,
   "metadata": {},
   "outputs": [],
   "source": []
  },
  {
   "cell_type": "markdown",
   "metadata": {},
   "source": [
    "### 十八，匿名函数\n"
   ]
  },
  {
   "cell_type": "markdown",
   "metadata": {},
   "source": [
    "scala中的函数是一等公民，可以像变量一样定义和使用。\n",
    "\n",
    "和变量一样，函数具有类型和值。\n",
    "\n",
    "函数的类型是函数的参数和返回值的类型映射关系，\n",
    "如 Int => Unit , (Array[Int],String) => Int 。\n",
    "\n",
    "函数的值是函数的参数和返回值的取值映射关系，\n",
    "如 x => x+1  x,y => x+y 。\n",
    "\n",
    "使用这种方式声明的函数叫做匿名函数。\n",
    "\n",
    "此外，当函数表达式中引用了非参数的变量时，这种函数叫做闭包。\n",
    "\n",
    "闭包的特性是每次调用它时都会将外部的开放的变量封闭成局部值。\n",
    "\n",
    "闭包的返回值受外部变量取值变化的影响。"
   ]
  },
  {
   "cell_type": "code",
   "execution_count": 304,
   "metadata": {},
   "outputs": [
    {
     "data": {
      "text/plain": [
       "\u001b[36mf\u001b[39m: \u001b[32mInt\u001b[39m => \u001b[32mInt\u001b[39m = <function1>\r\n",
       "\u001b[36mres303_1\u001b[39m: \u001b[32mInt\u001b[39m = \u001b[32m3\u001b[39m"
      ]
     },
     "execution_count": 304,
     "metadata": {},
     "output_type": "execute_result"
    }
   ],
   "source": [
    "//完整定义\n",
    "//val f:(Int=>Int) = ((x:Int)=> x+1)\n",
    "val f:Int=>Int = (x:Int) => x+1\n",
    "f(2)"
   ]
  },
  {
   "cell_type": "code",
   "execution_count": 305,
   "metadata": {},
   "outputs": [
    {
     "data": {
      "text/plain": [
       "\u001b[36mf\u001b[39m: \u001b[32mInt\u001b[39m => \u001b[32mInt\u001b[39m = <function1>\r\n",
       "\u001b[36mres304_1\u001b[39m: \u001b[32mInt\u001b[39m = \u001b[32m3\u001b[39m"
      ]
     },
     "execution_count": 305,
     "metadata": {},
     "output_type": "execute_result"
    }
   ],
   "source": [
    "//可以推断函数类型，予以省略\n",
    "val f = (x:Int) => x+1\n",
    "f(2)"
   ]
  },
  {
   "cell_type": "code",
   "execution_count": 306,
   "metadata": {},
   "outputs": [
    {
     "data": {
      "text/plain": [
       "\u001b[36mres305\u001b[39m: \u001b[32mInt\u001b[39m = \u001b[32m3\u001b[39m"
      ]
     },
     "execution_count": 306,
     "metadata": {},
     "output_type": "execute_result"
    }
   ],
   "source": [
    "//可以省略函数名,匿名函数\n",
    "((x:Int) => x+1)(2)"
   ]
  },
  {
   "cell_type": "code",
   "execution_count": 307,
   "metadata": {},
   "outputs": [
    {
     "data": {
      "text/plain": [
       "\u001b[36mres306\u001b[39m: \u001b[32mInt\u001b[39m = \u001b[32m3\u001b[39m"
      ]
     },
     "execution_count": 307,
     "metadata": {},
     "output_type": "execute_result"
    }
   ],
   "source": [
    "//可以进一步用占位符代替参数\n",
    "((_:Int) + 1)(2)"
   ]
  },
  {
   "cell_type": "code",
   "execution_count": 308,
   "metadata": {},
   "outputs": [
    {
     "data": {
      "text/plain": [
       "\u001b[36mres307\u001b[39m: \u001b[32mInt\u001b[39m = \u001b[32m3\u001b[39m"
      ]
     },
     "execution_count": 308,
     "metadata": {},
     "output_type": "execute_result"
    }
   ],
   "source": [
    "//每个参数依次填充占位符位置\n",
    "((_:Int)+(_:Int))(1,2)"
   ]
  },
  {
   "cell_type": "code",
   "execution_count": 309,
   "metadata": {},
   "outputs": [
    {
     "name": "stdout",
     "output_type": "stream",
     "text": [
      "4\r\n",
      "5\r\n"
     ]
    },
    {
     "data": {
      "text/plain": [
       "\u001b[36ma\u001b[39m: \u001b[32mInt\u001b[39m = \u001b[32m2\u001b[39m\r\n",
       "\u001b[36mf\u001b[39m: \u001b[32mInt\u001b[39m => \u001b[32mInt\u001b[39m = <function1>"
      ]
     },
     "execution_count": 309,
     "metadata": {},
     "output_type": "execute_result"
    }
   ],
   "source": [
    "//闭包示范\n",
    "var a = 1\n",
    "val f = (x:Int)=> x+a\n",
    "println(f(3))\n",
    "a = 2\n",
    "println(f(3))"
   ]
  },
  {
   "cell_type": "code",
   "execution_count": null,
   "metadata": {},
   "outputs": [],
   "source": []
  },
  {
   "cell_type": "markdown",
   "metadata": {},
   "source": [
    "### 十九，高阶函数"
   ]
  },
  {
   "cell_type": "markdown",
   "metadata": {},
   "source": [
    "scala支持非常强大的函数式编程风格。\n",
    "\n",
    "函数式编程风格的特点不显式使用循环，而是利用高阶函数调用普通函数在数据上进行遍历操作。\n",
    "\n",
    "高阶函数即可以传入函数作为其参数的函数。\n",
    "\n",
    "scala的Array和容器中的各种数据结构内置有非常丰富的高阶函数。\n",
    "\n",
    "常用的包括:map,flatMap,filter,foreach,forall,reduce,fold 。"
   ]
  },
  {
   "cell_type": "code",
   "execution_count": 310,
   "metadata": {},
   "outputs": [
    {
     "data": {
      "text/plain": [
       "\u001b[36marr\u001b[39m: \u001b[32mArray\u001b[39m[\u001b[32mInt\u001b[39m] = \u001b[33mArray\u001b[39m(\u001b[32m1\u001b[39m, \u001b[32m2\u001b[39m, \u001b[32m3\u001b[39m)\r\n",
       "\u001b[36mres309_1\u001b[39m: \u001b[32mArray\u001b[39m[\u001b[32mInt\u001b[39m] = \u001b[33mArray\u001b[39m(\u001b[32m2\u001b[39m, \u001b[32m4\u001b[39m, \u001b[32m6\u001b[39m)"
      ]
     },
     "execution_count": 310,
     "metadata": {},
     "output_type": "execute_result"
    }
   ],
   "source": [
    "//map 遍历作用 代替for推导式\n",
    "val arr = Array(1,2,3)\n",
    "arr.map(x=>x*2) "
   ]
  },
  {
   "cell_type": "code",
   "execution_count": 311,
   "metadata": {},
   "outputs": [
    {
     "data": {
      "text/plain": [
       "\u001b[36mstrlist\u001b[39m: \u001b[32mList\u001b[39m[\u001b[32mString\u001b[39m] = \u001b[33mList\u001b[39m(\u001b[32m\"hello world\"\u001b[39m, \u001b[32m\"hello China\"\u001b[39m)\r\n",
       "\u001b[36mres310_1\u001b[39m: \u001b[32mList\u001b[39m[\u001b[32mString\u001b[39m] = \u001b[33mList\u001b[39m(\u001b[32m\"hello\"\u001b[39m, \u001b[32m\"world\"\u001b[39m, \u001b[32m\"hello\"\u001b[39m, \u001b[32m\"China\"\u001b[39m)"
      ]
     },
     "execution_count": 311,
     "metadata": {},
     "output_type": "execute_result"
    }
   ],
   "source": [
    "//flatMap 遍历作用并压平\n",
    "val strlist = List(\"hello world\",\"hello China\")\n",
    "strlist.flatMap(x => x.split(\" \"))"
   ]
  },
  {
   "cell_type": "code",
   "execution_count": 312,
   "metadata": {},
   "outputs": [
    {
     "data": {
      "text/plain": [
       "\u001b[36ms\u001b[39m: \u001b[32mSet\u001b[39m[\u001b[32mString\u001b[39m] = \u001b[33mSet\u001b[39m(\u001b[32m\"haha\"\u001b[39m, \u001b[32m\"hehe\"\u001b[39m, \u001b[32m\"xixi\"\u001b[39m, \u001b[32m\"wuwu\"\u001b[39m)\r\n",
       "\u001b[36mres311_1\u001b[39m: \u001b[32mSet\u001b[39m[\u001b[32mString\u001b[39m] = \u001b[33mSet\u001b[39m(\u001b[32m\"haha\"\u001b[39m, \u001b[32m\"hehe\"\u001b[39m)"
      ]
     },
     "execution_count": 312,
     "metadata": {},
     "output_type": "execute_result"
    }
   ],
   "source": [
    "//filter过滤\n",
    "val s = Set(\"haha\",\"hehe\",\"xixi\",\"wuwu\")\n",
    "s.filter(_.contains(\"h\"))"
   ]
  },
  {
   "cell_type": "code",
   "execution_count": 313,
   "metadata": {},
   "outputs": [
    {
     "name": "stdout",
     "output_type": "stream",
     "text": [
      "XIAN\r\n",
      "SHANGHAI\r\n",
      "BEIJING\r\n"
     ]
    },
    {
     "data": {
      "text/plain": [
       "\u001b[36md\u001b[39m: \u001b[32mMap\u001b[39m[\u001b[32mString\u001b[39m, \u001b[32mString\u001b[39m] = \u001b[33mMap\u001b[39m(\u001b[32m\"XIAN\"\u001b[39m -> \u001b[32m\"XA\"\u001b[39m, \u001b[32m\"SHANGHAI\"\u001b[39m -> \u001b[32m\"SH\"\u001b[39m, \u001b[32m\"BEIJING\"\u001b[39m -> \u001b[32m\"BJ\"\u001b[39m)"
      ]
     },
     "execution_count": 313,
     "metadata": {},
     "output_type": "execute_result"
    }
   ],
   "source": [
    "//foreach 无返回值 代替for循环\n",
    "val d = Map(\"BEIJING\"->\"BJ\",\"SHANGHAI\"->\"SH\",\"XIAN\"->\"XA\")\n",
    "//d.foreach(println)\n",
    "d.foreach(t=>println(t._1))"
   ]
  },
  {
   "cell_type": "code",
   "execution_count": 314,
   "metadata": {},
   "outputs": [
    {
     "data": {
      "text/plain": [
       "\u001b[36mvec\u001b[39m: \u001b[32mRange\u001b[39m.\u001b[32mInclusive\u001b[39m = \u001b[33mRange\u001b[39m(\u001b[32m-1\u001b[39m, \u001b[32m0\u001b[39m, \u001b[32m1\u001b[39m, \u001b[32m2\u001b[39m, \u001b[32m3\u001b[39m, \u001b[32m4\u001b[39m, \u001b[32m5\u001b[39m, \u001b[32m6\u001b[39m, \u001b[32m7\u001b[39m, \u001b[32m8\u001b[39m, \u001b[32m9\u001b[39m, \u001b[32m10\u001b[39m)\r\n",
       "\u001b[36mres313_1\u001b[39m: \u001b[32mBoolean\u001b[39m = \u001b[32mfalse\u001b[39m"
      ]
     },
     "execution_count": 314,
     "metadata": {},
     "output_type": "execute_result"
    }
   ],
   "source": [
    "//forall 测试是否全部满足条件\n",
    "val vec = -1 to 10\n",
    "vec.forall(_>0)"
   ]
  },
  {
   "cell_type": "code",
   "execution_count": 315,
   "metadata": {},
   "outputs": [
    {
     "data": {
      "text/plain": [
       "\u001b[36marr\u001b[39m: \u001b[32mArray\u001b[39m[\u001b[32mInt\u001b[39m] = \u001b[33mArray\u001b[39m(\u001b[32m1\u001b[39m, \u001b[32m2\u001b[39m, \u001b[32m3\u001b[39m, \u001b[32m4\u001b[39m, \u001b[32m5\u001b[39m)\r\n",
       "\u001b[36mres314_1\u001b[39m: \u001b[32mInt\u001b[39m = \u001b[32m15\u001b[39m\r\n",
       "\u001b[36mres314_2\u001b[39m: \u001b[32mInt\u001b[39m = \u001b[32m15\u001b[39m"
      ]
     },
     "execution_count": 315,
     "metadata": {},
     "output_type": "execute_result"
    }
   ],
   "source": [
    "//reduce 归约\n",
    "val arr = Array(1,2,3,4,5)\n",
    "arr.reduce(_+_)\n",
    "arr.reduceLeft(_+_)"
   ]
  },
  {
   "cell_type": "code",
   "execution_count": 316,
   "metadata": {},
   "outputs": [
    {
     "data": {
      "text/plain": [
       "\u001b[36marr\u001b[39m: \u001b[32mArray\u001b[39m[\u001b[32mInt\u001b[39m] = \u001b[33mArray\u001b[39m(\u001b[32m1\u001b[39m, \u001b[32m2\u001b[39m, \u001b[32m3\u001b[39m, \u001b[32m4\u001b[39m, \u001b[32m5\u001b[39m)\r\n",
       "\u001b[36mres315_1\u001b[39m: \u001b[32mInt\u001b[39m = \u001b[32m1200\u001b[39m"
      ]
     },
     "execution_count": 316,
     "metadata": {},
     "output_type": "execute_result"
    }
   ],
   "source": [
    "//fold 和reduce相似,只是要传入第一个参数\n",
    "val arr = Array(1,2,3,4,5)\n",
    "arr.fold(10)(_*_)"
   ]
  },
  {
   "cell_type": "code",
   "execution_count": null,
   "metadata": {},
   "outputs": [],
   "source": []
  },
  {
   "cell_type": "markdown",
   "metadata": {},
   "source": [
    "### 二十，类的定义\n",
    "\n"
   ]
  },
  {
   "cell_type": "markdown",
   "metadata": {},
   "source": [
    "scala中用关键字class定义普通类,用abstract class定义抽象类，用case class定义样例类,用object定义单例对象，用trait定义特征。\n",
    "\n",
    "我们先看普通类的定义和实例化。\n",
    "\n",
    "类的定义中可以用private声明为私有属性和私有方法，只允许在类的作用域访问，不允许在类的外部访问。\n",
    "\n",
    "可以用protected声明为受保护的属性和方法，只允许在类作用域及其子类作用域中访问。\n",
    "\n",
    "其余属性和方法默认为公有属性和公有方法，可以在类的作用域外访问。\n",
    "\n",
    "此外还可以在private或protected后面用方括号加上作用域保护，表示方括号中的类和对象不受访问限制。"
   ]
  },
  {
   "cell_type": "markdown",
   "metadata": {},
   "source": [
    "scala有3中定义类的风格，java风格，简写风格，和case类风格。\n",
    "\n",
    "简写风格中可以在类声明中的参数前加上val即表示为类的属性，省去属性的绑定。\n",
    "\n",
    "case类本来设计用来进行模式匹配，自带apply和unapply方法，实例化时可以不用new关键字。不仅可以支持模式匹配，普通类支持的功能它都支持。"
   ]
  },
  {
   "cell_type": "markdown",
   "metadata": {},
   "source": [
    "**1，Java风格**"
   ]
  },
  {
   "cell_type": "code",
   "execution_count": 322,
   "metadata": {},
   "outputs": [
    {
     "data": {
      "text/plain": [
       "defined \u001b[32mclass\u001b[39m \u001b[36mCounter\u001b[39m"
      ]
     },
     "execution_count": 322,
     "metadata": {},
     "output_type": "execute_result"
    }
   ],
   "source": [
    "//一个计数器类范例\n",
    "class Counter{\n",
    "    private var value = 0\n",
    "    def increment(){value += 1}\n",
    "    def current(){value}\n",
    "}"
   ]
  },
  {
   "cell_type": "code",
   "execution_count": 323,
   "metadata": {},
   "outputs": [
    {
     "data": {
      "text/plain": [
       "\u001b[36mmyCounter\u001b[39m: \u001b[32mCounter\u001b[39m = $sess.cmd321Wrapper$Helper$Counter@4edba3c6"
      ]
     },
     "execution_count": 323,
     "metadata": {},
     "output_type": "execute_result"
    }
   ],
   "source": [
    "val myCounter = new Counter\n",
    "myCounter.increment()\n",
    "myCounter.current"
   ]
  },
  {
   "cell_type": "code",
   "execution_count": 324,
   "metadata": {},
   "outputs": [
    {
     "data": {
      "text/plain": [
       "defined \u001b[32mclass\u001b[39m \u001b[36mDog\u001b[39m"
      ]
     },
     "execution_count": 324,
     "metadata": {},
     "output_type": "execute_result"
    }
   ],
   "source": [
    "//一个Dog类范例\n",
    "class Dog(n:String,w:Double,b:String,a:Int){\n",
    "    var name = n\n",
    "    var breed  = b\n",
    "    private var weight = w\n",
    "    private var age = a\n",
    "    \n",
    "    def run(){\n",
    "        println(name + \" is running...\")\n",
    "    }\n",
    "    \n",
    "    def bark(){\n",
    "        println(\"Bowwow,Bowwow,Bowwow...\")\n",
    "    }\n",
    "    def sleep(){\n",
    "        println(\"Zzz...Zzz...Zzz...\")\n",
    "    }\n",
    "    def eat(food:String){\n",
    "        printf( \"%s is eatting %s...\\n\",name,food)\n",
    "    }\n",
    "    private def think(){\n",
    "        println(\"I feel myself a hero and very handsome !\")\n",
    "    }\n",
    "    def speak(words:String = \"\"){\n",
    "        think()\n",
    "        println(words)\n",
    "    }\n",
    "}"
   ]
  },
  {
   "cell_type": "code",
   "execution_count": 325,
   "metadata": {},
   "outputs": [
    {
     "name": "stdout",
     "output_type": "stream",
     "text": [
      "snoopy is running...\n",
      "snoopy is eatting fish...\n",
      "I feel myself a hero and very handsome !\n",
      "hahaha\n"
     ]
    },
    {
     "data": {
      "text/plain": [
       "\u001b[36msnoopy\u001b[39m: \u001b[32mDog\u001b[39m = $sess.cmd323Wrapper$Helper$Dog@37c0e0c9\r\n",
       "\u001b[36mres324_1\u001b[39m: \u001b[32mString\u001b[39m = \u001b[32m\"snoopy\"\u001b[39m"
      ]
     },
     "execution_count": 325,
     "metadata": {},
     "output_type": "execute_result"
    }
   ],
   "source": [
    "val snoopy = new Dog(\"snoopy\",12.6,\"Husky\",6)\n",
    "snoopy.name\n",
    "snoopy.run()\n",
    "snoopy.eat(\"fish\")\n",
    "snoopy.speak(\"hahaha\")"
   ]
  },
  {
   "cell_type": "code",
   "execution_count": 326,
   "metadata": {},
   "outputs": [
    {
     "data": {
      "text/plain": [
       "\u001b[36mres325_0\u001b[39m: \u001b[32mClass\u001b[39m[\u001b[32m?0\u001b[39m] = class $sess.cmd323Wrapper$Helper$Dog\r\n",
       "\u001b[36mres325_1\u001b[39m: \u001b[32mString\u001b[39m = \u001b[32m\"Dog\"\u001b[39m\r\n",
       "\u001b[36mres325_2\u001b[39m: \u001b[32mBoolean\u001b[39m = \u001b[32mtrue\u001b[39m"
      ]
     },
     "execution_count": 326,
     "metadata": {},
     "output_type": "execute_result"
    }
   ],
   "source": [
    "//获取对象信息\n",
    "snoopy.getClass()\n",
    "snoopy.getClass().getSimpleName()\n",
    "snoopy.isInstanceOf[Dog]"
   ]
  },
  {
   "cell_type": "markdown",
   "metadata": {},
   "source": [
    "**2，简写风格**"
   ]
  },
  {
   "cell_type": "code",
   "execution_count": 328,
   "metadata": {},
   "outputs": [
    {
     "name": "stdout",
     "output_type": "stream",
     "text": [
      "miaow...miaow...miaow...\r\n"
     ]
    },
    {
     "data": {
      "text/plain": [
       "defined \u001b[32mclass\u001b[39m \u001b[36mCat\u001b[39m\r\n",
       "\u001b[36mkitty\u001b[39m: \u001b[32mwrapper\u001b[39m.\u001b[32mwrapper\u001b[39m.\u001b[32mCat\u001b[39m = $sess.cmd327Wrapper$Helper$Cat@4e84599c\r\n",
       "\u001b[36mres327_2\u001b[39m: \u001b[32mString\u001b[39m = \u001b[32m\"Kitty\"\u001b[39m"
      ]
     },
     "execution_count": 328,
     "metadata": {},
     "output_type": "execute_result"
    }
   ],
   "source": [
    "//简写风格\n",
    "class Cat(val name:String,private val age:Int){\n",
    "    def call() = {println(\"miaow...miaow...miaow...\")}\n",
    "}\n",
    "val kitty = new Cat(\"Kitty\",2)\n",
    "kitty.name\n",
    "kitty.call()"
   ]
  },
  {
   "cell_type": "markdown",
   "metadata": {},
   "source": [
    "**3，case类风格**"
   ]
  },
  {
   "cell_type": "code",
   "execution_count": 329,
   "metadata": {},
   "outputs": [
    {
     "name": "stdout",
     "output_type": "stream",
     "text": [
      "miaow...miaow...miaow...\r\n"
     ]
    },
    {
     "data": {
      "text/plain": [
       "defined \u001b[32mclass\u001b[39m \u001b[36mCat\u001b[39m\r\n",
       "\u001b[36mkitty\u001b[39m: \u001b[32mwrapper\u001b[39m.\u001b[32mwrapper\u001b[39m.\u001b[32mCat\u001b[39m = \u001b[33mCat\u001b[39m(\u001b[32m\"Kitty\"\u001b[39m, \u001b[32m12.0\u001b[39m, \u001b[32m3\u001b[39m)\r\n",
       "\u001b[36mres328_3\u001b[39m: \u001b[32mString\u001b[39m = \u001b[32m\"Kitty\"\u001b[39m\r\n",
       "\u001b[36mres328_4\u001b[39m: \u001b[32mDouble\u001b[39m = \u001b[32m12.0\u001b[39m"
      ]
     },
     "execution_count": 329,
     "metadata": {},
     "output_type": "execute_result"
    }
   ],
   "source": [
    "//case类风格,最简洁\n",
    "case class Cat(name:String,weight:Double,private val age:Int){\n",
    "    def call() = {println(\"miaow...miaow...miaow...\")}\n",
    "}\n",
    "\n",
    "val kitty = Cat(\"Kitty\",12.0,3)\n",
    "kitty.call()\n",
    "kitty.name\n",
    "kitty.weight\n",
    "//kitty.age"
   ]
  },
  {
   "cell_type": "code",
   "execution_count": null,
   "metadata": {},
   "outputs": [],
   "source": []
  },
  {
   "cell_type": "markdown",
   "metadata": {},
   "source": [
    "### 二十一，getter和setter"
   ]
  },
  {
   "cell_type": "markdown",
   "metadata": {},
   "source": [
    "私有属性可以通过getter和setter方法比较安全地访问和修改。"
   ]
  },
  {
   "cell_type": "code",
   "execution_count": 330,
   "metadata": {},
   "outputs": [
    {
     "data": {
      "text/plain": [
       "defined \u001b[32mclass\u001b[39m \u001b[36mCounter\u001b[39m"
      ]
     },
     "execution_count": 330,
     "metadata": {},
     "output_type": "execute_result"
    }
   ],
   "source": [
    "//getter方法通过定义无参数的方法实现\n",
    "//setter方法通过定义带参数的命名中有下划线的方法实现\n",
    "class Counter{\n",
    "    private var privatevalue = 0\n",
    "    def value = {privatevalue}\n",
    "    def value_= (newValue:Int){\n",
    "        if(newValue>0)privatevalue = newValue\n",
    "    }\n",
    "    def increment(){privatevalue += 1}\n",
    "}"
   ]
  },
  {
   "cell_type": "code",
   "execution_count": 331,
   "metadata": {},
   "outputs": [
    {
     "data": {
      "text/plain": [
       "\u001b[36mmyCounter\u001b[39m: \u001b[32mCounter\u001b[39m = $sess.cmd329Wrapper$Helper$Counter@22642aee\r\n",
       "\u001b[36mres330_2\u001b[39m: \u001b[32mInt\u001b[39m = \u001b[32m1\u001b[39m\r\n",
       "\u001b[36mres330_4\u001b[39m: \u001b[32mInt\u001b[39m = \u001b[32m1\u001b[39m\r\n",
       "\u001b[36mres330_6\u001b[39m: \u001b[32mInt\u001b[39m = \u001b[32m4\u001b[39m"
      ]
     },
     "execution_count": 331,
     "metadata": {},
     "output_type": "execute_result"
    }
   ],
   "source": [
    "val myCounter = new Counter\n",
    "myCounter.increment\n",
    "myCounter.value\n",
    "myCounter.value = -1\n",
    "myCounter.value\n",
    "myCounter.value = 4\n",
    "myCounter.value"
   ]
  },
  {
   "cell_type": "markdown",
   "metadata": {},
   "source": [
    "### 二十二，构造器"
   ]
  },
  {
   "cell_type": "markdown",
   "metadata": {},
   "source": [
    "Scala的类包括一个主构造器和若干个(0个或多个)辅助构造器。\n",
    "主构造器即定义类时传参并用来初始化对象属性的构造器，它是隐含的。\n",
    "辅助构造器的名称为this，每个辅助构造器都必须调用一个此前已经定义好的主构造器或辅助构造器。"
   ]
  },
  {
   "cell_type": "code",
   "execution_count": 334,
   "metadata": {},
   "outputs": [
    {
     "name": "stdout",
     "output_type": "stream",
     "text": [
      "None\n",
      "Timer\n",
      "Numer\n",
      "2\n"
     ]
    },
    {
     "data": {
      "text/plain": [
       "defined \u001b[32mclass\u001b[39m \u001b[36mCounter\u001b[39m\r\n",
       "\u001b[36mmyCounter1\u001b[39m: \u001b[32mwrapper\u001b[39m.\u001b[32mwrapper\u001b[39m.\u001b[32mCounter\u001b[39m = $sess.cmd333Wrapper$Helper$Counter@3870f164\r\n",
       "\u001b[36mmyCounter2\u001b[39m: \u001b[32mwrapper\u001b[39m.\u001b[32mwrapper\u001b[39m.\u001b[32mCounter\u001b[39m = $sess.cmd333Wrapper$Helper$Counter@82c309a\r\n",
       "\u001b[36mmyCounter3\u001b[39m: \u001b[32mwrapper\u001b[39m.\u001b[32mwrapper\u001b[39m.\u001b[32mCounter\u001b[39m = $sess.cmd333Wrapper$Helper$Counter@1ca1413a"
      ]
     },
     "execution_count": 334,
     "metadata": {},
     "output_type": "execute_result"
    }
   ],
   "source": [
    "//构造器范例\n",
    "class Counter(){\n",
    "    private var value = 0\n",
    "    var name = \"None\"\n",
    "    var mode = 1\n",
    "    def this(name:String){\n",
    "        this()\n",
    "        this.name = name\n",
    "    }\n",
    "    def this(name:String,mode:Int){\n",
    "        this(name)\n",
    "        this.mode = mode\n",
    "    }\n",
    "    def increment(){value += 1}\n",
    "    def current() {value}\n",
    "}\n",
    "\n",
    "val myCounter1 = new Counter\n",
    "println(myCounter1.name)\n",
    "val myCounter2 = new Counter(name=\"Timer\")\n",
    "println(myCounter2.name)\n",
    "val myCounter3 = new Counter(name=\"Numer\",mode = 2)\n",
    "println(myCounter3.name)\n",
    "println(myCounter3.mode)\n"
   ]
  },
  {
   "cell_type": "code",
   "execution_count": null,
   "metadata": {},
   "outputs": [],
   "source": []
  },
  {
   "cell_type": "code",
   "execution_count": null,
   "metadata": {},
   "outputs": [],
   "source": []
  },
  {
   "cell_type": "code",
   "execution_count": null,
   "metadata": {},
   "outputs": [],
   "source": []
  },
  {
   "cell_type": "markdown",
   "metadata": {},
   "source": [
    "### 二十三，单例对象和伴生对象"
   ]
  },
  {
   "cell_type": "markdown",
   "metadata": {},
   "source": [
    "Object定义的对象为单例对象，可以直接使用无需实例化。\n",
    "\n",
    "如果在一个文件有一个Object和一个Class是同名的，那么这个Object称为这个Class的伴生对象，这个Class称为这个Object的伴生类。\n",
    "\n",
    "伴生对象和伴生类信息可以共享，它们的属性和方法对彼此都是透明的，实际上在编译的时候，会把它们编译成一个Java类，伴生对象定义了这个Java类的静态属性和静态方法。\n"
   ]
  },
  {
   "cell_type": "code",
   "execution_count": null,
   "metadata": {},
   "outputs": [],
   "source": []
  },
  {
   "cell_type": "code",
   "execution_count": 335,
   "metadata": {},
   "outputs": [
    {
     "name": "stdout",
     "output_type": "stream",
     "text": [
      "hello World\n",
      "hello China\n"
     ]
    },
    {
     "data": {
      "text/plain": [
       "defined \u001b[32mobject\u001b[39m \u001b[36mHello\u001b[39m"
      ]
     },
     "execution_count": 335,
     "metadata": {},
     "output_type": "execute_result"
    }
   ],
   "source": [
    "//单例对象\n",
    "object Hello{\n",
    "    var name = \"World\"\n",
    "    def main() = {\n",
    "        println(\"hello \" + name)\n",
    "    }\n",
    "}\n",
    "Hello.main()\n",
    "Hello.name = \"China\"\n",
    "Hello.main()"
   ]
  },
  {
   "cell_type": "code",
   "execution_count": 336,
   "metadata": {},
   "outputs": [
    {
     "name": "stdout",
     "output_type": "stream",
     "text": [
      "The id of LiLei is 1 \n",
      "The id of HanMeiMei is 2 \n"
     ]
    },
    {
     "data": {
      "text/plain": [
       "defined \u001b[32mclass\u001b[39m \u001b[36mPerson\u001b[39m\r\n",
       "defined \u001b[32mobject\u001b[39m \u001b[36mPerson\u001b[39m"
      ]
     },
     "execution_count": 336,
     "metadata": {},
     "output_type": "execute_result"
    }
   ],
   "source": [
    "//伴生对象和伴生类\n",
    "class Person{\n",
    "    private var Id = Person.newPersonId()\n",
    "    private var name = \"\"\n",
    "    def this(name:String){\n",
    "        this()\n",
    "        this.name = name\n",
    "    }\n",
    "    def info(){\n",
    "        printf(\"The id of %s is %d \\n\",name,Id)\n",
    "    }\n",
    "}\n",
    "\n",
    "object Person{\n",
    "    private var lastId:Int = 0\n",
    "    private def newPersonId():Int = {\n",
    "        lastId += 1\n",
    "        lastId\n",
    "    }\n",
    "    def main(){\n",
    "        val person1 = new Person(\"LiLei\")\n",
    "        val person2 = new Person(\"HanMeiMei\")\n",
    "        person1.info()\n",
    "        person2.info()\n",
    "    }\n",
    "}\n",
    "\n",
    "Person.main()"
   ]
  },
  {
   "cell_type": "code",
   "execution_count": null,
   "metadata": {},
   "outputs": [],
   "source": []
  },
  {
   "cell_type": "code",
   "execution_count": null,
   "metadata": {},
   "outputs": [],
   "source": []
  },
  {
   "cell_type": "markdown",
   "metadata": {},
   "source": [
    "### 二十四，继承和特征"
   ]
  },
  {
   "cell_type": "markdown",
   "metadata": {},
   "source": [
    "Scala可以通过extends关键字指定从某个超类(父类)进行继承。\n",
    "\n",
    "只有子类的主构造器可以调用超类的主构造器。\n",
    "\n",
    "子类可以使用super引用超类的某个属性和方法。\n",
    "\n",
    "子类如果要重写超类的某个属性和方法，需要使用override关键字。\n",
    "\n",
    "除非超类的该属性和该方法为抽象方法，只有声明没有定义。\n",
    "\n",
    "如果某个类定义时被abstract声明为抽象类时，它可以被继承但是不能直接被实例化。\n",
    "\n",
    "和Python语言不同，Scala每个类只能继承一个超类。\n",
    "\n",
    "为了实现多继承的功能，在指定一个超类的同时可以指定若干个trait特征进行继承。\n"
   ]
  },
  {
   "cell_type": "code",
   "execution_count": 337,
   "metadata": {},
   "outputs": [
    {
     "data": {
      "text/plain": [
       "defined \u001b[32mclass\u001b[39m \u001b[36mAnimal\u001b[39m"
      ]
     },
     "execution_count": 337,
     "metadata": {},
     "output_type": "execute_result"
    }
   ],
   "source": [
    "//抽象类 \n",
    "abstract class Animal(n:String){\n",
    "    \n",
    "    val name:String =n\n",
    "    val age:Int\n",
    "    var home = \"Earth\" \n",
    "    \n",
    "    def eat(food:String) //abstract method\n",
    "    \n",
    "    def sleep(){\n",
    "        println(\"Zzz...Zzz...Zzz...\")\n",
    "    }\n",
    "}"
   ]
  },
  {
   "cell_type": "code",
   "execution_count": 339,
   "metadata": {},
   "outputs": [
    {
     "data": {
      "text/plain": [
       "defined \u001b[32mclass\u001b[39m \u001b[36mCat\u001b[39m"
      ]
     },
     "execution_count": 339,
     "metadata": {},
     "output_type": "execute_result"
    }
   ],
   "source": [
    "//继承自上述抽象类\n",
    "class Cat(n:String,a:Int) extends Animal(n){\n",
    "    \n",
    "    override val age = a\n",
    "    \n",
    "    override def eat(food:String){\n",
    "        printf(\"%s is eating %s...\\n\",name,food)\n",
    "    }\n",
    "    \n",
    "    override def sleep(){\n",
    "        printf(\"%s is sleeping ...\\n\",name)\n",
    "        super.sleep()\n",
    "    }\n",
    "}"
   ]
  },
  {
   "cell_type": "code",
   "execution_count": 340,
   "metadata": {},
   "outputs": [
    {
     "name": "stdout",
     "output_type": "stream",
     "text": [
      "Kitty\n",
      "Earth\n",
      "Kitty is eating fish...\n",
      "Kitty is sleeping ...\n",
      "Zzz...Zzz...Zzz...\n"
     ]
    },
    {
     "data": {
      "text/plain": [
       "\u001b[36mkitty\u001b[39m: \u001b[32mCat\u001b[39m = $sess.cmd338Wrapper$Helper$Cat@63105e9f"
      ]
     },
     "execution_count": 340,
     "metadata": {},
     "output_type": "execute_result"
    }
   ],
   "source": [
    "val kitty = new Cat(\"Kitty\",10)\n",
    "\n",
    "println(kitty.name)\n",
    "println(kitty.home)\n",
    "kitty.eat(\"fish\")\n",
    "kitty.sleep()"
   ]
  },
  {
   "cell_type": "code",
   "execution_count": 341,
   "metadata": {},
   "outputs": [
    {
     "data": {
      "text/plain": [
       "defined \u001b[32mtrait\u001b[39m \u001b[36mFlyable\u001b[39m"
      ]
     },
     "execution_count": 341,
     "metadata": {},
     "output_type": "execute_result"
    }
   ],
   "source": [
    "//特征\n",
    "trait Flyable{\n",
    "    val fly_height:Int\n",
    "    def fly(){println(\"is flying...\")   \n",
    "    }\n",
    "}"
   ]
  },
  {
   "cell_type": "code",
   "execution_count": 343,
   "metadata": {},
   "outputs": [
    {
     "name": "stdout",
     "output_type": "stream",
     "text": [
      "Poly\n",
      "Zzz...Zzz...Zzz...\n",
      "Poly is eating bug...\n",
      "Poly is flying...\n",
      "3\n"
     ]
    },
    {
     "data": {
      "text/plain": [
       "defined \u001b[32mclass\u001b[39m \u001b[36mParrot\u001b[39m\r\n",
       "\u001b[36mpoly\u001b[39m: \u001b[32mwrapper\u001b[39m.\u001b[32mwrapper\u001b[39m.\u001b[32mParrot\u001b[39m = $sess.cmd342Wrapper$Helper$Parrot@36ac74c6"
      ]
     },
     "execution_count": 343,
     "metadata": {},
     "output_type": "execute_result"
    }
   ],
   "source": [
    "//同时继承超类和特征,如果有多个特征,用多个with连接\n",
    "class Parrot(n:String,a:Int,h:Int) extends Animal(n) \n",
    "with Flyable{\n",
    "    override val age = a\n",
    "    override val fly_height = h\n",
    "    override def eat(food:String){\n",
    "        printf(\"%s is eating %s...\\n\",name,food)\n",
    "    }\n",
    "    override def fly(){\n",
    "        print(name+\" \")\n",
    "        super.fly()\n",
    "    }\n",
    "}\n",
    "\n",
    "val poly = new Parrot(\"Poly\",3,3)\n",
    "\n",
    "println(poly.name)\n",
    "poly.sleep()\n",
    "poly.eat(\"bug\")\n",
    "poly.fly()\n",
    "println(poly.fly_height)\n"
   ]
  },
  {
   "cell_type": "code",
   "execution_count": null,
   "metadata": {},
   "outputs": [],
   "source": []
  },
  {
   "cell_type": "code",
   "execution_count": null,
   "metadata": {},
   "outputs": [],
   "source": []
  },
  {
   "cell_type": "markdown",
   "metadata": {},
   "source": [
    "### 二十五，apply,unapply和update方法"
   ]
  },
  {
   "cell_type": "markdown",
   "metadata": {},
   "source": [
    "当把对一个对象当做函数使用时，会自动调用它的apply方法。\n",
    "\n",
    "实践中我们一般用apply方法来构造对象，而无需用new声明一个对象，从而相当于一个语法糖。\n",
    "\n",
    "unapply方法是apply方法的逆方法，我们一般用它来从对象中反推得到其构造参数。\n",
    "\n",
    "unapply方法通常在模式匹配中会自动被使用。\n",
    "\n",
    "case类内部实现了apply方法和unapply方法。\n",
    "\n",
    "当把一个对象当做容器取其某个元素赋值时，会自动调用它的update方法。"
   ]
  },
  {
   "cell_type": "markdown",
   "metadata": {},
   "source": [
    "**1，内部范例**"
   ]
  },
  {
   "cell_type": "code",
   "execution_count": 351,
   "metadata": {},
   "outputs": [
    {
     "data": {
      "text/plain": [
       "\u001b[36marr\u001b[39m: \u001b[32mArray\u001b[39m[\u001b[32mInt\u001b[39m] = \u001b[33mArray\u001b[39m(\u001b[32m0\u001b[39m, \u001b[32m0\u001b[39m, \u001b[32m0\u001b[39m)"
      ]
     },
     "execution_count": 351,
     "metadata": {},
     "output_type": "execute_result"
    }
   ],
   "source": [
    "//new一个对象\n",
    "val arr = new Array[Int](3)"
   ]
  },
  {
   "cell_type": "code",
   "execution_count": 352,
   "metadata": {},
   "outputs": [
    {
     "data": {
      "text/plain": [
       "\u001b[36marr\u001b[39m: \u001b[32mArray\u001b[39m[\u001b[32mInt\u001b[39m] = \u001b[33mArray\u001b[39m(\u001b[32m1\u001b[39m, \u001b[32m2\u001b[39m, \u001b[32m3\u001b[39m)"
      ]
     },
     "execution_count": 352,
     "metadata": {},
     "output_type": "execute_result"
    }
   ],
   "source": [
    "//隐式调用apply方法构造一个对象,工厂方法\n",
    "val arr = Array(1,2,3)"
   ]
  },
  {
   "cell_type": "code",
   "execution_count": 353,
   "metadata": {},
   "outputs": [
    {
     "data": {
      "text/plain": [
       "\u001b[36marr\u001b[39m: \u001b[32mArray\u001b[39m[\u001b[32mInt\u001b[39m] = \u001b[33mArray\u001b[39m(\u001b[32m1\u001b[39m, \u001b[32m2\u001b[39m, \u001b[32m3\u001b[39m)"
      ]
     },
     "execution_count": 353,
     "metadata": {},
     "output_type": "execute_result"
    }
   ],
   "source": [
    "//显式调用apply方法构造一个对象\n",
    "val arr = Array.apply(1,2,3)"
   ]
  },
  {
   "cell_type": "code",
   "execution_count": 354,
   "metadata": {},
   "outputs": [],
   "source": [
    "//隐式调用update方法\n",
    "arr(0) = 2"
   ]
  },
  {
   "cell_type": "code",
   "execution_count": 350,
   "metadata": {},
   "outputs": [
    {
     "data": {
      "text/plain": [
       "\u001b[36mres349_1\u001b[39m: \u001b[32mArray\u001b[39m[\u001b[32mInt\u001b[39m] = \u001b[33mArray\u001b[39m(\u001b[32m2\u001b[39m, \u001b[32m2\u001b[39m, \u001b[32m3\u001b[39m)"
      ]
     },
     "execution_count": 350,
     "metadata": {},
     "output_type": "execute_result"
    }
   ],
   "source": [
    "//显式调用update方法\n",
    "arr.update(2,3)\n",
    "arr"
   ]
  },
  {
   "cell_type": "code",
   "execution_count": 348,
   "metadata": {},
   "outputs": [
    {
     "name": "stdout",
     "output_type": "stream",
     "text": [
      "Some((LiLei,18))\n",
      "(name:,LiLei, age:,18)\n"
     ]
    },
    {
     "data": {
      "text/plain": [
       "defined \u001b[32mclass\u001b[39m \u001b[36mPerson\u001b[39m\r\n",
       "\u001b[36mperson\u001b[39m: \u001b[32mwrapper\u001b[39m.\u001b[32mwrapper\u001b[39m.\u001b[32mPerson\u001b[39m = \u001b[33mPerson\u001b[39m(\u001b[32m\"LiLei\"\u001b[39m, \u001b[32m18\u001b[39m)"
      ]
     },
     "execution_count": 348,
     "metadata": {},
     "output_type": "execute_result"
    }
   ],
   "source": [
    "//示范case类的apply方法和unapply方法\n",
    "case class Person(name:String,age:Int)\n",
    "//val person = Person.apply(\"LiLei\",18)\n",
    "val person = Person(\"LiLei\",18)\n",
    "println(Person.unapply(person))\n",
    "person match{\n",
    "    case Person(name,age) => println(\"name:\",name,\" age:\",age)\n",
    "}"
   ]
  },
  {
   "cell_type": "markdown",
   "metadata": {},
   "source": [
    "**2，apply演示**"
   ]
  },
  {
   "cell_type": "code",
   "execution_count": 355,
   "metadata": {},
   "outputs": [
    {
     "name": "stdout",
     "output_type": "stream",
     "text": [
      "RMB\n",
      "80.0\n",
      "RMB 12.0\n",
      "USD 80.0\n"
     ]
    },
    {
     "data": {
      "text/plain": [
       "defined \u001b[32mclass\u001b[39m \u001b[36mMoney\u001b[39m\r\n",
       "defined \u001b[32mobject\u001b[39m \u001b[36mMoney\u001b[39m\r\n",
       "\u001b[36mmoney1\u001b[39m: \u001b[32mMoney\u001b[39m = $sess.cmd354Wrapper$Helper$Money@4b855a14\r\n",
       "\u001b[36mmoney2\u001b[39m: \u001b[32mMoney\u001b[39m = $sess.cmd354Wrapper$Helper$Money@76fe52be"
      ]
     },
     "execution_count": 355,
     "metadata": {},
     "output_type": "execute_result"
    }
   ],
   "source": [
    "class Money(val value:Double,val country:String){\n",
    "    def apply(){\n",
    "        println(country+\" \"+value)\n",
    "    }\n",
    "}\n",
    "\n",
    "object Money {\n",
    "    def apply(value:Double,country:String):Money = {\n",
    "        new Money(value,country)\n",
    "    }\n",
    "}\n",
    "\n",
    "val money1 = new Money(12.0,\"RMB\")\n",
    "println(money1.country)\n",
    "val money2 = Money(80.0,\"USD\") \n",
    "println(money2.value)\n",
    "\n",
    "money1()\n",
    "money2()"
   ]
  },
  {
   "cell_type": "markdown",
   "metadata": {},
   "source": [
    "**3，unapply演示**"
   ]
  },
  {
   "cell_type": "code",
   "execution_count": 358,
   "metadata": {},
   "outputs": [
    {
     "data": {
      "text/plain": [
       "defined \u001b[32mclass\u001b[39m \u001b[36mMoney\u001b[39m\r\n",
       "defined \u001b[32mobject\u001b[39m \u001b[36mMoney\u001b[39m"
      ]
     },
     "execution_count": 358,
     "metadata": {},
     "output_type": "execute_result"
    }
   ],
   "source": [
    "class Money(val value:Double,val country:String){  \n",
    "}\n",
    "object Money {\n",
    "    def apply(value:Double,country:String):Money = {\n",
    "        new Money(value,country)\n",
    "    }\n",
    "    def unapply(money:Money):Option[(Double,String)] = {\n",
    "        if(money == null) {\n",
    "            None\n",
    "        }\n",
    "        else {\n",
    "            Some(money.value,money.country)\n",
    "        }\n",
    "    }\n",
    "}"
   ]
  },
  {
   "cell_type": "code",
   "execution_count": 359,
   "metadata": {},
   "outputs": [
    {
     "name": "stdout",
     "output_type": "stream",
     "text": [
      "RMB 10.1\r\n"
     ]
    },
    {
     "data": {
      "text/plain": [
       "\u001b[36mmoney\u001b[39m: \u001b[32mMoney\u001b[39m = $sess.cmd357Wrapper$Helper$Money@9bdb50"
      ]
     },
     "execution_count": 359,
     "metadata": {},
     "output_type": "execute_result"
    }
   ],
   "source": [
    "//测试unapply类，在模式匹配时被调用，case类内部已经实现\n",
    "val money = Money(10.1, \"RMB\") \n",
    "money match { \n",
    "    case Money(num, \"RMB\") => println(\"RMB \" + num) \n",
    "    case _ => println(\"Not RMB!\")\n",
    "}"
   ]
  },
  {
   "cell_type": "markdown",
   "metadata": {},
   "source": [
    "### 二十六，wordcount范例"
   ]
  },
  {
   "cell_type": "code",
   "execution_count": null,
   "metadata": {},
   "outputs": [],
   "source": [
    "import java.io.File\n",
    "import scala.io.Source\n",
    "object WordCount {\n",
    "  def main(args: Array[String]): Unit = {\n",
    "    val dirfile=new File(\"wordcount\")\n",
    "    val files=dirfile.listFiles\n",
    "    for(file <- files) println(file)\n",
    "    val listFiles=files.toList\n",
    "    val wordsMap=scala.collection.mutable.Map[String,Int]()\n",
    "    listFiles.foreach( file =>Source.fromFile(file).\n",
    "                      getLines().foreach(line=>line.split(\" \").\n",
    "                  foreach(\n",
    "                      word=>{\n",
    "                        if (wordsMap.contains(word)) {\n",
    "                          wordsMap(word)+=1\n",
    "                        }else {\n",
    "                          wordsMap+=(word->1)\n",
    "                        }\n",
    "                      }\n",
    "                  )\n",
    "            )\n",
    "\n",
    "    )\n",
    "    println(wordsMap)\n",
    "    for((key,value)<-wordsMap) println(key+\": \"+value)\n",
    "  }\n",
    "}"
   ]
  },
  {
   "cell_type": "code",
   "execution_count": null,
   "metadata": {},
   "outputs": [],
   "source": [
    "WordCount.main(Array(\"test\"))"
   ]
  },
  {
   "cell_type": "markdown",
   "metadata": {},
   "source": [
    "### 二十七，scala语言的设计哲学\n",
    "\n",
    "1，一切皆对象\n",
    "\n",
    "从整数，字符串，函数，类到各种数据结构，Scala中一切皆为对象，Any是它们的超类。\n",
    "\n",
    "2，一切皆表达式\n",
    "\n",
    "Scala中书写的每条语句都可以看成是一条表达式。\n",
    "\n",
    "表达式的基本格式是 name:type = {...} \n",
    "\n",
    "name是对象标识符，type是它的类型，{}括起来的作用域部分都是它的值。\n",
    "\n",
    "从变量的定义，函数的定义，判断语句，循环语句到类的定义，\n",
    "\n",
    "都可以看成是这个格式省去某些部分的特例或语法糖等价书写形式。\n",
    "\n",
    "\n",
    "3，简洁而富有表现力\n",
    "\n",
    "同样的功能，scala的代码量可能不到Java的五分之一。\n",
    "\n",
    "并且scala的许多特性设计非常有表现力。\n",
    "\n",
    "简洁范例：强大的自动类型推断，隐含类型转换，匿名函数，case类，字符串插值器。\n",
    "\n",
    "表现力范例：集合的&和|运算,函数定义的=>符号,\n",
    "\n",
    "for循环<-的符号，Map的 ->符号，\n",
    "\n",
    "以及生成range的 1 to 100等表达。\n",
    "\n",
    "4，函数式编程\n",
    "\n",
    "函数的特点是操作无副作用，唯一的作用的生成函数值。\n",
    "\n",
    "把一个函数作用到一些参数上，不会对输入参数造成改变。\n",
    "\n",
    "为了逼近这个目标，scala设计的默认数据结构绝大部分是不可变的。\n",
    "\n",
    "并且在一个良好风格的scala程序中，只需要使用val不可变变量而无需使用var可变变量。\n",
    "\n",
    "显式的for或者while循环是不可取的，让我们用更多的高阶函数吧。\n",
    "\n",
    "5，多范式编程\n",
    "\n",
    "尽管函数式编程是Scala的推荐编程范式，但Scala同时混合了强大的命令式编程的功能。\n",
    "\n",
    "你可以使用强大的for循环，for推导式，使用可变的变量和数据类型实现命令式编程。\n",
    "\n",
    "你还可以使用强大的模式匹配，基于模式匹配完成复杂的变换操作，实现模式化编程。\n",
    "\n",
    "最后，正如同它的名字的蕴意，Scala是一门可以伸缩的语言。\n",
    "\n",
    "通过编写扩展类和对象，或继承各种Trait生成新数据结构，\n",
    "\n",
    "Scala可以很容易地成为某个领域的\"专业语言\"。\n",
    "\n",
    "新增加的那些特性就好像是scala语法本身的一部分。\n"
   ]
  },
  {
   "cell_type": "code",
   "execution_count": null,
   "metadata": {},
   "outputs": [],
   "source": []
  },
  {
   "cell_type": "markdown",
   "metadata": {},
   "source": [
    "### Appendix：参考资料\n"
   ]
  },
  {
   "cell_type": "markdown",
   "metadata": {},
   "source": [
    "1，林子雨《Spark编程基础》\n",
    "\n",
    "https://study.163.com/course/courseMain.htm?courseId=1005031005\n",
    "\n",
    "http://dblab.xmu.edu.cn/blog/spark/\n",
    "\n",
    "2，菜鸟教程《Scala教程》\n",
    "\n",
    "https://www.runoob.com/scala/scala-tutorial.html\n"
   ]
  }
 ],
 "metadata": {
  "kernelspec": {
   "display_name": "Apache Toree - Scala",
   "language": "scala",
   "name": "apache_toree_scala"
  },
  "language_info": {
   "codemirror_mode": "text/x-scala",
   "file_extension": ".scala",
   "mimetype": "text/x-scala",
   "name": "scala",
   "pygments_lexer": "scala",
   "version": "2.11.12"
  }
 },
 "nbformat": 4,
 "nbformat_minor": 2
}
