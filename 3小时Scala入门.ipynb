{
 "cells": [
  {
   "cell_type": "markdown",
   "metadata": {},
   "source": [
    "### 〇，编程环境"
   ]
  },
  {
   "cell_type": "markdown",
   "metadata": {},
   "source": [
    "1,安装Java\n",
    "\n",
    "2,配置Java环境变量\n",
    "\n",
    "3,安装Scala\n",
    "\n",
    "4,配置Scala环境变量\n",
    "\n",
    "参考菜鸟教程： https://www.runoob.com/scala/scala-install.html\n",
    "\n",
    "5，配置jupyter-scala环境\n",
    "\n",
    "下载以下kernel文件，解压缩后根据readme.txt中的指引操作即可\n",
    "\n",
    "https://github.com/rvilla87/Big-Data/raw/master/other/jupyter-Scala_2.11.11_kernel_Windows.zip"
   ]
  },
  {
   "cell_type": "markdown",
   "metadata": {},
   "source": [
    "### 一，算数运算"
   ]
  },
  {
   "cell_type": "code",
   "execution_count": null,
   "metadata": {},
   "outputs": [],
   "source": [
    "//四则运算\n",
    "1+(100-20)/4+5*2 "
   ]
  },
  {
   "cell_type": "code",
   "execution_count": null,
   "metadata": {},
   "outputs": [],
   "source": [
    "//求模运算\n",
    "5%2"
   ]
  },
  {
   "cell_type": "code",
   "execution_count": null,
   "metadata": {},
   "outputs": [],
   "source": [
    "//乘方运算\n",
    "import math.pow\n",
    "math.pow(2,3)"
   ]
  },
  {
   "cell_type": "code",
   "execution_count": null,
   "metadata": {},
   "outputs": [],
   "source": [
    "//绝对值\n",
    "import math._\n",
    "math.abs(-1)"
   ]
  },
  {
   "cell_type": "code",
   "execution_count": null,
   "metadata": {},
   "outputs": [],
   "source": [
    "//三角函数\n",
    "import math._;\n",
    "math.cos(math.Pi)"
   ]
  },
  {
   "cell_type": "code",
   "execution_count": null,
   "metadata": {},
   "outputs": [],
   "source": [
    "//对数函数\n",
    "import math._\n",
    "math.log(100)"
   ]
  },
  {
   "cell_type": "code",
   "execution_count": null,
   "metadata": {},
   "outputs": [],
   "source": [
    "math.sqrt(2)\n",
    "math.exp(10)"
   ]
  },
  {
   "cell_type": "markdown",
   "metadata": {},
   "source": [
    "### 二，输入输出"
   ]
  },
  {
   "cell_type": "markdown",
   "metadata": {},
   "source": [
    "输出：println,print,printf\n",
    "\n",
    "输入：readLine,readInt,readDouble,\n",
    "readBoolean,readFloat,readChar,\n",
    "readShort,readLong,readByte\n",
    "\n",
    "读文件：scala.io.Source\n",
    "\n",
    "写文件：java.io.PrintWriter"
   ]
  },
  {
   "cell_type": "markdown",
   "metadata": {},
   "source": []
  },
  {
   "cell_type": "markdown",
   "metadata": {},
   "source": [
    "**1，输出**"
   ]
  },
  {
   "cell_type": "code",
   "execution_count": null,
   "metadata": {},
   "outputs": [],
   "source": [
    "//println换行，print不换行，printf格式化字符串\n",
    "println(\"hello world\")\n",
    "print(\"hello \")\n",
    "print(\"China \\n\")\n",
    "printf(\"I'm %s,I'm %d years old,my weight is %.2f kg\",\"Jimmy\",17,46.0)"
   ]
  },
  {
   "cell_type": "markdown",
   "metadata": {},
   "source": [
    "**2，输入**"
   ]
  },
  {
   "cell_type": "code",
   "execution_count": null,
   "metadata": {},
   "outputs": [],
   "source": [
    "//readLine读入行，readInt读入整数，readDouble读入浮点数，readBoolean读入布尔值\n",
    "import scala.io.StdIn\n",
    "val s = StdIn.readLine(\"input a sentence\")\n",
    "println(s)\n",
    "\n"
   ]
  },
  {
   "cell_type": "markdown",
   "metadata": {},
   "source": [
    "**3，读文件** "
   ]
  },
  {
   "cell_type": "code",
   "execution_count": null,
   "metadata": {},
   "outputs": [],
   "source": [
    "//在命令行中才能执行成功\n",
    "//val i = StdIn.readInt()\n",
    "//println(i)"
   ]
  },
  {
   "cell_type": "code",
   "execution_count": null,
   "metadata": {},
   "outputs": [],
   "source": [
    "//读文件\n",
    "import scala.io.Source\n",
    "val f = Source.fromFile(\"test.txt\")\n",
    "f.foreach(print)\n",
    "f.close"
   ]
  },
  {
   "cell_type": "code",
   "execution_count": null,
   "metadata": {},
   "outputs": [],
   "source": [
    "val f = Source.fromFile(\"test.txt\")\n",
    "println(f.mkString)\n",
    "//f.close"
   ]
  },
  {
   "cell_type": "code",
   "execution_count": null,
   "metadata": {},
   "outputs": [],
   "source": [
    "val f = Source.fromFile(\"test.txt\")\n",
    "val s = f.getLines.mkString\n",
    "println(s)\n",
    "//f.close"
   ]
  },
  {
   "cell_type": "code",
   "execution_count": null,
   "metadata": {},
   "outputs": [],
   "source": [
    "val f = Source.fromFile(\"test.txt\")\n",
    "val s = f.getLines.toList\n",
    "println(s)\n",
    "//f.close"
   ]
  },
  {
   "cell_type": "code",
   "execution_count": null,
   "metadata": {},
   "outputs": [],
   "source": [
    "f.close"
   ]
  },
  {
   "cell_type": "code",
   "execution_count": null,
   "metadata": {},
   "outputs": [],
   "source": [
    "//文件读取\n",
    "val f=Source.fromFile(\"test.txt\")\n",
    "for(line <- f.getLines)\n",
    "{\n",
    "  println(line)\n",
    "}\n",
    "//f.close"
   ]
  },
  {
   "cell_type": "code",
   "execution_count": null,
   "metadata": {},
   "outputs": [],
   "source": [
    "f.close"
   ]
  },
  {
   "cell_type": "markdown",
   "metadata": {},
   "source": [
    "**4，写文件**"
   ]
  },
  {
   "cell_type": "code",
   "execution_count": null,
   "metadata": {},
   "outputs": [],
   "source": [
    "import java.io._\n",
    "val out = new PrintWriter(\"data.txt\")\n",
    "for (i<- 1 to 100) out.println(i)\n",
    "out.close()"
   ]
  },
  {
   "cell_type": "code",
   "execution_count": null,
   "metadata": {},
   "outputs": [],
   "source": [
    "import java.io._\n",
    "val writer = new PrintWriter(new File(\"writer.txt\" ))\n",
    "writer.write(\"hello world\")\n",
    "writer.write(\"hello China\")\n",
    "writer.close()\n"
   ]
  },
  {
   "cell_type": "code",
   "execution_count": null,
   "metadata": {},
   "outputs": [],
   "source": []
  },
  {
   "cell_type": "markdown",
   "metadata": {},
   "source": [
    "### 三，导入包Packege"
   ]
  },
  {
   "cell_type": "markdown",
   "metadata": {},
   "source": [
    "1,引入全部\n",
    "\n",
    "2,引入某个类\n",
    "\n",
    "3,引入某些类\n",
    "\n",
    "4,引入后重命名\n",
    "\n",
    "5,隐藏某些类\n",
    "\n",
    "6,隐式引入"
   ]
  },
  {
   "cell_type": "code",
   "execution_count": null,
   "metadata": {},
   "outputs": [],
   "source": [
    "//不引入，直接用全名使用\n",
    "val f = scala.io.Source.fromFile(\"test.txt\")\n",
    "f.getLines.foreach(println)\n",
    "//f.close"
   ]
  },
  {
   "cell_type": "code",
   "execution_count": null,
   "metadata": {},
   "outputs": [],
   "source": [
    "//引入全部\n",
    "import scala.io._\n",
    "println(Source.fromFile(\"test.txt\").mkString)\n",
    "println(StdIn.readLine(\"input a sentence\"))"
   ]
  },
  {
   "cell_type": "code",
   "execution_count": null,
   "metadata": {},
   "outputs": [],
   "source": [
    "//引入某些类\n",
    "import scala.io.{Source,StdIn,BufferedSource}\n",
    "println(Source.fromFile(\"test.txt\").mkString)\n",
    "println(StdIn.readLine(\"input a sentence\"))"
   ]
  },
  {
   "cell_type": "code",
   "execution_count": null,
   "metadata": {},
   "outputs": [],
   "source": [
    "//引入后重命名\n",
    "import scala.io.{Source => Src,_}\n",
    "println(Src.fromFile(\"test.txt\").mkString)"
   ]
  },
  {
   "cell_type": "code",
   "execution_count": null,
   "metadata": {},
   "outputs": [],
   "source": [
    "//隐藏Source\n",
    "import scala.io.{Source => _,StdIn}"
   ]
  },
  {
   "cell_type": "code",
   "execution_count": null,
   "metadata": {},
   "outputs": [],
   "source": [
    "//隐式导入\n",
    "//java.lang包，scala包以及Predef对象是所有scala程序默认导入的\n",
    "//其中Predef对象中有println,断言assert以及一些隐式类型转换方法"
   ]
  },
  {
   "cell_type": "code",
   "execution_count": null,
   "metadata": {},
   "outputs": [],
   "source": [
    "//import java.lang._ // in JVM projects, or system namespace in .NET\n",
    "//import scala._     // everything in the scala package\n",
    "//import Predef._    // everything in the Predef object"
   ]
  },
  {
   "cell_type": "code",
   "execution_count": null,
   "metadata": {},
   "outputs": [],
   "source": [
    "Predef."
   ]
  },
  {
   "cell_type": "code",
   "execution_count": null,
   "metadata": {},
   "outputs": [],
   "source": []
  },
  {
   "cell_type": "markdown",
   "metadata": {},
   "source": [
    "### 四，语法规则"
   ]
  },
  {
   "cell_type": "raw",
   "metadata": {},
   "source": [
    "1,标识符\n",
    "\n",
    "标识符由字母和数字组成，遵循驼峰命名规则。\n",
    "\n",
    "类和对象的名称以大写字母开头\n",
    "方法的名称以小写字母开头\n",
    "\n",
    "$可以被用作字母，但要慎重使用。\n",
    "因为有些特殊符号如 + 的内部表示为 $plus\n",
    "\n",
    "当存在标志符和关键字冲突时，可以加上``来避免冲突"
   ]
  },
  {
   "cell_type": "code",
   "execution_count": null,
   "metadata": {},
   "outputs": [],
   "source": [
    "1+1"
   ]
  },
  {
   "cell_type": "code",
   "execution_count": null,
   "metadata": {},
   "outputs": [],
   "source": [
    "1.$plus(2)"
   ]
  },
  {
   "cell_type": "code",
   "execution_count": null,
   "metadata": {},
   "outputs": [],
   "source": [
    "val `yield` = 123"
   ]
  },
  {
   "cell_type": "raw",
   "metadata": {},
   "source": [
    "2，注释\n",
    "多行注释用/*开头，以*/结尾包括\n",
    "单行注释用//开头"
   ]
  },
  {
   "cell_type": "code",
   "execution_count": null,
   "metadata": {},
   "outputs": [],
   "source": []
  },
  {
   "cell_type": "code",
   "execution_count": null,
   "metadata": {},
   "outputs": [],
   "source": [
    "/* multiline comment\n",
    "some description\n",
    "more description\n",
    "*/\n",
    "def test() {\n",
    "  // oneline comment\n",
    "  println(\"Hello, world!\");\n",
    "}\n",
    "\n",
    "test()"
   ]
  },
  {
   "cell_type": "raw",
   "metadata": {},
   "source": [
    "3，数据类型\n",
    "\n",
    "scala中的数据类型有Byte,Short,Int,Long,Float,Double,Char,String,Boolean.\n",
    "\n",
    "以及\n",
    "\n",
    "Unit(表示无值与C语言void等同,用作无返回值的方法的返回类型),\n",
    "Null(AnyRef的子类，null是它的唯一对象),\n",
    "Nothing(所有类型的子类，它没有对象),\n",
    "Any(所有其他类的超类),\n",
    "AnyRef(所有引用类reference class的基类)"
   ]
  },
  {
   "cell_type": "code",
   "execution_count": null,
   "metadata": {},
   "outputs": [],
   "source": []
  },
  {
   "cell_type": "code",
   "execution_count": null,
   "metadata": {},
   "outputs": [],
   "source": [
    "//数值类型\n",
    "23\n",
    "12L\n",
    "1.1F\n",
    "2.17D"
   ]
  },
  {
   "cell_type": "code",
   "execution_count": null,
   "metadata": {},
   "outputs": [],
   "source": [
    "//字符和字符串\n",
    "val char = 'a'\n",
    "val str = \"hello world\"\n",
    "\n",
    "val longstr = \n",
    "\"\"\"\n",
    "hello world\n",
    "hello China\n",
    "hello Beijing\n",
    "\"\"\"\n",
    "println(longstr)"
   ]
  },
  {
   "cell_type": "code",
   "execution_count": null,
   "metadata": {},
   "outputs": [],
   "source": [
    "//判断数据类型\n",
    "str.getClass ==  classOf[String]\n",
    "str.getClass.getSimpleName\n",
    "str.isInstanceOf[Any]\n"
   ]
  },
  {
   "cell_type": "code",
   "execution_count": null,
   "metadata": {},
   "outputs": [],
   "source": [
    "//强制类型转换,\n",
    "//可以用句点符号或者空格调用方法\n",
    "1.toString\n",
    "\"123\".toInt\n",
    "123 toString"
   ]
  },
  {
   "cell_type": "code",
   "execution_count": null,
   "metadata": {},
   "outputs": [],
   "source": [
    "//自动类型转换\n",
    "1 + \" world\""
   ]
  },
  {
   "cell_type": "raw",
   "metadata": {},
   "source": [
    "4, 变量\n",
    "\n",
    "scala支持两种类型的变量，即常量val和变量var。\n",
    "常量在程序中不可以被重新指向，变量可以被重新指向新的对象。\n",
    "声明变量时可以指定类型，也可以由程序根据初始值自动推断。\n"
   ]
  },
  {
   "cell_type": "code",
   "execution_count": null,
   "metadata": {},
   "outputs": [],
   "source": [
    "val a = 10\n",
    "val b:Int = 10"
   ]
  },
  {
   "cell_type": "code",
   "execution_count": null,
   "metadata": {},
   "outputs": [],
   "source": [
    "var x = \"abc\"\n",
    "x = x + \"edf\""
   ]
  },
  {
   "cell_type": "code",
   "execution_count": null,
   "metadata": {},
   "outputs": [],
   "source": [
    "//同时对多个变量进行声明\n",
    "val m,n = 0"
   ]
  },
  {
   "cell_type": "raw",
   "metadata": {},
   "source": [
    "5，编译执行\n",
    "\n",
    "scala代码有以下几种执行方式：\n",
    "\n",
    "a,进入scala解释器交互式执行\n",
    "\n",
    "b,保存成后缀名为HelloWorld.scala的脚本，然后在cmd中输入 scala HelloWorld.scala\n",
    "\n",
    "c,使用scalac进行编译 scalac HelloWorld.scala，然后生成HelloWorld.$class和HelloWorld.class的JVM文件，再用 scala -classpath . HelloWorld 执行。\n",
    "\n",
    "appendix\n",
    "d,可以使用javap HelloWorld 反编译成java。\n",
    "\n",
    "注意当需要用scalac把代码编译时，脚本中必须要定义object单例对象。\n",
    "并且在object对象中实现main方法作为代码总入口,有多少个这种object对象就会生成多少个文件。\n"
   ]
  },
  {
   "cell_type": "code",
   "execution_count": null,
   "metadata": {},
   "outputs": [],
   "source": [
    "object HelloWorld {\n",
    "   def main(args: Array[String]):Unit={\n",
    "      println(\"Hello, world!\") \n",
    "   }\n",
    "}\n",
    "//另存为HelloWorld.scala\n",
    "//scalac HelloWorld.scala 进行编译\n",
    "//scala HelloWorld 运行"
   ]
  },
  {
   "cell_type": "raw",
   "metadata": {},
   "source": [
    "6,scala中的标点括号用法总\n",
    "\n",
    "a,小括号()用来表示优先级，传入函数参数序列，以及传入容器的下标或key\n",
    "b,中括号[]用来表示容器的类型\n",
    "c,大括号{}用来表示代码语句分组，{}的返回值为最后一个语句的值。\n",
    "\n",
    "d,句点符号.表示方法，可以用空格代替\n",
    "e,冒号:用来说明变量的数据类型\n",
    "f,=>用来表示匿名函数的映射关系\n",
    "g,->用来指定映射Map中的键值关系\n",
    "h,<-用来指定for循环的迭代参数\n",
    "i,下划线_在scala中被用作占位符表示函数参数\n"
   ]
  },
  {
   "cell_type": "markdown",
   "metadata": {},
   "source": [
    "### 五，Scala数据结构概述"
   ]
  },
  {
   "cell_type": "markdown",
   "metadata": {},
   "source": [
    "scala中最常用的数据结构为数组Array以及容器类Collection的的各种派生类。\n",
    "按照两个角度进行划分，容器类可以分为可变或者不可变类型，有序或者无序类型。\n",
    "\n",
    "有序的数据类型封装在 scala.collection.mutable包中，\n",
    "无序的数据类型封装在 scala.collection.immutable包中。\n",
    "\n",
    "常用的数据结构有以下一些：\n",
    "\n",
    "Array 定长数组： 有序，可变类型，长度不可变。\n",
    "\n",
    "List 列表：有序，不可变类型。\n",
    "\n",
    "ArrayBuffer 不定长数组：有序，可变类型，长度可以扩展。\n",
    "\n",
    "Set 集合：无序，不可变类型。\n",
    "\n",
    "Map 映射：无序，不可变类型。\n",
    "\n",
    "Tuple 元组：有序，不可变类型，可以存放不同数据类型元素。\n",
    "\n",
    "Option 选项：表示有可能包含值的容器，也可能不包含值。\n",
    "\n",
    "Iterator 迭代器：不属于容器，但是提供了遍历容器的方法。\n",
    "\n",
    "此外还可以显示地从scala.collection.mutable引入可变的Map和Set。"
   ]
  },
  {
   "cell_type": "code",
   "execution_count": null,
   "metadata": {},
   "outputs": [],
   "source": [
    "import scala.collection.mutable\n",
    "import scala.collection.immutable"
   ]
  },
  {
   "cell_type": "code",
   "execution_count": null,
   "metadata": {},
   "outputs": [],
   "source": []
  },
  {
   "cell_type": "markdown",
   "metadata": {},
   "source": [
    "### 六，String 字符串"
   ]
  },
  {
   "cell_type": "markdown",
   "metadata": {},
   "source": [
    "字符串的操作主要包括创建，连接，分割，替换，格式化字符串等。"
   ]
  },
  {
   "cell_type": "markdown",
   "metadata": {},
   "source": [
    "**1，创建字符串**"
   ]
  },
  {
   "cell_type": "code",
   "execution_count": null,
   "metadata": {},
   "outputs": [],
   "source": [
    "val s1 = \"hello world\"\n",
    "val s2 = \"hello China\"\n",
    "val s3 = \n",
    "\"\"\"\n",
    "hello world\n",
    "hello China\n",
    "hello Beijing\n",
    "\"\"\""
   ]
  },
  {
   "cell_type": "markdown",
   "metadata": {},
   "source": [
    "** 2，字符串常用操作 **"
   ]
  },
  {
   "cell_type": "code",
   "execution_count": null,
   "metadata": {},
   "outputs": [],
   "source": [
    "//+号字符串连接\n",
    "s1 +\"\\n\"+s2"
   ]
  },
  {
   "cell_type": "code",
   "execution_count": null,
   "metadata": {},
   "outputs": [],
   "source": [
    "//concat字符串连接\n",
    "s1.concat(\" hello Beijing\")"
   ]
  },
  {
   "cell_type": "code",
   "execution_count": null,
   "metadata": {},
   "outputs": [],
   "source": [
    "\"hello\" concat \" \" concat \"Beijing\""
   ]
  },
  {
   "cell_type": "code",
   "execution_count": null,
   "metadata": {},
   "outputs": [],
   "source": [
    "//字符串长度\n",
    "s1.length"
   ]
  },
  {
   "cell_type": "code",
   "execution_count": null,
   "metadata": {},
   "outputs": [],
   "source": [
    "//取某个字符\n",
    "s1(1)"
   ]
  },
  {
   "cell_type": "code",
   "execution_count": null,
   "metadata": {},
   "outputs": [],
   "source": [
    "//字符串比较\n",
    "s1>s2"
   ]
  },
  {
   "cell_type": "code",
   "execution_count": null,
   "metadata": {},
   "outputs": [],
   "source": [
    "//字符串替换\n",
    "s1.replace(\" \",\"_\")"
   ]
  },
  {
   "cell_type": "code",
   "execution_count": null,
   "metadata": {},
   "outputs": [],
   "source": [
    "//字符串分割\n",
    "s1.split(\" \")"
   ]
  },
  {
   "cell_type": "code",
   "execution_count": null,
   "metadata": {},
   "outputs": [],
   "source": []
  },
  {
   "cell_type": "code",
   "execution_count": null,
   "metadata": {},
   "outputs": [],
   "source": []
  },
  {
   "cell_type": "code",
   "execution_count": null,
   "metadata": {},
   "outputs": [],
   "source": []
  },
  {
   "cell_type": "markdown",
   "metadata": {},
   "source": [
    "### 七，Array 数组"
   ]
  },
  {
   "cell_type": "markdown",
   "metadata": {},
   "source": [
    "数组是一种可变且有序的数据结构，其元素必须属于同一种数据类型。"
   ]
  },
  {
   "cell_type": "markdown",
   "metadata": {},
   "source": [
    "** 1，定义数组 **"
   ]
  },
  {
   "cell_type": "code",
   "execution_count": null,
   "metadata": {},
   "outputs": [],
   "source": [
    "//使用new进行初始化后赋值\n",
    "val a:Array[Int] = new Array[Int](3)\n",
    "a(0) = 2\n",
    "a(1) = 3\n",
    "a(2) = 4"
   ]
  },
  {
   "cell_type": "code",
   "execution_count": null,
   "metadata": {},
   "outputs": [],
   "source": [
    "// 隐含调用apply方法实现初始化\n",
    "val a = Array(\"hello\",\"world\",\"hello\",\"China\")"
   ]
  },
  {
   "cell_type": "code",
   "execution_count": null,
   "metadata": {},
   "outputs": [],
   "source": [
    "val a = Array.apply(\"hello\",\"world\",\"hello\",\"China\")"
   ]
  },
  {
   "cell_type": "code",
   "execution_count": null,
   "metadata": {},
   "outputs": [],
   "source": [
    "// 使用range方法\n",
    "val a = Array.range(0,10,2)"
   ]
  },
  {
   "cell_type": "code",
   "execution_count": null,
   "metadata": {},
   "outputs": [],
   "source": [
    "// 使用tabulate方法\n",
    "val a = Array.tabulate(6)(i => i + 5)"
   ]
  },
  {
   "cell_type": "code",
   "execution_count": null,
   "metadata": {},
   "outputs": [],
   "source": [
    "//多维数组\n",
    "val b = Array.ofDim[String](3,3)\n",
    "for(i<-0 to 2){\n",
    "    for(j<-0 to 2){\n",
    "        b(i)(j) = (i+j).toString\n",
    "    }\n",
    "}"
   ]
  },
  {
   "cell_type": "code",
   "execution_count": null,
   "metadata": {},
   "outputs": [],
   "source": [
    "//多维数组\n",
    "val c = Array(Array(1,2,3),Array(4,5,6),Array(7,8,9))"
   ]
  },
  {
   "cell_type": "code",
   "execution_count": null,
   "metadata": {},
   "outputs": [],
   "source": [
    "//多维数组\n",
    "val a = Array.fill(3,3)(1)"
   ]
  },
  {
   "cell_type": "code",
   "execution_count": null,
   "metadata": {},
   "outputs": [],
   "source": [
    "// 使用tabulate方法\n",
    "val a = Array.tabulate(8,8)(_+_)"
   ]
  },
  {
   "cell_type": "markdown",
   "metadata": {},
   "source": [
    "**2，数组常用操作**"
   ]
  },
  {
   "cell_type": "markdown",
   "metadata": {},
   "source": [
    "数组的常用操作包括遍历，修改某些元素值，取极值，求和，排序等操作\n",
    "\n",
    "如果要增加和删除元素，需要使用 ArrayBuffer可变长数组。\n"
   ]
  },
  {
   "cell_type": "code",
   "execution_count": null,
   "metadata": {},
   "outputs": [],
   "source": [
    "//修改元素值\n",
    "var x = Array(1,2,6,4,3,6,7,10,9)\n",
    "x(8) = 5\n",
    "x.update(2,1) "
   ]
  },
  {
   "cell_type": "code",
   "execution_count": null,
   "metadata": {},
   "outputs": [],
   "source": [
    "//切片\n",
    "x.slice(2,7)"
   ]
  },
  {
   "cell_type": "code",
   "execution_count": null,
   "metadata": {},
   "outputs": [],
   "source": [
    "//最大值,最小值,排序\n",
    "x.max\n",
    "x.min\n",
    "val sortedx = x.sorted"
   ]
  },
  {
   "cell_type": "code",
   "execution_count": null,
   "metadata": {},
   "outputs": [],
   "source": [
    "//使用ArrayBuffer进行增加和删除元素\n",
    "import scala.collection.mutable.ArrayBuffer\n",
    "\n",
    "val x_buffer = x.toBuffer\n",
    "\n",
    "x_buffer.append(198)\n",
    "x_buffer.appendAll(x)\n",
    "x_buffer.prepend(0)\n"
   ]
  },
  {
   "cell_type": "code",
   "execution_count": null,
   "metadata": {},
   "outputs": [],
   "source": [
    "x_buffer.dropRight(1)"
   ]
  },
  {
   "cell_type": "code",
   "execution_count": null,
   "metadata": {},
   "outputs": [],
   "source": [
    "//插入元素\n",
    "x_buffer.insert(1,23)\n",
    "println(x_buffer)"
   ]
  },
  {
   "cell_type": "code",
   "execution_count": null,
   "metadata": {},
   "outputs": [],
   "source": [
    "//多维数组遍历\n",
    "val c = Array(Array(1,2,3),Array(4,5,6),Array(7,8,9))\n",
    "c.foreach(arr => arr.foreach(println))\n",
    "c.map(arr => arr.map(_+1))"
   ]
  },
  {
   "cell_type": "markdown",
   "metadata": {},
   "source": [
    "### 八，列表List"
   ]
  },
  {
   "cell_type": "markdown",
   "metadata": {},
   "source": [
    "列表和数组相似，都是有序的结构，但列表中的元素是不可变的。\n",
    "\n",
    "并且列表的存储结构为递推的链表结构，和数组不同。\n",
    "\n",
    "此外列表中的元素可以是不同的类型。"
   ]
  },
  {
   "cell_type": "markdown",
   "metadata": {},
   "source": [
    "**1，创建列表**"
   ]
  },
  {
   "cell_type": "code",
   "execution_count": null,
   "metadata": {},
   "outputs": [],
   "source": [
    "//指定递推关系创建\n",
    "val l = List.iterate(5,6)(x=>x+2)"
   ]
  },
  {
   "cell_type": "code",
   "execution_count": null,
   "metadata": {},
   "outputs": [],
   "source": [
    "val l = List(0.1,0.2,0.3,0.4)"
   ]
  },
  {
   "cell_type": "code",
   "execution_count": null,
   "metadata": {},
   "outputs": [],
   "source": [
    "//Nil为空列表\n",
    "val l:List[Double] = 0.01::0.03::0.05::Nil"
   ]
  },
  {
   "cell_type": "code",
   "execution_count": null,
   "metadata": {},
   "outputs": [],
   "source": [
    "val l = List.tabulate(3,3)(_+_)"
   ]
  },
  {
   "cell_type": "code",
   "execution_count": null,
   "metadata": {},
   "outputs": [],
   "source": []
  },
  {
   "cell_type": "markdown",
   "metadata": {},
   "source": [
    "** 2，列表常用操作**"
   ]
  },
  {
   "cell_type": "code",
   "execution_count": null,
   "metadata": {},
   "outputs": [],
   "source": [
    "var l = List.range(1,10,2)"
   ]
  },
  {
   "cell_type": "code",
   "execution_count": null,
   "metadata": {},
   "outputs": [],
   "source": [
    "l.length"
   ]
  },
  {
   "cell_type": "code",
   "execution_count": null,
   "metadata": {},
   "outputs": [],
   "source": [
    "//在列表前和某个元素拼接\n",
    "var l2 = 4::l"
   ]
  },
  {
   "cell_type": "code",
   "execution_count": null,
   "metadata": {},
   "outputs": [],
   "source": [
    "//列表头\n",
    "l.head"
   ]
  },
  {
   "cell_type": "code",
   "execution_count": null,
   "metadata": {},
   "outputs": [],
   "source": [
    "//列表其余部分\n",
    "l.tail"
   ]
  },
  {
   "cell_type": "code",
   "execution_count": null,
   "metadata": {},
   "outputs": [],
   "source": [
    "//列表连接\n",
    "var l3 = l:::l2"
   ]
  },
  {
   "cell_type": "code",
   "execution_count": null,
   "metadata": {},
   "outputs": [],
   "source": [
    "//提取前4个元素与后四个元素\n",
    "l.take(4)\n",
    "l.takeRight(4)"
   ]
  },
  {
   "cell_type": "code",
   "execution_count": null,
   "metadata": {},
   "outputs": [],
   "source": [
    "//列表反转\n",
    "l.reverse"
   ]
  },
  {
   "cell_type": "code",
   "execution_count": null,
   "metadata": {},
   "outputs": [],
   "source": [
    "val l3 = l:+3\n",
    "val l4 = 3+:l"
   ]
  },
  {
   "cell_type": "code",
   "execution_count": null,
   "metadata": {},
   "outputs": [],
   "source": [
    "//去除重复元素\n",
    "l3.distinct"
   ]
  },
  {
   "cell_type": "code",
   "execution_count": null,
   "metadata": {},
   "outputs": [],
   "source": [
    "//过滤\n",
    "l3.filter(_>5)"
   ]
  },
  {
   "cell_type": "code",
   "execution_count": null,
   "metadata": {},
   "outputs": [],
   "source": [
    "//测试是否每个元素都满足条件，返回Boolean\n",
    "l3.forall(_>0)"
   ]
  },
  {
   "cell_type": "code",
   "execution_count": null,
   "metadata": {},
   "outputs": [],
   "source": [
    "//对每个元素执行函数，返回Unit\n",
    "l3.foreach(println)"
   ]
  },
  {
   "cell_type": "code",
   "execution_count": null,
   "metadata": {},
   "outputs": [],
   "source": [
    "l3.toArray"
   ]
  },
  {
   "cell_type": "code",
   "execution_count": null,
   "metadata": {},
   "outputs": [],
   "source": [
    "var l = List(1,2,3)"
   ]
  },
  {
   "cell_type": "markdown",
   "metadata": {},
   "source": [
    "### 九，集合"
   ]
  },
  {
   "cell_type": "markdown",
   "metadata": {},
   "source": [
    "集合是一种不可变的类型，并且是无顺序的，适合查找某个元素是否在集合中。"
   ]
  },
  {
   "cell_type": "code",
   "execution_count": null,
   "metadata": {},
   "outputs": [],
   "source": [
    "var s = Set(1,2,3)"
   ]
  },
  {
   "cell_type": "code",
   "execution_count": null,
   "metadata": {},
   "outputs": [],
   "source": [
    "//虽然集合不可变，但是s可变，添加元素5得到新的集合并将s指向它\n",
    "s += 5\n",
    "s"
   ]
  },
  {
   "cell_type": "code",
   "execution_count": null,
   "metadata": {},
   "outputs": [],
   "source": [
    "//删除元素\n",
    "s - 5"
   ]
  },
  {
   "cell_type": "code",
   "execution_count": null,
   "metadata": {},
   "outputs": [],
   "source": [
    "s.contains(3)"
   ]
  },
  {
   "cell_type": "code",
   "execution_count": null,
   "metadata": {},
   "outputs": [],
   "source": [
    "s.union(Set(3,4,5))"
   ]
  },
  {
   "cell_type": "code",
   "execution_count": null,
   "metadata": {},
   "outputs": [],
   "source": [
    "s intersect Set(2,3,4)"
   ]
  },
  {
   "cell_type": "code",
   "execution_count": null,
   "metadata": {},
   "outputs": [],
   "source": [
    "s & Set(2,3,4)"
   ]
  },
  {
   "cell_type": "code",
   "execution_count": null,
   "metadata": {},
   "outputs": [],
   "source": [
    "s | Set(2,3,4)"
   ]
  },
  {
   "cell_type": "code",
   "execution_count": null,
   "metadata": {},
   "outputs": [],
   "source": []
  },
  {
   "cell_type": "markdown",
   "metadata": {},
   "source": [
    "### 十，Map 映射"
   ]
  },
  {
   "cell_type": "markdown",
   "metadata": {},
   "source": [
    "映射和python中的字典很像，但是scala中的Map是一种不可变类型。\n",
    "\n",
    "如果需要使用可变的Map,需要从scala.collection.mutable引入"
   ]
  },
  {
   "cell_type": "markdown",
   "metadata": {},
   "source": [
    "**1，创建Map**"
   ]
  },
  {
   "cell_type": "code",
   "execution_count": null,
   "metadata": {},
   "outputs": [],
   "source": [
    "//创建空列表\n",
    "var city:Map[String,String] = Map()\n",
    "city += (\"WUHAN\"->\"WH\")\n",
    "city += (\"XIAMEN\"->\"XM\")\n",
    "city += (\"BEIJING\"->\"BJ\")"
   ]
  },
  {
   "cell_type": "code",
   "execution_count": null,
   "metadata": {},
   "outputs": [],
   "source": [
    "//隐式使用apply\n",
    "var city = Map(\"WUHAN\"->\"WH\",\"XIAMEN\"->\"XM\",\"BEIJING\"->\"BJ\")"
   ]
  },
  {
   "cell_type": "code",
   "execution_count": null,
   "metadata": {},
   "outputs": [],
   "source": []
  },
  {
   "cell_type": "markdown",
   "metadata": {},
   "source": [
    "**2，Map常用操作**"
   ]
  },
  {
   "cell_type": "markdown",
   "metadata": {},
   "source": [
    "Map常用操作包括查找，合并，遍历等操作。"
   ]
  },
  {
   "cell_type": "code",
   "execution_count": null,
   "metadata": {},
   "outputs": [],
   "source": [
    "var city = Map(\"WUHAN\"->\"WH\",\"XIAMEN\"->\"XM\",\"BEIJING\"->\"BJ\")"
   ]
  },
  {
   "cell_type": "code",
   "execution_count": null,
   "metadata": {},
   "outputs": [],
   "source": [
    "city(\"WUHAN\")"
   ]
  },
  {
   "cell_type": "code",
   "execution_count": null,
   "metadata": {},
   "outputs": [],
   "source": [
    "val result = if (city.contains(\"SHANGHAI\")) city(\"WUHAN\") else \"NOTFOUND\""
   ]
  },
  {
   "cell_type": "code",
   "execution_count": null,
   "metadata": {},
   "outputs": [],
   "source": [
    "//用get去查找\n",
    "val result = city.get(\"BEIJING\").getOrElse(\"NOTFOUND\")"
   ]
  },
  {
   "cell_type": "code",
   "execution_count": null,
   "metadata": {},
   "outputs": [],
   "source": [
    "//合并\n",
    "city ++ Map(\"SHANGHAI\"->\"SH\")"
   ]
  },
  {
   "cell_type": "code",
   "execution_count": null,
   "metadata": {},
   "outputs": [],
   "source": [
    "for((k,v)<-city) println(k,v)"
   ]
  },
  {
   "cell_type": "code",
   "execution_count": null,
   "metadata": {},
   "outputs": [],
   "source": [
    "for(k<-city.keys) println(k)"
   ]
  },
  {
   "cell_type": "code",
   "execution_count": null,
   "metadata": {},
   "outputs": [],
   "source": []
  },
  {
   "cell_type": "code",
   "execution_count": null,
   "metadata": {},
   "outputs": [],
   "source": [
    "//导入可变对象后可以增加和修改键值对\n",
    "import scala.collection.mutable.Map\n",
    "\n",
    "val city = Map(\"WUHAN\"->\"WH\",\"XIAMEN\"->\"XM\",\"BEIJING\"->\"BJ\")\n",
    "city(\"BEIJING\") = \"DD\"\n",
    "city(\"SHANGHAI\") = \"MD\""
   ]
  },
  {
   "cell_type": "code",
   "execution_count": null,
   "metadata": {},
   "outputs": [],
   "source": []
  },
  {
   "cell_type": "markdown",
   "metadata": {},
   "source": [
    "### 十一，元组Tuple\n"
   ]
  },
  {
   "cell_type": "markdown",
   "metadata": {},
   "source": [
    "元组也是一种不可变的数据结构，其特点是可以存储类型不同的对象。\n",
    "\n",
    "默认元组可以存储的对象的最大长度是22，如果要使用更长的元组，可以使用List或Set替代。\n",
    "\n",
    "使用圆括号括号括起来的几个对象就构成了元组。\n"
   ]
  },
  {
   "cell_type": "code",
   "execution_count": null,
   "metadata": {},
   "outputs": [],
   "source": []
  },
  {
   "cell_type": "markdown",
   "metadata": {},
   "source": [
    "**1，创建元组**"
   ]
  },
  {
   "cell_type": "code",
   "execution_count": null,
   "metadata": {},
   "outputs": [],
   "source": [
    "val t = (123,\"hello\",123.2f,true)"
   ]
  },
  {
   "cell_type": "code",
   "execution_count": null,
   "metadata": {},
   "outputs": [],
   "source": [
    "val t = new Tuple3(1, 3.14, \"hello\")"
   ]
  },
  {
   "cell_type": "code",
   "execution_count": null,
   "metadata": {},
   "outputs": [],
   "source": []
  },
  {
   "cell_type": "markdown",
   "metadata": {},
   "source": [
    "**2，使用元组**"
   ]
  },
  {
   "cell_type": "code",
   "execution_count": null,
   "metadata": {},
   "outputs": [],
   "source": [
    "val t = (123,\"hello\",123.2f,true)\n",
    "t._1\n",
    "t._2\n",
    "t._3"
   ]
  },
  {
   "cell_type": "code",
   "execution_count": null,
   "metadata": {},
   "outputs": [],
   "source": [
    "t.toString"
   ]
  },
  {
   "cell_type": "code",
   "execution_count": null,
   "metadata": {},
   "outputs": [],
   "source": []
  },
  {
   "cell_type": "code",
   "execution_count": null,
   "metadata": {},
   "outputs": [],
   "source": []
  },
  {
   "cell_type": "markdown",
   "metadata": {},
   "source": [
    "### 十二，迭代器 Iterator"
   ]
  },
  {
   "cell_type": "markdown",
   "metadata": {},
   "source": [
    "迭代器不是一种容器，但是它提供了一种访问容器的方法。\n",
    "\n",
    "迭代器主要有hasNext和next两个常用方法。\n",
    "\n",
    "迭代器中的元素不需要是同种类型的。\n",
    "\n",
    "两个迭代器可以进行合并。\n"
   ]
  },
  {
   "cell_type": "markdown",
   "metadata": {},
   "source": [
    "**1，创建迭代器**"
   ]
  },
  {
   "cell_type": "code",
   "execution_count": null,
   "metadata": {},
   "outputs": [],
   "source": [
    "//直接创建迭代器\n",
    "val iter = Iterator(\"baidu\",\"alibaba\",\"tencent\",\"huawei\")"
   ]
  },
  {
   "cell_type": "code",
   "execution_count": null,
   "metadata": {},
   "outputs": [],
   "source": [
    "//容器转换成迭代器\n",
    "val set = Set(\"hello\",123,true,3.14)\n",
    "val iter = set.toIterator"
   ]
  },
  {
   "cell_type": "code",
   "execution_count": null,
   "metadata": {},
   "outputs": [],
   "source": [
    "//容器通过分组和滑动窗口得到迭代器\n",
    "val group = set.grouped(3)\n",
    "val slide = set.sliding(2)"
   ]
  },
  {
   "cell_type": "code",
   "execution_count": null,
   "metadata": {},
   "outputs": [],
   "source": []
  },
  {
   "cell_type": "markdown",
   "metadata": {},
   "source": [
    "**2，使用迭代器**"
   ]
  },
  {
   "cell_type": "code",
   "execution_count": null,
   "metadata": {},
   "outputs": [],
   "source": [
    "val iter = Iterator(\"baidu\",\"alibaba\",\"tencent\",\"huawei\")\n",
    "println(iter.next)\n",
    "println(iter.next)\n",
    "println(iter.next)\n",
    "println(iter.next)\n",
    "iter.hasNext"
   ]
  },
  {
   "cell_type": "code",
   "execution_count": null,
   "metadata": {},
   "outputs": [],
   "source": [
    "val set = Set(\"hello\",123,true,3.14)\n",
    "val iter = set.toIterator\n",
    "for(x<-iter) println(x)"
   ]
  },
  {
   "cell_type": "code",
   "execution_count": null,
   "metadata": {},
   "outputs": [],
   "source": [
    "val set = Set(\"hello\",123,true,3.14)\n",
    "val iter = set.toIterator\n",
    "while(iter.hasNext) println(iter.next)"
   ]
  },
  {
   "cell_type": "code",
   "execution_count": null,
   "metadata": {},
   "outputs": [],
   "source": [
    "val iter1 = Iterator(1,2,3,\"hello\",0.2)"
   ]
  },
  {
   "cell_type": "code",
   "execution_count": null,
   "metadata": {},
   "outputs": [],
   "source": [
    "val iter2 = Iterator(\"world\",true,false,23,0.5)"
   ]
  },
  {
   "cell_type": "code",
   "execution_count": null,
   "metadata": {},
   "outputs": [],
   "source": [
    "//迭代器合并\n",
    "val iter = iter1 ++ iter2"
   ]
  },
  {
   "cell_type": "code",
   "execution_count": null,
   "metadata": {},
   "outputs": [],
   "source": [
    "for(x<-iter)println(x)"
   ]
  },
  {
   "cell_type": "code",
   "execution_count": null,
   "metadata": {},
   "outputs": [],
   "source": []
  },
  {
   "cell_type": "markdown",
   "metadata": {},
   "source": [
    "### 十三，Option 选项"
   ]
  },
  {
   "cell_type": "markdown",
   "metadata": {},
   "source": [
    "Option表示有可能包含值的容器，也可能不包含值\n",
    "\n",
    "它有两个子类，一个是Some，一个是对象None\n",
    "\n",
    "它的主要方法是getOrElse 和isEmpty\n"
   ]
  },
  {
   "cell_type": "code",
   "execution_count": null,
   "metadata": {},
   "outputs": [],
   "source": [
    "val opt1:Option[String] = Some(\"hello\")\n",
    "val opt2:Option[String] = None\n",
    "\n",
    "opt1.getClass\n",
    "opt2.getClass"
   ]
  },
  {
   "cell_type": "code",
   "execution_count": null,
   "metadata": {},
   "outputs": [],
   "source": [
    "val d = Map(\"BEIJING\"->\"BJ\",\"NANCHANG\"->\"NC\")\n",
    "val opt = d.get(\"SHANGHAI\")\n",
    "opt.getOrElse(\"NOTFOUND\")\n",
    "opt.isEmpty"
   ]
  },
  {
   "cell_type": "code",
   "execution_count": null,
   "metadata": {},
   "outputs": [],
   "source": []
  },
  {
   "cell_type": "markdown",
   "metadata": {},
   "source": [
    "### 十四，选择结构\n",
    "\n"
   ]
  },
  {
   "cell_type": "markdown",
   "metadata": {},
   "source": [
    "scala的选择结构主要通过if语句以及match语句实现。\n",
    "\n",
    "match 语句相当于多分支结构，可以使用模式匹配。\n",
    "\n",
    "match 对应Java里的switch，语法为：选择器 match {备选项}。\n"
   ]
  },
  {
   "cell_type": "code",
   "execution_count": null,
   "metadata": {},
   "outputs": [],
   "source": [
    "//if...else...语句\n",
    "\n",
    "val a = 2\n",
    "val b = 3\n",
    "var m = a\n",
    "if(a>b){\n",
    "    m = a\n",
    "}else{\n",
    " m = b}"
   ]
  },
  {
   "cell_type": "code",
   "execution_count": null,
   "metadata": {},
   "outputs": [],
   "source": [
    "//单行if语句\n",
    "\n",
    "val a = 2\n",
    "val b = 3\n",
    "var m =  if(a>b) a else b\n"
   ]
  },
  {
   "cell_type": "code",
   "execution_count": null,
   "metadata": {},
   "outputs": [],
   "source": [
    "//if...else if...else if...else...\n",
    "\n",
    "val a = 2\n",
    "val b = 3\n",
    "val c = 1\n",
    "\n",
    "var m = 0\n",
    "if(a>b&&a>c){\n",
    "    m = a\n",
    "}else if(b>a&&b>c){\n",
    "    m = b\n",
    "}else{\n",
    "    m = c\n",
    "}"
   ]
  },
  {
   "cell_type": "code",
   "execution_count": null,
   "metadata": {},
   "outputs": [],
   "source": [
    "//逻辑运算符\n",
    "true || false\n",
    "true && false\n",
    "!false"
   ]
  },
  {
   "cell_type": "code",
   "execution_count": null,
   "metadata": {},
   "outputs": [],
   "source": [
    "//match多分支结构\n",
    "\n",
    "val a = 1\n",
    "\n",
    "val x = a match{\n",
    "    case 1 => \"one\"\n",
    "    case 2 => \"two\"\n",
    "    case _ => \"many\"   \n",
    "} \n",
    "println(x)"
   ]
  },
  {
   "cell_type": "code",
   "execution_count": null,
   "metadata": {},
   "outputs": [],
   "source": [
    "//match类型匹配\n",
    "//注意将选择器声明为Any类型\n",
    "\n",
    "val elem:Any = \"hello\"\n",
    "\n",
    "val x = elem match{\n",
    "    case i:Int => i + \" is a int value\"\n",
    "    case d:Double => d + \" is a double value\"\n",
    "    case \"spark\" => \"spark is found\"\n",
    "    case s:String => s + \" is a string value\"\n",
    "}"
   ]
  },
  {
   "cell_type": "code",
   "execution_count": null,
   "metadata": {},
   "outputs": [],
   "source": [
    "//match添加guard语句\n",
    "\n",
    "for(elem <- List(1,2,3,4)){\n",
    "    elem match{\n",
    "        case _ if (elem%2 ==0) => println(elem + \" is odd\")\n",
    "        case _ => println(elem + \" is even\")\n",
    "    }\n",
    "}\n"
   ]
  },
  {
   "cell_type": "code",
   "execution_count": null,
   "metadata": {},
   "outputs": [],
   "source": [
    "case class Person(name: String, age: Int)\n",
    "val alice = Person(\"Alice\",17)\n",
    "val bob = Person(\"Bob\",19)\n",
    "val charlie = Person(\"charlie\",20)"
   ]
  },
  {
   "cell_type": "code",
   "execution_count": null,
   "metadata": {},
   "outputs": [],
   "source": [
    "//match使用case类进行模式匹配\n",
    "//case例是一种特殊的类，经过了优化以用于模式匹配\n",
    "\n",
    "//声明case例\n",
    "case class Person(name: String, age: Int)\n",
    "val alice = new Person(\"Alice\",17)\n",
    "val bob = Person(\"Bob\",19)\n",
    "val charlie = Person(\"charlie\",20)\n",
    "\n",
    "for (person <- List(alice, bob, charlie)) {\n",
    "    person match {\n",
    "        case Person(\"Alice\", 17) => println(\"Hi Alice!\")\n",
    "        case Person(\"Bob\", 19) => println(\"Hi Bob!\")\n",
    "        case Person(name, age) =>\n",
    "        println(\"Age: \" + age + \" year, name: \" + name + \"?\")\n",
    "        }\n",
    " }\n"
   ]
  },
  {
   "cell_type": "code",
   "execution_count": null,
   "metadata": {},
   "outputs": [],
   "source": []
  },
  {
   "cell_type": "code",
   "execution_count": null,
   "metadata": {},
   "outputs": [],
   "source": []
  },
  {
   "cell_type": "markdown",
   "metadata": {},
   "source": [
    "### 十五，循环结构"
   ]
  },
  {
   "cell_type": "markdown",
   "metadata": {},
   "source": [
    "循环结构主要是 for循环和while循环,此外还可以使用for推导式。\n"
   ]
  },
  {
   "cell_type": "code",
   "execution_count": null,
   "metadata": {},
   "outputs": [],
   "source": [
    "//1, for循环\n",
    "for(i <- 1 to 5) println(i)"
   ]
  },
  {
   "cell_type": "code",
   "execution_count": null,
   "metadata": {},
   "outputs": [],
   "source": [
    "//求一个列表中的最大元素\n",
    "val l = List(1,2,8,6,4)\n",
    "var max_l = l(0)\n",
    "\n",
    "for(i <- l){\n",
    "    max_l = if(max_l<i) i else max_l\n",
    "}\n",
    "println(max_l)"
   ]
  },
  {
   "cell_type": "code",
   "execution_count": null,
   "metadata": {},
   "outputs": [],
   "source": [
    "//2, while循环\n",
    "\n",
    "var s = 0\n",
    "var i = 1\n",
    "while(i<=100){\n",
    "    s += i\n",
    "    i += 1\n",
    "}\n",
    "println(s,i)\n"
   ]
  },
  {
   "cell_type": "code",
   "execution_count": null,
   "metadata": {},
   "outputs": [],
   "source": [
    "//3,循环控制\n",
    "//scala中天然没有breaks和continue关键字\n",
    "//可以用return和带if的循环生成器实现对应功能\n",
    "val s = \"hello world\"\n",
    "\n",
    "//replace continue by if guard\n",
    "for(i<-s if i!=' ') print(i)\n",
    "print('\\n')\n",
    "\n",
    "//replace break by return\n",
    "def loop():Unit = {\n",
    "    for(i<-s){\n",
    "        if(i==' ') return\n",
    "        print(i)\n",
    "    }\n",
    "}\n",
    "loop\n"
   ]
  },
  {
   "cell_type": "code",
   "execution_count": 3,
   "metadata": {},
   "outputs": [],
   "source": [
    "//4，for表达式的高级用法\n",
    "\n",
    "//在Scala里，一个for表达式可以包含1个或多个「生成器」(Generator)，\n",
    "//其中，每个生成器可以包含0个或多个「守卫」(Guard)，\n",
    "//以及0个或多个「定义」(Definition)。\n",
    "//以及一个可选的yield子句。\n",
    "\n",
    "//不带yield子句的for表达式叫做for循环，带有yield子句的 for表达式叫做推导式,"
   ]
  },
  {
   "cell_type": "code",
   "execution_count": null,
   "metadata": {},
   "outputs": [],
   "source": [
    "// 双重for循环带1个if守卫\n",
    "for(i <- 1 to 3; j<- i to 3 if i!=j) println(i+j)"
   ]
  },
  {
   "cell_type": "code",
   "execution_count": 2,
   "metadata": {},
   "outputs": [
    {
     "name": "stdout",
     "output_type": "stream",
     "text": [
      "3 4 5 6 7 8 9 10 8 10 12 14 16 18 20 15 18 21 24 27 30 "
     ]
    }
   ],
   "source": [
    "// 双重for循环带1个if守卫带1个定义\n",
    "for(i <- 1 to 3; a = i+2;j <-a to 10 if i!= j) print(i*j+\" \") "
   ]
  },
  {
   "cell_type": "code",
   "execution_count": 6,
   "metadata": {},
   "outputs": [
    {
     "data": {
      "text/plain": [
       "\u001b[36mvec\u001b[39m: \u001b[32mArray\u001b[39m[\u001b[32mInt\u001b[39m] = \u001b[33mArray\u001b[39m(\u001b[32m1\u001b[39m, \u001b[32m2\u001b[39m, \u001b[32m0\u001b[39m, \u001b[32m1\u001b[39m)"
      ]
     },
     "execution_count": 6,
     "metadata": {},
     "output_type": "execute_result"
    }
   ],
   "source": [
    "// for推导式 1个生成器\n",
    "val vec = for(i<- Array.range(1,5)) yield i%3\n"
   ]
  },
  {
   "cell_type": "code",
   "execution_count": 19,
   "metadata": {},
   "outputs": [
    {
     "data": {
      "text/plain": [
       "\u001b[36mboys\u001b[39m: \u001b[32mArray\u001b[39m[\u001b[32mString\u001b[39m] = \u001b[33mArray\u001b[39m(\u001b[32m\"Jim\"\u001b[39m, \u001b[32m\"LiLei\"\u001b[39m, \u001b[32m\"DaChui\"\u001b[39m)\r\n",
       "\u001b[36mgirls\u001b[39m: \u001b[32mArray\u001b[39m[\u001b[32mString\u001b[39m] = \u001b[33mArray\u001b[39m(\u001b[32m\"Ann\"\u001b[39m, \u001b[32m\"XiaoHong\"\u001b[39m, \u001b[32m\"Lily\"\u001b[39m)\r\n",
       "\u001b[36mpairs\u001b[39m: \u001b[32mArray\u001b[39m[(\u001b[32mString\u001b[39m, \u001b[32mString\u001b[39m)] = \u001b[33mArray\u001b[39m(\n",
       "  (\u001b[32m\"Jim\"\u001b[39m, \u001b[32m\"Ann\"\u001b[39m),\n",
       "  (\u001b[32m\"Jim\"\u001b[39m, \u001b[32m\"XiaoHong\"\u001b[39m),\n",
       "  (\u001b[32m\"Jim\"\u001b[39m, \u001b[32m\"Lily\"\u001b[39m),\n",
       "  (\u001b[32m\"LiLei\"\u001b[39m, \u001b[32m\"Ann\"\u001b[39m),\n",
       "  (\u001b[32m\"LiLei\"\u001b[39m, \u001b[32m\"XiaoHong\"\u001b[39m),\n",
       "  (\u001b[32m\"LiLei\"\u001b[39m, \u001b[32m\"Lily\"\u001b[39m),\n",
       "  (\u001b[32m\"DaChui\"\u001b[39m, \u001b[32m\"Ann\"\u001b[39m),\n",
       "  (\u001b[32m\"DaChui\"\u001b[39m, \u001b[32m\"XiaoHong\"\u001b[39m),\n",
       "  (\u001b[32m\"DaChui\"\u001b[39m, \u001b[32m\"Lily\"\u001b[39m)\n",
       ")"
      ]
     },
     "execution_count": 19,
     "metadata": {},
     "output_type": "execute_result"
    }
   ],
   "source": [
    "//for推导式 2个生成器\n",
    "val boys = Array(\"Jim\",\"LiLei\",\"DaChui\")\n",
    "val girls = Array(\"Ann\",\"XiaoHong\",\"Lily\")\n",
    "val pairs = for(b <- boys;g <- girls;pair = (b,g)) yield pair\n"
   ]
  },
  {
   "cell_type": "code",
   "execution_count": 20,
   "metadata": {},
   "outputs": [
    {
     "data": {
      "text/plain": [
       "\u001b[36mboys\u001b[39m: \u001b[32mArray\u001b[39m[\u001b[32mString\u001b[39m] = \u001b[33mArray\u001b[39m(\u001b[32m\"Jim\"\u001b[39m, \u001b[32m\"LiLei\"\u001b[39m, \u001b[32m\"DaChui\"\u001b[39m)\r\n",
       "\u001b[36mgirls\u001b[39m: \u001b[32mArray\u001b[39m[\u001b[32mString\u001b[39m] = \u001b[33mArray\u001b[39m(\u001b[32m\"Ann\"\u001b[39m, \u001b[32m\"XiaoHong\"\u001b[39m, \u001b[32m\"Lily\"\u001b[39m)\r\n",
       "\u001b[36mpairs\u001b[39m: \u001b[32mArray\u001b[39m[(\u001b[32mString\u001b[39m, \u001b[32mString\u001b[39m)] = \u001b[33mArray\u001b[39m(\n",
       "  (\u001b[32m\"Jim\"\u001b[39m, \u001b[32m\"Ann\"\u001b[39m),\n",
       "  (\u001b[32m\"Jim\"\u001b[39m, \u001b[32m\"XiaoHong\"\u001b[39m),\n",
       "  (\u001b[32m\"Jim\"\u001b[39m, \u001b[32m\"Lily\"\u001b[39m),\n",
       "  (\u001b[32m\"LiLei\"\u001b[39m, \u001b[32m\"Ann\"\u001b[39m),\n",
       "  (\u001b[32m\"LiLei\"\u001b[39m, \u001b[32m\"XiaoHong\"\u001b[39m),\n",
       "  (\u001b[32m\"LiLei\"\u001b[39m, \u001b[32m\"Lily\"\u001b[39m),\n",
       "  (\u001b[32m\"DaChui\"\u001b[39m, \u001b[32m\"Ann\"\u001b[39m),\n",
       "  (\u001b[32m\"DaChui\"\u001b[39m, \u001b[32m\"XiaoHong\"\u001b[39m),\n",
       "  (\u001b[32m\"DaChui\"\u001b[39m, \u001b[32m\"Lily\"\u001b[39m)\n",
       ")"
      ]
     },
     "execution_count": 20,
     "metadata": {},
     "output_type": "execute_result"
    }
   ],
   "source": [
    "//for推导式 \n",
    "//可以将生成器放在花括号中\n",
    "val boys = Array(\"Jim\",\"LiLei\",\"DaChui\")\n",
    "val girls = Array(\"Ann\",\"XiaoHong\",\"Lily\")\n",
    "val pairs = for{\n",
    "    b<-boys\n",
    "    g<-girls\n",
    "    pair = (b,g)\n",
    "} yield pair\n"
   ]
  },
  {
   "cell_type": "markdown",
   "metadata": {},
   "source": [
    "### 十六，异常捕获"
   ]
  },
  {
   "cell_type": "markdown",
   "metadata": {},
   "source": [
    "异常捕获的语句是 try...catch...finally...\n",
    "\n",
    "此外还可以用throw抛出异常\n",
    "\n",
    "如：throw new IllegalArgumentException"
   ]
  },
  {
   "cell_type": "code",
   "execution_count": 2,
   "metadata": {},
   "outputs": [
    {
     "name": "stdout",
     "output_type": "stream",
     "text": [
      "Missing file exception\n",
      "Exiting finally...\n"
     ]
    },
    {
     "data": {
      "text/plain": [
       "\u001b[32mimport \u001b[39m\u001b[36mjava.io.FileReader\r\n",
       "\u001b[39m\r\n",
       "\u001b[32mimport \u001b[39m\u001b[36mjava.io.FileNotFoundException\r\n",
       "\u001b[39m\r\n",
       "\u001b[32mimport \u001b[39m\u001b[36mjava.io.IOException\r\n",
       "\r\n",
       "\u001b[39m\r\n",
       "defined \u001b[32mobject\u001b[39m \u001b[36mTest\u001b[39m"
      ]
     },
     "execution_count": 2,
     "metadata": {},
     "output_type": "execute_result"
    }
   ],
   "source": [
    "import java.io.FileReader\n",
    "import java.io.FileNotFoundException\n",
    "import java.io.IOException\n",
    "\n",
    "object Test {\n",
    "   def main(args: Array[String]) {\n",
    "      try {\n",
    "         val f = new FileReader(\"input.txt\")\n",
    "      } catch {\n",
    "         case ex: FileNotFoundException => {\n",
    "            println(\"Missing file exception\")\n",
    "         }\n",
    "         case ex: IOException => {\n",
    "            println(\"IO Exception\")\n",
    "         }\n",
    "      } finally {\n",
    "         println(\"Exiting finally...\")\n",
    "      }\n",
    "   }\n",
    "}\n",
    "\n",
    "Test.main(Array(\"123\"))"
   ]
  },
  {
   "cell_type": "code",
   "execution_count": null,
   "metadata": {},
   "outputs": [],
   "source": []
  },
  {
   "cell_type": "markdown",
   "metadata": {},
   "source": [
    "### 十七，函数定义"
   ]
  },
  {
   "cell_type": "raw",
   "metadata": {},
   "source": [
    "scala中的函数可以通过关键字def定义或者使用匿名函数。\n",
    "此处介绍def定义函数的语法。\n",
    "\n",
    "def functionName(args list):[return type] = {\n",
    "   function body\n",
    "   return expr\n",
    "}\n",
    "\n",
    "当函数的输出类型可以推断时，可以省去 :[return type]= ."
   ]
  },
  {
   "cell_type": "code",
   "execution_count": 12,
   "metadata": {},
   "outputs": [
    {
     "data": {
      "text/plain": [
       "defined \u001b[32mfunction\u001b[39m \u001b[36mmy_abs\u001b[39m\r\n",
       "\u001b[36mres11_1\u001b[39m: \u001b[32mDouble\u001b[39m = \u001b[32m2.0\u001b[39m"
      ]
     },
     "execution_count": 12,
     "metadata": {},
     "output_type": "execute_result"
    }
   ],
   "source": [
    "//完整定义的函数\n",
    "def my_abs(arg:Double):Double = {\n",
    "    if(arg>0) arg else -arg\n",
    "}\n",
    "\n",
    "my_abs(-2.0)"
   ]
  },
  {
   "cell_type": "code",
   "execution_count": 22,
   "metadata": {},
   "outputs": [
    {
     "data": {
      "text/plain": [
       "defined \u001b[32mfunction\u001b[39m \u001b[36mmy_abs\u001b[39m"
      ]
     },
     "execution_count": 22,
     "metadata": {},
     "output_type": "execute_result"
    }
   ],
   "source": [
    "//当函数的输出类型可以推断时，可以省去 :[return type]=\n",
    "def my_abs(arg:Double) {\n",
    "    if(arg>0) arg else -arg\n",
    "}\n",
    "my_abs(-2.0)"
   ]
  },
  {
   "cell_type": "code",
   "execution_count": 18,
   "metadata": {},
   "outputs": [
    {
     "name": "stdout",
     "output_type": "stream",
     "text": [
      "Hello, Scala!\r\n"
     ]
    },
    {
     "data": {
      "text/plain": [
       "defined \u001b[32mfunction\u001b[39m \u001b[36mprintMe\u001b[39m"
      ]
     },
     "execution_count": 18,
     "metadata": {},
     "output_type": "execute_result"
    }
   ],
   "source": [
    "//没有返回值的函数,可以用Unit作为返回值类型\n",
    "def printMe():Unit = {\n",
    "  println(\"Hello, Scala!\")\n",
    "}\n",
    "printMe"
   ]
  },
  {
   "cell_type": "code",
   "execution_count": 24,
   "metadata": {},
   "outputs": [
    {
     "data": {
      "text/plain": [
       "defined \u001b[32mfunction\u001b[39m \u001b[36maddInt\u001b[39m\r\n",
       "\u001b[36mres23_1\u001b[39m: \u001b[32mInt\u001b[39m = \u001b[32m12\u001b[39m"
      ]
     },
     "execution_count": 24,
     "metadata": {},
     "output_type": "execute_result"
    }
   ],
   "source": [
    "//使用默认参数\n",
    "def addInt( a:Int=5, b:Int=7 ):Int = {\n",
    "      var sum:Int = a + b\n",
    "      return sum\n",
    "}\n",
    "addInt()"
   ]
  },
  {
   "cell_type": "code",
   "execution_count": 27,
   "metadata": {},
   "outputs": [
    {
     "name": "stdout",
     "output_type": "stream",
     "text": [
      "hello\n",
      "world\n",
      "scala\n"
     ]
    },
    {
     "data": {
      "text/plain": [
       "defined \u001b[32mfunction\u001b[39m \u001b[36mprintStrings\u001b[39m"
      ]
     },
     "execution_count": 27,
     "metadata": {},
     "output_type": "execute_result"
    }
   ],
   "source": [
    "//使用可变参数\n",
    "def printStrings(args:String* ) {\n",
    "      for( arg <- args )println(arg )\n",
    "      }\n",
    "\n",
    "printStrings(\"hello\",\"world\",\"scala\")"
   ]
  },
  {
   "cell_type": "code",
   "execution_count": 20,
   "metadata": {},
   "outputs": [
    {
     "name": "stdout",
     "output_type": "stream",
     "text": [
      "Value of a : 7\n",
      "Value of b : 5\n"
     ]
    },
    {
     "data": {
      "text/plain": [
       "defined \u001b[32mobject\u001b[39m \u001b[36mTest\u001b[39m"
      ]
     },
     "execution_count": 20,
     "metadata": {},
     "output_type": "execute_result"
    }
   ],
   "source": [
    "//调用函数时指定参数名\n",
    "\n",
    "object Test {\n",
    "   def main(){\n",
    "        printInt(b=5, a=7);\n",
    "   }\n",
    "   def printInt( a:Int, b:Int ) = {\n",
    "      println(\"Value of a : \" + a );\n",
    "      println(\"Value of b : \" + b );\n",
    "   }\n",
    "}\n",
    "\n",
    "Test.main()"
   ]
  },
  {
   "cell_type": "code",
   "execution_count": 30,
   "metadata": {},
   "outputs": [
    {
     "data": {
      "text/plain": [
       "defined \u001b[32mfunction\u001b[39m \u001b[36mfactorial\u001b[39m\r\n",
       "\u001b[36mres29_1\u001b[39m: \u001b[32mBigInt\u001b[39m = 2432902008176640000"
      ]
     },
     "execution_count": 30,
     "metadata": {},
     "output_type": "execute_result"
    }
   ],
   "source": [
    "//递归函数\n",
    "\n",
    "def factorial(n: BigInt):BigInt = {  \n",
    "      if (n <= 1) 1  else n * factorial(n - 1)\n",
    "   }\n",
    "\n",
    "factorial(20)"
   ]
  },
  {
   "cell_type": "code",
   "execution_count": null,
   "metadata": {},
   "outputs": [],
   "source": []
  },
  {
   "cell_type": "markdown",
   "metadata": {},
   "source": [
    "### 十八，匿名函数\n"
   ]
  },
  {
   "cell_type": "markdown",
   "metadata": {},
   "source": [
    "scala中的函数是一等公民，可以像变量一样定义和使用。\n",
    "\n",
    "和变量一样，函数具有类型和值。\n",
    "\n",
    "函数的类型是函数的参数和返回值的类型映射关系，\n",
    "如 Int => Unit , (Array[Int],String) => Int 。\n",
    "\n",
    "函数的值是函数的参数和返回值的取值映射关系，\n",
    "如 x => x+1  x,y => x+y 。\n",
    "\n",
    "使用这种方式声明的函数叫做匿名函数。\n",
    "\n",
    "此外，当函数表达式中引用了非参数的变量时，这种函数叫做闭包。\n",
    "\n",
    "闭包的特性是每次调用它时都会将外部的开放的变量封闭成局部值。\n",
    "\n",
    "闭包的返回值受外部变量取值变化的影响。"
   ]
  },
  {
   "cell_type": "code",
   "execution_count": 36,
   "metadata": {},
   "outputs": [
    {
     "data": {
      "text/plain": [
       "\u001b[36mf\u001b[39m: \u001b[32mInt\u001b[39m => \u001b[32mInt\u001b[39m = <function1>\r\n",
       "\u001b[36mres35_1\u001b[39m: \u001b[32mInt\u001b[39m = \u001b[32m3\u001b[39m"
      ]
     },
     "execution_count": 36,
     "metadata": {},
     "output_type": "execute_result"
    }
   ],
   "source": [
    "//完整定义\n",
    "//val f:(Int=>Int) = ((x:Int)=> x+1)\n",
    "val f:Int=>Int = (x:Int) => x+1\n",
    "f(2)"
   ]
  },
  {
   "cell_type": "code",
   "execution_count": 39,
   "metadata": {},
   "outputs": [
    {
     "data": {
      "text/plain": [
       "\u001b[36mf\u001b[39m: \u001b[32mInt\u001b[39m => \u001b[32mInt\u001b[39m = <function1>\r\n",
       "\u001b[36mres38_1\u001b[39m: \u001b[32mInt\u001b[39m = \u001b[32m3\u001b[39m"
      ]
     },
     "execution_count": 39,
     "metadata": {},
     "output_type": "execute_result"
    }
   ],
   "source": [
    "//可以推断函数类型，予以省略\n",
    "val f = (x:Int) => x+1\n",
    "f(2)"
   ]
  },
  {
   "cell_type": "code",
   "execution_count": 41,
   "metadata": {},
   "outputs": [
    {
     "data": {
      "text/plain": [
       "\u001b[36mres40\u001b[39m: \u001b[32mInt\u001b[39m = \u001b[32m3\u001b[39m"
      ]
     },
     "execution_count": 41,
     "metadata": {},
     "output_type": "execute_result"
    }
   ],
   "source": [
    "//可以省略函数名,匿名函数\n",
    "((x:Int) => x+1)(2)"
   ]
  },
  {
   "cell_type": "code",
   "execution_count": 42,
   "metadata": {},
   "outputs": [
    {
     "data": {
      "text/plain": [
       "\u001b[36mres41\u001b[39m: \u001b[32mInt\u001b[39m = \u001b[32m3\u001b[39m"
      ]
     },
     "execution_count": 42,
     "metadata": {},
     "output_type": "execute_result"
    }
   ],
   "source": [
    "//可以进一步用占位符代替参数\n",
    "((_:Int) + 1)(2)"
   ]
  },
  {
   "cell_type": "code",
   "execution_count": 43,
   "metadata": {},
   "outputs": [
    {
     "data": {
      "text/plain": [
       "\u001b[36mres42\u001b[39m: \u001b[32mInt\u001b[39m = \u001b[32m3\u001b[39m"
      ]
     },
     "execution_count": 43,
     "metadata": {},
     "output_type": "execute_result"
    }
   ],
   "source": [
    "//每个参数依次填充占位符位置\n",
    "((_:Int)+(_:Int))(1,2)\n"
   ]
  },
  {
   "cell_type": "code",
   "execution_count": 46,
   "metadata": {},
   "outputs": [
    {
     "name": "stdout",
     "output_type": "stream",
     "text": [
      "4\n",
      "5\n"
     ]
    },
    {
     "data": {
      "text/plain": [
       "\u001b[36ma\u001b[39m: \u001b[32mInt\u001b[39m = \u001b[32m2\u001b[39m\r\n",
       "\u001b[36mf\u001b[39m: \u001b[32mInt\u001b[39m => \u001b[32mInt\u001b[39m = <function1>"
      ]
     },
     "execution_count": 46,
     "metadata": {},
     "output_type": "execute_result"
    }
   ],
   "source": [
    "//闭包示范\n",
    "var a = 1\n",
    "val f = (x:Int)=> x+a\n",
    "println(f(3))\n",
    "\n",
    "a = 2\n",
    "println(f(3))"
   ]
  },
  {
   "cell_type": "code",
   "execution_count": null,
   "metadata": {},
   "outputs": [],
   "source": []
  },
  {
   "cell_type": "markdown",
   "metadata": {},
   "source": [
    "### 十九，高阶函数"
   ]
  },
  {
   "cell_type": "markdown",
   "metadata": {},
   "source": [
    "scala支持非常强大的函数式编程风格。\n",
    "\n",
    "函数式编程风格的特点不显式使用循环，而是利用高阶函数调用普通函数在数据上进行遍历操作。\n",
    "\n",
    "高阶函数即可以传入函数作为其参数的函数。\n",
    "\n",
    "scala的Array和容器中的各种数据结构内置有非常丰富的高阶函数。\n",
    "\n",
    "常用的包括:map,flatMap,filter,foreach,forall,reduce,fold 。"
   ]
  },
  {
   "cell_type": "code",
   "execution_count": 50,
   "metadata": {},
   "outputs": [
    {
     "data": {
      "text/plain": [
       "\u001b[36marr\u001b[39m: \u001b[32mArray\u001b[39m[\u001b[32mInt\u001b[39m] = \u001b[33mArray\u001b[39m(\u001b[32m1\u001b[39m, \u001b[32m2\u001b[39m, \u001b[32m3\u001b[39m)\r\n",
       "\u001b[36mres49_1\u001b[39m: \u001b[32mArray\u001b[39m[\u001b[32mInt\u001b[39m] = \u001b[33mArray\u001b[39m(\u001b[32m2\u001b[39m, \u001b[32m4\u001b[39m, \u001b[32m6\u001b[39m)"
      ]
     },
     "execution_count": 50,
     "metadata": {},
     "output_type": "execute_result"
    }
   ],
   "source": [
    "//map 遍历作用 代替for推导式\n",
    "val arr = Array(1,2,3)\n",
    "arr.map(x=>x*2) "
   ]
  },
  {
   "cell_type": "code",
   "execution_count": 52,
   "metadata": {},
   "outputs": [
    {
     "data": {
      "text/plain": [
       "\u001b[36mstrlist\u001b[39m: \u001b[32mList\u001b[39m[\u001b[32mString\u001b[39m] = \u001b[33mList\u001b[39m(\u001b[32m\"hello world\"\u001b[39m, \u001b[32m\"hello China\"\u001b[39m)\r\n",
       "\u001b[36mres51_1\u001b[39m: \u001b[32mList\u001b[39m[\u001b[32mString\u001b[39m] = \u001b[33mList\u001b[39m(\u001b[32m\"hello\"\u001b[39m, \u001b[32m\"world\"\u001b[39m, \u001b[32m\"hello\"\u001b[39m, \u001b[32m\"China\"\u001b[39m)"
      ]
     },
     "execution_count": 52,
     "metadata": {},
     "output_type": "execute_result"
    }
   ],
   "source": [
    "//flatMap 遍历作用并压平\n",
    "val strlist = List(\"hello world\",\"hello China\")\n",
    "strlist.flatMap(x => x.split(\" \"))"
   ]
  },
  {
   "cell_type": "code",
   "execution_count": 53,
   "metadata": {},
   "outputs": [
    {
     "data": {
      "text/plain": [
       "\u001b[36ms\u001b[39m: \u001b[32mSet\u001b[39m[\u001b[32mString\u001b[39m] = \u001b[33mSet\u001b[39m(\u001b[32m\"haha\"\u001b[39m, \u001b[32m\"hehe\"\u001b[39m, \u001b[32m\"xixi\"\u001b[39m, \u001b[32m\"wuwu\"\u001b[39m)\r\n",
       "\u001b[36mres52_1\u001b[39m: \u001b[32mSet\u001b[39m[\u001b[32mString\u001b[39m] = \u001b[33mSet\u001b[39m(\u001b[32m\"haha\"\u001b[39m, \u001b[32m\"hehe\"\u001b[39m)"
      ]
     },
     "execution_count": 53,
     "metadata": {},
     "output_type": "execute_result"
    }
   ],
   "source": [
    "//filter过滤\n",
    "val s = Set(\"haha\",\"hehe\",\"xixi\",\"wuwu\")\n",
    "s.filter(_.contains(\"h\"))"
   ]
  },
  {
   "cell_type": "code",
   "execution_count": 64,
   "metadata": {},
   "outputs": [
    {
     "name": "stdout",
     "output_type": "stream",
     "text": [
      "BEIJING\n",
      "SHANGHAI\n",
      "XIAN\n"
     ]
    },
    {
     "data": {
      "text/plain": [
       "\u001b[36md\u001b[39m: \u001b[32mMap\u001b[39m[\u001b[32mString\u001b[39m, \u001b[32mString\u001b[39m] = \u001b[33mMap\u001b[39m(\u001b[32m\"BEIJING\"\u001b[39m -> \u001b[32m\"BJ\"\u001b[39m, \u001b[32m\"SHANGHAI\"\u001b[39m -> \u001b[32m\"SH\"\u001b[39m, \u001b[32m\"XIAN\"\u001b[39m -> \u001b[32m\"XA\"\u001b[39m)"
      ]
     },
     "execution_count": 64,
     "metadata": {},
     "output_type": "execute_result"
    }
   ],
   "source": [
    "//foreach 无返回值 代替for循环\n",
    "val d = Map(\"BEIJING\"->\"BJ\",\"SHANGHAI\"->\"SH\",\"XIAN\"->\"XA\")\n",
    "//d.foreach(println)\n",
    "d.foreach(t=>println(t._1))"
   ]
  },
  {
   "cell_type": "code",
   "execution_count": 67,
   "metadata": {},
   "outputs": [
    {
     "data": {
      "text/plain": [
       "\u001b[36mvec\u001b[39m: \u001b[32mRange\u001b[39m.\u001b[32mInclusive\u001b[39m = \u001b[33mRange\u001b[39m(\u001b[32m-1\u001b[39m, \u001b[32m0\u001b[39m, \u001b[32m1\u001b[39m, \u001b[32m2\u001b[39m, \u001b[32m3\u001b[39m, \u001b[32m4\u001b[39m, \u001b[32m5\u001b[39m, \u001b[32m6\u001b[39m, \u001b[32m7\u001b[39m, \u001b[32m8\u001b[39m, \u001b[32m9\u001b[39m, \u001b[32m10\u001b[39m)\r\n",
       "\u001b[36mres66_1\u001b[39m: \u001b[32mBoolean\u001b[39m = \u001b[32mfalse\u001b[39m"
      ]
     },
     "execution_count": 67,
     "metadata": {},
     "output_type": "execute_result"
    }
   ],
   "source": [
    "//forall 测试是否全部满足条件\n",
    "val vec = -1 to 10\n",
    "vec.forall(_>0)\n"
   ]
  },
  {
   "cell_type": "code",
   "execution_count": 72,
   "metadata": {},
   "outputs": [
    {
     "data": {
      "text/plain": [
       "\u001b[36marr\u001b[39m: \u001b[32mArray\u001b[39m[\u001b[32mInt\u001b[39m] = \u001b[33mArray\u001b[39m(\u001b[32m1\u001b[39m, \u001b[32m2\u001b[39m, \u001b[32m3\u001b[39m, \u001b[32m4\u001b[39m, \u001b[32m5\u001b[39m)\r\n",
       "\u001b[36mres71_1\u001b[39m: \u001b[32mInt\u001b[39m = \u001b[32m15\u001b[39m\r\n",
       "\u001b[36mres71_2\u001b[39m: \u001b[32mInt\u001b[39m = \u001b[32m15\u001b[39m"
      ]
     },
     "execution_count": 72,
     "metadata": {},
     "output_type": "execute_result"
    }
   ],
   "source": [
    "//reduce 归约\n",
    "val arr = Array(1,2,3,4,5)\n",
    "arr.reduce(_+_)\n",
    "arr.reduceLeft(_+_)"
   ]
  },
  {
   "cell_type": "code",
   "execution_count": 73,
   "metadata": {},
   "outputs": [
    {
     "data": {
      "text/plain": [
       "\u001b[36marr\u001b[39m: \u001b[32mArray\u001b[39m[\u001b[32mInt\u001b[39m] = \u001b[33mArray\u001b[39m(\u001b[32m1\u001b[39m, \u001b[32m2\u001b[39m, \u001b[32m3\u001b[39m, \u001b[32m4\u001b[39m, \u001b[32m5\u001b[39m)\r\n",
       "\u001b[36mres72_1\u001b[39m: \u001b[32mInt\u001b[39m = \u001b[32m1200\u001b[39m"
      ]
     },
     "execution_count": 73,
     "metadata": {},
     "output_type": "execute_result"
    }
   ],
   "source": [
    "//fold 和reduce相似,只是要传入第一个参数\n",
    "val arr = Array(1,2,3,4,5)\n",
    "arr.fold(10)(_*_)"
   ]
  },
  {
   "cell_type": "code",
   "execution_count": null,
   "metadata": {},
   "outputs": [],
   "source": []
  },
  {
   "cell_type": "markdown",
   "metadata": {},
   "source": [
    "### 二十，类的定义\n",
    "\n"
   ]
  },
  {
   "cell_type": "markdown",
   "metadata": {},
   "source": [
    "scala中用关键字class定义普通类,用abstract class定义抽象类，用case class定义样例类,用object 定义单例对象，用trait定义特质。\n",
    "\n",
    "我们先看普通类的定义和实例化。\n",
    "\n",
    "类的定义中可以用private声明为私有属性和私有方法，只允许在类的作用域访问，不允许在类的外部访问。\n",
    "\n",
    "可以用protected声明为受保护的属性和方法，只允许在类作用域及其子类作用域中访问。\n",
    "\n",
    "其余属性和方法默认为公有属性和公有方法，可以在类的作用域外访问。\n",
    "\n",
    "此外还可以在private或protected后面用方括号加上作用域保护，表示方括号中的类和对象不受访问限制。\n"
   ]
  },
  {
   "cell_type": "code",
   "execution_count": null,
   "metadata": {},
   "outputs": [],
   "source": []
  },
  {
   "cell_type": "code",
   "execution_count": 89,
   "metadata": {},
   "outputs": [
    {
     "data": {
      "text/plain": [
       "defined \u001b[32mclass\u001b[39m \u001b[36mCounter\u001b[39m"
      ]
     },
     "execution_count": 89,
     "metadata": {},
     "output_type": "execute_result"
    }
   ],
   "source": [
    "//一个计数器类范例\n",
    "class Counter{\n",
    "    private var value = 0\n",
    "    def increment(){value += 1}\n",
    "    def current() {value}\n",
    "\n",
    "}"
   ]
  },
  {
   "cell_type": "code",
   "execution_count": 88,
   "metadata": {},
   "outputs": [
    {
     "data": {
      "text/plain": [
       "\u001b[36mmyCounter\u001b[39m: \u001b[32mCounter\u001b[39m = $sess.cmd86Wrapper$Helper$Counter@242361ed"
      ]
     },
     "execution_count": 88,
     "metadata": {},
     "output_type": "execute_result"
    }
   ],
   "source": [
    "val myCounter = new Counter\n",
    "myCounter.increment()\n",
    "myCounter.current"
   ]
  },
  {
   "cell_type": "code",
   "execution_count": 110,
   "metadata": {},
   "outputs": [
    {
     "data": {
      "text/plain": [
       "defined \u001b[32mclass\u001b[39m \u001b[36mDog\u001b[39m"
      ]
     },
     "execution_count": 110,
     "metadata": {},
     "output_type": "execute_result"
    }
   ],
   "source": [
    "//Dog类的范例\n",
    "class Dog(n:String,w:Double,b:String,a:Int){\n",
    "    var name = n\n",
    "    var breed  = b\n",
    "    private var weight = w\n",
    "    private var age = a\n",
    "    \n",
    "    def run(){\n",
    "        println(name + \" is running...\")\n",
    "    }\n",
    "    \n",
    "    def bark(){\n",
    "        println(\"Bowwow,Bowwow,Bowwow...\")\n",
    "    }\n",
    "    def sleep(){\n",
    "        println(\"Zzz...Zzz...Zzz...\")\n",
    "    }\n",
    "    def eat(food:String){\n",
    "        printf( \"%s is eatting %s...\\n\",name,food)\n",
    "    }\n",
    "    private def think(){\n",
    "        println(\"I feel myself a hero and very handsome !\")\n",
    "    }\n",
    "    def speak(words:String = \"\"){\n",
    "        think()\n",
    "        println(words)\n",
    "    }\n",
    "}"
   ]
  },
  {
   "cell_type": "code",
   "execution_count": 111,
   "metadata": {},
   "outputs": [
    {
     "name": "stdout",
     "output_type": "stream",
     "text": [
      "snoopy is running...\n",
      "snoopy is eatting fish...\n",
      "I feel myself a hero and very handsome !\n",
      "hahaha\n"
     ]
    },
    {
     "data": {
      "text/plain": [
       "\u001b[36msnoopy\u001b[39m: \u001b[32mDog\u001b[39m = $sess.cmd109Wrapper$Helper$Dog@13bbb477\r\n",
       "\u001b[36mres110_1\u001b[39m: \u001b[32mString\u001b[39m = \u001b[32m\"snoopy\"\u001b[39m"
      ]
     },
     "execution_count": 111,
     "metadata": {},
     "output_type": "execute_result"
    }
   ],
   "source": [
    "val snoopy = new Dog(\"snoopy\",12.6,\"Husky\",6)\n",
    "snoopy.name\n",
    "snoopy.run()\n",
    "snoopy.eat(\"fish\")\n",
    "snoopy.speak(\"hahaha\")"
   ]
  },
  {
   "cell_type": "code",
   "execution_count": 115,
   "metadata": {},
   "outputs": [
    {
     "name": "stderr",
     "output_type": "stream",
     "text": [
      "cmd115.sc:1: not found: value Dog\r\n",
      "val res115 = Dog\r\n",
      "             ^"
     ]
    },
    {
     "ename": "",
     "evalue": "",
     "output_type": "error",
     "traceback": [
      "Compilation Failed"
     ]
    }
   ],
   "source": [
    "Dog"
   ]
  },
  {
   "cell_type": "code",
   "execution_count": 117,
   "metadata": {},
   "outputs": [
    {
     "data": {
      "text/plain": [
       "\u001b[36mres116_0\u001b[39m: \u001b[32mClass\u001b[39m[\u001b[32m?0\u001b[39m] = class $sess.cmd109Wrapper$Helper$Dog\r\n",
       "\u001b[36mres116_1\u001b[39m: \u001b[32mString\u001b[39m = \u001b[32m\"Dog\"\u001b[39m\r\n",
       "\u001b[36mres116_2\u001b[39m: \u001b[32mBoolean\u001b[39m = \u001b[32mtrue\u001b[39m"
      ]
     },
     "execution_count": 117,
     "metadata": {},
     "output_type": "execute_result"
    }
   ],
   "source": [
    "//获取对象信息\n",
    "snoopy.getClass()\n",
    "snoopy.getClass().getSimpleName()\n",
    "snoopy.isInstanceOf[Dog]\n"
   ]
  },
  {
   "cell_type": "code",
   "execution_count": null,
   "metadata": {},
   "outputs": [],
   "source": []
  },
  {
   "cell_type": "markdown",
   "metadata": {},
   "source": [
    "### 二十一，getter和setter"
   ]
  },
  {
   "cell_type": "markdown",
   "metadata": {},
   "source": [
    "私有属性可以通过getter和setter方法比较安全地访问和修改。"
   ]
  },
  {
   "cell_type": "code",
   "execution_count": 129,
   "metadata": {},
   "outputs": [
    {
     "data": {
      "text/plain": [
       "defined \u001b[32mclass\u001b[39m \u001b[36mCounter\u001b[39m"
      ]
     },
     "execution_count": 129,
     "metadata": {},
     "output_type": "execute_result"
    }
   ],
   "source": [
    "//getter方法通过定义无参数的方法实现\n",
    "//setter方法通过定义带参数的命名中有下划线的方法实现\n",
    "class Counter{\n",
    "    private var privatevalue = 0\n",
    "    def value = {privatevalue}\n",
    "    def value_= (newValue:Int){\n",
    "        if(newValue>0)privatevalue = newValue\n",
    "    }\n",
    "    def increment(){privatevalue += 1}\n",
    "}\n"
   ]
  },
  {
   "cell_type": "code",
   "execution_count": 134,
   "metadata": {},
   "outputs": [
    {
     "data": {
      "text/plain": [
       "\u001b[36mmyCounter\u001b[39m: \u001b[32mCounter\u001b[39m = $sess.cmd128Wrapper$Helper$Counter@353c4fc5\r\n",
       "\u001b[36mres133_2\u001b[39m: \u001b[32mInt\u001b[39m = \u001b[32m1\u001b[39m\r\n",
       "\u001b[36mres133_4\u001b[39m: \u001b[32mInt\u001b[39m = \u001b[32m1\u001b[39m\r\n",
       "\u001b[36mres133_6\u001b[39m: \u001b[32mInt\u001b[39m = \u001b[32m4\u001b[39m"
      ]
     },
     "execution_count": 134,
     "metadata": {},
     "output_type": "execute_result"
    }
   ],
   "source": [
    "val myCounter = new Counter\n",
    "myCounter.increment\n",
    "myCounter.value\n",
    "myCounter.value = -1\n",
    "myCounter.value\n",
    "myCounter.value = 4\n",
    "myCounter.value"
   ]
  },
  {
   "cell_type": "markdown",
   "metadata": {},
   "source": [
    "### 二十二，构造器"
   ]
  },
  {
   "cell_type": "markdown",
   "metadata": {},
   "source": [
    "scala的类包括一个主构造器和若干个(0个或多个)辅助构造器。\n",
    "\n",
    "主构造器即定义类时传参并用来初始化对象属性的构造器，它是隐含的。\n",
    "\n",
    "辅助构造器的名称为this，每个辅助构造器都必须调用一个此前已经定义好的主构造器或辅助构造器。"
   ]
  },
  {
   "cell_type": "code",
   "execution_count": 148,
   "metadata": {},
   "outputs": [
    {
     "data": {
      "text/plain": [
       "defined \u001b[32mclass\u001b[39m \u001b[36mCounter\u001b[39m\r\n",
       "\u001b[36mmyCounter1\u001b[39m: \u001b[32mwrapper\u001b[39m.\u001b[32mwrapper\u001b[39m.\u001b[32mCounter\u001b[39m = $sess.cmd147Wrapper$Helper$Counter@7f5aa87c\r\n",
       "\u001b[36mres147_2\u001b[39m: \u001b[32mString\u001b[39m = \u001b[32m\"\"\u001b[39m\r\n",
       "\u001b[36mmyCounter2\u001b[39m: \u001b[32mwrapper\u001b[39m.\u001b[32mwrapper\u001b[39m.\u001b[32mCounter\u001b[39m = $sess.cmd147Wrapper$Helper$Counter@6a9acb5b\r\n",
       "\u001b[36mres147_4\u001b[39m: \u001b[32mString\u001b[39m = \u001b[32m\"Timer\"\u001b[39m\r\n",
       "\u001b[36mmyCounter3\u001b[39m: \u001b[32mwrapper\u001b[39m.\u001b[32mwrapper\u001b[39m.\u001b[32mCounter\u001b[39m = $sess.cmd147Wrapper$Helper$Counter@47c8b3b1\r\n",
       "\u001b[36mres147_6\u001b[39m: \u001b[32mString\u001b[39m = \u001b[32m\"Numer\"\u001b[39m\r\n",
       "\u001b[36mres147_7\u001b[39m: \u001b[32mInt\u001b[39m = \u001b[32m2\u001b[39m"
      ]
     },
     "execution_count": 148,
     "metadata": {},
     "output_type": "execute_result"
    }
   ],
   "source": [
    "//构造器范例\n",
    "class Counter(){\n",
    "    private var value = 0\n",
    "    var name = \"\"\n",
    "    var mode = 1\n",
    "    def this(name:String){\n",
    "        this()\n",
    "        this.name = name\n",
    "    }\n",
    "    def this(name:String,mode:Int){\n",
    "        this(name)\n",
    "        this.mode = mode\n",
    "    }\n",
    "    def increment(){value += 1}\n",
    "    def current() {value}\n",
    "}\n",
    "\n",
    "val myCounter1 = new Counter\n",
    "myCounter1.name\n",
    "val myCounter2 = new Counter(name=\"Timer\")\n",
    "myCounter2.name\n",
    "val myCounter3 = new Counter(name=\"Numer\",mode = 2)\n",
    "myCounter3.name\n",
    "myCounter3.mode\n"
   ]
  },
  {
   "cell_type": "code",
   "execution_count": null,
   "metadata": {},
   "outputs": [],
   "source": []
  },
  {
   "cell_type": "code",
   "execution_count": null,
   "metadata": {},
   "outputs": [],
   "source": []
  },
  {
   "cell_type": "code",
   "execution_count": null,
   "metadata": {},
   "outputs": [],
   "source": []
  },
  {
   "cell_type": "markdown",
   "metadata": {},
   "source": [
    "### 二十三，单例对象和伴生对象"
   ]
  },
  {
   "cell_type": "markdown",
   "metadata": {},
   "source": [
    "Object定义的对象为单例对象，可以直接使用无需实例化。\n",
    "\n",
    "如果在一个文件有一个Object和一个Class是同名的，那么这个Object称为这个Class的伴生对象，这个Class称为这个Object的伴生类。\n",
    "\n",
    "伴生对象和伴生类信息可以共享，它们的属性和方法对彼此都是透明的，实际上在编译的时候，会把它们编译成一个Java类，伴生对象定义了这个Java类的静态属性和静态方法。\n"
   ]
  },
  {
   "cell_type": "code",
   "execution_count": null,
   "metadata": {},
   "outputs": [],
   "source": []
  },
  {
   "cell_type": "code",
   "execution_count": 155,
   "metadata": {},
   "outputs": [
    {
     "name": "stdout",
     "output_type": "stream",
     "text": [
      "hello World\n",
      "hello China\n"
     ]
    },
    {
     "data": {
      "text/plain": [
       "defined \u001b[32mobject\u001b[39m \u001b[36mHello\u001b[39m"
      ]
     },
     "execution_count": 155,
     "metadata": {},
     "output_type": "execute_result"
    }
   ],
   "source": [
    "//单例对象\n",
    "object Hello{\n",
    "    var name = \"World\"\n",
    "    def main() = {\n",
    "        println(\"hello \" + name)\n",
    "    }\n",
    "}\n",
    "Hello.main()\n",
    "Hello.name = \"China\"\n",
    "Hello.main()"
   ]
  },
  {
   "cell_type": "code",
   "execution_count": 190,
   "metadata": {},
   "outputs": [
    {
     "name": "stdout",
     "output_type": "stream",
     "text": [
      "The id of LiLei is 1 \n",
      "The id of HanMeiMei is 2 \n"
     ]
    },
    {
     "data": {
      "text/plain": [
       "defined \u001b[32mclass\u001b[39m \u001b[36mPerson\u001b[39m\r\n",
       "defined \u001b[32mobject\u001b[39m \u001b[36mPerson\u001b[39m"
      ]
     },
     "execution_count": 190,
     "metadata": {},
     "output_type": "execute_result"
    }
   ],
   "source": [
    "//伴生对象和伴生类\n",
    "class Person{\n",
    "    private var Id = Person.newPersonId()\n",
    "    private var name = \"\"\n",
    "    def this(name:String){\n",
    "        this()\n",
    "        this.name = name\n",
    "    }\n",
    "    def info(){\n",
    "        printf(\"The id of %s is %d \\n\",name,Id)\n",
    "    }\n",
    "}\n",
    "\n",
    "object Person{\n",
    "    private var lastId:Int = 0\n",
    "    private def newPersonId():Int = {\n",
    "        lastId += 1\n",
    "        lastId\n",
    "    }\n",
    "    def main(){\n",
    "        val person1 = new Person(\"LiLei\")\n",
    "        val person2 = new Person(\"HanMeiMei\")\n",
    "        person1.info()\n",
    "        person2.info()\n",
    "    }\n",
    "}\n",
    "\n",
    "Person.main()"
   ]
  },
  {
   "cell_type": "code",
   "execution_count": null,
   "metadata": {},
   "outputs": [],
   "source": []
  },
  {
   "cell_type": "code",
   "execution_count": null,
   "metadata": {},
   "outputs": [],
   "source": []
  },
  {
   "cell_type": "markdown",
   "metadata": {},
   "source": [
    "### 二十四，继承和特征"
   ]
  },
  {
   "cell_type": "markdown",
   "metadata": {},
   "source": [
    "scala可以通过extends关键字指定从某个超类(父类)进行继承。\n",
    "\n",
    "只有主类的主构造器可以调用超类的主构造器。\n",
    "\n",
    "子类可以使用super引用超类的某个属性和方法。\n",
    "\n",
    "子类如果要重写超类的某个属性和方法，需要使用override关键字。\n",
    "\n",
    "除非超类的该属性和该方法为抽象方法，只有声明没有定义。\n",
    "\n",
    "如果某个类定义时被abstract声明为抽象类时，它可以被继承但是不能直接被实例化。\n",
    "\n",
    "和Python语言不同，scala每个类只能继承一个超类，为了实现多继承的功能，在指定一个超类的同时可以指定若干个trait特征进行继承。\n"
   ]
  },
  {
   "cell_type": "code",
   "execution_count": 223,
   "metadata": {},
   "outputs": [
    {
     "data": {
      "text/plain": [
       "defined \u001b[32mclass\u001b[39m \u001b[36mAnimal\u001b[39m"
      ]
     },
     "execution_count": 223,
     "metadata": {},
     "output_type": "execute_result"
    }
   ],
   "source": [
    "//抽象类 \n",
    "abstract class Animal(n:String){\n",
    "    \n",
    "    val name:String =n\n",
    "    val age:Int\n",
    "    var home = \"Earth\" \n",
    "    \n",
    "    def eat(food:String) //abstract method\n",
    "    \n",
    "    def sleep(){\n",
    "        println(\"Zzz...Zzz...Zzz...\")\n",
    "    }\n",
    "}"
   ]
  },
  {
   "cell_type": "code",
   "execution_count": 227,
   "metadata": {},
   "outputs": [
    {
     "data": {
      "text/plain": [
       "defined \u001b[32mclass\u001b[39m \u001b[36mCat\u001b[39m"
      ]
     },
     "execution_count": 227,
     "metadata": {},
     "output_type": "execute_result"
    }
   ],
   "source": [
    "//继承自上述抽象类\n",
    "class Cat(n:String,a:Int) extends Animal(n){\n",
    "    \n",
    "    override val age = a\n",
    "    \n",
    "    override def eat(food:String){\n",
    "        printf(\"%s is eating %s...\\n\",name,food)\n",
    "    }\n",
    "    \n",
    "    override def sleep(){\n",
    "        printf(\"%s is sleeping ...\\n\",name)\n",
    "        super.sleep()\n",
    "    }\n",
    "}"
   ]
  },
  {
   "cell_type": "code",
   "execution_count": 235,
   "metadata": {},
   "outputs": [
    {
     "name": "stdout",
     "output_type": "stream",
     "text": [
      "Kitty\n",
      "Earth\n",
      "Kitty is eating fish...\n",
      "Kitty is sleeping ...\n",
      "Zzz...Zzz...Zzz...\n"
     ]
    },
    {
     "data": {
      "text/plain": [
       "\u001b[36mkitty\u001b[39m: \u001b[32mCat\u001b[39m = $sess.cmd226Wrapper$Helper$Cat@15ff28e8"
      ]
     },
     "execution_count": 235,
     "metadata": {},
     "output_type": "execute_result"
    }
   ],
   "source": [
    "val kitty = new Cat(\"Kitty\",10)\n",
    "\n",
    "println(kitty.name)\n",
    "println(kitty.home)\n",
    "kitty.eat(\"fish\")\n",
    "kitty.sleep()"
   ]
  },
  {
   "cell_type": "code",
   "execution_count": 251,
   "metadata": {},
   "outputs": [
    {
     "data": {
      "text/plain": [
       "defined \u001b[32mtrait\u001b[39m \u001b[36mFlyable\u001b[39m"
      ]
     },
     "execution_count": 251,
     "metadata": {},
     "output_type": "execute_result"
    }
   ],
   "source": [
    "//特征\n",
    "trait Flyable{\n",
    "    val fly_height:Int\n",
    "    def fly(){println(\"is flying...\")   \n",
    "    }\n",
    "}\n"
   ]
  },
  {
   "cell_type": "code",
   "execution_count": 252,
   "metadata": {},
   "outputs": [
    {
     "name": "stdout",
     "output_type": "stream",
     "text": [
      "Poly\n",
      "Zzz...Zzz...Zzz...\n",
      "Poly is eating bug...\n",
      "Poly is flying...\n",
      "3\n"
     ]
    },
    {
     "data": {
      "text/plain": [
       "defined \u001b[32mclass\u001b[39m \u001b[36mParrot\u001b[39m\r\n",
       "\u001b[36mpoly\u001b[39m: \u001b[32mwrapper\u001b[39m.\u001b[32mwrapper\u001b[39m.\u001b[32mParrot\u001b[39m = $sess.cmd251Wrapper$Helper$Parrot@6447b580"
      ]
     },
     "execution_count": 252,
     "metadata": {},
     "output_type": "execute_result"
    }
   ],
   "source": [
    "//同时继承超类和特征,如果有多个特征，用多个with连接\n",
    "class Parrot(n:String,a:Int,h:Int) extends Animal(n) with Flyable{\n",
    "    override val age = a\n",
    "    override val fly_height = h\n",
    "    override def eat(food:String){\n",
    "        printf(\"%s is eating %s...\\n\",name,food)\n",
    "    }\n",
    "    override def fly(){\n",
    "        print(name+\" \")\n",
    "        super.fly()\n",
    "    }\n",
    "}\n",
    "\n",
    "val poly = new Parrot(\"Poly\",3,3)\n",
    "\n",
    "\n",
    "println(poly.name)\n",
    "poly.sleep()\n",
    "poly.eat(\"bug\")\n",
    "poly.fly()\n",
    "println(poly.fly_height)\n"
   ]
  },
  {
   "cell_type": "code",
   "execution_count": null,
   "metadata": {},
   "outputs": [],
   "source": []
  },
  {
   "cell_type": "code",
   "execution_count": null,
   "metadata": {},
   "outputs": [],
   "source": []
  },
  {
   "cell_type": "markdown",
   "metadata": {},
   "source": [
    "### 二十五，apply,unapply和update方法"
   ]
  },
  {
   "cell_type": "markdown",
   "metadata": {},
   "source": [
    "当把对一个对象当做函数使用时，会自动调用它的apply方法。\n",
    "\n",
    "实践中我们一般用apply方法来构造对象，而无需用new声明一个对象,从而相当于一个语法糖。\n",
    "\n",
    "unapply方法是apply方法的逆方法，我们一般用它来从对象中反推得到其构造参数。\n",
    "\n",
    "unapply方法通常在模式匹配中会自动被使用。\n",
    "\n",
    "当把一个对象当做容器取其某个元素赋值时，会自动调用它的update方法。\n",
    "\n"
   ]
  },
  {
   "cell_type": "markdown",
   "metadata": {},
   "source": [
    "**1，内部范例**"
   ]
  },
  {
   "cell_type": "code",
   "execution_count": 259,
   "metadata": {},
   "outputs": [
    {
     "data": {
      "text/plain": [
       "\u001b[36marr\u001b[39m: \u001b[32mArray\u001b[39m[\u001b[32mInt\u001b[39m] = \u001b[33mArray\u001b[39m(\u001b[32m0\u001b[39m, \u001b[32m0\u001b[39m, \u001b[32m0\u001b[39m)"
      ]
     },
     "execution_count": 259,
     "metadata": {},
     "output_type": "execute_result"
    }
   ],
   "source": [
    "//new一个对象\n",
    "val arr = new Array[Int](3)"
   ]
  },
  {
   "cell_type": "code",
   "execution_count": 261,
   "metadata": {},
   "outputs": [
    {
     "data": {
      "text/plain": [
       "\u001b[36marr\u001b[39m: \u001b[32mArray\u001b[39m[\u001b[32mInt\u001b[39m] = \u001b[33mArray\u001b[39m(\u001b[32m1\u001b[39m, \u001b[32m2\u001b[39m, \u001b[32m3\u001b[39m)"
      ]
     },
     "execution_count": 261,
     "metadata": {},
     "output_type": "execute_result"
    }
   ],
   "source": [
    "//隐式调用apply方法构造一个对象,工厂方法\n",
    "val arr = Array(1,2,3)"
   ]
  },
  {
   "cell_type": "code",
   "execution_count": 263,
   "metadata": {},
   "outputs": [
    {
     "data": {
      "text/plain": [
       "\u001b[36marr\u001b[39m: \u001b[32mArray\u001b[39m[\u001b[32mInt\u001b[39m] = \u001b[33mArray\u001b[39m(\u001b[32m1\u001b[39m, \u001b[32m2\u001b[39m, \u001b[32m3\u001b[39m)"
      ]
     },
     "execution_count": 263,
     "metadata": {},
     "output_type": "execute_result"
    }
   ],
   "source": [
    "//显式调用apply方法构造一个对象\n",
    "val arr = Array.apply(1,2,3)"
   ]
  },
  {
   "cell_type": "code",
   "execution_count": 291,
   "metadata": {},
   "outputs": [],
   "source": [
    "//隐式调用update方法\n",
    "arr(0) = 2"
   ]
  },
  {
   "cell_type": "code",
   "execution_count": 293,
   "metadata": {},
   "outputs": [
    {
     "data": {
      "text/plain": [
       "\u001b[36mres292_1\u001b[39m: \u001b[32mArray\u001b[39m[\u001b[32mInt\u001b[39m] = \u001b[33mArray\u001b[39m(\u001b[32m2\u001b[39m, \u001b[32m2\u001b[39m, \u001b[32m3\u001b[39m)"
      ]
     },
     "execution_count": 293,
     "metadata": {},
     "output_type": "execute_result"
    }
   ],
   "source": [
    "//显式调用update方法\n",
    "arr.update(2,3)\n",
    "arr"
   ]
  },
  {
   "cell_type": "markdown",
   "metadata": {},
   "source": [
    "**2，apply演示**"
   ]
  },
  {
   "cell_type": "code",
   "execution_count": 285,
   "metadata": {},
   "outputs": [
    {
     "name": "stdout",
     "output_type": "stream",
     "text": [
      "RMB\n",
      "80.0\n",
      "RMB 12.0\n",
      "USD 80.0\n"
     ]
    },
    {
     "data": {
      "text/plain": [
       "defined \u001b[32mclass\u001b[39m \u001b[36mMoney\u001b[39m\r\n",
       "defined \u001b[32mobject\u001b[39m \u001b[36mMoney\u001b[39m\r\n",
       "\u001b[36mmoney1\u001b[39m: \u001b[32mwrapper\u001b[39m.\u001b[32mwrapper\u001b[39m.\u001b[32mMoney\u001b[39m = $sess.cmd284Wrapper$Helper$Money@90f752\r\n",
       "\u001b[36mmoney2\u001b[39m: \u001b[32mwrapper\u001b[39m.\u001b[32mwrapper\u001b[39m.\u001b[32mMoney\u001b[39m = $sess.cmd284Wrapper$Helper$Money@5cc5dd69"
      ]
     },
     "execution_count": 285,
     "metadata": {},
     "output_type": "execute_result"
    }
   ],
   "source": [
    "class Money(val value:Double,val country:String){\n",
    "    def apply(){\n",
    "        println(country+\" \"+value)\n",
    "    }\n",
    "}\n",
    "\n",
    "object Money {\n",
    "    def apply(value:Double,country:String):Money = {\n",
    "        new Money(value,country)\n",
    "    }\n",
    "}\n",
    "\n",
    "val money1 = new Money(12.0,\"RMB\")\n",
    "println(money1.country)\n",
    "val money2 = Money(80.0,\"USD\") \n",
    "println(money2.value)\n",
    "\n",
    "money1()\n",
    "money2()"
   ]
  },
  {
   "cell_type": "markdown",
   "metadata": {},
   "source": [
    "**3，unapply演示**"
   ]
  },
  {
   "cell_type": "code",
   "execution_count": 286,
   "metadata": {},
   "outputs": [
    {
     "data": {
      "text/plain": [
       "defined \u001b[32mclass\u001b[39m \u001b[36mMoney\u001b[39m\r\n",
       "defined \u001b[32mobject\u001b[39m \u001b[36mMoney\u001b[39m"
      ]
     },
     "execution_count": 286,
     "metadata": {},
     "output_type": "execute_result"
    }
   ],
   "source": [
    "class Money(val value:Double,val country:String){  \n",
    "}\n",
    "object Money {\n",
    "    def apply(value:Double,country:String):Money = {\n",
    "        new Money(value,country)\n",
    "    }\n",
    "    def unapply(money:Money):Option[(Double,String)] = {\n",
    "        if(money == null) {\n",
    "            None\n",
    "        }\n",
    "        else {\n",
    "            Some(money.value,money.country)\n",
    "        }\n",
    "    }\n",
    "}"
   ]
  },
  {
   "cell_type": "code",
   "execution_count": 289,
   "metadata": {},
   "outputs": [
    {
     "name": "stdout",
     "output_type": "stream",
     "text": [
      "RMB 10.1\n"
     ]
    },
    {
     "data": {
      "text/plain": [
       "\u001b[36mmoney\u001b[39m: \u001b[32mMoney\u001b[39m = $sess.cmd285Wrapper$Helper$Money@20380496"
      ]
     },
     "execution_count": 289,
     "metadata": {},
     "output_type": "execute_result"
    }
   ],
   "source": [
    "//测试unapply类，在模式匹配时被调用\n",
    "val money = Money(10.1, \"RMB\") \n",
    "money match { \n",
    "    case Money(num, \"RMB\") => println(\"RMB \" + num) \n",
    "    case _ => println(\"Not RMB!\")\n",
    "}"
   ]
  },
  {
   "cell_type": "code",
   "execution_count": null,
   "metadata": {},
   "outputs": [],
   "source": []
  },
  {
   "cell_type": "markdown",
   "metadata": {},
   "source": [
    "### Appendix：参考资料\n"
   ]
  },
  {
   "cell_type": "markdown",
   "metadata": {},
   "source": [
    "1，林子雨《Spark编程基础》\n",
    "\n",
    "https://study.163.com/course/courseMain.htm?courseId=1005031005\n",
    "\n",
    "2，菜鸟教程《Scala教程》\n",
    "\n",
    "https://www.runoob.com/scala/scala-tutorial.html\n"
   ]
  }
 ],
 "metadata": {
  "kernelspec": {
   "display_name": "Scala 2.11.11",
   "language": "scala",
   "name": "scala"
  },
  "language_info": {
   "codemirror_mode": "text/x-scala",
   "file_extension": ".scala",
   "mimetype": "text/x-scala",
   "name": "scala211",
   "nbconvert_exporter": "script",
   "pygments_lexer": "scala",
   "version": "2.11.11"
  }
 },
 "nbformat": 4,
 "nbformat_minor": 2
}
