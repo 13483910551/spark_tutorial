{
 "cells": [
  {
   "cell_type": "code",
   "execution_count": 1,
   "metadata": {},
   "outputs": [],
   "source": [
    "!git config --global user.name \"lyhue1991\"\n",
    "!git config --global user.email \"lyhue1991@163.com\"\n",
    "\n",
    "# 出现一些类似 warning: LF will be replaced by CRLF in <file-name>. 可启用如下设置。\n",
    "!git config --global core.autocrlf false\n",
    "\n",
    "# 配置打印历史commit的快捷命令\n",
    "!git config --global alias.lg \"log --oneline --graph --all\""
   ]
  },
  {
   "cell_type": "code",
   "execution_count": 4,
   "metadata": {},
   "outputs": [
    {
     "name": "stdout",
     "output_type": "stream",
     "text": [
      "xcrun: error: invalid active developer path (/Library/Developer/CommandLineTools), missing xcrun at: /Library/Developer/CommandLineTools/usr/bin/xcrun\r\n"
     ]
    }
   ],
   "source": [
    "!git init"
   ]
  },
  {
   "cell_type": "code",
   "execution_count": 1,
   "metadata": {},
   "outputs": [],
   "source": [
    "!git add -A "
   ]
  },
  {
   "cell_type": "code",
   "execution_count": 2,
   "metadata": {},
   "outputs": [
    {
     "name": "stdout",
     "output_type": "stream",
     "text": [
      "[master b9c8f36] v06\r\n",
      " 30 files changed, 1864 insertions(+), 1209 deletions(-)\r\n",
      " rename .ipynb_checkpoints/{7个SparkCore编程练习题-checkpoint.ipynb => 7个Spark编程练习题-checkpoint.ipynb} (100%)\r\n",
      " delete mode 100644 7个SparkCore编程练习题.ipynb\r\n",
      " create mode 100644 7个Spark编程练习题.ipynb\r\n",
      " create mode 100644 namesAndAges.parquet/._SUCCESS.crc\r\n",
      " create mode 100644 namesAndAges.parquet/_SUCCESS\r\n",
      " create mode 100644 namesAndAges.parquet/age=19/.part-00000-acb2c6b7-5e16-4a51-b6ea-f34c7f88acf6.c000.snappy.parquet.crc\r\n",
      " create mode 100644 namesAndAges.parquet/age=19/part-00000-acb2c6b7-5e16-4a51-b6ea-f34c7f88acf6.c000.snappy.parquet\r\n",
      " create mode 100644 namesAndAges.parquet/age=30/.part-00000-acb2c6b7-5e16-4a51-b6ea-f34c7f88acf6.c000.snappy.parquet.crc\r\n",
      " create mode 100644 namesAndAges.parquet/age=30/part-00000-acb2c6b7-5e16-4a51-b6ea-f34c7f88acf6.c000.snappy.parquet\r\n",
      " create mode 100644 namesAndAges.parquet/age=__HIVE_DEFAULT_PARTITION__/.part-00000-acb2c6b7-5e16-4a51-b6ea-f34c7f88acf6.c000.snappy.parquet.crc\r",
      "\r\n",
      " create mode 100644 namesAndAges.parquet/age=__HIVE_DEFAULT_PARTITION__/part-00000-acb2c6b7-5e16-4a51-b6ea-f34c7f88acf6.c000.snappy.parquet\r\n",
      " create mode 100644 newpeople.txt/._SUCCESS.crc\r\n",
      " create mode 100644 newpeople.txt/.part-00000.crc\r\n",
      " create mode 100644 newpeople.txt/_SUCCESS\r\n",
      " create mode 100644 newpeople.txt/part-00000\r\n",
      " create mode 100644 people.csv/._SUCCESS.crc\r\n",
      " create mode 100644 people.csv/.part-00000-b39f59f2-73e4-4108-940a-7a6dd75f9dfd-c000.csv.crc\r\n",
      " create mode 100644 people.csv/_SUCCESS\r\n",
      " create mode 100644 people.csv/part-00000-b39f59f2-73e4-4108-940a-7a6dd75f9dfd-c000.csv\r\n",
      " create mode 100644 people.json/._SUCCESS.crc\r\n",
      " create mode 100644 people.json/.part-00000-a4bc3671-e6ac-411c-8a86-1251258776cc-c000.json.crc\r\n",
      " create mode 100644 people.json/_SUCCESS\r\n",
      " create mode 100644 people.json/part-00000-a4bc3671-e6ac-411c-8a86-1251258776cc-c000.json\r\n",
      " create mode 100644 people.parquet/._SUCCESS.crc\r\n",
      " create mode 100644 people.parquet/.part-00000-cb60c8ae-c8a6-4c50-bd57-ed11411ba479-c000.snappy.parquet.crc\r\n",
      " create mode 100644 people.parquet/_SUCCESS\r\n",
      " create mode 100644 people.parquet/part-00000-cb60c8ae-c8a6-4c50-bd57-ed11411ba479-c000.snappy.parquet\r\n"
     ]
    }
   ],
   "source": [
    "!git commit -m\"v06\""
   ]
  },
  {
   "cell_type": "code",
   "execution_count": null,
   "metadata": {},
   "outputs": [],
   "source": []
  },
  {
   "cell_type": "code",
   "execution_count": 5,
   "metadata": {},
   "outputs": [],
   "source": [
    "!git remote remove origin"
   ]
  },
  {
   "cell_type": "code",
   "execution_count": 6,
   "metadata": {},
   "outputs": [],
   "source": [
    "!git remote add origin https://github.com/lyhue1991/spark_tutorial"
   ]
  },
  {
   "cell_type": "code",
   "execution_count": 3,
   "metadata": {},
   "outputs": [
    {
     "name": "stdout",
     "output_type": "stream",
     "text": [
      "Current branch master is up to date.\r\n"
     ]
    }
   ],
   "source": [
    "!git rebase origin/master"
   ]
  },
  {
   "cell_type": "code",
   "execution_count": 3,
   "metadata": {},
   "outputs": [
    {
     "name": "stdout",
     "output_type": "stream",
     "text": [
      "Enumerating objects: 34, done.\n",
      "Counting objects: 100% (34/34), done.\n",
      "Delta compression using up to 4 threads\n",
      "Compressing objects: 100% (20/20), done.\n",
      "Writing objects: 100% (29/29), 10.43 KiB | 485.00 KiB/s, done.\n",
      "Total 29 (delta 9), reused 0 (delta 0)\n",
      "remote: Resolving deltas: 100% (9/9), completed with 5 local objects.\u001b[K\n",
      "To https://github.com/lyhue1991/spark_tutorial\n",
      "   3a0850e..b9c8f36  master -> master\n",
      "Branch 'master' set up to track remote branch 'master' from 'origin'.\n"
     ]
    }
   ],
   "source": [
    "!git push -u origin master "
   ]
  }
 ],
 "metadata": {
  "kernelspec": {
   "display_name": "Python 3",
   "language": "python",
   "name": "python3"
  },
  "language_info": {
   "codemirror_mode": {
    "name": "ipython",
    "version": 3
   },
   "file_extension": ".py",
   "mimetype": "text/x-python",
   "name": "python",
   "nbconvert_exporter": "python",
   "pygments_lexer": "ipython3",
   "version": "3.7.3"
  }
 },
 "nbformat": 4,
 "nbformat_minor": 2
}
