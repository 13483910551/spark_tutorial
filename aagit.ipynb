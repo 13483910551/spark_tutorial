{
 "cells": [
  {
   "cell_type": "code",
   "execution_count": 1,
   "metadata": {},
   "outputs": [],
   "source": [
    "!git config --global user.name \"lyhue1991\"\n",
    "!git config --global user.email \"lyhue1991@163.com\"\n",
    "\n",
    "# 出现一些类似 warning: LF will be replaced by CRLF in <file-name>. 可启用如下设置。\n",
    "!git config --global core.autocrlf false\n",
    "\n",
    "# 配置打印历史commit的快捷命令\n",
    "!git config --global alias.lg \"log --oneline --graph --all\""
   ]
  },
  {
   "cell_type": "code",
   "execution_count": 4,
   "metadata": {},
   "outputs": [
    {
     "name": "stdout",
     "output_type": "stream",
     "text": [
      "xcrun: error: invalid active developer path (/Library/Developer/CommandLineTools), missing xcrun at: /Library/Developer/CommandLineTools/usr/bin/xcrun\r\n"
     ]
    }
   ],
   "source": [
    "!git init"
   ]
  },
  {
   "cell_type": "code",
   "execution_count": 2,
   "metadata": {},
   "outputs": [],
   "source": [
    "!git add -A "
   ]
  },
  {
   "cell_type": "code",
   "execution_count": 3,
   "metadata": {},
   "outputs": [
    {
     "name": "stdout",
     "output_type": "stream",
     "text": [
      "[master 48855cd] v04\n",
      " 14 files changed, 1377 insertions(+), 623 deletions(-)\n",
      " rename .ipynb_checkpoints/{1小时入门Spark RDD编程-checkpoint.ipynb => 1小时入门Spark之RDD编程-checkpoint.ipynb} (61%)\n",
      " rename 1小时入门Spark RDD编程.ipynb => 1小时入门Spark之RDD编程.ipynb (73%)\n",
      " create mode 100644 rdddata/._SUCCESS.crc\n",
      " create mode 100644 rdddata/.part-00000.crc\n",
      " create mode 100644 rdddata/.part-00001.crc\n",
      " create mode 100644 rdddata/.part-00002.crc\n",
      " create mode 100644 rdddata/.part-00003.crc\n",
      " create mode 100644 rdddata/_SUCCESS\n",
      " create mode 100644 rdddata/part-00000\n",
      " create mode 100644 rdddata/part-00001\n",
      " create mode 100644 rdddata/part-00002\n",
      " create mode 100644 rdddata/part-00003\n"
     ]
    }
   ],
   "source": [
    "!git commit -m\"v04\""
   ]
  },
  {
   "cell_type": "code",
   "execution_count": null,
   "metadata": {},
   "outputs": [],
   "source": []
  },
  {
   "cell_type": "code",
   "execution_count": 5,
   "metadata": {},
   "outputs": [],
   "source": [
    "!git remote remove origin"
   ]
  },
  {
   "cell_type": "code",
   "execution_count": 6,
   "metadata": {},
   "outputs": [],
   "source": [
    "!git remote add origin https://github.com/lyhue1991/spark_tutorial"
   ]
  },
  {
   "cell_type": "code",
   "execution_count": 9,
   "metadata": {},
   "outputs": [
    {
     "name": "stdout",
     "output_type": "stream",
     "text": [
      "Current branch master is up to date.\r\n"
     ]
    }
   ],
   "source": [
    "!git rebase origin/master"
   ]
  },
  {
   "cell_type": "code",
   "execution_count": 8,
   "metadata": {},
   "outputs": [
    {
     "name": "stdout",
     "output_type": "stream",
     "text": [
      "Enumerating objects: 21, done.\n",
      "Counting objects: 100% (21/21), done.\n",
      "Delta compression using up to 4 threads\n",
      "Compressing objects: 100% (7/7), done.\n",
      "Writing objects: 100% (17/17), 10.98 KiB | 1.57 MiB/s, done.\n",
      "Total 17 (delta 5), reused 0 (delta 0)\n",
      "remote: Resolving deltas: 100% (5/5), completed with 4 local objects.\u001b[K\n",
      "To https://github.com/lyhue1991/spark_tutorial\n",
      "   0917e3a..48855cd  master -> master\n",
      "Branch 'master' set up to track remote branch 'master' from 'origin'.\n"
     ]
    }
   ],
   "source": [
    "!git push -u origin master "
   ]
  }
 ],
 "metadata": {
  "kernelspec": {
   "display_name": "Python 3",
   "language": "python",
   "name": "python3"
  },
  "language_info": {
   "codemirror_mode": {
    "name": "ipython",
    "version": 3
   },
   "file_extension": ".py",
   "mimetype": "text/x-python",
   "name": "python",
   "nbconvert_exporter": "python",
   "pygments_lexer": "ipython3",
   "version": "3.7.3"
  }
 },
 "nbformat": 4,
 "nbformat_minor": 2
}
