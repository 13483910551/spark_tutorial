{
 "cells": [
  {
   "cell_type": "code",
   "execution_count": 1,
   "metadata": {},
   "outputs": [],
   "source": [
    "!git config --global user.name \"lyhue1991\"\n",
    "!git config --global user.email \"lyhue1991@163.com\"\n",
    "\n",
    "# 出现一些类似 warning: LF will be replaced by CRLF in <file-name>. 可启用如下设置。\n",
    "!git config --global core.autocrlf false\n",
    "\n",
    "# 配置打印历史commit的快捷命令\n",
    "!git config --global alias.lg \"log --oneline --graph --all\""
   ]
  },
  {
   "cell_type": "code",
   "execution_count": 4,
   "metadata": {},
   "outputs": [
    {
     "name": "stdout",
     "output_type": "stream",
     "text": [
      "xcrun: error: invalid active developer path (/Library/Developer/CommandLineTools), missing xcrun at: /Library/Developer/CommandLineTools/usr/bin/xcrun\r\n"
     ]
    }
   ],
   "source": [
    "!git init"
   ]
  },
  {
   "cell_type": "code",
   "execution_count": 1,
   "metadata": {},
   "outputs": [],
   "source": [
    "!git add -A "
   ]
  },
  {
   "cell_type": "code",
   "execution_count": 2,
   "metadata": {},
   "outputs": [
    {
     "name": "stdout",
     "output_type": "stream",
     "text": [
      "[master 3a0850e] v05\r\n",
      " 31 files changed, 4657 insertions(+), 314 deletions(-)\r\n",
      " create mode 100644 .DS_Store\r\n",
      " rename .ipynb_checkpoints/{Spark Core编程练习题-checkpoint.ipynb => 2小时入门SparkSQL编程-checkpoint.ipynb} (100%)\r\n",
      " rename .ipynb_checkpoints/{未命名-checkpoint.ipynb => 7个SparkCore编程练习题-checkpoint.ipynb} (100%)\r\n",
      " create mode 100644 2小时入门SparkSQL编程.ipynb\r\n",
      " create mode 100644 7个SparkCore编程练习题.ipynb\r\n",
      " create mode 100644 RDD,DataFrame,DataSet对比.jpg\r\n",
      " delete mode 100644 Spark Core编程练习题.ipynb\r\n",
      " delete mode 100644 hello.txt\r\n",
      " create mode 100644 jointables.png\r\n",
      " create mode 100644 resources/employees.json\r\n",
      " create mode 100644 resources/full_user.avsc\r\n",
      " create mode 100644 resources/iris.csv\r\n",
      " create mode 100644 resources/kv1.txt\r\n",
      " create mode 100644 resources/people.csv\r\n",
      " create mode 100644 resources/people.json\r\n",
      " create mode 100644 resources/people.txt\r\n",
      " create mode 100644 resources/user.avsc\r\n",
      " create mode 100644 resources/users.avro\r\n",
      " create mode 100644 resources/users.orc\r\n",
      " create mode 100644 resources/users.parquet\r\n",
      " create mode 100644 secondary_sort.png\r\n",
      " create mode 100644 sortwithindex.png\r\n",
      " create mode 100644 topN.png\r\n",
      " delete mode 100644 wordcount/HelloWorld.scala\r\n",
      " rename wordcount/{test.txt => file1} (64%)\r\n",
      " create mode 100644 wordcount/file2\r\n",
      " delete mode 100644 未命名.ipynb\r\n",
      " create mode 100644 求最大值最小值.png\r\n"
     ]
    }
   ],
   "source": [
    "!git commit -m\"v05\""
   ]
  },
  {
   "cell_type": "code",
   "execution_count": null,
   "metadata": {},
   "outputs": [],
   "source": []
  },
  {
   "cell_type": "code",
   "execution_count": 5,
   "metadata": {},
   "outputs": [],
   "source": [
    "!git remote remove origin"
   ]
  },
  {
   "cell_type": "code",
   "execution_count": 6,
   "metadata": {},
   "outputs": [],
   "source": [
    "!git remote add origin https://github.com/lyhue1991/spark_tutorial"
   ]
  },
  {
   "cell_type": "code",
   "execution_count": 3,
   "metadata": {},
   "outputs": [
    {
     "name": "stdout",
     "output_type": "stream",
     "text": [
      "Current branch master is up to date.\r\n"
     ]
    }
   ],
   "source": [
    "!git rebase origin/master"
   ]
  },
  {
   "cell_type": "code",
   "execution_count": 5,
   "metadata": {},
   "outputs": [
    {
     "name": "stdout",
     "output_type": "stream",
     "text": [
      "Enumerating objects: 36, done.\n",
      "Counting objects: 100% (36/36), done.\n",
      "Delta compression using up to 4 threads\n",
      "Compressing objects: 100% (26/26), done.\n",
      "Writing objects: 100% (30/30), 1.45 MiB | 37.00 KiB/s, done.\n",
      "Total 30 (delta 5), reused 0 (delta 0)\n",
      "remote: Resolving deltas: 100% (5/5), completed with 4 local objects.\u001b[K\n",
      "To https://github.com/lyhue1991/spark_tutorial\n",
      "   48855cd..3a0850e  master -> master\n",
      "Branch 'master' set up to track remote branch 'master' from 'origin'.\n"
     ]
    }
   ],
   "source": [
    "!git push -u origin master "
   ]
  }
 ],
 "metadata": {
  "kernelspec": {
   "display_name": "Python 3",
   "language": "python",
   "name": "python3"
  },
  "language_info": {
   "codemirror_mode": {
    "name": "ipython",
    "version": 3
   },
   "file_extension": ".py",
   "mimetype": "text/x-python",
   "name": "python",
   "nbconvert_exporter": "python",
   "pygments_lexer": "ipython3",
   "version": "3.7.3"
  }
 },
 "nbformat": 4,
 "nbformat_minor": 2
}
