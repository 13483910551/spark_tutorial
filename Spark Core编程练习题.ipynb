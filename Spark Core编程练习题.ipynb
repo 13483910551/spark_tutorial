{
 "cells": [
  {
   "cell_type": "markdown",
   "metadata": {},
   "source": [
    "### S"
   ]
  },
  {
   "cell_type": "code",
   "execution_count": null,
   "metadata": {},
   "outputs": [],
   "source": []
  },
  {
   "cell_type": "code",
   "execution_count": null,
   "metadata": {},
   "outputs": [],
   "source": []
  },
  {
   "cell_type": "markdown",
   "metadata": {},
   "source": [
    "### 求一个List的平均值 List"
   ]
  },
  {
   "cell_type": "code",
   "execution_count": null,
   "metadata": {},
   "outputs": [],
   "source": [
    "/**\n",
    "  * @author td\n",
    "  * @date 2017/11/23\n",
    "  */\n",
    "object Demo {\n",
    "\n",
    "  /**\n",
    "    * 对各分区的元素进行聚合,聚合的初始值为zeroValue\n",
    "    * @param tuple1\n",
    "    * @param num\n",
    "    */\n",
    "  def sqlOp(tuple1: (Int, Int), num: Int): (Int, Int) = {\n",
    "    (tuple1._1+num,tuple1._2+1)\n",
    "  }\n",
    "\n",
    "  /**\n",
    "    * 对各分区元素聚合的结果再次进行聚合,聚合的初始值为zeroValue\n",
    "    * @param tuple1\n",
    "    * @return\n",
    "    */\n",
    "  def combOp(tuple1: (Int,Int),tuple2: (Int,Int)): (Int,Int) = {\n",
    "    (tuple1._1+tuple2._1,tuple1._2+tuple2._2);\n",
    "  }\n",
    "  def main(args: Array[String]): Unit = {\n",
    "    val rdd = List(1,2,3,4,5,6,7,8,9)\n",
    "\n",
    "    val resutlt = rdd.par.aggregate((0,0))(sqlOp,combOp);\n",
    "\n",
    "    println(resutlt._1)\n",
    "    println(resutlt._2)\n",
    "    val avg = resutlt._1/resutlt._2;\n",
    "    println(\"平均值是\"+avg)\n",
    "\n",
    "  }\n",
    "}"
   ]
  },
  {
   "cell_type": "code",
   "execution_count": null,
   "metadata": {},
   "outputs": [],
   "source": []
  },
  {
   "cell_type": "code",
   "execution_count": null,
   "metadata": {},
   "outputs": [],
   "source": []
  },
  {
   "cell_type": "code",
   "execution_count": null,
   "metadata": {},
   "outputs": [],
   "source": []
  }
 ],
 "metadata": {
  "kernelspec": {
   "display_name": "Apache Toree - Scala",
   "language": "scala",
   "name": "apache_toree_scala"
  },
  "language_info": {
   "codemirror_mode": "text/x-scala",
   "file_extension": ".scala",
   "mimetype": "text/x-scala",
   "name": "scala",
   "pygments_lexer": "scala",
   "version": "2.11.12"
  }
 },
 "nbformat": 4,
 "nbformat_minor": 2
}
