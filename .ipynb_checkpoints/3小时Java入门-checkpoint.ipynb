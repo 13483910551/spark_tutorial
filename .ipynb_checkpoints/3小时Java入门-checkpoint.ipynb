{
 "cells": [
  {
   "cell_type": "markdown",
   "metadata": {},
   "source": [
    "# 3小时Java入门"
   ]
  },
  {
   "cell_type": "markdown",
   "metadata": {},
   "source": [
    "### 〇，编程环境"
   ]
  },
  {
   "cell_type": "markdown",
   "metadata": {},
   "source": [
    "工程项目推荐使用IDEA.\n",
    "\n",
    "入门学习推荐使用Jupyter notebook.\n",
    "\n",
    "安装jupyter notebook的java插件 scijava-jupyter-kernel的方法如下:\n"
   ]
  },
  {
   "cell_type": "code",
   "execution_count": null,
   "metadata": {},
   "outputs": [],
   "source": [
    "%%bash\n",
    "# Add the conda-forge channel\n",
    "conda config --add channels conda-forge\n",
    "\n",
    "# Create an isolated environment called `java_env` and install the kernel\n",
    "conda create --name java_env scijava-jupyter-kernel\n",
    "\n",
    "# Activate the `java_env` environment\n",
    "source activate java_env\n",
    "\n",
    "# Check the kernel has been installed\n",
    "jupyter kernelspec list\n",
    "\n",
    "# Launch your favorite Jupyter client\n",
    "jupyter notebook"
   ]
  },
  {
   "cell_type": "markdown",
   "metadata": {},
   "source": [
    "详细参见： https://github.com/scijava/scijava-jupyter-kernel\n",
    "\n",
    "也可以在以下网页链接中直接尝试scijava-jupyter-kernel：\n",
    "\n",
    "https://mybinder.org/v2/gh/4QuantOSS/scijava-jupyter-kernel/master?filepath=notebooks%2FImageJ.ipynb"
   ]
  },
  {
   "cell_type": "code",
   "execution_count": null,
   "metadata": {
    "ExecuteTime": {
     "end_time": "2019-08-31T04:20+0000",
     "start_time": "2019-08-31T04:20+0000"
    }
   },
   "outputs": [],
   "source": [
    "//环境测试代码\n",
    "public class HelloWorld {\n",
    "    public static void main(String []args) {\n",
    "        System.out.println(\"Hello World\");\n",
    "    }\n",
    "}"
   ]
  },
  {
   "cell_type": "markdown",
   "metadata": {},
   "source": [
    "### 一，算数运算"
   ]
  },
  {
   "cell_type": "code",
   "execution_count": 59,
   "metadata": {
    "ExecuteTime": {
     "end_time": "2019-09-01T01:58+0000",
     "start_time": "2019-09-01T01:58+0000"
    }
   },
   "outputs": [
    {
     "data": {
      "text/html": [
       "31"
      ]
     },
     "execution_count": 59,
     "metadata": {},
     "output_type": "execute_result"
    }
   ],
   "source": [
    "//四则运算\n",
    "1+(100-20)/4+5*2 "
   ]
  },
  {
   "cell_type": "code",
   "execution_count": null,
   "metadata": {
    "ExecuteTime": {
     "end_time": "2019-08-31T03:56+0000",
     "start_time": "2019-08-31T03:56+0000"
    }
   },
   "outputs": [],
   "source": [
    "//求模运算\n",
    "5%2"
   ]
  },
  {
   "cell_type": "code",
   "execution_count": null,
   "metadata": {
    "ExecuteTime": {
     "end_time": "2019-08-31T03:57+0000",
     "start_time": "2019-08-31T03:57+0000"
    }
   },
   "outputs": [],
   "source": [
    "//乘方运算\n",
    "Math.pow(2,3)"
   ]
  },
  {
   "cell_type": "code",
   "execution_count": null,
   "metadata": {
    "ExecuteTime": {
     "end_time": "2019-08-31T03:57+0000",
     "start_time": "2019-08-31T03:57+0000"
    }
   },
   "outputs": [],
   "source": [
    "//绝对值\n",
    "Math.abs(-2)"
   ]
  },
  {
   "cell_type": "code",
   "execution_count": null,
   "metadata": {
    "ExecuteTime": {
     "end_time": "2019-08-31T03:58+0000",
     "start_time": "2019-08-31T03:58+0000"
    }
   },
   "outputs": [],
   "source": [
    "//三角函数\n",
    "Math.tan(1)"
   ]
  },
  {
   "cell_type": "code",
   "execution_count": null,
   "metadata": {
    "ExecuteTime": {
     "end_time": "2019-08-31T03:59+0000",
     "start_time": "2019-08-31T03:59+0000"
    }
   },
   "outputs": [],
   "source": [
    "//对数函数\n",
    "Math.log(100)"
   ]
  },
  {
   "cell_type": "code",
   "execution_count": null,
   "metadata": {
    "ExecuteTime": {
     "end_time": "2019-08-31T03:59+0000",
     "start_time": "2019-08-31T03:59+0000"
    }
   },
   "outputs": [],
   "source": [
    "//指数函数\n",
    "Math.exp(3)"
   ]
  },
  {
   "cell_type": "code",
   "execution_count": 65,
   "metadata": {
    "ExecuteTime": {
     "end_time": "2019-09-01T02:01+0000",
     "start_time": "2019-09-01T02:01+0000"
    }
   },
   "outputs": [
    {
     "name": "stdout",
     "output_type": "stream",
     "text": [
      "Infinity\n"
     ]
    }
   ],
   "source": [
    "import java.math.BigInteger;\n",
    "public class Main {\n",
    "    public static void main(String[] args) {\n",
    "        BigInteger n = new BigInteger(\"999999\").pow(99);\n",
    "        float f = n.floatValue();\n",
    "        System.out.println(f);\n",
    "    }\n",
    "}"
   ]
  },
  {
   "cell_type": "code",
   "execution_count": 79,
   "metadata": {
    "ExecuteTime": {
     "end_time": "2019-09-01T02:37+0000",
     "start_time": "2019-09-01T02:37+0000"
    }
   },
   "outputs": [
    {
     "data": {
      "text/html": [
       "true"
      ]
     },
     "execution_count": 79,
     "metadata": {},
     "output_type": "execute_result"
    }
   ],
   "source": [
    "Integer i = 10\n",
    "\n",
    "i.getClass()\n",
    "\n",
    "i instanceof Integer"
   ]
  },
  {
   "cell_type": "markdown",
   "metadata": {},
   "source": [
    "### 二，输入输出"
   ]
  },
  {
   "cell_type": "markdown",
   "metadata": {},
   "source": [
    "输入：System.in, java.io.InputStreamReader, java.util.Scanner \n",
    "\n",
    "输出：System.out.println,  System.out.printf,  System.out.print\n",
    "\n",
    "读文件：java.io.FileInputStream\n",
    "\n",
    "写文件：java.io.FileOutputStream\n"
   ]
  },
  {
   "cell_type": "markdown",
   "metadata": {},
   "source": [
    "**1, 输入**"
   ]
  },
  {
   "cell_type": "markdown",
   "metadata": {},
   "source": [
    "Scanner扫描输入，遇到\\n结束\n",
    "\n",
    "BufferedReader.read() 逐字符读取\n",
    "\n",
    "BufferedReader.readLine() 逐行读取"
   ]
  },
  {
   "cell_type": "code",
   "execution_count": null,
   "metadata": {
    "ExecuteTime": {
     "end_time": "2019-08-31T06:31+0000",
     "start_time": "2019-08-31T06:31+0000"
    }
   },
   "outputs": [],
   "source": [
    "//Scanner扫描输入，遇到\\n结束\n",
    "\n",
    "import java.util.Scanner;\n",
    "\n",
    "public class Main {\n",
    "    public static void main(String[] args) {\n",
    "        Scanner scanner = new Scanner(System.in); // 创建Scanner对象\n",
    "        System.out.print(\"Input your name: \"); // 打印提示\n",
    "        String name = scanner.nextLine(); // 读取一行输入并获取字符串\n",
    "        System.out.print(\"Input your age: \"); // 打印提示\n",
    "        int age = scanner.nextInt(); // 读取一行输入并获取整数\n",
    "        System.out.printf(\"Hi, %s, you are %d\\n\", name, age); // 格式化输出\n",
    "    }\n",
    "}"
   ]
  },
  {
   "cell_type": "code",
   "execution_count": null,
   "metadata": {
    "ExecuteTime": {
     "end_time": "2019-08-31T07:10+0000",
     "start_time": "2019-08-31T07:10+0000"
    }
   },
   "outputs": [],
   "source": [
    "// BufferedReader.read() 逐字符读取\n",
    "import java.io.*;\n",
    " \n",
    "public class BRRead {\n",
    "    public static void main(String args[]) throws IOException {\n",
    "        char c;\n",
    "        // 使用 System.in 创建 BufferedReader\n",
    "        BufferedReader br = new BufferedReader(new InputStreamReader(System.in));\n",
    "        System.out.println(\"输入字符, 按下 'q' 键退出。\");\n",
    "        // 读取字符\n",
    "        do {\n",
    "            c = (char) br.read();\n",
    "            System.out.println(c);\n",
    "        } while (c != 'q');\n",
    "    }\n",
    "}"
   ]
  },
  {
   "cell_type": "code",
   "execution_count": null,
   "metadata": {
    "ExecuteTime": {
     "end_time": "2019-08-31T07:27+0000",
     "start_time": "2019-08-31T07:27+0000"
    }
   },
   "outputs": [],
   "source": [
    "// BufferedReader.readLine() 逐行读取\n",
    "import java.io.*;\n",
    " \n",
    "public class BRReadLines {\n",
    "    public static void main(String args[]) throws IOException {\n",
    "        // 使用 System.in 创建 BufferedReader\n",
    "        BufferedReader br = new BufferedReader(new InputStreamReader(System.in));\n",
    "        String str;\n",
    "        System.out.println(\"Enter lines of text.\");\n",
    "        System.out.println(\"Enter 'end' to quit.\");\n",
    "        do {\n",
    "            str = br.readLine();\n",
    "            System.out.println(str);\n",
    "        } while (!str.equals(\"end\"));\n",
    "    }\n",
    "}"
   ]
  },
  {
   "cell_type": "markdown",
   "metadata": {},
   "source": [
    "**2，输出**"
   ]
  },
  {
   "cell_type": "markdown",
   "metadata": {},
   "source": [
    "print不换行，println换行，printf格式化输出"
   ]
  },
  {
   "cell_type": "code",
   "execution_count": null,
   "metadata": {
    "ExecuteTime": {
     "end_time": "2019-08-31T07:20+0000",
     "start_time": "2019-08-31T07:20+0000"
    }
   },
   "outputs": [],
   "source": [
    "System.out.print(\"hello\")\n",
    "System.out.print(\"world\")"
   ]
  },
  {
   "cell_type": "code",
   "execution_count": null,
   "metadata": {
    "ExecuteTime": {
     "end_time": "2019-08-31T07:20+0000",
     "start_time": "2019-08-31T07:20+0000"
    }
   },
   "outputs": [],
   "source": [
    "System.out.println(\"hello world\")\n",
    "System.out.println(\"hello java\")"
   ]
  },
  {
   "cell_type": "code",
   "execution_count": 55,
   "metadata": {
    "ExecuteTime": {
     "end_time": "2019-08-31T08:11+0000",
     "start_time": "2019-08-31T08:11+0000"
    }
   },
   "outputs": [
    {
     "name": "stdout",
     "output_type": "stream",
     "text": [
      "name = LiLei, age = 18, weight = 34.0"
     ]
    },
    {
     "data": {
      "text/html": [
       "java&#8203;.io&#8203;.PrintStream&#8203;@6f248d7f"
      ]
     },
     "execution_count": 55,
     "metadata": {},
     "output_type": "execute_result"
    }
   ],
   "source": [
    "String name = \"LiLei\"\n",
    "int age = 18\n",
    "double weight = 34.0\n",
    "System.out.printf(\"name = %s, age = %d, weight = %s\",name,age,weight)"
   ]
  },
  {
   "cell_type": "markdown",
   "metadata": {},
   "source": [
    "**3，读文件**"
   ]
  },
  {
   "cell_type": "code",
   "execution_count": 50,
   "metadata": {
    "ExecuteTime": {
     "end_time": "2019-08-31T07:56+0000",
     "start_time": "2019-08-31T07:56+0000"
    }
   },
   "outputs": [
    {
     "name": "stdout",
     "output_type": "stream",
     "text": [
      "1\n",
      "2\n",
      "3\n",
      "4\n",
      "5\n",
      "\n"
     ]
    }
   ],
   "source": [
    "import java.io.*;\n",
    " \n",
    "public class ReadFileTest {\n",
    "    public static void main(String[] args) throws IOException {\n",
    "        File f = new File(\"data.txt\");\n",
    "        FileInputStream stream = new FileInputStream(f);\n",
    "        InputStreamReader reader = new InputStreamReader(stream, \"UTF-8\");\n",
    "        StringBuffer buffer = new StringBuffer();\n",
    "        while (reader.ready()) {\n",
    "            buffer.append((char) reader.read());\n",
    "        }\n",
    "        System.out.println(buffer.toString());\n",
    "        reader.close();\n",
    "        stream.close(); \n",
    "    }\n",
    "}"
   ]
  },
  {
   "cell_type": "code",
   "execution_count": null,
   "metadata": {},
   "outputs": [],
   "source": []
  },
  {
   "cell_type": "markdown",
   "metadata": {},
   "source": [
    "**4，写文件**"
   ]
  },
  {
   "cell_type": "code",
   "execution_count": 49,
   "metadata": {
    "ExecuteTime": {
     "end_time": "2019-08-31T07:56+0000",
     "start_time": "2019-08-31T07:56+0000"
    }
   },
   "outputs": [],
   "source": [
    "import java.io.*;\n",
    " \n",
    "public class WriteFileTest {\n",
    "    public static void main(String[] args) throws IOException {\n",
    " \n",
    "        File f = new File(\"test.txt\");\n",
    "        FileOutputStream stream = new FileOutputStream(f);\n",
    "        OutputStreamWriter writer = new OutputStreamWriter(stream, \"UTF-8\");\n",
    "        writer.append(\"中文输入\");\n",
    "        writer.append(\"\\r\\n\");\n",
    "        writer.append(\"English\");\n",
    "        writer.write()\n",
    "        writer.close();\n",
    "        stream.close();\n",
    "    }\n",
    "}"
   ]
  },
  {
   "cell_type": "markdown",
   "metadata": {},
   "source": [
    "### 三，导入包package"
   ]
  },
  {
   "cell_type": "markdown",
   "metadata": {},
   "source": [
    "java有以下一些导入包的方式：\n",
    "\n",
    "1，导入包中某个对象： import java.text.SimpleDateFormat\n",
    "\n",
    "2，导入包中全部对象: import java.util.*\n",
    "\n",
    "3，导入包中的静态字段和方法(较少使用): import static java.lang.System.*\n",
    "\n",
    "4，隐式导入: java默认导入了java.lang.* \n",
    "\n"
   ]
  },
  {
   "cell_type": "code",
   "execution_count": 133,
   "metadata": {
    "ExecuteTime": {
     "end_time": "2019-09-01T08:41+0000",
     "start_time": "2019-09-01T08:41+0000"
    }
   },
   "outputs": [
    {
     "name": "stdout",
     "output_type": "stream",
     "text": [
      "2019-09-01 04:41:06\n",
      "24%\n",
      "1,232,323.232\n"
     ]
    }
   ],
   "source": [
    "//不导入，直接使用全名\n",
    "\n",
    "\n",
    "java.util.Date dt = new java.util.Date()\n",
    "java.text.SimpleDateFormat ft = new java.text.SimpleDateFormat (\"yyyy-MM-dd hh:mm:ss\")\n",
    "System.out.println(ft.format(dt))\n"
   ]
  },
  {
   "cell_type": "code",
   "execution_count": 134,
   "metadata": {
    "ExecuteTime": {
     "end_time": "2019-09-01T08:43+0000",
     "start_time": "2019-09-01T08:43+0000"
    }
   },
   "outputs": [
    {
     "name": "stdout",
     "output_type": "stream",
     "text": [
      "2019-09-01 04:43:05\n",
      "24%\n"
     ]
    }
   ],
   "source": [
    "//导入包中某个对象\n",
    "import java.util.Date;\n",
    "import java.text.SimpleDateFormat\n",
    "import java.text.NumberFormat\n",
    "\n",
    "Date dt = new Date()\n",
    "SimpleDateFormat ft = new SimpleDateFormat(\"yyyy-MM-dd hh:mm:ss\")\n",
    "System.out.println(ft.format(dt))\n",
    "\n",
    "String s = java.text.NumberFormat.getPercentInstance().format(0.2393)\n",
    "System.out.println(s)\n"
   ]
  },
  {
   "cell_type": "code",
   "execution_count": 145,
   "metadata": {
    "ExecuteTime": {
     "end_time": "2019-09-01T08:50+0000",
     "start_time": "2019-09-01T08:50+0000"
    }
   },
   "outputs": [
    {
     "name": "stdout",
     "output_type": "stream",
     "text": [
      "2019-09-01 04:50:53\n",
      "24%\n"
     ]
    }
   ],
   "source": [
    "//导入包中全部对象\n",
    "import java.util.*;\n",
    "import java.text.*;\n",
    "    \n",
    "Date dt = new Date()\n",
    "SimpleDateFormat ft = new SimpleDateFormat(\"yyyy-MM-dd hh:mm:ss\")\n",
    "System.out.println(ft.format(dt))\n",
    "String s = NumberFormat.getPercentInstance().format(0.2393)\n",
    "\n",
    "System.out.println(s)"
   ]
  },
  {
   "cell_type": "code",
   "execution_count": 140,
   "metadata": {
    "ExecuteTime": {
     "end_time": "2019-09-01T08:49+0000",
     "start_time": "2019-09-01T08:49+0000"
    }
   },
   "outputs": [
    {
     "name": "stdout",
     "output_type": "stream",
     "text": [
      "hello world\n"
     ]
    }
   ],
   "source": [
    "//导入包中的静态字段和方法\n",
    "import static java.lang.System.* \n",
    "out.println(\"hello world\")\n"
   ]
  },
  {
   "cell_type": "code",
   "execution_count": 143,
   "metadata": {
    "ExecuteTime": {
     "end_time": "2019-09-01T08:50+0000",
     "start_time": "2019-09-01T08:50+0000"
    }
   },
   "outputs": [
    {
     "name": "stdout",
     "output_type": "stream",
     "text": [
      "hello world\n"
     ]
    }
   ],
   "source": [
    "//java默认导入了java.lang.*\n",
    "System.out.println(\"hello world\");\n",
    "\n",
    "//等价于java.lang.System.out.println(\"hello world\")"
   ]
  },
  {
   "cell_type": "code",
   "execution_count": null,
   "metadata": {},
   "outputs": [],
   "source": []
  },
  {
   "cell_type": "code",
   "execution_count": null,
   "metadata": {},
   "outputs": [],
   "source": []
  },
  {
   "cell_type": "markdown",
   "metadata": {},
   "source": [
    "### 四，语法规则"
   ]
  },
  {
   "cell_type": "markdown",
   "metadata": {},
   "source": [
    "1,标识符\n",
    "\n",
    "标识符由字母和数字组成，遵循驼峰命名规则。\n",
    "\n",
    "类和对象的名称以大写字母开头\n",
    "\n",
    "方法的名称以小写字母开头\n"
   ]
  },
  {
   "cell_type": "code",
   "execution_count": 164,
   "metadata": {
    "ExecuteTime": {
     "end_time": "2019-09-01T09:17+0000",
     "start_time": "2019-09-01T09:17+0000"
    }
   },
   "outputs": [
    {
     "name": "stdout",
     "output_type": "stream",
     "text": [
      "Hello, world!\n"
     ]
    }
   ],
   "source": [
    "\n",
    "public class Greeting{\n",
    "    public static void main(String[] args){\n",
    "        System.out.println(\"Hello, world!\")\n",
    "    }\n",
    "}"
   ]
  },
  {
   "cell_type": "code",
   "execution_count": null,
   "metadata": {},
   "outputs": [],
   "source": []
  },
  {
   "cell_type": "raw",
   "metadata": {},
   "source": [
    "2，注释\n",
    "\n",
    "单行注释用//开头\n",
    "多行注释用/*开头，以*/结尾包括\n",
    "\n",
    "特殊多行注释，以/**开头，以*/结束，如果有多行，每行通常以星号开头\n",
    "这种特殊的多行注释需要写在类和方法的定义处，可以用于自动创建文档。\n"
   ]
  },
  {
   "cell_type": "code",
   "execution_count": 163,
   "metadata": {
    "ExecuteTime": {
     "end_time": "2019-09-01T09:16+0000",
     "start_time": "2019-09-01T09:16+0000"
    }
   },
   "outputs": [
    {
     "name": "stdout",
     "output_type": "stream",
     "text": [
      "Hello, java!\n"
     ]
    }
   ],
   "source": [
    "/*\n",
    "多行注释\n",
    "author: Python与算法之美\n",
    "*/\n",
    "\n",
    "public class Greeting{\n",
    "    public void say(String towho){\n",
    "        System.out.println(\"Hello, \"+ towho + \"!\")\n",
    "    }\n",
    "}\n",
    "\n",
    "Greeting greet = new Greeting() //实例化一个对象 \n",
    "greet.say(\"java\") //调用对象的方法"
   ]
  },
  {
   "cell_type": "code",
   "execution_count": 162,
   "metadata": {
    "ExecuteTime": {
     "end_time": "2019-09-01T09:16+0000",
     "start_time": "2019-09-01T09:16+0000"
    }
   },
   "outputs": [
    {
     "name": "stdout",
     "output_type": "stream",
     "text": [
      "Hello, world!\n"
     ]
    }
   ],
   "source": [
    "/**\n",
    " * 特殊多行注释\n",
    " * 可以用来自动创建文档的注释\n",
    " * author:Python与算法之美\n",
    " */\n",
    "\n",
    "public class Greeting{\n",
    "    public static void main(String[] args){\n",
    "        System.out.println(\"Hello, world!\")\n",
    "    }\n",
    "}\n"
   ]
  },
  {
   "cell_type": "code",
   "execution_count": null,
   "metadata": {},
   "outputs": [],
   "source": []
  },
  {
   "cell_type": "markdown",
   "metadata": {},
   "source": [
    "3，数据类型"
   ]
  },
  {
   "cell_type": "markdown",
   "metadata": {},
   "source": [
    "Java 的数据类型有两大类，基本数据类型和引用数据类型。\n",
    "\n",
    "基本数据类型相对非常底层，基本类型相同值得对象占有同样的存储单元，判断是否相等可以用 ==。\n",
    "\n",
    "引用数据类型本质上都是Class，相对抽象，引用类型相同值得对象占用不同的存储单元，判断是否相等应该用 equals方法。\n",
    "\n",
    "基本数据类型包括：整型(byte,short,int,long),浮点型(float,double),布尔类型(boolean),字符类型(char)\n",
    "\n",
    "引用数据类型包括：包装类型(Integer,Double,Char,Boolean,……)，字符串(String),数组(Array),以及各种容器类(List,Map,Set,Queue)。\n",
    "\n",
    "用户自定义的任何Class都可以看成是一种引用数据类型。"
   ]
  },
  {
   "cell_type": "code",
   "execution_count": 237,
   "metadata": {
    "ExecuteTime": {
     "end_time": "2019-09-01T12:29+0000",
     "start_time": "2019-09-01T12:29+0000"
    }
   },
   "outputs": [
    {
     "data": {
      "text/html": [
       "h"
      ]
     },
     "execution_count": 237,
     "metadata": {},
     "output_type": "execute_result"
    }
   ],
   "source": [
    "//基本数据类型\n",
    "byte i = 2\n",
    "int j = 134\n",
    "long k = 12342323123\n",
    "float x = 2232.23\n",
    "double y =2332112.2332\n",
    "char c = 'h'\n",
    "\n"
   ]
  },
  {
   "cell_type": "code",
   "execution_count": 244,
   "metadata": {
    "ExecuteTime": {
     "end_time": "2019-09-01T12:33+0000",
     "start_time": "2019-09-01T12:33+0000"
    }
   },
   "outputs": [
    {
     "name": "stdout",
     "output_type": "stream",
     "text": [
      "Integer\n",
      "100\n",
      "Character\n"
     ]
    },
    {
     "data": {
      "text/plain": [
       "Integer"
      ]
     },
     "execution_count": 244,
     "metadata": {},
     "output_type": "execute_result"
    }
   ],
   "source": [
    "//包装类型 \n",
    "\n",
    "//包装类型只是在基本类型基础上做了一个Wrapper增加了一些方法，使得其成为一个引用类型。\n",
    "//\n",
    "\n",
    "Integer i = 100;\n",
    "int a = i.value //转换成基本类型\n",
    "System.out.println(i.getClass().getSimpleName())\n",
    "\n",
    "Character c = 'A'\n",
    "char z = c.value //转换成基本类型\n",
    "System.out.println(a.toString())\n",
    "\n",
    "c instanceof Object\n",
    "\n",
    "Class cls = c.getClass()\n",
    "System.out.println(cls.getSimpleName())\n",
    "\n",
    "\n",
    "//包装类型和基本类型可以通过自动拆箱和自动装箱相互转换\n",
    "\n",
    "Integer m = Integer.valueOf(5) //自动装箱\n",
    "int n = m //自动拆箱\n",
    "\n",
    "n.getClass().getSimpleName()  //自动装箱\n"
   ]
  },
  {
   "cell_type": "code",
   "execution_count": 1,
   "metadata": {
    "ExecuteTime": {
     "end_time": "2019-09-01T12:40+0000",
     "start_time": "2019-09-01T12:40+0000"
    }
   },
   "outputs": [
    {
     "name": "stdout",
     "output_type": "stream",
     "text": [
      "String\n",
      "l\n"
     ]
    }
   ],
   "source": [
    "// String 字符串\n",
    "//字符串是一种引用类型, 并且是不可变的\n",
    "\n",
    "String  s = \"hello\\tworld\"\n",
    "System.out.println(s.getClass().getSimpleName())\n",
    "\n",
    "System.out.println(s[2])\n",
    "\n",
    "//s[2] = '3'将会报错"
   ]
  },
  {
   "cell_type": "code",
   "execution_count": null,
   "metadata": {},
   "outputs": [],
   "source": []
  },
  {
   "cell_type": "code",
   "execution_count": 44,
   "metadata": {
    "ExecuteTime": {
     "end_time": "2019-09-01T12:53+0000",
     "start_time": "2019-09-01T12:53+0000"
    }
   },
   "outputs": [
    {
     "name": "stdout",
     "output_type": "stream",
     "text": [
      "snoopy\n"
     ]
    }
   ],
   "source": [
    "// Array  数组\n",
    "// 数组是一种引用类型，其元素是可变的，但是其长度是不可变的\n",
    "String[] dogs = new String[2];\n",
    "dogs[0] = \"snoopy\";\n",
    "dogs[1] = \"ahuang\";\n",
    "\n",
    "dogs.length;\n",
    "\n",
    "System.out.println(dogs[0]);"
   ]
  },
  {
   "cell_type": "code",
   "execution_count": null,
   "metadata": {},
   "outputs": [],
   "source": []
  },
  {
   "cell_type": "code",
   "execution_count": 14,
   "metadata": {
    "ExecuteTime": {
     "end_time": "2019-09-01T13:05+0000",
     "start_time": "2019-09-01T13:05+0000"
    }
   },
   "outputs": [
    {
     "name": "stdout",
     "output_type": "stream",
     "text": [
      "true\n",
      "true\n",
      "true\n"
     ]
    }
   ],
   "source": [
    "//基本类型和引用类型的对比\n",
    "\n",
    "int i = 100823\n",
    "int j = 100823\n",
    "\n",
    "System.out.println(i==j)\n",
    "\n",
    "\n",
    "String p = \"123\"\n",
    "String q = \"123\"\n",
    "\n",
    "System.out.println(Objects.equals(p,q))\n",
    "System.out.println(p.equals(q))\n",
    "\n",
    "//System.out.println(Objects.equals(a,b))"
   ]
  },
  {
   "cell_type": "code",
   "execution_count": null,
   "metadata": {},
   "outputs": [],
   "source": []
  },
  {
   "cell_type": "markdown",
   "metadata": {},
   "source": [
    "4，变量声明"
   ]
  },
  {
   "cell_type": "code",
   "execution_count": 39,
   "metadata": {
    "ExecuteTime": {
     "end_time": "2019-09-01T13:14+0000",
     "start_time": "2019-09-01T13:14+0000"
    }
   },
   "outputs": [
    {
     "name": "stdout",
     "output_type": "stream",
     "text": [
      "xyz\n",
      "null\n"
     ]
    }
   ],
   "source": [
    "//变量声明时可以先声明，后赋值。\n",
    "//也可以声明的同时初始化\n",
    "\n",
    "String a,b,c ; //声明三个变量a,b,c,不初始化，默认初始化为null\n",
    "\n",
    "a = \"xyz\"\n",
    "b = \"123\"\n",
    "\n",
    "System.out.println(a)\n",
    "System.out.println(c)\n"
   ]
  },
  {
   "cell_type": "code",
   "execution_count": 40,
   "metadata": {
    "ExecuteTime": {
     "end_time": "2019-09-01T13:14+0000",
     "start_time": "2019-09-01T13:14+0000"
    }
   },
   "outputs": [
    {
     "name": "stdout",
     "output_type": "stream",
     "text": [
      "0\n"
     ]
    }
   ],
   "source": [
    "//变量声明的同时初始化\n",
    "\n",
    "int i,j,k = 0\n",
    "\n",
    "System.out.println(k)"
   ]
  },
  {
   "cell_type": "code",
   "execution_count": 46,
   "metadata": {
    "ExecuteTime": {
     "end_time": "2019-09-01T13:15+0000",
     "start_time": "2019-09-01T13:15+0000"
    }
   },
   "outputs": [
    {
     "name": "stdout",
     "output_type": "stream",
     "text": [
      "3.14\n"
     ]
    }
   ],
   "source": [
    "//使用final关键字声明为常量\n",
    "\n",
    "final double z = 3.14\n",
    "\n",
    "System.out.println(z)\n",
    "\n",
    "//z = 5.12  不可以被修改"
   ]
  },
  {
   "cell_type": "markdown",
   "metadata": {},
   "source": [
    "5，标点符号"
   ]
  },
  {
   "cell_type": "markdown",
   "metadata": {},
   "source": [
    "Java 中常用的标点符号用法总结如下\n",
    "\n",
    "()表示优先级或者函数参数列表\n",
    "\n",
    "[]用于索引\n",
    "\n",
    "{}用于作用域\n",
    "\n",
    "<>用于泛型\n",
    "\n",
    "@用于注解\n"
   ]
  },
  {
   "cell_type": "code",
   "execution_count": null,
   "metadata": {},
   "outputs": [],
   "source": []
  },
  {
   "cell_type": "markdown",
   "metadata": {},
   "source": [
    "### 五，编译执行"
   ]
  },
  {
   "cell_type": "markdown",
   "metadata": {},
   "source": [
    "1, 程序结构\n",
    "\n"
   ]
  },
  {
   "cell_type": "markdown",
   "metadata": {},
   "source": [
    "一个.java程序文件中必须有且只有一个public类，该类必须有一个声明为main函数作为程序入口。\n",
    "\n",
    "并且这个main函数需要声明为 public static void 类型，即静态的，公开的，返回值为空的函数类型。\n",
    "\n",
    "并且这个java程序的文件名必须和这个public类名保持一致。\n",
    "\n",
    "下面是一个范例。"
   ]
  },
  {
   "cell_type": "code",
   "execution_count": 52,
   "metadata": {
    "ExecuteTime": {
     "end_time": "2019-09-01T13:33+0000",
     "start_time": "2019-09-01T13:33+0000"
    }
   },
   "outputs": [
    {
     "name": "stdout",
     "output_type": "stream",
     "text": [
      "Hello, LiLei\n"
     ]
    }
   ],
   "source": [
    "public class Main {\n",
    "    public static void main(String[] args) {\n",
    "        Person lilei = new Person(\"LiLei\",18);\n",
    "        System.out.println(\"Hello, \" + lilei.getName())\n",
    "    }\n",
    "}\n",
    "\n",
    "class Person {\n",
    "    private String name;\n",
    "    private int age;\n",
    "    \n",
    "    public Person(name,age){\n",
    "        this.name = name\n",
    "        this.age = age\n",
    "    }\n",
    "    \n",
    "    public String getName() {\n",
    "        return this.name;\n",
    "    }\n",
    "\n",
    "    public int getAge() {\n",
    "        return this.age;\n",
    "    }\n",
    "}\n"
   ]
  },
  {
   "cell_type": "markdown",
   "metadata": {},
   "source": [
    "将以上代码拷贝到文本文件中，命名为 Main.java。"
   ]
  },
  {
   "cell_type": "code",
   "execution_count": null,
   "metadata": {},
   "outputs": [],
   "source": []
  },
  {
   "cell_type": "markdown",
   "metadata": {},
   "source": [
    "2，编译执行"
   ]
  },
  {
   "cell_type": "markdown",
   "metadata": {},
   "source": [
    "Java是一种解释型语言，其java源码需要被编译成class字节码运行在Java虚拟机上。\n",
    "\n",
    "因此，执行Java程序分两步：\n",
    "\n",
    "(1)，使用javac编译命令将以.java结束的程序文件编译成以class结尾的字节码程序文件。\n",
    "\n",
    "javac Main.java 编译后得到 Main.class文件\n",
    "\n",
    "(2)，使用java 命令运行字节码程序。\n",
    "\n",
    "java -classpath ./ Main 在JVM上执行Main.class文件"
   ]
  },
  {
   "cell_type": "markdown",
   "metadata": {},
   "source": [
    "![](java解释型.png)"
   ]
  },
  {
   "cell_type": "markdown",
   "metadata": {},
   "source": [
    "编译时，按下面的顺序依次查找类：\n",
    "\n",
    "（1）查找当前package是否存在这个class；\n",
    "\n",
    "（2）查找import的包是否包含这个class；\n",
    "\n",
    "（3）查找java.lang包是否包含这个class。\n",
    "\n",
    "如果按照上面的规则还无法确定类名，则编译报错。"
   ]
  },
  {
   "cell_type": "code",
   "execution_count": null,
   "metadata": {},
   "outputs": [],
   "source": []
  },
  {
   "cell_type": "markdown",
   "metadata": {},
   "source": [
    "3，classpath和jar包"
   ]
  },
  {
   "cell_type": "markdown",
   "metadata": {},
   "source": [
    "（1） classpath \n",
    "\n",
    "classpath是JVM用到的一个环境变量，它用来指示JVM如何搜索class。\n",
    "\n",
    "它其实就是一组目录的集合，它设置的搜索路径与操作系统相关。\n",
    "\n",
    "例如，在Windows系统上，用;分隔，可能长这样。\n",
    "\n",
    "C:\\work\\project1\\bin;C:\\shared;\"D:\\My Documents\\project1\\bin\"\n",
    "\n",
    "在Linux系统上，用:分隔，可能长这样。\n",
    "\n",
    "/usr/shared:/usr/local/bin:/home/liaoxuefeng/bin\n",
    "\n",
    "如果JVM在某个路径下找到了对应的class文件，就不再往后继续搜索。如果所有路径下都没有找到，就报错。"
   ]
  },
  {
   "cell_type": "markdown",
   "metadata": {},
   "source": []
  },
  {
   "cell_type": "markdown",
   "metadata": {},
   "source": [
    "classpath的设定方法有两种：\n",
    "\n",
    "在系统环境变量中设置classpath环境变量，不推荐；\n",
    "\n",
    "在启动JVM时设置classpath变量，推荐。\n",
    "\n",
    "\n",
    "我们强烈不推荐在系统环境变量中设置classpath，那样会污染整个系统环境。\n",
    "\n",
    "在启动JVM时设置classpath才是推荐的做法。实际上就是给java命令传入-classpath或-cp参数：\n",
    "\n",
    "java -classpath .;C:\\work\\project1\\bin;C:\\shared abc.xyz.Hello\n",
    "\n",
    "但通常classpath这个参数不需要配置，其默认值为当前目录 ./一般就够用了。\n"
   ]
  },
  {
   "cell_type": "markdown",
   "metadata": {},
   "source": [
    "（2） jar包\n"
   ]
  },
  {
   "cell_type": "markdown",
   "metadata": {},
   "source": [
    "设想一下，如果有很多.class文件，散落在各层目录中，肯定不便于管理。\n",
    "\n",
    "如果能把目录打一个包，变成一个文件，就方便多了。\n",
    "\n",
    "jar包就是用来干这个事的，它可以把package组织的目录层级，以及各个目录下的所有文件\n",
    "\n",
    "（包括.class文件和其他文件）都打成一个jar文件，这样一来，无论是备份，还是发给客户，就简单多了。"
   ]
  },
  {
   "cell_type": "markdown",
   "metadata": {},
   "source": [
    "jar包实际上就是一个zip格式的压缩文件，而jar包相当于目录。\n",
    "\n",
    "如果我们要执行一个jar包的class，就可以把jar包放到classpath中：\n",
    "\n",
    "java -cp ./hello.jar abc.xyz.Hello"
   ]
  },
  {
   "cell_type": "markdown",
   "metadata": {},
   "source": [
    "jar包还可以包含一个特殊的/META-INF/MANIFEST.MF文件，\n",
    "\n",
    "MANIFEST.MF是纯文本，可以指定Main-Class和其它信息。\n",
    "\n",
    "JVM会自动读取这个MANIFEST.MF文件。\n",
    "\n",
    "如果存在Main-Class，我们就不必在命令行指定启动的类名，而是用更方便的命令：\n",
    "\n",
    "java -jar hello.jar\n",
    "\n",
    "jar包还可以包含其它jar包，这个时候，就需要在MANIFEST.MF文件里配置classpath了"
   ]
  },
  {
   "cell_type": "code",
   "execution_count": null,
   "metadata": {},
   "outputs": [],
   "source": []
  },
  {
   "cell_type": "markdown",
   "metadata": {},
   "source": [
    "4，maven项目管理工具"
   ]
  },
  {
   "cell_type": "markdown",
   "metadata": {},
   "source": [
    "实际项目开发中，通常使用maven管理项目，并打成jar包。\n",
    "\n",
    "maven使用POM文件POM.xml指定项目的依赖和打包方式。\n",
    "\n",
    "maven安装后，将会在本地创建~/.m2/repository目录。\n",
    "\n",
    "maven搜索并载入依赖的顺序如下：本地仓库->私人远程仓库->中央仓库\n",
    "\n",
    "常见的maven 命令如下：\n",
    "\n",
    "mvn clean\n",
    "\n",
    "mvn compile       编译 \n",
    "\n",
    "mvn package       根据build中的plugin进行打包\n",
    "\n",
    "mvn install       安装本地仓库\n",
    "\n",
    "mvn test          单元测试\n"
   ]
  },
  {
   "cell_type": "code",
   "execution_count": null,
   "metadata": {},
   "outputs": [],
   "source": []
  },
  {
   "cell_type": "markdown",
   "metadata": {},
   "source": [
    "### 六，Java数据结构概述"
   ]
  },
  {
   "cell_type": "code",
   "execution_count": null,
   "metadata": {},
   "outputs": [],
   "source": []
  },
  {
   "cell_type": "code",
   "execution_count": null,
   "metadata": {},
   "outputs": [],
   "source": []
  },
  {
   "cell_type": "code",
   "execution_count": null,
   "metadata": {},
   "outputs": [],
   "source": []
  },
  {
   "cell_type": "markdown",
   "metadata": {},
   "source": [
    "### 七，字符串"
   ]
  },
  {
   "cell_type": "code",
   "execution_count": null,
   "metadata": {},
   "outputs": [],
   "source": []
  },
  {
   "cell_type": "code",
   "execution_count": null,
   "metadata": {},
   "outputs": [],
   "source": []
  },
  {
   "cell_type": "code",
   "execution_count": null,
   "metadata": {},
   "outputs": [],
   "source": []
  },
  {
   "cell_type": "markdown",
   "metadata": {},
   "source": [
    "### 八，数组"
   ]
  },
  {
   "cell_type": "code",
   "execution_count": null,
   "metadata": {},
   "outputs": [],
   "source": []
  },
  {
   "cell_type": "code",
   "execution_count": null,
   "metadata": {},
   "outputs": [],
   "source": []
  },
  {
   "cell_type": "code",
   "execution_count": null,
   "metadata": {},
   "outputs": [],
   "source": []
  }
 ],
 "metadata": {
  "kernelspec": {
   "display_name": "SciJava",
   "language": "groovy",
   "name": "scijava"
  },
  "language_info": {
   "codemirror_mode": "groovy",
   "file_extension": "",
   "mimetype": "",
   "name": "scijava",
   "nbconverter_exporter": "",
   "pygments_lexer": "groovy",
   "version": "1.0"
  }
 },
 "nbformat": 4,
 "nbformat_minor": 2
}
