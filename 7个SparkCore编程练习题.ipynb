{
 "cells": [
  {
   "cell_type": "markdown",
   "metadata": {},
   "source": [
    "## SparkCore编程练习题"
   ]
  },
  {
   "cell_type": "code",
   "execution_count": null,
   "metadata": {},
   "outputs": [],
   "source": []
  },
  {
   "cell_type": "markdown",
   "metadata": {},
   "source": [
    "### 求一个List的平均值"
   ]
  },
  {
   "cell_type": "code",
   "execution_count": 10,
   "metadata": {},
   "outputs": [
    {
     "name": "stdout",
     "output_type": "stream",
     "text": [
      "50000.0\n"
     ]
    },
    {
     "data": {
      "text/plain": [
       "list = List(1, 2, 3, 4, 5, 6, 7, 8, 9, 10, 11, 12, 13, 14, 15, 16, 17, 18, 19, 20, 21, 22, 23, 24, 25, 26, 27, 28, 29, 30, 31, 32, 33, 34, 35, 36, 37, 38, 39, 40, 41, 42, 43, 44, 45, 46, 47, 48, 49, 50, 51, 52, 53, 54, 55, 56, 57, 58, 59, 60, 61, 62, 63, 64, 65, 66, 67, 68, 69, 70, 71, 72, 73, 74, 75, 76, 77, 78, 79, 80, 81, 82, 83, 84, 85, 86, 87, 88, 89, 90, 91, 92, 93, 94, 95, 96, 97, 98, 99, 100, 101, 102, 103, 104, 105, 106, 107, 108, 109, 110, 111, 112, 113, 114, 115, 116, 117, 118, 119, 120, 121, 122, 123, 124, 125, 126, 127, 128, 129, 130, 131, 132, 133, 134, 135, 136, 137, 138, 139, 140, 141, 142, 143, 144, 145, 146, 147, 148, 149, 150, 151, 152, 153, 154, 155, 156, 157, 158, 159, 160, 161, 162, 163, 164, 165, 166, 167, 168, 169, 170, 171, 172, 173, 174, 175, 176, 17...\n"
      ]
     },
     "metadata": {},
     "output_type": "display_data"
    },
    {
     "data": {
      "text/plain": [
       "List(1, 2, 3, 4, 5, 6, 7, 8, 9, 10, 11, 12, 13, 14, 15, 16, 17, 18, 19, 20, 21, 22, 23, 24, 25, 26, 27, 28, 29, 30, 31, 32, 33, 34, 35, 36, 37, 38, 39, 40, 41, 42, 43, 44, 45, 46, 47, 48, 49, 50, 51, 52, 53, 54, 55, 56, 57, 58, 59, 60, 61, 62, 63, 64, 65, 66, 67, 68, 69, 70, 71, 72, 73, 74, 75, 76, 77, 78, 79, 80, 81, 82, 83, 84, 85, 86, 87, 88, 89, 90, 91, 92, 93, 94, 95, 96, 97, 98, 99, 100, 101, 102, 103, 104, 105, 106, 107, 108, 109, 110, 111, 112, 113, 114, 115, 116, 117, 118, 119, 120, 121, 122, 123, 124, 125, 126, 127, 128, 129, 130, 131, 132, 133, 134, 135, 136, 137, 138, 139, 140, 141, 142, 143, 144, 145, 146, 147, 148, 149, 150, 151, 152, 153, 154, 155, 156, 157, 158, 159, 160, 161, 162, 163, 164, 165, 166, 167, 168, 169, 170, 171, 172, 173, 174, 175, 176, 17..."
      ]
     },
     "execution_count": 10,
     "metadata": {},
     "output_type": "execute_result"
    }
   ],
   "source": [
    "val list = List.range(1,100000)\n",
    "\n",
    "val rdd = sc.parallelize(list,5)\n",
    "\n",
    "val mean = rdd.map(_.toDouble).reduce(_+_)/rdd.count\n",
    "\n",
    "println(mean)\n"
   ]
  },
  {
   "cell_type": "code",
   "execution_count": null,
   "metadata": {},
   "outputs": [],
   "source": []
  },
  {
   "cell_type": "markdown",
   "metadata": {},
   "source": [
    "### WordCount统计词频"
   ]
  },
  {
   "cell_type": "code",
   "execution_count": 16,
   "metadata": {},
   "outputs": [
    {
     "data": {
      "text/plain": [
       "file = file:///Users/liangyun/CodeFiles/spark_tutorial/wordcount\n"
      ]
     },
     "metadata": {},
     "output_type": "display_data"
    },
    {
     "data": {
      "text/plain": [
       "file:///Users/liangyun/CodeFiles/spark_tutorial/wordcount"
      ]
     },
     "execution_count": 16,
     "metadata": {},
     "output_type": "execute_result"
    }
   ],
   "source": [
    "val file = \"file:///Users/liangyun/CodeFiles/spark_tutorial/wordcount\""
   ]
  },
  {
   "cell_type": "code",
   "execution_count": 17,
   "metadata": {},
   "outputs": [
    {
     "data": {
      "text/plain": [
       "rdd = file:///Users/liangyun/CodeFiles/spark_tutorial/wordcount MapPartitionsRDD[15] at textFile at <console>:29\n"
      ]
     },
     "metadata": {},
     "output_type": "display_data"
    },
    {
     "data": {
      "text/plain": [
       "file:///Users/liangyun/CodeFiles/spark_tutorial/wordcount MapPartitionsRDD[15] at textFile at <console>:29"
      ]
     },
     "execution_count": 17,
     "metadata": {},
     "output_type": "execute_result"
    }
   ],
   "source": [
    "val rdd = sc.textFile(file)"
   ]
  },
  {
   "cell_type": "code",
   "execution_count": 23,
   "metadata": {},
   "outputs": [
    {
     "data": {
      "text/plain": [
       "Array((BeiJing,2), (hello,5), (XiCheng,1), (world,1), (China,2), (TianAnMen,1))"
      ]
     },
     "execution_count": 23,
     "metadata": {},
     "output_type": "execute_result"
    }
   ],
   "source": [
    "rdd.flatMap(_.trim.split(\" \")).map((_,1)).reduceByKey(_+_).collect"
   ]
  },
  {
   "cell_type": "code",
   "execution_count": null,
   "metadata": {},
   "outputs": [],
   "source": []
  },
  {
   "cell_type": "markdown",
   "metadata": {},
   "source": [
    "### 求topN "
   ]
  },
  {
   "cell_type": "markdown",
   "metadata": {},
   "source": [
    "![](topN.png)"
   ]
  },
  {
   "cell_type": "code",
   "execution_count": 45,
   "metadata": {},
   "outputs": [
    {
     "data": {
      "text/plain": [
       "data = Array(orderid,userid,payment,productid, 1,23,234,12, 2,32,346,123, 3,23,12,235, 4,23,6,54,321, 5,23,7,876, 6,2,89,23, 7,23,90,234)\n"
      ]
     },
     "metadata": {},
     "output_type": "display_data"
    },
    {
     "data": {
      "text/plain": [
       "Array(orderid,userid,payment,productid, 1,23,234,12, 2,32,346,123, 3,23,12,235, 4,23,6,54,321, 5,23,7,876, 6,2,89,23, 7,23,90,234)"
      ]
     },
     "execution_count": 45,
     "metadata": {},
     "output_type": "execute_result"
    }
   ],
   "source": [
    "val data = Array(\"orderid,userid,payment,productid\",\n",
    "                 \"1,23,234,12\",\n",
    "                 \"2,32,346,123\",\n",
    "                \"3,23,12,235\",\n",
    "                \"4,23,6,54,321\",\n",
    "                \"5,23,7,876\",\n",
    "                \"6,2,89,23\",\n",
    "                \"7,23,90,234\")"
   ]
  },
  {
   "cell_type": "code",
   "execution_count": 43,
   "metadata": {},
   "outputs": [
    {
     "name": "stdout",
     "output_type": "stream",
     "text": [
      "21,234,889,21\n",
      "123,134,880,32\n",
      "12,34,778,22\n",
      "119,134,480,32\n",
      "123,234,223,32\n"
     ]
    },
    {
     "data": {
      "text/plain": [
       "n = 5\n",
       "lines = file:///Users/liangyun/CodeFiles/spark_tutorial/topN MapPartitionsRDD[54] at textFile at <console>:74\n",
       "result = MapPartitionsRDD[60] at map at <console>:77\n"
      ]
     },
     "metadata": {},
     "output_type": "display_data"
    },
    {
     "data": {
      "text/plain": [
       "MapPartitionsRDD[60] at map at <console>:77"
      ]
     },
     "execution_count": 43,
     "metadata": {},
     "output_type": "execute_result"
    }
   ],
   "source": [
    "val n = 5\n",
    "val lines = sc.textFile(\"file:///Users/liangyun/CodeFiles/spark_tutorial/topN\",2)\n",
    "val result = lines.filter(line => !line.startsWith(\"orderid\") && \n",
    "                          line.trim.split(\",\").length == 4)\n",
    "    .map(line => (line.trim.split(\",\")(2).toInt,line))\n",
    "    .sortByKey(false).map(_._2)\n",
    "result.take(n).foreach(println)\n"
   ]
  },
  {
   "cell_type": "code",
   "execution_count": null,
   "metadata": {},
   "outputs": [],
   "source": []
  },
  {
   "cell_type": "markdown",
   "metadata": {},
   "source": [
    "### 求最大值最小值"
   ]
  },
  {
   "cell_type": "code",
   "execution_count": 48,
   "metadata": {},
   "outputs": [
    {
     "name": "stdout",
     "output_type": "stream",
     "text": [
      "max_value:66\n",
      "min_value:1\n"
     ]
    },
    {
     "data": {
      "text/plain": [
       "data = Array(1, 7, 2, 8, 6, 4, 3, 12, 43, 66, 32)\n",
       "rdd = ParallelCollectionRDD[63] at parallelize at <console>:73\n",
       "max_value = 66\n",
       "min_value = 1\n"
      ]
     },
     "metadata": {},
     "output_type": "display_data"
    },
    {
     "data": {
      "text/plain": [
       "1"
      ]
     },
     "execution_count": 48,
     "metadata": {},
     "output_type": "execute_result"
    }
   ],
   "source": [
    "val data = Array(1,7,2,8,6,4,3,12,43,66,32)\n",
    "val rdd = sc.parallelize(data,2)\n",
    "\n",
    "val max_value = rdd.reduce((a,b)=> if(a>b) a else b)\n",
    "val min_value = rdd.reduce((a,b)=> if(a>b) b else a)\n",
    "\n",
    "println(\"max_value:\" + max_value)\n",
    "println(\"min_value:\" + min_value)\n",
    "\n"
   ]
  },
  {
   "cell_type": "code",
   "execution_count": 56,
   "metadata": {},
   "outputs": [
    {
     "name": "stdout",
     "output_type": "stream",
     "text": [
      "1\n",
      "66\n"
     ]
    },
    {
     "data": {
      "text/plain": [
       "result = MapPartitionsRDD[96] at mapPartitions at <console>:71\n"
      ]
     },
     "metadata": {},
     "output_type": "display_data"
    },
    {
     "data": {
      "text/plain": [
       "MapPartitionsRDD[96] at mapPartitions at <console>:71"
      ]
     },
     "execution_count": 56,
     "metadata": {},
     "output_type": "execute_result"
    }
   ],
   "source": [
    "val result = rdd.repartition(1).mapPartitions(iterator => {\n",
    "    var min = Integer.MAX_VALUE\n",
    "    var max = Integer.MIN_VALUE\n",
    "    for(x <- iterator){\n",
    "        if(x>max) max = x\n",
    "        if(x<min) min = x\n",
    "    }\n",
    "    Array(min,max).iterator\n",
    "})\n",
    "\n",
    "result.collect.foreach(println)"
   ]
  },
  {
   "cell_type": "code",
   "execution_count": null,
   "metadata": {},
   "outputs": [],
   "source": []
  },
  {
   "cell_type": "markdown",
   "metadata": {},
   "source": [
    "### 排序并返回序号"
   ]
  },
  {
   "cell_type": "code",
   "execution_count": null,
   "metadata": {},
   "outputs": [],
   "source": []
  }
 ],
 "metadata": {
  "kernelspec": {
   "display_name": "Apache Toree - Scala",
   "language": "scala",
   "name": "apache_toree_scala"
  },
  "language_info": {
   "codemirror_mode": "text/x-scala",
   "file_extension": ".scala",
   "mimetype": "text/x-scala",
   "name": "scala",
   "pygments_lexer": "scala",
   "version": "2.11.12"
  }
 },
 "nbformat": 4,
 "nbformat_minor": 2
}
